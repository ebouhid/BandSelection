{
 "cells": [
  {
   "attachments": {},
   "cell_type": "markdown",
   "metadata": {},
   "source": [
    "# Gridsearch for the SVM Clasifier on our dataset"
   ]
  },
  {
   "attachments": {},
   "cell_type": "markdown",
   "metadata": {},
   "source": [
    "We'll evaluate the following parameters:\n",
    "* C / Regularization parameter\n",
    "* Gamma value\n",
    "* Kernel functions"
   ]
  },
  {
   "cell_type": "code",
   "execution_count": 1,
   "metadata": {},
   "outputs": [],
   "source": [
    "from sklearn.svm import SVC\n",
    "from sklearn.metrics import balanced_accuracy_score, classification_report\n",
    "from sklearn.model_selection import train_test_split, GridSearchCV\n",
    "import numpy as np\n",
    "import glob"
   ]
  },
  {
   "attachments": {},
   "cell_type": "markdown",
   "metadata": {},
   "source": [
    "### Preparing dataset"
   ]
  },
  {
   "cell_type": "code",
   "execution_count": 2,
   "metadata": {},
   "outputs": [],
   "source": [
    "# Loading dataset\n",
    "X_all = []\n",
    "y_all = []\n",
    "for path in glob.glob('data/dataset_v3/forest/*'):\n",
    "    X_all.append(np.load(path))\n",
    "    y_all.append(0)\n",
    "\n",
    "for path in glob.glob('data/dataset_v3/non_forest/*'):\n",
    "    X_all.append(np.load(path))\n",
    "    y_all.append(1)\n",
    "\n",
    "# perform split\n",
    "X_train, X_test, y_train, y_test = train_test_split(X_all, y_all, test_size=0.3)"
   ]
  },
  {
   "attachments": {},
   "cell_type": "markdown",
   "metadata": {},
   "source": [
    "### Defining parameter values for the grid search"
   ]
  },
  {
   "cell_type": "code",
   "execution_count": 3,
   "metadata": {},
   "outputs": [],
   "source": [
    "param_grid = {'C': [0.1, 1, 10, 100, 1000], \n",
    "              'gamma': [1, 0.1, 0.01, 0.001, 0.0001, 'scale', 'auto'],\n",
    "              'kernel': ['rbf', 'linear', 'poly', 'sigmoid'],\n",
    "              'max_iter': [1000]} "
   ]
  },
  {
   "attachments": {},
   "cell_type": "markdown",
   "metadata": {},
   "source": [
    "### Perform grid search"
   ]
  },
  {
   "cell_type": "code",
   "execution_count": 7,
   "metadata": {},
   "outputs": [
    {
     "name": "stdout",
     "output_type": "stream",
     "text": [
      "Fitting 5 folds for each of 140 candidates, totalling 700 fits\n"
     ]
    },
    {
     "name": "stderr",
     "output_type": "stream",
     "text": [
      "/home/ebneto/miniconda3/envs/smp/lib/python3.10/site-packages/sklearn/svm/_base.py:299: ConvergenceWarning: Solver terminated early (max_iter=1000).  Consider pre-processing your data with StandardScaler or MinMaxScaler.\n",
      "  warnings.warn(\n",
      "/home/ebneto/miniconda3/envs/smp/lib/python3.10/site-packages/sklearn/svm/_base.py:299: ConvergenceWarning: Solver terminated early (max_iter=1000).  Consider pre-processing your data with StandardScaler or MinMaxScaler.\n",
      "  warnings.warn(\n"
     ]
    },
    {
     "name": "stdout",
     "output_type": "stream",
     "text": [
      "[CV 1/5] END C=0.1, gamma=1, kernel=linear, max_iter=1000;, score=0.433 total time=   0.9s\n"
     ]
    },
    {
     "name": "stderr",
     "output_type": "stream",
     "text": [
      "/home/ebneto/miniconda3/envs/smp/lib/python3.10/site-packages/sklearn/svm/_base.py:299: ConvergenceWarning: Solver terminated early (max_iter=1000).  Consider pre-processing your data with StandardScaler or MinMaxScaler.\n",
      "  warnings.warn(\n"
     ]
    },
    {
     "name": "stdout",
     "output_type": "stream",
     "text": [
      "[CV 2/5] END C=0.1, gamma=1, kernel=linear, max_iter=1000;, score=0.629 total time=   1.0s\n"
     ]
    },
    {
     "name": "stderr",
     "output_type": "stream",
     "text": [
      "/home/ebneto/miniconda3/envs/smp/lib/python3.10/site-packages/sklearn/svm/_base.py:299: ConvergenceWarning: Solver terminated early (max_iter=1000).  Consider pre-processing your data with StandardScaler or MinMaxScaler.\n",
      "  warnings.warn(\n"
     ]
    },
    {
     "name": "stdout",
     "output_type": "stream",
     "text": [
      "[CV 3/5] END C=0.1, gamma=1, kernel=linear, max_iter=1000;, score=0.343 total time=   1.3s\n"
     ]
    },
    {
     "name": "stderr",
     "output_type": "stream",
     "text": [
      "/home/ebneto/miniconda3/envs/smp/lib/python3.10/site-packages/sklearn/svm/_base.py:299: ConvergenceWarning: Solver terminated early (max_iter=1000).  Consider pre-processing your data with StandardScaler or MinMaxScaler.\n",
      "  warnings.warn(\n",
      "/home/ebneto/miniconda3/envs/smp/lib/python3.10/site-packages/sklearn/svm/_base.py:299: ConvergenceWarning: Solver terminated early (max_iter=1000).  Consider pre-processing your data with StandardScaler or MinMaxScaler.\n",
      "  warnings.warn(\n"
     ]
    },
    {
     "name": "stdout",
     "output_type": "stream",
     "text": [
      "[CV 5/5] END C=0.1, gamma=1, kernel=linear, max_iter=1000;, score=0.708 total time=   1.0s\n",
      "[CV 4/5] END C=0.1, gamma=1, kernel=linear, max_iter=1000;, score=0.709 total time=   1.6s\n"
     ]
    },
    {
     "name": "stderr",
     "output_type": "stream",
     "text": [
      "/home/ebneto/miniconda3/envs/smp/lib/python3.10/site-packages/sklearn/svm/_base.py:299: ConvergenceWarning: Solver terminated early (max_iter=1000).  Consider pre-processing your data with StandardScaler or MinMaxScaler.\n",
      "  warnings.warn(\n",
      "/home/ebneto/miniconda3/envs/smp/lib/python3.10/site-packages/sklearn/svm/_base.py:299: ConvergenceWarning: Solver terminated early (max_iter=1000).  Consider pre-processing your data with StandardScaler or MinMaxScaler.\n",
      "  warnings.warn(\n"
     ]
    },
    {
     "name": "stdout",
     "output_type": "stream",
     "text": [
      "[CV 2/5] END C=0.1, gamma=1, kernel=poly, max_iter=1000;, score=0.491 total time=   1.6s\n",
      "[CV 1/5] END C=0.1, gamma=1, kernel=poly, max_iter=1000;, score=0.603 total time=   2.0s\n"
     ]
    },
    {
     "name": "stderr",
     "output_type": "stream",
     "text": [
      "/home/ebneto/miniconda3/envs/smp/lib/python3.10/site-packages/sklearn/svm/_base.py:299: ConvergenceWarning: Solver terminated early (max_iter=1000).  Consider pre-processing your data with StandardScaler or MinMaxScaler.\n",
      "  warnings.warn(\n"
     ]
    },
    {
     "name": "stdout",
     "output_type": "stream",
     "text": [
      "[CV 3/5] END C=0.1, gamma=1, kernel=poly, max_iter=1000;, score=0.505 total time=   1.7s\n"
     ]
    },
    {
     "name": "stderr",
     "output_type": "stream",
     "text": [
      "/home/ebneto/miniconda3/envs/smp/lib/python3.10/site-packages/sklearn/svm/_base.py:299: ConvergenceWarning: Solver terminated early (max_iter=1000).  Consider pre-processing your data with StandardScaler or MinMaxScaler.\n",
      "  warnings.warn(\n"
     ]
    },
    {
     "name": "stdout",
     "output_type": "stream",
     "text": [
      "[CV 1/5] END C=0.1, gamma=1, kernel=rbf, max_iter=1000;, score=0.500 total time=   5.6s\n",
      "[CV 4/5] END C=0.1, gamma=1, kernel=poly, max_iter=1000;, score=0.682 total time=   1.8s\n"
     ]
    },
    {
     "name": "stderr",
     "output_type": "stream",
     "text": [
      "/home/ebneto/miniconda3/envs/smp/lib/python3.10/site-packages/sklearn/svm/_base.py:299: ConvergenceWarning: Solver terminated early (max_iter=1000).  Consider pre-processing your data with StandardScaler or MinMaxScaler.\n",
      "  warnings.warn(\n"
     ]
    },
    {
     "name": "stdout",
     "output_type": "stream",
     "text": [
      "[CV 5/5] END C=0.1, gamma=1, kernel=poly, max_iter=1000;, score=0.602 total time=   1.7s\n"
     ]
    },
    {
     "name": "stderr",
     "output_type": "stream",
     "text": [
      "/home/ebneto/miniconda3/envs/smp/lib/python3.10/site-packages/sklearn/svm/_base.py:299: ConvergenceWarning: Solver terminated early (max_iter=1000).  Consider pre-processing your data with StandardScaler or MinMaxScaler.\n",
      "  warnings.warn(\n"
     ]
    },
    {
     "name": "stdout",
     "output_type": "stream",
     "text": [
      "[CV 3/5] END C=0.1, gamma=1, kernel=sigmoid, max_iter=1000;, score=0.500 total time=   2.8s\n"
     ]
    },
    {
     "name": "stderr",
     "output_type": "stream",
     "text": [
      "/home/ebneto/miniconda3/envs/smp/lib/python3.10/site-packages/sklearn/svm/_base.py:299: ConvergenceWarning: Solver terminated early (max_iter=1000).  Consider pre-processing your data with StandardScaler or MinMaxScaler.\n",
      "  warnings.warn(\n"
     ]
    },
    {
     "name": "stdout",
     "output_type": "stream",
     "text": [
      "[CV 4/5] END C=0.1, gamma=1, kernel=rbf, max_iter=1000;, score=0.500 total time=   8.0s\n"
     ]
    },
    {
     "name": "stderr",
     "output_type": "stream",
     "text": [
      "/home/ebneto/miniconda3/envs/smp/lib/python3.10/site-packages/sklearn/svm/_base.py:299: ConvergenceWarning: Solver terminated early (max_iter=1000).  Consider pre-processing your data with StandardScaler or MinMaxScaler.\n",
      "  warnings.warn(\n"
     ]
    },
    {
     "name": "stdout",
     "output_type": "stream",
     "text": [
      "[CV 5/5] END C=0.1, gamma=0.1, kernel=linear, max_iter=1000;, score=0.708 total time=   1.3s\n"
     ]
    },
    {
     "name": "stderr",
     "output_type": "stream",
     "text": [
      "/home/ebneto/miniconda3/envs/smp/lib/python3.10/site-packages/sklearn/svm/_base.py:299: ConvergenceWarning: Solver terminated early (max_iter=1000).  Consider pre-processing your data with StandardScaler or MinMaxScaler.\n",
      "  warnings.warn(\n",
      "/home/ebneto/miniconda3/envs/smp/lib/python3.10/site-packages/sklearn/svm/_base.py:299: ConvergenceWarning: Solver terminated early (max_iter=1000).  Consider pre-processing your data with StandardScaler or MinMaxScaler.\n",
      "  warnings.warn(\n",
      "/home/ebneto/miniconda3/envs/smp/lib/python3.10/site-packages/sklearn/svm/_base.py:299: ConvergenceWarning: Solver terminated early (max_iter=1000).  Consider pre-processing your data with StandardScaler or MinMaxScaler.\n",
      "  warnings.warn(\n"
     ]
    },
    {
     "name": "stdout",
     "output_type": "stream",
     "text": [
      "[CV 1/5] END C=0.1, gamma=0.1, kernel=linear, max_iter=1000;, score=0.433 total time=   4.2s\n",
      "[CV 2/5] END C=0.1, gamma=0.1, kernel=linear, max_iter=1000;, score=0.629 total time=   4.0s\n"
     ]
    },
    {
     "name": "stderr",
     "output_type": "stream",
     "text": [
      "/home/ebneto/miniconda3/envs/smp/lib/python3.10/site-packages/sklearn/svm/_base.py:299: ConvergenceWarning: Solver terminated early (max_iter=1000).  Consider pre-processing your data with StandardScaler or MinMaxScaler.\n",
      "  warnings.warn(\n"
     ]
    },
    {
     "name": "stdout",
     "output_type": "stream",
     "text": [
      "[CV 4/5] END C=0.1, gamma=0.1, kernel=linear, max_iter=1000;, score=0.709 total time=   4.3s\n"
     ]
    },
    {
     "name": "stderr",
     "output_type": "stream",
     "text": [
      "/home/ebneto/miniconda3/envs/smp/lib/python3.10/site-packages/sklearn/svm/_base.py:299: ConvergenceWarning: Solver terminated early (max_iter=1000).  Consider pre-processing your data with StandardScaler or MinMaxScaler.\n",
      "  warnings.warn(\n"
     ]
    },
    {
     "name": "stdout",
     "output_type": "stream",
     "text": [
      "[CV 1/5] END C=0.1, gamma=1, kernel=sigmoid, max_iter=1000;, score=0.500 total time=   8.2s\n",
      "[CV 3/5] END C=0.1, gamma=0.1, kernel=linear, max_iter=1000;, score=0.343 total time=   4.2s\n"
     ]
    },
    {
     "name": "stderr",
     "output_type": "stream",
     "text": [
      "/home/ebneto/miniconda3/envs/smp/lib/python3.10/site-packages/sklearn/svm/_base.py:299: ConvergenceWarning: Solver terminated early (max_iter=1000).  Consider pre-processing your data with StandardScaler or MinMaxScaler.\n",
      "  warnings.warn(\n"
     ]
    },
    {
     "name": "stdout",
     "output_type": "stream",
     "text": [
      "[CV 1/5] END C=0.1, gamma=0.1, kernel=poly, max_iter=1000;, score=0.701 total time=   4.2s\n"
     ]
    },
    {
     "name": "stderr",
     "output_type": "stream",
     "text": [
      "/home/ebneto/miniconda3/envs/smp/lib/python3.10/site-packages/sklearn/svm/_base.py:299: ConvergenceWarning: Solver terminated early (max_iter=1000).  Consider pre-processing your data with StandardScaler or MinMaxScaler.\n",
      "  warnings.warn(\n",
      "/home/ebneto/miniconda3/envs/smp/lib/python3.10/site-packages/sklearn/svm/_base.py:299: ConvergenceWarning: Solver terminated early (max_iter=1000).  Consider pre-processing your data with StandardScaler or MinMaxScaler.\n",
      "  warnings.warn(\n"
     ]
    },
    {
     "name": "stdout",
     "output_type": "stream",
     "text": [
      "[CV 4/5] END C=0.1, gamma=0.1, kernel=poly, max_iter=1000;, score=0.611 total time=   3.2s\n",
      "[CV 2/5] END C=0.1, gamma=0.1, kernel=poly, max_iter=1000;, score=0.627 total time=   3.8s\n"
     ]
    },
    {
     "name": "stderr",
     "output_type": "stream",
     "text": [
      "/home/ebneto/miniconda3/envs/smp/lib/python3.10/site-packages/sklearn/svm/_base.py:299: ConvergenceWarning: Solver terminated early (max_iter=1000).  Consider pre-processing your data with StandardScaler or MinMaxScaler.\n",
      "  warnings.warn(\n"
     ]
    },
    {
     "name": "stdout",
     "output_type": "stream",
     "text": [
      "[CV 3/5] END C=0.1, gamma=0.1, kernel=poly, max_iter=1000;, score=0.510 total time=   3.2s\n",
      "[CV 4/5] END C=0.1, gamma=1, kernel=sigmoid, max_iter=1000;, score=0.500 total time=   8.5s\n",
      "[CV 2/5] END C=0.1, gamma=1, kernel=sigmoid, max_iter=1000;, score=0.500 total time=   8.7s\n"
     ]
    },
    {
     "name": "stderr",
     "output_type": "stream",
     "text": [
      "/home/ebneto/miniconda3/envs/smp/lib/python3.10/site-packages/sklearn/svm/_base.py:299: ConvergenceWarning: Solver terminated early (max_iter=1000).  Consider pre-processing your data with StandardScaler or MinMaxScaler.\n",
      "  warnings.warn(\n"
     ]
    },
    {
     "name": "stdout",
     "output_type": "stream",
     "text": [
      "[CV 5/5] END C=0.1, gamma=0.1, kernel=poly, max_iter=1000;, score=0.618 total time=   3.1s\n",
      "[CV 5/5] END C=0.1, gamma=1, kernel=sigmoid, max_iter=1000;, score=0.500 total time=   9.8s\n"
     ]
    },
    {
     "name": "stderr",
     "output_type": "stream",
     "text": [
      "/home/ebneto/miniconda3/envs/smp/lib/python3.10/site-packages/sklearn/svm/_base.py:299: ConvergenceWarning: Solver terminated early (max_iter=1000).  Consider pre-processing your data with StandardScaler or MinMaxScaler.\n",
      "  warnings.warn(\n"
     ]
    },
    {
     "name": "stdout",
     "output_type": "stream",
     "text": [
      "[CV 4/5] END C=0.1, gamma=0.01, kernel=linear, max_iter=1000;, score=0.709 total time=   0.6s\n"
     ]
    },
    {
     "name": "stderr",
     "output_type": "stream",
     "text": [
      "/home/ebneto/miniconda3/envs/smp/lib/python3.10/site-packages/sklearn/svm/_base.py:299: ConvergenceWarning: Solver terminated early (max_iter=1000).  Consider pre-processing your data with StandardScaler or MinMaxScaler.\n",
      "  warnings.warn(\n",
      "/home/ebneto/miniconda3/envs/smp/lib/python3.10/site-packages/sklearn/svm/_base.py:299: ConvergenceWarning: Solver terminated early (max_iter=1000).  Consider pre-processing your data with StandardScaler or MinMaxScaler.\n",
      "  warnings.warn(\n",
      "/home/ebneto/miniconda3/envs/smp/lib/python3.10/site-packages/sklearn/svm/_base.py:299: ConvergenceWarning: Solver terminated early (max_iter=1000).  Consider pre-processing your data with StandardScaler or MinMaxScaler.\n",
      "  warnings.warn(\n"
     ]
    },
    {
     "name": "stdout",
     "output_type": "stream",
     "text": [
      "[CV 2/5] END C=0.1, gamma=0.01, kernel=poly, max_iter=1000;, score=0.559 total time=   1.5s\n",
      "[CV 2/5] END C=0.1, gamma=0.01, kernel=linear, max_iter=1000;, score=0.629 total time=   3.8s\n"
     ]
    },
    {
     "name": "stderr",
     "output_type": "stream",
     "text": [
      "/home/ebneto/miniconda3/envs/smp/lib/python3.10/site-packages/sklearn/svm/_base.py:299: ConvergenceWarning: Solver terminated early (max_iter=1000).  Consider pre-processing your data with StandardScaler or MinMaxScaler.\n",
      "  warnings.warn(\n",
      "/home/ebneto/miniconda3/envs/smp/lib/python3.10/site-packages/sklearn/svm/_base.py:299: ConvergenceWarning: Solver terminated early (max_iter=1000).  Consider pre-processing your data with StandardScaler or MinMaxScaler.\n",
      "  warnings.warn(\n"
     ]
    },
    {
     "name": "stdout",
     "output_type": "stream",
     "text": [
      "[CV 3/5] END C=0.1, gamma=0.01, kernel=poly, max_iter=1000;, score=0.505 total time=   1.1s\n",
      "[CV 1/5] END C=0.1, gamma=0.01, kernel=linear, max_iter=1000;, score=0.433 total time=   4.5s\n"
     ]
    },
    {
     "name": "stderr",
     "output_type": "stream",
     "text": [
      "/home/ebneto/miniconda3/envs/smp/lib/python3.10/site-packages/sklearn/svm/_base.py:299: ConvergenceWarning: Solver terminated early (max_iter=1000).  Consider pre-processing your data with StandardScaler or MinMaxScaler.\n",
      "  warnings.warn(\n",
      "/home/ebneto/miniconda3/envs/smp/lib/python3.10/site-packages/sklearn/svm/_base.py:299: ConvergenceWarning: Solver terminated early (max_iter=1000).  Consider pre-processing your data with StandardScaler or MinMaxScaler.\n",
      "  warnings.warn(\n"
     ]
    },
    {
     "name": "stdout",
     "output_type": "stream",
     "text": [
      "[CV 3/5] END C=0.1, gamma=0.01, kernel=linear, max_iter=1000;, score=0.343 total time=   4.5s\n",
      "[CV 4/5] END C=0.1, gamma=0.01, kernel=poly, max_iter=1000;, score=0.611 total time=   1.1s\n",
      "[CV 2/5] END C=0.1, gamma=1, kernel=rbf, max_iter=1000;, score=0.500 total time=  20.2s\n"
     ]
    },
    {
     "name": "stderr",
     "output_type": "stream",
     "text": [
      "/home/ebneto/miniconda3/envs/smp/lib/python3.10/site-packages/sklearn/svm/_base.py:299: ConvergenceWarning: Solver terminated early (max_iter=1000).  Consider pre-processing your data with StandardScaler or MinMaxScaler.\n",
      "  warnings.warn(\n",
      "/home/ebneto/miniconda3/envs/smp/lib/python3.10/site-packages/sklearn/svm/_base.py:299: ConvergenceWarning: Solver terminated early (max_iter=1000).  Consider pre-processing your data with StandardScaler or MinMaxScaler.\n",
      "  warnings.warn(\n"
     ]
    },
    {
     "name": "stdout",
     "output_type": "stream",
     "text": [
      "[CV 5/5] END C=0.1, gamma=0.01, kernel=linear, max_iter=1000;, score=0.708 total time=   4.0s\n"
     ]
    },
    {
     "name": "stderr",
     "output_type": "stream",
     "text": [
      "/home/ebneto/miniconda3/envs/smp/lib/python3.10/site-packages/sklearn/svm/_base.py:299: ConvergenceWarning: Solver terminated early (max_iter=1000).  Consider pre-processing your data with StandardScaler or MinMaxScaler.\n",
      "  warnings.warn(\n"
     ]
    },
    {
     "name": "stdout",
     "output_type": "stream",
     "text": [
      "[CV 1/5] END C=0.1, gamma=0.01, kernel=poly, max_iter=1000;, score=0.701 total time=   4.7s\n"
     ]
    },
    {
     "name": "stderr",
     "output_type": "stream",
     "text": [
      "/home/ebneto/miniconda3/envs/smp/lib/python3.10/site-packages/sklearn/svm/_base.py:299: ConvergenceWarning: Solver terminated early (max_iter=1000).  Consider pre-processing your data with StandardScaler or MinMaxScaler.\n",
      "  warnings.warn(\n"
     ]
    },
    {
     "name": "stdout",
     "output_type": "stream",
     "text": [
      "[CV 1/5] END C=0.1, gamma=0.01, kernel=rbf, max_iter=1000;, score=0.500 total time=  10.0s\n",
      "[CV 5/5] END C=0.1, gamma=0.01, kernel=poly, max_iter=1000;, score=0.493 total time=   3.3s\n",
      "[CV 1/5] END C=0.1, gamma=0.1, kernel=sigmoid, max_iter=1000;, score=0.500 total time=  12.0s\n",
      "[CV 2/5] END C=0.1, gamma=0.1, kernel=sigmoid, max_iter=1000;, score=0.500 total time=  10.9s\n",
      "[CV 3/5] END C=0.1, gamma=0.1, kernel=sigmoid, max_iter=1000;, score=0.500 total time=  10.3s\n"
     ]
    },
    {
     "name": "stderr",
     "output_type": "stream",
     "text": [
      "/home/ebneto/miniconda3/envs/smp/lib/python3.10/site-packages/sklearn/svm/_base.py:299: ConvergenceWarning: Solver terminated early (max_iter=1000).  Consider pre-processing your data with StandardScaler or MinMaxScaler.\n",
      "  warnings.warn(\n"
     ]
    },
    {
     "name": "stdout",
     "output_type": "stream",
     "text": [
      "[CV 4/5] END C=0.1, gamma=0.1, kernel=sigmoid, max_iter=1000;, score=0.500 total time=  12.0s\n",
      "[CV 4/5] END C=0.1, gamma=0.01, kernel=rbf, max_iter=1000;, score=0.500 total time=  12.5s\n",
      "[CV 5/5] END C=0.1, gamma=0.1, kernel=sigmoid, max_iter=1000;, score=0.500 total time=  14.5s\n"
     ]
    },
    {
     "name": "stderr",
     "output_type": "stream",
     "text": [
      "/home/ebneto/miniconda3/envs/smp/lib/python3.10/site-packages/sklearn/svm/_base.py:299: ConvergenceWarning: Solver terminated early (max_iter=1000).  Consider pre-processing your data with StandardScaler or MinMaxScaler.\n",
      "  warnings.warn(\n",
      "/home/ebneto/miniconda3/envs/smp/lib/python3.10/site-packages/sklearn/svm/_base.py:299: ConvergenceWarning: Solver terminated early (max_iter=1000).  Consider pre-processing your data with StandardScaler or MinMaxScaler.\n",
      "  warnings.warn(\n"
     ]
    },
    {
     "name": "stdout",
     "output_type": "stream",
     "text": [
      "[CV 4/5] END C=0.1, gamma=0.001, kernel=linear, max_iter=1000;, score=0.709 total time=   1.3s\n",
      "[CV 3/5] END C=0.1, gamma=0.001, kernel=linear, max_iter=1000;, score=0.343 total time=   1.9s\n"
     ]
    },
    {
     "name": "stderr",
     "output_type": "stream",
     "text": [
      "/home/ebneto/miniconda3/envs/smp/lib/python3.10/site-packages/sklearn/svm/_base.py:299: ConvergenceWarning: Solver terminated early (max_iter=1000).  Consider pre-processing your data with StandardScaler or MinMaxScaler.\n",
      "  warnings.warn(\n"
     ]
    },
    {
     "name": "stdout",
     "output_type": "stream",
     "text": [
      "[CV 1/5] END C=0.1, gamma=0.001, kernel=linear, max_iter=1000;, score=0.433 total time=   5.0s\n"
     ]
    },
    {
     "name": "stderr",
     "output_type": "stream",
     "text": [
      "/home/ebneto/miniconda3/envs/smp/lib/python3.10/site-packages/sklearn/svm/_base.py:299: ConvergenceWarning: Solver terminated early (max_iter=1000).  Consider pre-processing your data with StandardScaler or MinMaxScaler.\n",
      "  warnings.warn(\n"
     ]
    },
    {
     "name": "stdout",
     "output_type": "stream",
     "text": [
      "[CV 4/5] END C=0.1, gamma=0.001, kernel=poly, max_iter=1000;, score=0.444 total time=   1.0s\n"
     ]
    },
    {
     "name": "stderr",
     "output_type": "stream",
     "text": [
      "/home/ebneto/miniconda3/envs/smp/lib/python3.10/site-packages/sklearn/svm/_base.py:299: ConvergenceWarning: Solver terminated early (max_iter=1000).  Consider pre-processing your data with StandardScaler or MinMaxScaler.\n",
      "  warnings.warn(\n"
     ]
    },
    {
     "name": "stdout",
     "output_type": "stream",
     "text": [
      "[CV 5/5] END C=0.1, gamma=0.001, kernel=poly, max_iter=1000;, score=0.618 total time=   0.5s\n"
     ]
    },
    {
     "name": "stderr",
     "output_type": "stream",
     "text": [
      "/home/ebneto/miniconda3/envs/smp/lib/python3.10/site-packages/sklearn/svm/_base.py:299: ConvergenceWarning: Solver terminated early (max_iter=1000).  Consider pre-processing your data with StandardScaler or MinMaxScaler.\n",
      "  warnings.warn(\n"
     ]
    },
    {
     "name": "stdout",
     "output_type": "stream",
     "text": [
      "[CV 2/5] END C=0.1, gamma=0.001, kernel=linear, max_iter=1000;, score=0.629 total time=   5.7s\n",
      "[CV 3/5] END C=0.1, gamma=1, kernel=rbf, max_iter=1000;, score=0.500 total time=  32.9s\n",
      "[CV 2/5] END C=0.1, gamma=0.01, kernel=sigmoid, max_iter=1000;, score=0.500 total time=  13.2s\n"
     ]
    },
    {
     "name": "stderr",
     "output_type": "stream",
     "text": [
      "/home/ebneto/miniconda3/envs/smp/lib/python3.10/site-packages/sklearn/svm/_base.py:299: ConvergenceWarning: Solver terminated early (max_iter=1000).  Consider pre-processing your data with StandardScaler or MinMaxScaler.\n",
      "  warnings.warn(\n",
      "/home/ebneto/miniconda3/envs/smp/lib/python3.10/site-packages/sklearn/svm/_base.py:299: ConvergenceWarning: Solver terminated early (max_iter=1000).  Consider pre-processing your data with StandardScaler or MinMaxScaler.\n",
      "  warnings.warn(\n"
     ]
    },
    {
     "name": "stdout",
     "output_type": "stream",
     "text": [
      "[CV 5/5] END C=0.1, gamma=0.001, kernel=linear, max_iter=1000;, score=0.708 total time=   5.6s\n",
      "[CV 1/5] END C=0.1, gamma=0.001, kernel=poly, max_iter=1000;, score=0.603 total time=   5.5s\n",
      "[CV 3/5] END C=0.1, gamma=0.001, kernel=sigmoid, max_iter=1000;, score=0.500 total time=   1.2s\n",
      "[CV 2/5] END C=0.1, gamma=0.001, kernel=poly, max_iter=1000;, score=0.819 total time=   5.1s\n"
     ]
    },
    {
     "name": "stderr",
     "output_type": "stream",
     "text": [
      "/home/ebneto/miniconda3/envs/smp/lib/python3.10/site-packages/sklearn/svm/_base.py:299: ConvergenceWarning: Solver terminated early (max_iter=1000).  Consider pre-processing your data with StandardScaler or MinMaxScaler.\n",
      "  warnings.warn(\n",
      "/home/ebneto/miniconda3/envs/smp/lib/python3.10/site-packages/sklearn/svm/_base.py:299: ConvergenceWarning: Solver terminated early (max_iter=1000).  Consider pre-processing your data with StandardScaler or MinMaxScaler.\n",
      "  warnings.warn(\n"
     ]
    },
    {
     "name": "stdout",
     "output_type": "stream",
     "text": [
      "[CV 3/5] END C=0.1, gamma=0.001, kernel=poly, max_iter=1000;, score=0.584 total time=   5.2s\n"
     ]
    },
    {
     "name": "stderr",
     "output_type": "stream",
     "text": [
      "/home/ebneto/miniconda3/envs/smp/lib/python3.10/site-packages/sklearn/svm/_base.py:299: ConvergenceWarning: Solver terminated early (max_iter=1000).  Consider pre-processing your data with StandardScaler or MinMaxScaler.\n",
      "  warnings.warn(\n"
     ]
    },
    {
     "name": "stdout",
     "output_type": "stream",
     "text": [
      "[CV 3/5] END C=0.1, gamma=0.01, kernel=sigmoid, max_iter=1000;, score=0.500 total time=  15.2s\n",
      "[CV 1/5] END C=0.1, gamma=0.01, kernel=sigmoid, max_iter=1000;, score=0.500 total time=  16.2s\n",
      "[CV 4/5] END C=0.1, gamma=0.01, kernel=sigmoid, max_iter=1000;, score=0.500 total time=  14.9s\n",
      "[CV 5/5] END C=0.1, gamma=0.01, kernel=sigmoid, max_iter=1000;, score=0.500 total time=  14.4s\n"
     ]
    },
    {
     "name": "stderr",
     "output_type": "stream",
     "text": [
      "/home/ebneto/miniconda3/envs/smp/lib/python3.10/site-packages/sklearn/svm/_base.py:299: ConvergenceWarning: Solver terminated early (max_iter=1000).  Consider pre-processing your data with StandardScaler or MinMaxScaler.\n",
      "  warnings.warn(\n"
     ]
    },
    {
     "name": "stdout",
     "output_type": "stream",
     "text": [
      "[CV 2/5] END C=0.1, gamma=0.001, kernel=rbf, max_iter=1000;, score=0.500 total time=  15.5s\n"
     ]
    },
    {
     "name": "stderr",
     "output_type": "stream",
     "text": [
      "/home/ebneto/miniconda3/envs/smp/lib/python3.10/site-packages/sklearn/svm/_base.py:299: ConvergenceWarning: Solver terminated early (max_iter=1000).  Consider pre-processing your data with StandardScaler or MinMaxScaler.\n",
      "  warnings.warn(\n"
     ]
    },
    {
     "name": "stdout",
     "output_type": "stream",
     "text": [
      "[CV 1/5] END C=0.1, gamma=0.0001, kernel=linear, max_iter=1000;, score=0.433 total time=   0.7s\n"
     ]
    },
    {
     "name": "stderr",
     "output_type": "stream",
     "text": [
      "/home/ebneto/miniconda3/envs/smp/lib/python3.10/site-packages/sklearn/svm/_base.py:299: ConvergenceWarning: Solver terminated early (max_iter=1000).  Consider pre-processing your data with StandardScaler or MinMaxScaler.\n",
      "  warnings.warn(\n",
      "/home/ebneto/miniconda3/envs/smp/lib/python3.10/site-packages/sklearn/svm/_base.py:299: ConvergenceWarning: Solver terminated early (max_iter=1000).  Consider pre-processing your data with StandardScaler or MinMaxScaler.\n",
      "  warnings.warn(\n",
      "/home/ebneto/miniconda3/envs/smp/lib/python3.10/site-packages/sklearn/svm/_base.py:299: ConvergenceWarning: Solver terminated early (max_iter=1000).  Consider pre-processing your data with StandardScaler or MinMaxScaler.\n",
      "  warnings.warn(\n"
     ]
    },
    {
     "name": "stdout",
     "output_type": "stream",
     "text": [
      "[CV 2/5] END C=0.1, gamma=0.0001, kernel=linear, max_iter=1000;, score=0.629 total time=   1.5s\n"
     ]
    },
    {
     "name": "stderr",
     "output_type": "stream",
     "text": [
      "/home/ebneto/miniconda3/envs/smp/lib/python3.10/site-packages/sklearn/svm/_base.py:299: ConvergenceWarning: Solver terminated early (max_iter=1000).  Consider pre-processing your data with StandardScaler or MinMaxScaler.\n",
      "  warnings.warn(\n",
      "/home/ebneto/miniconda3/envs/smp/lib/python3.10/site-packages/sklearn/svm/_base.py:299: ConvergenceWarning: Solver terminated early (max_iter=1000).  Consider pre-processing your data with StandardScaler or MinMaxScaler.\n",
      "  warnings.warn(\n"
     ]
    },
    {
     "name": "stdout",
     "output_type": "stream",
     "text": [
      "[CV 5/5] END C=0.1, gamma=1, kernel=rbf, max_iter=1000;, score=0.500 total time=  39.7s\n"
     ]
    },
    {
     "name": "stderr",
     "output_type": "stream",
     "text": [
      "/home/ebneto/miniconda3/envs/smp/lib/python3.10/site-packages/sklearn/svm/_base.py:299: ConvergenceWarning: Solver terminated early (max_iter=1000).  Consider pre-processing your data with StandardScaler or MinMaxScaler.\n",
      "  warnings.warn(\n",
      "/home/ebneto/miniconda3/envs/smp/lib/python3.10/site-packages/sklearn/svm/_base.py:299: ConvergenceWarning: Solver terminated early (max_iter=1000).  Consider pre-processing your data with StandardScaler or MinMaxScaler.\n",
      "  warnings.warn(\n",
      "/home/ebneto/miniconda3/envs/smp/lib/python3.10/site-packages/sklearn/svm/_base.py:299: ConvergenceWarning: Solver terminated early (max_iter=1000).  Consider pre-processing your data with StandardScaler or MinMaxScaler.\n",
      "  warnings.warn(\n"
     ]
    },
    {
     "name": "stdout",
     "output_type": "stream",
     "text": [
      "[CV 4/5] END C=0.1, gamma=0.0001, kernel=linear, max_iter=1000;, score=0.709 total time=   1.5s\n",
      "[CV 5/5] END C=0.1, gamma=0.0001, kernel=linear, max_iter=1000;, score=0.708 total time=   0.9s\n"
     ]
    },
    {
     "name": "stderr",
     "output_type": "stream",
     "text": [
      "/home/ebneto/miniconda3/envs/smp/lib/python3.10/site-packages/sklearn/svm/_base.py:299: ConvergenceWarning: Solver terminated early (max_iter=1000).  Consider pre-processing your data with StandardScaler or MinMaxScaler.\n",
      "  warnings.warn(\n"
     ]
    },
    {
     "name": "stdout",
     "output_type": "stream",
     "text": [
      "[CV 2/5] END C=0.1, gamma=0.0001, kernel=poly, max_iter=1000;, score=0.560 total time=   0.7s\n",
      "[CV 4/5] END C=0.1, gamma=0.0001, kernel=rbf, max_iter=1000;, score=0.500 total time=   7.3s\n"
     ]
    },
    {
     "name": "stderr",
     "output_type": "stream",
     "text": [
      "/home/ebneto/miniconda3/envs/smp/lib/python3.10/site-packages/sklearn/svm/_base.py:299: ConvergenceWarning: Solver terminated early (max_iter=1000).  Consider pre-processing your data with StandardScaler or MinMaxScaler.\n",
      "  warnings.warn(\n"
     ]
    },
    {
     "name": "stdout",
     "output_type": "stream",
     "text": [
      "[CV 3/5] END C=0.1, gamma=0.0001, kernel=linear, max_iter=1000;, score=0.343 total time=   5.6s\n",
      "[CV 2/5] END C=0.1, gamma=0.001, kernel=sigmoid, max_iter=1000;, score=0.500 total time=  12.7s\n"
     ]
    },
    {
     "name": "stderr",
     "output_type": "stream",
     "text": [
      "/home/ebneto/miniconda3/envs/smp/lib/python3.10/site-packages/sklearn/svm/_base.py:299: ConvergenceWarning: Solver terminated early (max_iter=1000).  Consider pre-processing your data with StandardScaler or MinMaxScaler.\n",
      "  warnings.warn(\n"
     ]
    },
    {
     "name": "stdout",
     "output_type": "stream",
     "text": [
      "[CV 3/5] END C=0.1, gamma=0.0001, kernel=poly, max_iter=1000;, score=0.505 total time=   3.9s\n",
      "[CV 1/5] END C=0.1, gamma=0.001, kernel=sigmoid, max_iter=1000;, score=0.500 total time=  14.1s\n"
     ]
    },
    {
     "name": "stderr",
     "output_type": "stream",
     "text": [
      "/home/ebneto/miniconda3/envs/smp/lib/python3.10/site-packages/sklearn/svm/_base.py:299: ConvergenceWarning: Solver terminated early (max_iter=1000).  Consider pre-processing your data with StandardScaler or MinMaxScaler.\n",
      "  warnings.warn(\n"
     ]
    },
    {
     "name": "stdout",
     "output_type": "stream",
     "text": [
      "[CV 1/5] END C=0.1, gamma=0.0001, kernel=sigmoid, max_iter=1000;, score=0.500 total time=   2.4s\n",
      "[CV 4/5] END C=0.1, gamma=0.001, kernel=sigmoid, max_iter=1000;, score=0.500 total time=  13.3s\n",
      "[CV 4/5] END C=0.1, gamma=0.1, kernel=rbf, max_iter=1000;, score=0.500 total time=  41.1s\n",
      "[CV 5/5] END C=0.1, gamma=0.001, kernel=sigmoid, max_iter=1000;, score=0.500 total time=  13.6s\n",
      "[CV 4/5] END C=0.1, gamma=0.0001, kernel=poly, max_iter=1000;, score=0.444 total time=   4.7s\n"
     ]
    },
    {
     "name": "stderr",
     "output_type": "stream",
     "text": [
      "/home/ebneto/miniconda3/envs/smp/lib/python3.10/site-packages/sklearn/svm/_base.py:299: ConvergenceWarning: Solver terminated early (max_iter=1000).  Consider pre-processing your data with StandardScaler or MinMaxScaler.\n",
      "  warnings.warn(\n",
      "/home/ebneto/miniconda3/envs/smp/lib/python3.10/site-packages/sklearn/svm/_base.py:299: ConvergenceWarning: Solver terminated early (max_iter=1000).  Consider pre-processing your data with StandardScaler or MinMaxScaler.\n",
      "  warnings.warn(\n"
     ]
    },
    {
     "name": "stdout",
     "output_type": "stream",
     "text": [
      "[CV 5/5] END C=0.1, gamma=0.0001, kernel=poly, max_iter=1000;, score=0.618 total time=   4.5s\n"
     ]
    },
    {
     "name": "stderr",
     "output_type": "stream",
     "text": [
      "/home/ebneto/miniconda3/envs/smp/lib/python3.10/site-packages/sklearn/svm/_base.py:299: ConvergenceWarning: Solver terminated early (max_iter=1000).  Consider pre-processing your data with StandardScaler or MinMaxScaler.\n",
      "  warnings.warn(\n",
      "/home/ebneto/miniconda3/envs/smp/lib/python3.10/site-packages/sklearn/svm/_base.py:299: ConvergenceWarning: Solver terminated early (max_iter=1000).  Consider pre-processing your data with StandardScaler or MinMaxScaler.\n",
      "  warnings.warn(\n"
     ]
    },
    {
     "name": "stdout",
     "output_type": "stream",
     "text": [
      "[CV 1/5] END C=0.1, gamma=0.0001, kernel=poly, max_iter=1000;, score=0.498 total time=   7.1s\n"
     ]
    },
    {
     "name": "stderr",
     "output_type": "stream",
     "text": [
      "/home/ebneto/miniconda3/envs/smp/lib/python3.10/site-packages/sklearn/svm/_base.py:299: ConvergenceWarning: Solver terminated early (max_iter=1000).  Consider pre-processing your data with StandardScaler or MinMaxScaler.\n",
      "  warnings.warn(\n"
     ]
    },
    {
     "name": "stdout",
     "output_type": "stream",
     "text": [
      "[CV 2/5] END C=0.1, gamma=scale, kernel=linear, max_iter=1000;, score=0.629 total time=   1.3s\n"
     ]
    },
    {
     "name": "stderr",
     "output_type": "stream",
     "text": [
      "/home/ebneto/miniconda3/envs/smp/lib/python3.10/site-packages/sklearn/svm/_base.py:299: ConvergenceWarning: Solver terminated early (max_iter=1000).  Consider pre-processing your data with StandardScaler or MinMaxScaler.\n",
      "  warnings.warn(\n"
     ]
    },
    {
     "name": "stdout",
     "output_type": "stream",
     "text": [
      "[CV 3/5] END C=0.1, gamma=scale, kernel=linear, max_iter=1000;, score=0.343 total time=   1.7s\n",
      "[CV 3/5] END C=0.1, gamma=scale, kernel=rbf, max_iter=1000;, score=0.574 total time=   4.4s\n",
      "[CV 3/5] END C=0.1, gamma=0.0001, kernel=rbf, max_iter=1000;, score=0.500 total time=  17.4s\n"
     ]
    },
    {
     "name": "stderr",
     "output_type": "stream",
     "text": [
      "/home/ebneto/miniconda3/envs/smp/lib/python3.10/site-packages/sklearn/svm/_base.py:299: ConvergenceWarning: Solver terminated early (max_iter=1000).  Consider pre-processing your data with StandardScaler or MinMaxScaler.\n",
      "  warnings.warn(\n",
      "/home/ebneto/miniconda3/envs/smp/lib/python3.10/site-packages/sklearn/svm/_base.py:299: ConvergenceWarning: Solver terminated early (max_iter=1000).  Consider pre-processing your data with StandardScaler or MinMaxScaler.\n",
      "  warnings.warn(\n",
      "/home/ebneto/miniconda3/envs/smp/lib/python3.10/site-packages/sklearn/svm/_base.py:299: ConvergenceWarning: Solver terminated early (max_iter=1000).  Consider pre-processing your data with StandardScaler or MinMaxScaler.\n",
      "  warnings.warn(\n"
     ]
    },
    {
     "name": "stdout",
     "output_type": "stream",
     "text": [
      "[CV 5/5] END C=0.1, gamma=scale, kernel=linear, max_iter=1000;, score=0.708 total time=   1.1s\n"
     ]
    },
    {
     "name": "stderr",
     "output_type": "stream",
     "text": [
      "/home/ebneto/miniconda3/envs/smp/lib/python3.10/site-packages/sklearn/svm/_base.py:299: ConvergenceWarning: Solver terminated early (max_iter=1000).  Consider pre-processing your data with StandardScaler or MinMaxScaler.\n",
      "  warnings.warn(\n"
     ]
    },
    {
     "name": "stdout",
     "output_type": "stream",
     "text": [
      "[CV 4/5] END C=0.1, gamma=scale, kernel=rbf, max_iter=1000;, score=0.592 total time=   5.3s\n"
     ]
    },
    {
     "name": "stderr",
     "output_type": "stream",
     "text": [
      "/home/ebneto/miniconda3/envs/smp/lib/python3.10/site-packages/sklearn/svm/_base.py:299: ConvergenceWarning: Solver terminated early (max_iter=1000).  Consider pre-processing your data with StandardScaler or MinMaxScaler.\n",
      "  warnings.warn(\n"
     ]
    },
    {
     "name": "stdout",
     "output_type": "stream",
     "text": [
      "[CV 1/5] END C=0.1, gamma=scale, kernel=linear, max_iter=1000;, score=0.433 total time=   5.6s\n"
     ]
    },
    {
     "name": "stderr",
     "output_type": "stream",
     "text": [
      "/home/ebneto/miniconda3/envs/smp/lib/python3.10/site-packages/sklearn/svm/_base.py:299: ConvergenceWarning: Solver terminated early (max_iter=1000).  Consider pre-processing your data with StandardScaler or MinMaxScaler.\n",
      "  warnings.warn(\n",
      "/home/ebneto/miniconda3/envs/smp/lib/python3.10/site-packages/sklearn/svm/_base.py:299: ConvergenceWarning: Solver terminated early (max_iter=1000).  Consider pre-processing your data with StandardScaler or MinMaxScaler.\n",
      "  warnings.warn(\n"
     ]
    },
    {
     "name": "stdout",
     "output_type": "stream",
     "text": [
      "[CV 4/5] END C=0.1, gamma=scale, kernel=linear, max_iter=1000;, score=0.709 total time=   4.7s\n",
      "[CV 3/5] END C=0.1, gamma=0.001, kernel=rbf, max_iter=1000;, score=0.500 total time=  33.9s\n"
     ]
    },
    {
     "name": "stderr",
     "output_type": "stream",
     "text": [
      "/home/ebneto/miniconda3/envs/smp/lib/python3.10/site-packages/sklearn/svm/_base.py:299: ConvergenceWarning: Solver terminated early (max_iter=1000).  Consider pre-processing your data with StandardScaler or MinMaxScaler.\n",
      "  warnings.warn(\n",
      "/home/ebneto/miniconda3/envs/smp/lib/python3.10/site-packages/sklearn/svm/_base.py:299: ConvergenceWarning: Solver terminated early (max_iter=1000).  Consider pre-processing your data with StandardScaler or MinMaxScaler.\n",
      "  warnings.warn(\n"
     ]
    },
    {
     "name": "stdout",
     "output_type": "stream",
     "text": [
      "[CV 5/5] END C=0.1, gamma=scale, kernel=poly, max_iter=1000;, score=0.641 total time=   2.4s\n"
     ]
    },
    {
     "name": "stderr",
     "output_type": "stream",
     "text": [
      "/home/ebneto/miniconda3/envs/smp/lib/python3.10/site-packages/sklearn/svm/_base.py:299: ConvergenceWarning: Solver terminated early (max_iter=1000).  Consider pre-processing your data with StandardScaler or MinMaxScaler.\n",
      "  warnings.warn(\n"
     ]
    },
    {
     "name": "stdout",
     "output_type": "stream",
     "text": [
      "[CV 1/5] END C=0.1, gamma=scale, kernel=poly, max_iter=1000;, score=0.608 total time=   5.8s\n",
      "[CV 2/5] END C=0.1, gamma=0.0001, kernel=sigmoid, max_iter=1000;, score=0.500 total time=  14.4s\n",
      "[CV 5/5] END C=0.1, gamma=scale, kernel=rbf, max_iter=1000;, score=0.592 total time=   9.8s\n",
      "[CV 2/5] END C=0.1, gamma=scale, kernel=sigmoid, max_iter=1000;, score=0.500 total time=   3.1s\n"
     ]
    },
    {
     "name": "stderr",
     "output_type": "stream",
     "text": [
      "/home/ebneto/miniconda3/envs/smp/lib/python3.10/site-packages/sklearn/svm/_base.py:299: ConvergenceWarning: Solver terminated early (max_iter=1000).  Consider pre-processing your data with StandardScaler or MinMaxScaler.\n",
      "  warnings.warn(\n"
     ]
    },
    {
     "name": "stdout",
     "output_type": "stream",
     "text": [
      "[CV 5/5] END C=0.1, gamma=0.0001, kernel=sigmoid, max_iter=1000;, score=0.500 total time=  13.9s\n"
     ]
    },
    {
     "name": "stderr",
     "output_type": "stream",
     "text": [
      "/home/ebneto/miniconda3/envs/smp/lib/python3.10/site-packages/sklearn/svm/_base.py:299: ConvergenceWarning: Solver terminated early (max_iter=1000).  Consider pre-processing your data with StandardScaler or MinMaxScaler.\n",
      "  warnings.warn(\n"
     ]
    },
    {
     "name": "stdout",
     "output_type": "stream",
     "text": [
      "[CV 1/5] END C=0.1, gamma=auto, kernel=linear, max_iter=1000;, score=0.433 total time=   1.4s\n",
      "[CV 2/5] END C=0.1, gamma=0.1, kernel=rbf, max_iter=1000;, score=0.500 total time=  57.8s\n",
      "[CV 4/5] END C=0.1, gamma=0.0001, kernel=sigmoid, max_iter=1000;, score=0.500 total time=  17.5s\n"
     ]
    },
    {
     "name": "stderr",
     "output_type": "stream",
     "text": [
      "/home/ebneto/miniconda3/envs/smp/lib/python3.10/site-packages/sklearn/svm/_base.py:299: ConvergenceWarning: Solver terminated early (max_iter=1000).  Consider pre-processing your data with StandardScaler or MinMaxScaler.\n",
      "  warnings.warn(\n"
     ]
    },
    {
     "name": "stdout",
     "output_type": "stream",
     "text": [
      "[CV 2/5] END C=0.1, gamma=auto, kernel=linear, max_iter=1000;, score=0.629 total time=   2.0s\n",
      "[CV 1/5] END C=0.1, gamma=0.1, kernel=rbf, max_iter=1000;, score=0.500 total time=  59.2s\n",
      "[CV 3/5] END C=0.1, gamma=0.0001, kernel=sigmoid, max_iter=1000;, score=0.500 total time=  19.2s\n",
      "[CV 5/5] END C=0.1, gamma=0.1, kernel=rbf, max_iter=1000;, score=0.500 total time=  59.2s\n",
      "[CV 1/5] END C=0.1, gamma=auto, kernel=poly, max_iter=1000;, score=0.701 total time=   0.7s\n"
     ]
    },
    {
     "name": "stderr",
     "output_type": "stream",
     "text": [
      "/home/ebneto/miniconda3/envs/smp/lib/python3.10/site-packages/sklearn/svm/_base.py:299: ConvergenceWarning: Solver terminated early (max_iter=1000).  Consider pre-processing your data with StandardScaler or MinMaxScaler.\n",
      "  warnings.warn(\n"
     ]
    },
    {
     "name": "stdout",
     "output_type": "stream",
     "text": [
      "[CV 3/5] END C=0.1, gamma=0.1, kernel=rbf, max_iter=1000;, score=0.500 total time= 1.0min\n"
     ]
    },
    {
     "name": "stderr",
     "output_type": "stream",
     "text": [
      "/home/ebneto/miniconda3/envs/smp/lib/python3.10/site-packages/sklearn/svm/_base.py:299: ConvergenceWarning: Solver terminated early (max_iter=1000).  Consider pre-processing your data with StandardScaler or MinMaxScaler.\n",
      "  warnings.warn(\n",
      "/home/ebneto/miniconda3/envs/smp/lib/python3.10/site-packages/sklearn/svm/_base.py:299: ConvergenceWarning: Solver terminated early (max_iter=1000).  Consider pre-processing your data with StandardScaler or MinMaxScaler.\n",
      "  warnings.warn(\n",
      "/home/ebneto/miniconda3/envs/smp/lib/python3.10/site-packages/sklearn/svm/_base.py:299: ConvergenceWarning: Solver terminated early (max_iter=1000).  Consider pre-processing your data with StandardScaler or MinMaxScaler.\n",
      "  warnings.warn(\n"
     ]
    },
    {
     "name": "stdout",
     "output_type": "stream",
     "text": [
      "[CV 2/5] END C=0.1, gamma=auto, kernel=poly, max_iter=1000;, score=0.819 total time=   1.9s\n"
     ]
    },
    {
     "name": "stderr",
     "output_type": "stream",
     "text": [
      "/home/ebneto/miniconda3/envs/smp/lib/python3.10/site-packages/sklearn/svm/_base.py:299: ConvergenceWarning: Solver terminated early (max_iter=1000).  Consider pre-processing your data with StandardScaler or MinMaxScaler.\n",
      "  warnings.warn(\n"
     ]
    },
    {
     "name": "stdout",
     "output_type": "stream",
     "text": [
      "[CV 4/5] END C=0.1, gamma=auto, kernel=linear, max_iter=1000;, score=0.709 total time=   5.5s\n"
     ]
    },
    {
     "name": "stderr",
     "output_type": "stream",
     "text": [
      "/home/ebneto/miniconda3/envs/smp/lib/python3.10/site-packages/sklearn/svm/_base.py:299: ConvergenceWarning: Solver terminated early (max_iter=1000).  Consider pre-processing your data with StandardScaler or MinMaxScaler.\n",
      "  warnings.warn(\n",
      "/home/ebneto/miniconda3/envs/smp/lib/python3.10/site-packages/sklearn/svm/_base.py:299: ConvergenceWarning: Solver terminated early (max_iter=1000).  Consider pre-processing your data with StandardScaler or MinMaxScaler.\n",
      "  warnings.warn(\n"
     ]
    },
    {
     "name": "stdout",
     "output_type": "stream",
     "text": [
      "[CV 3/5] END C=0.1, gamma=auto, kernel=poly, max_iter=1000;, score=0.510 total time=   2.2s\n",
      "[CV 5/5] END C=0.1, gamma=auto, kernel=linear, max_iter=1000;, score=0.708 total time=   5.4s\n",
      "[CV 5/5] END C=0.1, gamma=0.001, kernel=rbf, max_iter=1000;, score=0.500 total time=  44.3s\n"
     ]
    },
    {
     "name": "stderr",
     "output_type": "stream",
     "text": [
      "/home/ebneto/miniconda3/envs/smp/lib/python3.10/site-packages/sklearn/svm/_base.py:299: ConvergenceWarning: Solver terminated early (max_iter=1000).  Consider pre-processing your data with StandardScaler or MinMaxScaler.\n",
      "  warnings.warn(\n"
     ]
    },
    {
     "name": "stdout",
     "output_type": "stream",
     "text": [
      "[CV 3/5] END C=0.1, gamma=auto, kernel=linear, max_iter=1000;, score=0.343 total time=   6.6s\n",
      "[CV 4/5] END C=0.1, gamma=0.001, kernel=rbf, max_iter=1000;, score=0.500 total time=  46.5s\n"
     ]
    },
    {
     "name": "stderr",
     "output_type": "stream",
     "text": [
      "/home/ebneto/miniconda3/envs/smp/lib/python3.10/site-packages/sklearn/svm/_base.py:299: ConvergenceWarning: Solver terminated early (max_iter=1000).  Consider pre-processing your data with StandardScaler or MinMaxScaler.\n",
      "  warnings.warn(\n"
     ]
    },
    {
     "name": "stdout",
     "output_type": "stream",
     "text": [
      "[CV 2/5] END C=0.1, gamma=auto, kernel=rbf, max_iter=1000;, score=0.500 total time=  10.7s\n",
      "[CV 3/5] END C=0.1, gamma=scale, kernel=poly, max_iter=1000;, score=0.590 total time=  17.0s\n",
      "[CV 2/5] END C=0.1, gamma=auto, kernel=sigmoid, max_iter=1000;, score=0.500 total time=   1.9s\n",
      "[CV 4/5] END C=0.1, gamma=auto, kernel=poly, max_iter=1000;, score=0.444 total time=   4.5s\n"
     ]
    },
    {
     "name": "stderr",
     "output_type": "stream",
     "text": [
      "/home/ebneto/miniconda3/envs/smp/lib/python3.10/site-packages/sklearn/svm/_base.py:299: ConvergenceWarning: Solver terminated early (max_iter=1000).  Consider pre-processing your data with StandardScaler or MinMaxScaler.\n",
      "  warnings.warn(\n",
      "/home/ebneto/miniconda3/envs/smp/lib/python3.10/site-packages/sklearn/svm/_base.py:299: ConvergenceWarning: Solver terminated early (max_iter=1000).  Consider pre-processing your data with StandardScaler or MinMaxScaler.\n",
      "  warnings.warn(\n"
     ]
    },
    {
     "name": "stdout",
     "output_type": "stream",
     "text": [
      "[CV 5/5] END C=0.1, gamma=auto, kernel=poly, max_iter=1000;, score=0.457 total time=   4.1s\n"
     ]
    },
    {
     "name": "stderr",
     "output_type": "stream",
     "text": [
      "/home/ebneto/miniconda3/envs/smp/lib/python3.10/site-packages/sklearn/svm/_base.py:299: ConvergenceWarning: Solver terminated early (max_iter=1000).  Consider pre-processing your data with StandardScaler or MinMaxScaler.\n",
      "  warnings.warn(\n"
     ]
    },
    {
     "name": "stdout",
     "output_type": "stream",
     "text": [
      "[CV 2/5] END C=0.1, gamma=scale, kernel=poly, max_iter=1000;, score=0.591 total time=  19.6s\n",
      "[CV 4/5] END C=0.1, gamma=auto, kernel=sigmoid, max_iter=1000;, score=0.500 total time=   3.0s\n",
      "[CV 2/5] END C=0.1, gamma=0.01, kernel=rbf, max_iter=1000;, score=0.500 total time= 1.0min\n",
      "[CV 1/5] END C=0.1, gamma=scale, kernel=rbf, max_iter=1000;, score=0.567 total time=  27.7s\n"
     ]
    },
    {
     "name": "stderr",
     "output_type": "stream",
     "text": [
      "/home/ebneto/miniconda3/envs/smp/lib/python3.10/site-packages/sklearn/svm/_base.py:299: ConvergenceWarning: Solver terminated early (max_iter=1000).  Consider pre-processing your data with StandardScaler or MinMaxScaler.\n",
      "  warnings.warn(\n"
     ]
    },
    {
     "name": "stdout",
     "output_type": "stream",
     "text": [
      "[CV 4/5] END C=0.1, gamma=scale, kernel=poly, max_iter=1000;, score=0.575 total time=  20.8s\n",
      "[CV 1/5] END C=0.1, gamma=scale, kernel=sigmoid, max_iter=1000;, score=0.500 total time=  19.2s\n",
      "[CV 3/5] END C=0.1, gamma=scale, kernel=sigmoid, max_iter=1000;, score=0.500 total time=  18.9s\n"
     ]
    },
    {
     "name": "stderr",
     "output_type": "stream",
     "text": [
      "/home/ebneto/miniconda3/envs/smp/lib/python3.10/site-packages/sklearn/svm/_base.py:299: ConvergenceWarning: Solver terminated early (max_iter=1000).  Consider pre-processing your data with StandardScaler or MinMaxScaler.\n",
      "  warnings.warn(\n"
     ]
    },
    {
     "name": "stdout",
     "output_type": "stream",
     "text": [
      "[CV 5/5] END C=0.1, gamma=auto, kernel=sigmoid, max_iter=1000;, score=0.500 total time=   4.4s\n"
     ]
    },
    {
     "name": "stderr",
     "output_type": "stream",
     "text": [
      "/home/ebneto/miniconda3/envs/smp/lib/python3.10/site-packages/sklearn/svm/_base.py:299: ConvergenceWarning: Solver terminated early (max_iter=1000).  Consider pre-processing your data with StandardScaler or MinMaxScaler.\n",
      "  warnings.warn(\n",
      "/home/ebneto/miniconda3/envs/smp/lib/python3.10/site-packages/sklearn/svm/_base.py:299: ConvergenceWarning: Solver terminated early (max_iter=1000).  Consider pre-processing your data with StandardScaler or MinMaxScaler.\n",
      "  warnings.warn(\n"
     ]
    },
    {
     "name": "stdout",
     "output_type": "stream",
     "text": [
      "[CV 3/5] END C=1, gamma=1, kernel=linear, max_iter=1000;, score=0.343 total time=   2.5s\n",
      "[CV 1/5] END C=1, gamma=1, kernel=linear, max_iter=1000;, score=0.433 total time=   2.7s\n",
      "[CV 4/5] END C=0.1, gamma=scale, kernel=sigmoid, max_iter=1000;, score=0.500 total time=  19.1s\n"
     ]
    },
    {
     "name": "stderr",
     "output_type": "stream",
     "text": [
      "/home/ebneto/miniconda3/envs/smp/lib/python3.10/site-packages/sklearn/svm/_base.py:299: ConvergenceWarning: Solver terminated early (max_iter=1000).  Consider pre-processing your data with StandardScaler or MinMaxScaler.\n",
      "  warnings.warn(\n",
      "/home/ebneto/miniconda3/envs/smp/lib/python3.10/site-packages/sklearn/svm/_base.py:299: ConvergenceWarning: Solver terminated early (max_iter=1000).  Consider pre-processing your data with StandardScaler or MinMaxScaler.\n",
      "  warnings.warn(\n",
      "/home/ebneto/miniconda3/envs/smp/lib/python3.10/site-packages/sklearn/svm/_base.py:299: ConvergenceWarning: Solver terminated early (max_iter=1000).  Consider pre-processing your data with StandardScaler or MinMaxScaler.\n",
      "  warnings.warn(\n"
     ]
    },
    {
     "name": "stdout",
     "output_type": "stream",
     "text": [
      "[CV 2/5] END C=1, gamma=1, kernel=poly, max_iter=1000;, score=0.491 total time=   0.9s\n"
     ]
    },
    {
     "name": "stderr",
     "output_type": "stream",
     "text": [
      "/home/ebneto/miniconda3/envs/smp/lib/python3.10/site-packages/sklearn/svm/_base.py:299: ConvergenceWarning: Solver terminated early (max_iter=1000).  Consider pre-processing your data with StandardScaler or MinMaxScaler.\n",
      "  warnings.warn(\n"
     ]
    },
    {
     "name": "stdout",
     "output_type": "stream",
     "text": [
      "[CV 3/5] END C=1, gamma=1, kernel=poly, max_iter=1000;, score=0.505 total time=   0.8s\n",
      "[CV 5/5] END C=0.1, gamma=scale, kernel=sigmoid, max_iter=1000;, score=0.500 total time=  20.2s\n",
      "[CV 2/5] END C=0.1, gamma=scale, kernel=rbf, max_iter=1000;, score=0.591 total time=  30.8s\n",
      "[CV 2/5] END C=1, gamma=1, kernel=linear, max_iter=1000;, score=0.629 total time=   4.8s\n"
     ]
    },
    {
     "name": "stderr",
     "output_type": "stream",
     "text": [
      "/home/ebneto/miniconda3/envs/smp/lib/python3.10/site-packages/sklearn/svm/_base.py:299: ConvergenceWarning: Solver terminated early (max_iter=1000).  Consider pre-processing your data with StandardScaler or MinMaxScaler.\n",
      "  warnings.warn(\n",
      "/home/ebneto/miniconda3/envs/smp/lib/python3.10/site-packages/sklearn/svm/_base.py:299: ConvergenceWarning: Solver terminated early (max_iter=1000).  Consider pre-processing your data with StandardScaler or MinMaxScaler.\n",
      "  warnings.warn(\n",
      "/home/ebneto/miniconda3/envs/smp/lib/python3.10/site-packages/sklearn/svm/_base.py:299: ConvergenceWarning: Solver terminated early (max_iter=1000).  Consider pre-processing your data with StandardScaler or MinMaxScaler.\n",
      "  warnings.warn(\n"
     ]
    },
    {
     "name": "stdout",
     "output_type": "stream",
     "text": [
      "[CV 4/5] END C=1, gamma=1, kernel=poly, max_iter=1000;, score=0.682 total time=   0.8s\n",
      "[CV 5/5] END C=1, gamma=1, kernel=linear, max_iter=1000;, score=0.708 total time=   4.0s\n",
      "[CV 5/5] END C=0.1, gamma=0.01, kernel=rbf, max_iter=1000;, score=0.500 total time= 1.1min\n",
      "[CV 4/5] END C=1, gamma=1, kernel=linear, max_iter=1000;, score=0.709 total time=   5.3s\n"
     ]
    },
    {
     "name": "stderr",
     "output_type": "stream",
     "text": [
      "/home/ebneto/miniconda3/envs/smp/lib/python3.10/site-packages/sklearn/svm/_base.py:299: ConvergenceWarning: Solver terminated early (max_iter=1000).  Consider pre-processing your data with StandardScaler or MinMaxScaler.\n",
      "  warnings.warn(\n",
      "/home/ebneto/miniconda3/envs/smp/lib/python3.10/site-packages/sklearn/svm/_base.py:299: ConvergenceWarning: Solver terminated early (max_iter=1000).  Consider pre-processing your data with StandardScaler or MinMaxScaler.\n",
      "  warnings.warn(\n"
     ]
    },
    {
     "name": "stdout",
     "output_type": "stream",
     "text": [
      "[CV 5/5] END C=1, gamma=1, kernel=poly, max_iter=1000;, score=0.602 total time=   0.7s\n",
      "[CV 3/5] END C=0.1, gamma=0.01, kernel=rbf, max_iter=1000;, score=0.500 total time= 1.1min\n",
      "[CV 3/5] END C=1, gamma=1, kernel=rbf, max_iter=1000;, score=0.500 total time=   7.7s\n"
     ]
    },
    {
     "name": "stderr",
     "output_type": "stream",
     "text": [
      "/home/ebneto/miniconda3/envs/smp/lib/python3.10/site-packages/sklearn/svm/_base.py:299: ConvergenceWarning: Solver terminated early (max_iter=1000).  Consider pre-processing your data with StandardScaler or MinMaxScaler.\n",
      "  warnings.warn(\n",
      "/home/ebneto/miniconda3/envs/smp/lib/python3.10/site-packages/sklearn/svm/_base.py:299: ConvergenceWarning: Solver terminated early (max_iter=1000).  Consider pre-processing your data with StandardScaler or MinMaxScaler.\n",
      "  warnings.warn(\n"
     ]
    },
    {
     "name": "stdout",
     "output_type": "stream",
     "text": [
      "[CV 1/5] END C=1, gamma=1, kernel=poly, max_iter=1000;, score=0.603 total time=   4.5s\n",
      "[CV 1/5] END C=0.1, gamma=0.001, kernel=rbf, max_iter=1000;, score=0.500 total time= 1.0min\n",
      "[CV 5/5] END C=1, gamma=1, kernel=sigmoid, max_iter=1000;, score=0.500 total time=   2.0s\n",
      "[CV 4/5] END C=1, gamma=1, kernel=sigmoid, max_iter=1000;, score=0.500 total time=   2.9s\n",
      "[CV 1/5] END C=0.1, gamma=auto, kernel=sigmoid, max_iter=1000;, score=0.500 total time=  15.0s\n",
      "[CV 3/5] END C=0.1, gamma=auto, kernel=sigmoid, max_iter=1000;, score=0.500 total time=  13.5s\n"
     ]
    },
    {
     "name": "stderr",
     "output_type": "stream",
     "text": [
      "/home/ebneto/miniconda3/envs/smp/lib/python3.10/site-packages/sklearn/svm/_base.py:299: ConvergenceWarning: Solver terminated early (max_iter=1000).  Consider pre-processing your data with StandardScaler or MinMaxScaler.\n",
      "  warnings.warn(\n",
      "/home/ebneto/miniconda3/envs/smp/lib/python3.10/site-packages/sklearn/svm/_base.py:299: ConvergenceWarning: Solver terminated early (max_iter=1000).  Consider pre-processing your data with StandardScaler or MinMaxScaler.\n",
      "  warnings.warn(\n"
     ]
    },
    {
     "name": "stdout",
     "output_type": "stream",
     "text": [
      "[CV 1/5] END C=1, gamma=0.1, kernel=linear, max_iter=1000;, score=0.433 total time=   1.4s\n",
      "[CV 2/5] END C=1, gamma=0.1, kernel=linear, max_iter=1000;, score=0.629 total time=   1.4s\n"
     ]
    },
    {
     "name": "stderr",
     "output_type": "stream",
     "text": [
      "/home/ebneto/miniconda3/envs/smp/lib/python3.10/site-packages/sklearn/svm/_base.py:299: ConvergenceWarning: Solver terminated early (max_iter=1000).  Consider pre-processing your data with StandardScaler or MinMaxScaler.\n",
      "  warnings.warn(\n"
     ]
    },
    {
     "name": "stdout",
     "output_type": "stream",
     "text": [
      "[CV 4/5] END C=1, gamma=0.1, kernel=linear, max_iter=1000;, score=0.709 total time=   0.7s\n"
     ]
    },
    {
     "name": "stderr",
     "output_type": "stream",
     "text": [
      "/home/ebneto/miniconda3/envs/smp/lib/python3.10/site-packages/sklearn/svm/_base.py:299: ConvergenceWarning: Solver terminated early (max_iter=1000).  Consider pre-processing your data with StandardScaler or MinMaxScaler.\n",
      "  warnings.warn(\n"
     ]
    },
    {
     "name": "stdout",
     "output_type": "stream",
     "text": [
      "[CV 5/5] END C=1, gamma=0.1, kernel=linear, max_iter=1000;, score=0.708 total time=   1.2s\n"
     ]
    },
    {
     "name": "stderr",
     "output_type": "stream",
     "text": [
      "/home/ebneto/miniconda3/envs/smp/lib/python3.10/site-packages/sklearn/svm/_base.py:299: ConvergenceWarning: Solver terminated early (max_iter=1000).  Consider pre-processing your data with StandardScaler or MinMaxScaler.\n",
      "  warnings.warn(\n"
     ]
    },
    {
     "name": "stdout",
     "output_type": "stream",
     "text": [
      "[CV 4/5] END C=1, gamma=0.1, kernel=poly, max_iter=1000;, score=0.611 total time=   0.4s\n"
     ]
    },
    {
     "name": "stderr",
     "output_type": "stream",
     "text": [
      "/home/ebneto/miniconda3/envs/smp/lib/python3.10/site-packages/sklearn/svm/_base.py:299: ConvergenceWarning: Solver terminated early (max_iter=1000).  Consider pre-processing your data with StandardScaler or MinMaxScaler.\n",
      "  warnings.warn(\n"
     ]
    },
    {
     "name": "stdout",
     "output_type": "stream",
     "text": [
      "[CV 3/5] END C=1, gamma=0.1, kernel=linear, max_iter=1000;, score=0.343 total time=   5.0s\n"
     ]
    },
    {
     "name": "stderr",
     "output_type": "stream",
     "text": [
      "/home/ebneto/miniconda3/envs/smp/lib/python3.10/site-packages/sklearn/svm/_base.py:299: ConvergenceWarning: Solver terminated early (max_iter=1000).  Consider pre-processing your data with StandardScaler or MinMaxScaler.\n",
      "  warnings.warn(\n"
     ]
    },
    {
     "name": "stdout",
     "output_type": "stream",
     "text": [
      "[CV 2/5] END C=1, gamma=0.1, kernel=poly, max_iter=1000;, score=0.627 total time=   5.0s\n",
      "[CV 1/5] END C=0.1, gamma=0.0001, kernel=rbf, max_iter=1000;, score=0.500 total time=  57.5s\n",
      "[CV 3/5] END C=1, gamma=0.1, kernel=poly, max_iter=1000;, score=0.510 total time=   5.1s\n"
     ]
    },
    {
     "name": "stderr",
     "output_type": "stream",
     "text": [
      "/home/ebneto/miniconda3/envs/smp/lib/python3.10/site-packages/sklearn/svm/_base.py:299: ConvergenceWarning: Solver terminated early (max_iter=1000).  Consider pre-processing your data with StandardScaler or MinMaxScaler.\n",
      "  warnings.warn(\n",
      "/home/ebneto/miniconda3/envs/smp/lib/python3.10/site-packages/sklearn/svm/_base.py:299: ConvergenceWarning: Solver terminated early (max_iter=1000).  Consider pre-processing your data with StandardScaler or MinMaxScaler.\n",
      "  warnings.warn(\n"
     ]
    },
    {
     "name": "stdout",
     "output_type": "stream",
     "text": [
      "[CV 1/5] END C=1, gamma=0.1, kernel=poly, max_iter=1000;, score=0.701 total time=   6.3s\n"
     ]
    },
    {
     "name": "stderr",
     "output_type": "stream",
     "text": [
      "/home/ebneto/miniconda3/envs/smp/lib/python3.10/site-packages/sklearn/svm/_base.py:299: ConvergenceWarning: Solver terminated early (max_iter=1000).  Consider pre-processing your data with StandardScaler or MinMaxScaler.\n",
      "  warnings.warn(\n"
     ]
    },
    {
     "name": "stdout",
     "output_type": "stream",
     "text": [
      "[CV 5/5] END C=1, gamma=0.1, kernel=poly, max_iter=1000;, score=0.618 total time=   4.4s\n",
      "[CV 3/5] END C=1, gamma=0.1, kernel=sigmoid, max_iter=1000;, score=0.500 total time=   2.1s\n",
      "[CV 4/5] END C=1, gamma=0.1, kernel=sigmoid, max_iter=1000;, score=0.500 total time=   2.0s\n",
      "[CV 5/5] END C=1, gamma=0.1, kernel=sigmoid, max_iter=1000;, score=0.500 total time=   2.0s\n",
      "[CV 2/5] END C=1, gamma=1, kernel=sigmoid, max_iter=1000;, score=0.500 total time=  13.5s\n",
      "[CV 1/5] END C=1, gamma=1, kernel=sigmoid, max_iter=1000;, score=0.500 total time=  13.7s\n"
     ]
    },
    {
     "name": "stderr",
     "output_type": "stream",
     "text": [
      "/home/ebneto/miniconda3/envs/smp/lib/python3.10/site-packages/sklearn/svm/_base.py:299: ConvergenceWarning: Solver terminated early (max_iter=1000).  Consider pre-processing your data with StandardScaler or MinMaxScaler.\n",
      "  warnings.warn(\n"
     ]
    },
    {
     "name": "stdout",
     "output_type": "stream",
     "text": [
      "[CV 3/5] END C=1, gamma=1, kernel=sigmoid, max_iter=1000;, score=0.500 total time=  14.2s\n"
     ]
    },
    {
     "name": "stderr",
     "output_type": "stream",
     "text": [
      "/home/ebneto/miniconda3/envs/smp/lib/python3.10/site-packages/sklearn/svm/_base.py:299: ConvergenceWarning: Solver terminated early (max_iter=1000).  Consider pre-processing your data with StandardScaler or MinMaxScaler.\n",
      "  warnings.warn(\n",
      "/home/ebneto/miniconda3/envs/smp/lib/python3.10/site-packages/sklearn/svm/_base.py:299: ConvergenceWarning: Solver terminated early (max_iter=1000).  Consider pre-processing your data with StandardScaler or MinMaxScaler.\n",
      "  warnings.warn(\n"
     ]
    },
    {
     "name": "stdout",
     "output_type": "stream",
     "text": [
      "[CV 5/5] END C=0.1, gamma=auto, kernel=rbf, max_iter=1000;, score=0.500 total time=  36.5s\n",
      "[CV 2/5] END C=1, gamma=0.01, kernel=linear, max_iter=1000;, score=0.629 total time=   1.6s\n"
     ]
    },
    {
     "name": "stderr",
     "output_type": "stream",
     "text": [
      "/home/ebneto/miniconda3/envs/smp/lib/python3.10/site-packages/sklearn/svm/_base.py:299: ConvergenceWarning: Solver terminated early (max_iter=1000).  Consider pre-processing your data with StandardScaler or MinMaxScaler.\n",
      "  warnings.warn(\n"
     ]
    },
    {
     "name": "stdout",
     "output_type": "stream",
     "text": [
      "[CV 5/5] END C=0.1, gamma=0.0001, kernel=rbf, max_iter=1000;, score=0.500 total time= 1.0min\n"
     ]
    },
    {
     "name": "stderr",
     "output_type": "stream",
     "text": [
      "/home/ebneto/miniconda3/envs/smp/lib/python3.10/site-packages/sklearn/svm/_base.py:299: ConvergenceWarning: Solver terminated early (max_iter=1000).  Consider pre-processing your data with StandardScaler or MinMaxScaler.\n",
      "  warnings.warn(\n",
      "/home/ebneto/miniconda3/envs/smp/lib/python3.10/site-packages/sklearn/svm/_base.py:299: ConvergenceWarning: Solver terminated early (max_iter=1000).  Consider pre-processing your data with StandardScaler or MinMaxScaler.\n",
      "  warnings.warn(\n"
     ]
    },
    {
     "name": "stdout",
     "output_type": "stream",
     "text": [
      "[CV 3/5] END C=1, gamma=0.01, kernel=linear, max_iter=1000;, score=0.343 total time=   2.2s\n",
      "[CV 4/5] END C=1, gamma=0.01, kernel=linear, max_iter=1000;, score=0.709 total time=   1.4s\n"
     ]
    },
    {
     "name": "stderr",
     "output_type": "stream",
     "text": [
      "/home/ebneto/miniconda3/envs/smp/lib/python3.10/site-packages/sklearn/svm/_base.py:299: ConvergenceWarning: Solver terminated early (max_iter=1000).  Consider pre-processing your data with StandardScaler or MinMaxScaler.\n",
      "  warnings.warn(\n"
     ]
    },
    {
     "name": "stdout",
     "output_type": "stream",
     "text": [
      "[CV 1/5] END C=1, gamma=0.01, kernel=linear, max_iter=1000;, score=0.433 total time=   4.0s\n"
     ]
    },
    {
     "name": "stderr",
     "output_type": "stream",
     "text": [
      "/home/ebneto/miniconda3/envs/smp/lib/python3.10/site-packages/sklearn/svm/_base.py:299: ConvergenceWarning: Solver terminated early (max_iter=1000).  Consider pre-processing your data with StandardScaler or MinMaxScaler.\n",
      "  warnings.warn(\n",
      "/home/ebneto/miniconda3/envs/smp/lib/python3.10/site-packages/sklearn/svm/_base.py:299: ConvergenceWarning: Solver terminated early (max_iter=1000).  Consider pre-processing your data with StandardScaler or MinMaxScaler.\n",
      "  warnings.warn(\n"
     ]
    },
    {
     "name": "stdout",
     "output_type": "stream",
     "text": [
      "[CV 5/5] END C=1, gamma=0.01, kernel=linear, max_iter=1000;, score=0.708 total time=   1.1s\n"
     ]
    },
    {
     "name": "stderr",
     "output_type": "stream",
     "text": [
      "/home/ebneto/miniconda3/envs/smp/lib/python3.10/site-packages/sklearn/svm/_base.py:299: ConvergenceWarning: Solver terminated early (max_iter=1000).  Consider pre-processing your data with StandardScaler or MinMaxScaler.\n",
      "  warnings.warn(\n",
      "/home/ebneto/miniconda3/envs/smp/lib/python3.10/site-packages/sklearn/svm/_base.py:299: ConvergenceWarning: Solver terminated early (max_iter=1000).  Consider pre-processing your data with StandardScaler or MinMaxScaler.\n",
      "  warnings.warn(\n"
     ]
    },
    {
     "name": "stdout",
     "output_type": "stream",
     "text": [
      "[CV 1/5] END C=1, gamma=0.01, kernel=poly, max_iter=1000;, score=0.701 total time=   1.3s\n",
      "[CV 2/5] END C=0.1, gamma=0.0001, kernel=rbf, max_iter=1000;, score=0.500 total time= 1.1min\n",
      "[CV 1/5] END C=1, gamma=0.1, kernel=sigmoid, max_iter=1000;, score=0.500 total time=  13.2s\n",
      "[CV 5/5] END C=1, gamma=1, kernel=rbf, max_iter=1000;, score=0.500 total time=  28.8s\n",
      "[CV 4/5] END C=0.1, gamma=auto, kernel=rbf, max_iter=1000;, score=0.500 total time=  42.4s\n",
      "[CV 3/5] END C=0.1, gamma=auto, kernel=rbf, max_iter=1000;, score=0.500 total time=  43.1s\n"
     ]
    },
    {
     "name": "stderr",
     "output_type": "stream",
     "text": [
      "/home/ebneto/miniconda3/envs/smp/lib/python3.10/site-packages/sklearn/svm/_base.py:299: ConvergenceWarning: Solver terminated early (max_iter=1000).  Consider pre-processing your data with StandardScaler or MinMaxScaler.\n",
      "  warnings.warn(\n"
     ]
    },
    {
     "name": "stdout",
     "output_type": "stream",
     "text": [
      "[CV 2/5] END C=1, gamma=0.1, kernel=sigmoid, max_iter=1000;, score=0.500 total time=  14.7s\n",
      "[CV 3/5] END C=1, gamma=0.01, kernel=poly, max_iter=1000;, score=0.505 total time=   3.0s\n"
     ]
    },
    {
     "name": "stderr",
     "output_type": "stream",
     "text": [
      "/home/ebneto/miniconda3/envs/smp/lib/python3.10/site-packages/sklearn/svm/_base.py:299: ConvergenceWarning: Solver terminated early (max_iter=1000).  Consider pre-processing your data with StandardScaler or MinMaxScaler.\n",
      "  warnings.warn(\n",
      "/home/ebneto/miniconda3/envs/smp/lib/python3.10/site-packages/sklearn/svm/_base.py:299: ConvergenceWarning: Solver terminated early (max_iter=1000).  Consider pre-processing your data with StandardScaler or MinMaxScaler.\n",
      "  warnings.warn(\n"
     ]
    },
    {
     "name": "stdout",
     "output_type": "stream",
     "text": [
      "[CV 5/5] END C=1, gamma=0.01, kernel=poly, max_iter=1000;, score=0.493 total time=   2.4s\n"
     ]
    },
    {
     "name": "stderr",
     "output_type": "stream",
     "text": [
      "/home/ebneto/miniconda3/envs/smp/lib/python3.10/site-packages/sklearn/svm/_base.py:299: ConvergenceWarning: Solver terminated early (max_iter=1000).  Consider pre-processing your data with StandardScaler or MinMaxScaler.\n",
      "  warnings.warn(\n"
     ]
    },
    {
     "name": "stdout",
     "output_type": "stream",
     "text": [
      "[CV 2/5] END C=1, gamma=0.01, kernel=poly, max_iter=1000;, score=0.559 total time=   4.7s\n"
     ]
    },
    {
     "name": "stderr",
     "output_type": "stream",
     "text": [
      "/home/ebneto/miniconda3/envs/smp/lib/python3.10/site-packages/sklearn/svm/_base.py:299: ConvergenceWarning: Solver terminated early (max_iter=1000).  Consider pre-processing your data with StandardScaler or MinMaxScaler.\n",
      "  warnings.warn(\n"
     ]
    },
    {
     "name": "stdout",
     "output_type": "stream",
     "text": [
      "[CV 4/5] END C=1, gamma=0.01, kernel=poly, max_iter=1000;, score=0.611 total time=   3.1s\n"
     ]
    },
    {
     "name": "stderr",
     "output_type": "stream",
     "text": [
      "/home/ebneto/miniconda3/envs/smp/lib/python3.10/site-packages/sklearn/svm/_base.py:299: ConvergenceWarning: Solver terminated early (max_iter=1000).  Consider pre-processing your data with StandardScaler or MinMaxScaler.\n",
      "  warnings.warn(\n"
     ]
    },
    {
     "name": "stdout",
     "output_type": "stream",
     "text": [
      "[CV 1/5] END C=1, gamma=0.01, kernel=sigmoid, max_iter=1000;, score=0.500 total time=   3.5s\n",
      "[CV 1/5] END C=1, gamma=0.1, kernel=rbf, max_iter=1000;, score=0.500 total time=  25.0s\n",
      "[CV 3/5] END C=1, gamma=0.01, kernel=sigmoid, max_iter=1000;, score=0.500 total time=   3.3s\n",
      "[CV 5/5] END C=1, gamma=0.01, kernel=sigmoid, max_iter=1000;, score=0.500 total time=   3.2s\n",
      "[CV 4/5] END C=1, gamma=0.01, kernel=rbf, max_iter=1000;, score=0.500 total time=  14.7s\n"
     ]
    },
    {
     "name": "stderr",
     "output_type": "stream",
     "text": [
      "/home/ebneto/miniconda3/envs/smp/lib/python3.10/site-packages/sklearn/svm/_base.py:299: ConvergenceWarning: Solver terminated early (max_iter=1000).  Consider pre-processing your data with StandardScaler or MinMaxScaler.\n",
      "  warnings.warn(\n",
      "/home/ebneto/miniconda3/envs/smp/lib/python3.10/site-packages/sklearn/svm/_base.py:299: ConvergenceWarning: Solver terminated early (max_iter=1000).  Consider pre-processing your data with StandardScaler or MinMaxScaler.\n",
      "  warnings.warn(\n"
     ]
    },
    {
     "name": "stdout",
     "output_type": "stream",
     "text": [
      "[CV 2/5] END C=1, gamma=0.001, kernel=linear, max_iter=1000;, score=0.629 total time=   1.2s\n"
     ]
    },
    {
     "name": "stderr",
     "output_type": "stream",
     "text": [
      "/home/ebneto/miniconda3/envs/smp/lib/python3.10/site-packages/sklearn/svm/_base.py:299: ConvergenceWarning: Solver terminated early (max_iter=1000).  Consider pre-processing your data with StandardScaler or MinMaxScaler.\n",
      "  warnings.warn(\n"
     ]
    },
    {
     "name": "stdout",
     "output_type": "stream",
     "text": [
      "[CV 3/5] END C=1, gamma=0.001, kernel=linear, max_iter=1000;, score=0.343 total time=   1.0s\n"
     ]
    },
    {
     "name": "stderr",
     "output_type": "stream",
     "text": [
      "/home/ebneto/miniconda3/envs/smp/lib/python3.10/site-packages/sklearn/svm/_base.py:299: ConvergenceWarning: Solver terminated early (max_iter=1000).  Consider pre-processing your data with StandardScaler or MinMaxScaler.\n",
      "  warnings.warn(\n",
      "/home/ebneto/miniconda3/envs/smp/lib/python3.10/site-packages/sklearn/svm/_base.py:299: ConvergenceWarning: Solver terminated early (max_iter=1000).  Consider pre-processing your data with StandardScaler or MinMaxScaler.\n",
      "  warnings.warn(\n"
     ]
    },
    {
     "name": "stdout",
     "output_type": "stream",
     "text": [
      "[CV 4/5] END C=1, gamma=0.01, kernel=sigmoid, max_iter=1000;, score=0.500 total time=   6.4s\n",
      "[CV 5/5] END C=1, gamma=0.001, kernel=linear, max_iter=1000;, score=0.708 total time=   0.6s\n"
     ]
    },
    {
     "name": "stderr",
     "output_type": "stream",
     "text": [
      "/home/ebneto/miniconda3/envs/smp/lib/python3.10/site-packages/sklearn/svm/_base.py:299: ConvergenceWarning: Solver terminated early (max_iter=1000).  Consider pre-processing your data with StandardScaler or MinMaxScaler.\n",
      "  warnings.warn(\n"
     ]
    },
    {
     "name": "stdout",
     "output_type": "stream",
     "text": [
      "[CV 1/5] END C=1, gamma=0.001, kernel=poly, max_iter=1000;, score=0.603 total time=   1.0s\n"
     ]
    },
    {
     "name": "stderr",
     "output_type": "stream",
     "text": [
      "/home/ebneto/miniconda3/envs/smp/lib/python3.10/site-packages/sklearn/svm/_base.py:299: ConvergenceWarning: Solver terminated early (max_iter=1000).  Consider pre-processing your data with StandardScaler or MinMaxScaler.\n",
      "  warnings.warn(\n"
     ]
    },
    {
     "name": "stdout",
     "output_type": "stream",
     "text": [
      "[CV 2/5] END C=1, gamma=0.01, kernel=sigmoid, max_iter=1000;, score=0.500 total time=   9.2s\n"
     ]
    },
    {
     "name": "stderr",
     "output_type": "stream",
     "text": [
      "/home/ebneto/miniconda3/envs/smp/lib/python3.10/site-packages/sklearn/svm/_base.py:299: ConvergenceWarning: Solver terminated early (max_iter=1000).  Consider pre-processing your data with StandardScaler or MinMaxScaler.\n",
      "  warnings.warn(\n"
     ]
    },
    {
     "name": "stdout",
     "output_type": "stream",
     "text": [
      "[CV 2/5] END C=1, gamma=0.001, kernel=poly, max_iter=1000;, score=0.819 total time=   1.8s\n"
     ]
    },
    {
     "name": "stderr",
     "output_type": "stream",
     "text": [
      "/home/ebneto/miniconda3/envs/smp/lib/python3.10/site-packages/sklearn/svm/_base.py:299: ConvergenceWarning: Solver terminated early (max_iter=1000).  Consider pre-processing your data with StandardScaler or MinMaxScaler.\n",
      "  warnings.warn(\n"
     ]
    },
    {
     "name": "stdout",
     "output_type": "stream",
     "text": [
      "[CV 4/5] END C=1, gamma=0.001, kernel=poly, max_iter=1000;, score=0.444 total time=   0.9s\n"
     ]
    },
    {
     "name": "stderr",
     "output_type": "stream",
     "text": [
      "/home/ebneto/miniconda3/envs/smp/lib/python3.10/site-packages/sklearn/svm/_base.py:299: ConvergenceWarning: Solver terminated early (max_iter=1000).  Consider pre-processing your data with StandardScaler or MinMaxScaler.\n",
      "  warnings.warn(\n",
      "/home/ebneto/miniconda3/envs/smp/lib/python3.10/site-packages/sklearn/svm/_base.py:299: ConvergenceWarning: Solver terminated early (max_iter=1000).  Consider pre-processing your data with StandardScaler or MinMaxScaler.\n",
      "  warnings.warn(\n",
      "/home/ebneto/miniconda3/envs/smp/lib/python3.10/site-packages/sklearn/svm/_base.py:299: ConvergenceWarning: Solver terminated early (max_iter=1000).  Consider pre-processing your data with StandardScaler or MinMaxScaler.\n",
      "  warnings.warn(\n"
     ]
    },
    {
     "name": "stdout",
     "output_type": "stream",
     "text": [
      "[CV 5/5] END C=1, gamma=0.001, kernel=poly, max_iter=1000;, score=0.618 total time=   0.8s\n",
      "[CV 1/5] END C=1, gamma=0.001, kernel=linear, max_iter=1000;, score=0.433 total time=   5.6s\n",
      "[CV 4/5] END C=1, gamma=0.001, kernel=rbf, max_iter=1000;, score=0.500 total time=   7.9s\n",
      "[CV 4/5] END C=1, gamma=0.001, kernel=linear, max_iter=1000;, score=0.709 total time=   5.2s\n"
     ]
    },
    {
     "name": "stderr",
     "output_type": "stream",
     "text": [
      "/home/ebneto/miniconda3/envs/smp/lib/python3.10/site-packages/sklearn/svm/_base.py:299: ConvergenceWarning: Solver terminated early (max_iter=1000).  Consider pre-processing your data with StandardScaler or MinMaxScaler.\n",
      "  warnings.warn(\n"
     ]
    },
    {
     "name": "stdout",
     "output_type": "stream",
     "text": [
      "[CV 1/5] END C=1, gamma=0.001, kernel=sigmoid, max_iter=1000;, score=0.500 total time=   2.1s\n"
     ]
    },
    {
     "name": "stderr",
     "output_type": "stream",
     "text": [
      "/home/ebneto/miniconda3/envs/smp/lib/python3.10/site-packages/sklearn/svm/_base.py:299: ConvergenceWarning: Solver terminated early (max_iter=1000).  Consider pre-processing your data with StandardScaler or MinMaxScaler.\n",
      "  warnings.warn(\n",
      "/home/ebneto/miniconda3/envs/smp/lib/python3.10/site-packages/sklearn/svm/_base.py:299: ConvergenceWarning: Solver terminated early (max_iter=1000).  Consider pre-processing your data with StandardScaler or MinMaxScaler.\n",
      "  warnings.warn(\n"
     ]
    },
    {
     "name": "stdout",
     "output_type": "stream",
     "text": [
      "[CV 3/5] END C=1, gamma=0.001, kernel=poly, max_iter=1000;, score=0.584 total time=   4.2s\n"
     ]
    },
    {
     "name": "stderr",
     "output_type": "stream",
     "text": [
      "/home/ebneto/miniconda3/envs/smp/lib/python3.10/site-packages/sklearn/svm/_base.py:299: ConvergenceWarning: Solver terminated early (max_iter=1000).  Consider pre-processing your data with StandardScaler or MinMaxScaler.\n",
      "  warnings.warn(\n",
      "/home/ebneto/miniconda3/envs/smp/lib/python3.10/site-packages/sklearn/svm/_base.py:299: ConvergenceWarning: Solver terminated early (max_iter=1000).  Consider pre-processing your data with StandardScaler or MinMaxScaler.\n",
      "  warnings.warn(\n",
      "/home/ebneto/miniconda3/envs/smp/lib/python3.10/site-packages/sklearn/svm/_base.py:299: ConvergenceWarning: Solver terminated early (max_iter=1000).  Consider pre-processing your data with StandardScaler or MinMaxScaler.\n",
      "  warnings.warn(\n",
      "/home/ebneto/miniconda3/envs/smp/lib/python3.10/site-packages/sklearn/svm/_base.py:299: ConvergenceWarning: Solver terminated early (max_iter=1000).  Consider pre-processing your data with StandardScaler or MinMaxScaler.\n",
      "  warnings.warn(\n"
     ]
    },
    {
     "name": "stdout",
     "output_type": "stream",
     "text": [
      "[CV 1/5] END C=1, gamma=0.0001, kernel=linear, max_iter=1000;, score=0.433 total time=   2.0s\n"
     ]
    },
    {
     "name": "stderr",
     "output_type": "stream",
     "text": [
      "/home/ebneto/miniconda3/envs/smp/lib/python3.10/site-packages/sklearn/svm/_base.py:299: ConvergenceWarning: Solver terminated early (max_iter=1000).  Consider pre-processing your data with StandardScaler or MinMaxScaler.\n",
      "  warnings.warn(\n",
      "/home/ebneto/miniconda3/envs/smp/lib/python3.10/site-packages/sklearn/svm/_base.py:299: ConvergenceWarning: Solver terminated early (max_iter=1000).  Consider pre-processing your data with StandardScaler or MinMaxScaler.\n",
      "  warnings.warn(\n",
      "/home/ebneto/miniconda3/envs/smp/lib/python3.10/site-packages/sklearn/svm/_base.py:299: ConvergenceWarning: Solver terminated early (max_iter=1000).  Consider pre-processing your data with StandardScaler or MinMaxScaler.\n",
      "  warnings.warn(\n"
     ]
    },
    {
     "name": "stdout",
     "output_type": "stream",
     "text": [
      "[CV 2/5] END C=1, gamma=0.0001, kernel=linear, max_iter=1000;, score=0.629 total time=   2.3s\n",
      "[CV 3/5] END C=1, gamma=0.0001, kernel=linear, max_iter=1000;, score=0.343 total time=   1.7s\n"
     ]
    },
    {
     "name": "stderr",
     "output_type": "stream",
     "text": [
      "/home/ebneto/miniconda3/envs/smp/lib/python3.10/site-packages/sklearn/svm/_base.py:299: ConvergenceWarning: Solver terminated early (max_iter=1000).  Consider pre-processing your data with StandardScaler or MinMaxScaler.\n",
      "  warnings.warn(\n"
     ]
    },
    {
     "name": "stdout",
     "output_type": "stream",
     "text": [
      "[CV 1/5] END C=0.1, gamma=auto, kernel=rbf, max_iter=1000;, score=0.500 total time= 1.0min\n",
      "[CV 2/5] END C=1, gamma=0.1, kernel=rbf, max_iter=1000;, score=0.500 total time=  39.8s\n"
     ]
    },
    {
     "name": "stderr",
     "output_type": "stream",
     "text": [
      "/home/ebneto/miniconda3/envs/smp/lib/python3.10/site-packages/sklearn/svm/_base.py:299: ConvergenceWarning: Solver terminated early (max_iter=1000).  Consider pre-processing your data with StandardScaler or MinMaxScaler.\n",
      "  warnings.warn(\n"
     ]
    },
    {
     "name": "stdout",
     "output_type": "stream",
     "text": [
      "[CV 4/5] END C=1, gamma=0.0001, kernel=linear, max_iter=1000;, score=0.709 total time=   2.5s\n",
      "[CV 1/5] END C=1, gamma=0.01, kernel=rbf, max_iter=1000;, score=0.500 total time=  30.4s\n",
      "[CV 5/5] END C=1, gamma=0.01, kernel=rbf, max_iter=1000;, score=0.500 total time=  28.8s\n",
      "[CV 4/5] END C=1, gamma=0.001, kernel=sigmoid, max_iter=1000;, score=0.500 total time=   9.1s\n"
     ]
    },
    {
     "name": "stderr",
     "output_type": "stream",
     "text": [
      "/home/ebneto/miniconda3/envs/smp/lib/python3.10/site-packages/sklearn/svm/_base.py:299: ConvergenceWarning: Solver terminated early (max_iter=1000).  Consider pre-processing your data with StandardScaler or MinMaxScaler.\n",
      "  warnings.warn(\n"
     ]
    },
    {
     "name": "stdout",
     "output_type": "stream",
     "text": [
      "[CV 1/5] END C=1, gamma=0.0001, kernel=poly, max_iter=1000;, score=0.498 total time=   1.9s\n"
     ]
    },
    {
     "name": "stderr",
     "output_type": "stream",
     "text": [
      "/home/ebneto/miniconda3/envs/smp/lib/python3.10/site-packages/sklearn/svm/_base.py:299: ConvergenceWarning: Solver terminated early (max_iter=1000).  Consider pre-processing your data with StandardScaler or MinMaxScaler.\n",
      "  warnings.warn(\n"
     ]
    },
    {
     "name": "stdout",
     "output_type": "stream",
     "text": [
      "[CV 2/5] END C=1, gamma=0.0001, kernel=poly, max_iter=1000;, score=0.560 total time=   1.1s\n",
      "[CV 5/5] END C=1, gamma=0.001, kernel=rbf, max_iter=1000;, score=0.500 total time=  17.3s\n"
     ]
    },
    {
     "name": "stderr",
     "output_type": "stream",
     "text": [
      "/home/ebneto/miniconda3/envs/smp/lib/python3.10/site-packages/sklearn/svm/_base.py:299: ConvergenceWarning: Solver terminated early (max_iter=1000).  Consider pre-processing your data with StandardScaler or MinMaxScaler.\n",
      "  warnings.warn(\n",
      "/home/ebneto/miniconda3/envs/smp/lib/python3.10/site-packages/sklearn/svm/_base.py:299: ConvergenceWarning: Solver terminated early (max_iter=1000).  Consider pre-processing your data with StandardScaler or MinMaxScaler.\n",
      "  warnings.warn(\n",
      "/home/ebneto/miniconda3/envs/smp/lib/python3.10/site-packages/sklearn/svm/_base.py:299: ConvergenceWarning: Solver terminated early (max_iter=1000).  Consider pre-processing your data with StandardScaler or MinMaxScaler.\n",
      "  warnings.warn(\n",
      "/home/ebneto/miniconda3/envs/smp/lib/python3.10/site-packages/sklearn/svm/_base.py:299: ConvergenceWarning: Solver terminated early (max_iter=1000).  Consider pre-processing your data with StandardScaler or MinMaxScaler.\n",
      "  warnings.warn(\n",
      "/home/ebneto/miniconda3/envs/smp/lib/python3.10/site-packages/sklearn/svm/_base.py:299: ConvergenceWarning: Solver terminated early (max_iter=1000).  Consider pre-processing your data with StandardScaler or MinMaxScaler.\n",
      "  warnings.warn(\n"
     ]
    },
    {
     "name": "stdout",
     "output_type": "stream",
     "text": [
      "[CV 5/5] END C=1, gamma=0.0001, kernel=linear, max_iter=1000;, score=0.708 total time=   3.9s\n",
      "[CV 3/5] END C=1, gamma=0.0001, kernel=poly, max_iter=1000;, score=0.505 total time=   1.1s\n",
      "[CV 3/5] END C=1, gamma=0.001, kernel=sigmoid, max_iter=1000;, score=0.500 total time=  11.3s\n"
     ]
    },
    {
     "name": "stderr",
     "output_type": "stream",
     "text": [
      "/home/ebneto/miniconda3/envs/smp/lib/python3.10/site-packages/sklearn/svm/_base.py:299: ConvergenceWarning: Solver terminated early (max_iter=1000).  Consider pre-processing your data with StandardScaler or MinMaxScaler.\n",
      "  warnings.warn(\n",
      "/home/ebneto/miniconda3/envs/smp/lib/python3.10/site-packages/sklearn/svm/_base.py:299: ConvergenceWarning: Solver terminated early (max_iter=1000).  Consider pre-processing your data with StandardScaler or MinMaxScaler.\n",
      "  warnings.warn(\n"
     ]
    },
    {
     "name": "stdout",
     "output_type": "stream",
     "text": [
      "[CV 5/5] END C=1, gamma=0.0001, kernel=poly, max_iter=1000;, score=0.618 total time=   1.1s\n",
      "[CV 4/5] END C=1, gamma=0.0001, kernel=poly, max_iter=1000;, score=0.444 total time=   1.6s\n"
     ]
    },
    {
     "name": "stderr",
     "output_type": "stream",
     "text": [
      "/home/ebneto/miniconda3/envs/smp/lib/python3.10/site-packages/sklearn/svm/_base.py:299: ConvergenceWarning: Solver terminated early (max_iter=1000).  Consider pre-processing your data with StandardScaler or MinMaxScaler.\n",
      "  warnings.warn(\n",
      "/home/ebneto/miniconda3/envs/smp/lib/python3.10/site-packages/sklearn/svm/_base.py:299: ConvergenceWarning: Solver terminated early (max_iter=1000).  Consider pre-processing your data with StandardScaler or MinMaxScaler.\n",
      "  warnings.warn(\n"
     ]
    },
    {
     "name": "stdout",
     "output_type": "stream",
     "text": [
      "[CV 2/5] END C=1, gamma=1, kernel=rbf, max_iter=1000;, score=0.500 total time=  54.4s\n",
      "[CV 5/5] END C=1, gamma=0.001, kernel=sigmoid, max_iter=1000;, score=0.500 total time=  13.0s\n",
      "[CV 5/5] END C=1, gamma=0.0001, kernel=rbf, max_iter=1000;, score=0.500 total time=  11.3s\n"
     ]
    },
    {
     "name": "stderr",
     "output_type": "stream",
     "text": [
      "/home/ebneto/miniconda3/envs/smp/lib/python3.10/site-packages/sklearn/svm/_base.py:299: ConvergenceWarning: Solver terminated early (max_iter=1000).  Consider pre-processing your data with StandardScaler or MinMaxScaler.\n",
      "  warnings.warn(\n"
     ]
    },
    {
     "name": "stdout",
     "output_type": "stream",
     "text": [
      "[CV 4/5] END C=1, gamma=0.0001, kernel=rbf, max_iter=1000;, score=0.500 total time=  13.8s\n"
     ]
    },
    {
     "name": "stderr",
     "output_type": "stream",
     "text": [
      "/home/ebneto/miniconda3/envs/smp/lib/python3.10/site-packages/sklearn/svm/_base.py:299: ConvergenceWarning: Solver terminated early (max_iter=1000).  Consider pre-processing your data with StandardScaler or MinMaxScaler.\n",
      "  warnings.warn(\n"
     ]
    },
    {
     "name": "stdout",
     "output_type": "stream",
     "text": [
      "[CV 1/5] END C=1, gamma=scale, kernel=rbf, max_iter=1000;, score=0.691 total time=   4.5s\n",
      "[CV 1/5] END C=1, gamma=scale, kernel=linear, max_iter=1000;, score=0.433 total time=   2.4s\n",
      "[CV 2/5] END C=1, gamma=0.0001, kernel=rbf, max_iter=1000;, score=0.500 total time=  16.6s\n",
      "[CV 2/5] END C=1, gamma=scale, kernel=rbf, max_iter=1000;, score=0.766 total time=   4.3s\n",
      "[CV 3/5] END C=1, gamma=scale, kernel=rbf, max_iter=1000;, score=0.730 total time=   4.5s\n"
     ]
    },
    {
     "name": "stderr",
     "output_type": "stream",
     "text": [
      "/home/ebneto/miniconda3/envs/smp/lib/python3.10/site-packages/sklearn/svm/_base.py:299: ConvergenceWarning: Solver terminated early (max_iter=1000).  Consider pre-processing your data with StandardScaler or MinMaxScaler.\n",
      "  warnings.warn(\n"
     ]
    },
    {
     "name": "stdout",
     "output_type": "stream",
     "text": [
      "[CV 2/5] END C=1, gamma=0.001, kernel=sigmoid, max_iter=1000;, score=0.500 total time=  18.1s\n",
      "[CV 2/5] END C=1, gamma=scale, kernel=linear, max_iter=1000;, score=0.629 total time=   2.0s\n",
      "[CV 1/5] END C=1, gamma=0.001, kernel=rbf, max_iter=1000;, score=0.500 total time=  29.7s\n",
      "[CV 4/5] END C=1, gamma=1, kernel=rbf, max_iter=1000;, score=0.500 total time= 1.0min\n",
      "[CV 5/5] END C=1, gamma=scale, kernel=linear, max_iter=1000;, score=0.708 total time=   1.0s\n"
     ]
    },
    {
     "name": "stderr",
     "output_type": "stream",
     "text": [
      "/home/ebneto/miniconda3/envs/smp/lib/python3.10/site-packages/sklearn/svm/_base.py:299: ConvergenceWarning: Solver terminated early (max_iter=1000).  Consider pre-processing your data with StandardScaler or MinMaxScaler.\n",
      "  warnings.warn(\n"
     ]
    },
    {
     "name": "stdout",
     "output_type": "stream",
     "text": [
      "[CV 1/5] END C=1, gamma=1, kernel=rbf, max_iter=1000;, score=0.500 total time= 1.0min\n"
     ]
    },
    {
     "name": "stderr",
     "output_type": "stream",
     "text": [
      "/home/ebneto/miniconda3/envs/smp/lib/python3.10/site-packages/sklearn/svm/_base.py:299: ConvergenceWarning: Solver terminated early (max_iter=1000).  Consider pre-processing your data with StandardScaler or MinMaxScaler.\n",
      "  warnings.warn(\n"
     ]
    },
    {
     "name": "stdout",
     "output_type": "stream",
     "text": [
      "[CV 1/5] END C=1, gamma=scale, kernel=poly, max_iter=1000;, score=0.527 total time=   2.3s\n"
     ]
    },
    {
     "name": "stderr",
     "output_type": "stream",
     "text": [
      "/home/ebneto/miniconda3/envs/smp/lib/python3.10/site-packages/sklearn/svm/_base.py:299: ConvergenceWarning: Solver terminated early (max_iter=1000).  Consider pre-processing your data with StandardScaler or MinMaxScaler.\n",
      "  warnings.warn(\n"
     ]
    },
    {
     "name": "stdout",
     "output_type": "stream",
     "text": [
      "[CV 2/5] END C=1, gamma=scale, kernel=poly, max_iter=1000;, score=0.497 total time=   1.6s\n"
     ]
    },
    {
     "name": "stderr",
     "output_type": "stream",
     "text": [
      "/home/ebneto/miniconda3/envs/smp/lib/python3.10/site-packages/sklearn/svm/_base.py:299: ConvergenceWarning: Solver terminated early (max_iter=1000).  Consider pre-processing your data with StandardScaler or MinMaxScaler.\n",
      "  warnings.warn(\n"
     ]
    },
    {
     "name": "stdout",
     "output_type": "stream",
     "text": [
      "[CV 4/5] END C=1, gamma=scale, kernel=linear, max_iter=1000;, score=0.709 total time=   3.8s\n"
     ]
    },
    {
     "name": "stderr",
     "output_type": "stream",
     "text": [
      "/home/ebneto/miniconda3/envs/smp/lib/python3.10/site-packages/sklearn/svm/_base.py:299: ConvergenceWarning: Solver terminated early (max_iter=1000).  Consider pre-processing your data with StandardScaler or MinMaxScaler.\n",
      "  warnings.warn(\n"
     ]
    },
    {
     "name": "stdout",
     "output_type": "stream",
     "text": [
      "[CV 3/5] END C=1, gamma=scale, kernel=linear, max_iter=1000;, score=0.343 total time=   4.8s\n",
      "[CV 2/5] END C=1, gamma=0.0001, kernel=sigmoid, max_iter=1000;, score=0.500 total time=  10.6s\n"
     ]
    },
    {
     "name": "stderr",
     "output_type": "stream",
     "text": [
      "/home/ebneto/miniconda3/envs/smp/lib/python3.10/site-packages/sklearn/svm/_base.py:299: ConvergenceWarning: Solver terminated early (max_iter=1000).  Consider pre-processing your data with StandardScaler or MinMaxScaler.\n",
      "  warnings.warn(\n"
     ]
    },
    {
     "name": "stdout",
     "output_type": "stream",
     "text": [
      "[CV 4/5] END C=1, gamma=0.0001, kernel=sigmoid, max_iter=1000;, score=0.500 total time=  10.3s\n",
      "[CV 5/5] END C=1, gamma=scale, kernel=poly, max_iter=1000;, score=0.623 total time=   1.9s\n",
      "[CV 1/5] END C=1, gamma=0.0001, kernel=sigmoid, max_iter=1000;, score=0.500 total time=  11.6s\n",
      "[CV 1/5] END C=1, gamma=scale, kernel=sigmoid, max_iter=1000;, score=0.545 total time=   2.1s\n",
      "[CV 4/5] END C=1, gamma=0.1, kernel=rbf, max_iter=1000;, score=0.500 total time=  54.7s\n"
     ]
    },
    {
     "name": "stderr",
     "output_type": "stream",
     "text": [
      "/home/ebneto/miniconda3/envs/smp/lib/python3.10/site-packages/sklearn/svm/_base.py:299: ConvergenceWarning: Solver terminated early (max_iter=1000).  Consider pre-processing your data with StandardScaler or MinMaxScaler.\n",
      "  warnings.warn(\n"
     ]
    },
    {
     "name": "stdout",
     "output_type": "stream",
     "text": [
      "[CV 3/5] END C=1, gamma=0.0001, kernel=sigmoid, max_iter=1000;, score=0.500 total time=  12.0s\n",
      "[CV 5/5] END C=1, gamma=scale, kernel=rbf, max_iter=1000;, score=0.756 total time=   9.6s\n",
      "[CV 3/5] END C=1, gamma=0.1, kernel=rbf, max_iter=1000;, score=0.500 total time=  57.2s\n",
      "[CV 2/5] END C=1, gamma=scale, kernel=sigmoid, max_iter=1000;, score=0.543 total time=   3.9s\n"
     ]
    },
    {
     "name": "stderr",
     "output_type": "stream",
     "text": [
      "/home/ebneto/miniconda3/envs/smp/lib/python3.10/site-packages/sklearn/svm/_base.py:299: ConvergenceWarning: Solver terminated early (max_iter=1000).  Consider pre-processing your data with StandardScaler or MinMaxScaler.\n",
      "  warnings.warn(\n"
     ]
    },
    {
     "name": "stdout",
     "output_type": "stream",
     "text": [
      "[CV 5/5] END C=1, gamma=scale, kernel=sigmoid, max_iter=1000;, score=0.536 total time=   3.7s\n"
     ]
    },
    {
     "name": "stderr",
     "output_type": "stream",
     "text": [
      "/home/ebneto/miniconda3/envs/smp/lib/python3.10/site-packages/sklearn/svm/_base.py:299: ConvergenceWarning: Solver terminated early (max_iter=1000).  Consider pre-processing your data with StandardScaler or MinMaxScaler.\n",
      "  warnings.warn(\n",
      "/home/ebneto/miniconda3/envs/smp/lib/python3.10/site-packages/sklearn/svm/_base.py:299: ConvergenceWarning: Solver terminated early (max_iter=1000).  Consider pre-processing your data with StandardScaler or MinMaxScaler.\n",
      "  warnings.warn(\n"
     ]
    },
    {
     "name": "stdout",
     "output_type": "stream",
     "text": [
      "[CV 1/5] END C=1, gamma=auto, kernel=linear, max_iter=1000;, score=0.433 total time=   1.7s\n",
      "[CV 4/5] END C=1, gamma=scale, kernel=rbf, max_iter=1000;, score=0.740 total time=  12.4s\n",
      "[CV 5/5] END C=1, gamma=0.1, kernel=rbf, max_iter=1000;, score=0.500 total time=  58.9s\n",
      "[CV 5/5] END C=1, gamma=0.0001, kernel=sigmoid, max_iter=1000;, score=0.500 total time=  15.4s\n",
      "[CV 2/5] END C=1, gamma=auto, kernel=linear, max_iter=1000;, score=0.629 total time=   2.7s\n"
     ]
    },
    {
     "name": "stderr",
     "output_type": "stream",
     "text": [
      "/home/ebneto/miniconda3/envs/smp/lib/python3.10/site-packages/sklearn/svm/_base.py:299: ConvergenceWarning: Solver terminated early (max_iter=1000).  Consider pre-processing your data with StandardScaler or MinMaxScaler.\n",
      "  warnings.warn(\n",
      "/home/ebneto/miniconda3/envs/smp/lib/python3.10/site-packages/sklearn/svm/_base.py:299: ConvergenceWarning: Solver terminated early (max_iter=1000).  Consider pre-processing your data with StandardScaler or MinMaxScaler.\n",
      "  warnings.warn(\n"
     ]
    },
    {
     "name": "stdout",
     "output_type": "stream",
     "text": [
      "[CV 2/5] END C=1, gamma=0.01, kernel=rbf, max_iter=1000;, score=0.500 total time=  50.5s\n"
     ]
    },
    {
     "name": "stderr",
     "output_type": "stream",
     "text": [
      "/home/ebneto/miniconda3/envs/smp/lib/python3.10/site-packages/sklearn/svm/_base.py:299: ConvergenceWarning: Solver terminated early (max_iter=1000).  Consider pre-processing your data with StandardScaler or MinMaxScaler.\n",
      "  warnings.warn(\n",
      "/home/ebneto/miniconda3/envs/smp/lib/python3.10/site-packages/sklearn/svm/_base.py:299: ConvergenceWarning: Solver terminated early (max_iter=1000).  Consider pre-processing your data with StandardScaler or MinMaxScaler.\n",
      "  warnings.warn(\n",
      "/home/ebneto/miniconda3/envs/smp/lib/python3.10/site-packages/sklearn/svm/_base.py:299: ConvergenceWarning: Solver terminated early (max_iter=1000).  Consider pre-processing your data with StandardScaler or MinMaxScaler.\n",
      "  warnings.warn(\n"
     ]
    },
    {
     "name": "stdout",
     "output_type": "stream",
     "text": [
      "[CV 4/5] END C=1, gamma=auto, kernel=linear, max_iter=1000;, score=0.709 total time=   2.2s\n",
      "[CV 5/5] END C=1, gamma=auto, kernel=linear, max_iter=1000;, score=0.708 total time=   2.2s\n",
      "[CV 3/5] END C=1, gamma=auto, kernel=linear, max_iter=1000;, score=0.343 total time=   2.9s\n"
     ]
    },
    {
     "name": "stderr",
     "output_type": "stream",
     "text": [
      "/home/ebneto/miniconda3/envs/smp/lib/python3.10/site-packages/sklearn/svm/_base.py:299: ConvergenceWarning: Solver terminated early (max_iter=1000).  Consider pre-processing your data with StandardScaler or MinMaxScaler.\n",
      "  warnings.warn(\n"
     ]
    },
    {
     "name": "stdout",
     "output_type": "stream",
     "text": [
      "[CV 3/5] END C=1, gamma=scale, kernel=poly, max_iter=1000;, score=0.579 total time=   8.4s\n"
     ]
    },
    {
     "name": "stderr",
     "output_type": "stream",
     "text": [
      "/home/ebneto/miniconda3/envs/smp/lib/python3.10/site-packages/sklearn/svm/_base.py:299: ConvergenceWarning: Solver terminated early (max_iter=1000).  Consider pre-processing your data with StandardScaler or MinMaxScaler.\n",
      "  warnings.warn(\n"
     ]
    },
    {
     "name": "stdout",
     "output_type": "stream",
     "text": [
      "[CV 1/5] END C=1, gamma=auto, kernel=poly, max_iter=1000;, score=0.701 total time=   2.3s\n",
      "[CV 3/5] END C=1, gamma=0.01, kernel=rbf, max_iter=1000;, score=0.500 total time=  51.6s\n"
     ]
    },
    {
     "name": "stderr",
     "output_type": "stream",
     "text": [
      "/home/ebneto/miniconda3/envs/smp/lib/python3.10/site-packages/sklearn/svm/_base.py:299: ConvergenceWarning: Solver terminated early (max_iter=1000).  Consider pre-processing your data with StandardScaler or MinMaxScaler.\n",
      "  warnings.warn(\n",
      "/home/ebneto/miniconda3/envs/smp/lib/python3.10/site-packages/sklearn/svm/_base.py:299: ConvergenceWarning: Solver terminated early (max_iter=1000).  Consider pre-processing your data with StandardScaler or MinMaxScaler.\n",
      "  warnings.warn(\n"
     ]
    },
    {
     "name": "stdout",
     "output_type": "stream",
     "text": [
      "[CV 3/5] END C=1, gamma=auto, kernel=poly, max_iter=1000;, score=0.510 total time=   1.6s\n",
      "[CV 4/5] END C=1, gamma=scale, kernel=poly, max_iter=1000;, score=0.499 total time=   9.8s\n"
     ]
    },
    {
     "name": "stderr",
     "output_type": "stream",
     "text": [
      "/home/ebneto/miniconda3/envs/smp/lib/python3.10/site-packages/sklearn/svm/_base.py:299: ConvergenceWarning: Solver terminated early (max_iter=1000).  Consider pre-processing your data with StandardScaler or MinMaxScaler.\n",
      "  warnings.warn(\n"
     ]
    },
    {
     "name": "stdout",
     "output_type": "stream",
     "text": [
      "[CV 2/5] END C=1, gamma=auto, kernel=poly, max_iter=1000;, score=0.819 total time=   1.9s\n"
     ]
    },
    {
     "name": "stderr",
     "output_type": "stream",
     "text": [
      "/home/ebneto/miniconda3/envs/smp/lib/python3.10/site-packages/sklearn/svm/_base.py:299: ConvergenceWarning: Solver terminated early (max_iter=1000).  Consider pre-processing your data with StandardScaler or MinMaxScaler.\n",
      "  warnings.warn(\n",
      "/home/ebneto/miniconda3/envs/smp/lib/python3.10/site-packages/sklearn/svm/_base.py:299: ConvergenceWarning: Solver terminated early (max_iter=1000).  Consider pre-processing your data with StandardScaler or MinMaxScaler.\n",
      "  warnings.warn(\n"
     ]
    },
    {
     "name": "stdout",
     "output_type": "stream",
     "text": [
      "[CV 3/5] END C=1, gamma=scale, kernel=sigmoid, max_iter=1000;, score=0.553 total time=   8.9s\n",
      "[CV 4/5] END C=1, gamma=auto, kernel=poly, max_iter=1000;, score=0.444 total time=   2.0s\n",
      "[CV 5/5] END C=1, gamma=auto, kernel=poly, max_iter=1000;, score=0.457 total time=   1.5s\n",
      "[CV 4/5] END C=1, gamma=scale, kernel=sigmoid, max_iter=1000;, score=0.513 total time=   9.0s\n"
     ]
    },
    {
     "name": "stderr",
     "output_type": "stream",
     "text": [
      "/home/ebneto/miniconda3/envs/smp/lib/python3.10/site-packages/sklearn/svm/_base.py:299: ConvergenceWarning: Solver terminated early (max_iter=1000).  Consider pre-processing your data with StandardScaler or MinMaxScaler.\n",
      "  warnings.warn(\n",
      "/home/ebneto/miniconda3/envs/smp/lib/python3.10/site-packages/sklearn/svm/_base.py:299: ConvergenceWarning: Solver terminated early (max_iter=1000).  Consider pre-processing your data with StandardScaler or MinMaxScaler.\n",
      "  warnings.warn(\n",
      "/home/ebneto/miniconda3/envs/smp/lib/python3.10/site-packages/sklearn/svm/_base.py:299: ConvergenceWarning: Solver terminated early (max_iter=1000).  Consider pre-processing your data with StandardScaler or MinMaxScaler.\n",
      "  warnings.warn(\n"
     ]
    },
    {
     "name": "stdout",
     "output_type": "stream",
     "text": [
      "[CV 3/5] END C=1, gamma=0.0001, kernel=rbf, max_iter=1000;, score=0.500 total time=  34.5s\n"
     ]
    },
    {
     "name": "stderr",
     "output_type": "stream",
     "text": [
      "/home/ebneto/miniconda3/envs/smp/lib/python3.10/site-packages/sklearn/svm/_base.py:299: ConvergenceWarning: Solver terminated early (max_iter=1000).  Consider pre-processing your data with StandardScaler or MinMaxScaler.\n",
      "  warnings.warn(\n",
      "/home/ebneto/miniconda3/envs/smp/lib/python3.10/site-packages/sklearn/svm/_base.py:299: ConvergenceWarning: Solver terminated early (max_iter=1000).  Consider pre-processing your data with StandardScaler or MinMaxScaler.\n",
      "  warnings.warn(\n"
     ]
    },
    {
     "name": "stdout",
     "output_type": "stream",
     "text": [
      "[CV 2/5] END C=10, gamma=1, kernel=linear, max_iter=1000;, score=0.629 total time=   1.8s\n",
      "[CV 1/5] END C=1, gamma=auto, kernel=sigmoid, max_iter=1000;, score=0.500 total time=   6.8s\n",
      "[CV 3/5] END C=1, gamma=0.001, kernel=rbf, max_iter=1000;, score=0.500 total time=  45.5s\n",
      "[CV 3/5] END C=1, gamma=auto, kernel=sigmoid, max_iter=1000;, score=0.500 total time=   6.7s\n",
      "[CV 2/5] END C=1, gamma=auto, kernel=sigmoid, max_iter=1000;, score=0.500 total time=   6.9s\n",
      "[CV 3/5] END C=10, gamma=1, kernel=linear, max_iter=1000;, score=0.343 total time=   2.2s\n"
     ]
    },
    {
     "name": "stderr",
     "output_type": "stream",
     "text": [
      "/home/ebneto/miniconda3/envs/smp/lib/python3.10/site-packages/sklearn/svm/_base.py:299: ConvergenceWarning: Solver terminated early (max_iter=1000).  Consider pre-processing your data with StandardScaler or MinMaxScaler.\n",
      "  warnings.warn(\n",
      "/home/ebneto/miniconda3/envs/smp/lib/python3.10/site-packages/sklearn/svm/_base.py:299: ConvergenceWarning: Solver terminated early (max_iter=1000).  Consider pre-processing your data with StandardScaler or MinMaxScaler.\n",
      "  warnings.warn(\n"
     ]
    },
    {
     "name": "stdout",
     "output_type": "stream",
     "text": [
      "[CV 4/5] END C=1, gamma=auto, kernel=sigmoid, max_iter=1000;, score=0.500 total time=   7.0s\n"
     ]
    },
    {
     "name": "stderr",
     "output_type": "stream",
     "text": [
      "/home/ebneto/miniconda3/envs/smp/lib/python3.10/site-packages/sklearn/svm/_base.py:299: ConvergenceWarning: Solver terminated early (max_iter=1000).  Consider pre-processing your data with StandardScaler or MinMaxScaler.\n",
      "  warnings.warn(\n",
      "/home/ebneto/miniconda3/envs/smp/lib/python3.10/site-packages/sklearn/svm/_base.py:299: ConvergenceWarning: Solver terminated early (max_iter=1000).  Consider pre-processing your data with StandardScaler or MinMaxScaler.\n",
      "  warnings.warn(\n"
     ]
    },
    {
     "name": "stdout",
     "output_type": "stream",
     "text": [
      "[CV 5/5] END C=10, gamma=1, kernel=linear, max_iter=1000;, score=0.708 total time=   2.1s\n",
      "[CV 1/5] END C=10, gamma=1, kernel=linear, max_iter=1000;, score=0.433 total time=   3.8s\n",
      "[CV 5/5] END C=1, gamma=auto, kernel=sigmoid, max_iter=1000;, score=0.500 total time=   7.1s\n",
      "[CV 4/5] END C=10, gamma=1, kernel=linear, max_iter=1000;, score=0.709 total time=   2.7s\n"
     ]
    },
    {
     "name": "stderr",
     "output_type": "stream",
     "text": [
      "/home/ebneto/miniconda3/envs/smp/lib/python3.10/site-packages/sklearn/svm/_base.py:299: ConvergenceWarning: Solver terminated early (max_iter=1000).  Consider pre-processing your data with StandardScaler or MinMaxScaler.\n",
      "  warnings.warn(\n"
     ]
    },
    {
     "name": "stdout",
     "output_type": "stream",
     "text": [
      "[CV 2/5] END C=1, gamma=0.001, kernel=rbf, max_iter=1000;, score=0.500 total time=  48.5s\n"
     ]
    },
    {
     "name": "stderr",
     "output_type": "stream",
     "text": [
      "/home/ebneto/miniconda3/envs/smp/lib/python3.10/site-packages/sklearn/svm/_base.py:299: ConvergenceWarning: Solver terminated early (max_iter=1000).  Consider pre-processing your data with StandardScaler or MinMaxScaler.\n",
      "  warnings.warn(\n",
      "/home/ebneto/miniconda3/envs/smp/lib/python3.10/site-packages/sklearn/svm/_base.py:299: ConvergenceWarning: Solver terminated early (max_iter=1000).  Consider pre-processing your data with StandardScaler or MinMaxScaler.\n",
      "  warnings.warn(\n"
     ]
    },
    {
     "name": "stdout",
     "output_type": "stream",
     "text": [
      "[CV 1/5] END C=10, gamma=1, kernel=poly, max_iter=1000;, score=0.603 total time=   2.2s\n",
      "[CV 2/5] END C=10, gamma=1, kernel=poly, max_iter=1000;, score=0.491 total time=   2.0s\n",
      "[CV 1/5] END C=1, gamma=0.0001, kernel=rbf, max_iter=1000;, score=0.500 total time=  39.7s\n",
      "[CV 4/5] END C=10, gamma=1, kernel=poly, max_iter=1000;, score=0.682 total time=   1.7s\n",
      "[CV 3/5] END C=10, gamma=1, kernel=poly, max_iter=1000;, score=0.505 total time=   2.2s\n"
     ]
    },
    {
     "name": "stderr",
     "output_type": "stream",
     "text": [
      "/home/ebneto/miniconda3/envs/smp/lib/python3.10/site-packages/sklearn/svm/_base.py:299: ConvergenceWarning: Solver terminated early (max_iter=1000).  Consider pre-processing your data with StandardScaler or MinMaxScaler.\n",
      "  warnings.warn(\n",
      "/home/ebneto/miniconda3/envs/smp/lib/python3.10/site-packages/sklearn/svm/_base.py:299: ConvergenceWarning: Solver terminated early (max_iter=1000).  Consider pre-processing your data with StandardScaler or MinMaxScaler.\n",
      "  warnings.warn(\n",
      "/home/ebneto/miniconda3/envs/smp/lib/python3.10/site-packages/sklearn/svm/_base.py:299: ConvergenceWarning: Solver terminated early (max_iter=1000).  Consider pre-processing your data with StandardScaler or MinMaxScaler.\n",
      "  warnings.warn(\n"
     ]
    },
    {
     "name": "stdout",
     "output_type": "stream",
     "text": [
      "[CV 5/5] END C=10, gamma=1, kernel=poly, max_iter=1000;, score=0.602 total time=   2.0s\n",
      "[CV 1/5] END C=10, gamma=1, kernel=sigmoid, max_iter=1000;, score=0.500 total time=   3.9s\n",
      "[CV 1/5] END C=1, gamma=auto, kernel=rbf, max_iter=1000;, score=0.500 total time=  21.7s\n",
      "[CV 2/5] END C=10, gamma=1, kernel=sigmoid, max_iter=1000;, score=0.500 total time=   4.4s\n"
     ]
    },
    {
     "name": "stderr",
     "output_type": "stream",
     "text": [
      "/home/ebneto/miniconda3/envs/smp/lib/python3.10/site-packages/sklearn/svm/_base.py:299: ConvergenceWarning: Solver terminated early (max_iter=1000).  Consider pre-processing your data with StandardScaler or MinMaxScaler.\n",
      "  warnings.warn(\n",
      "/home/ebneto/miniconda3/envs/smp/lib/python3.10/site-packages/sklearn/svm/_base.py:299: ConvergenceWarning: Solver terminated early (max_iter=1000).  Consider pre-processing your data with StandardScaler or MinMaxScaler.\n",
      "  warnings.warn(\n",
      "/home/ebneto/miniconda3/envs/smp/lib/python3.10/site-packages/sklearn/svm/_base.py:299: ConvergenceWarning: Solver terminated early (max_iter=1000).  Consider pre-processing your data with StandardScaler or MinMaxScaler.\n",
      "  warnings.warn(\n"
     ]
    },
    {
     "name": "stdout",
     "output_type": "stream",
     "text": [
      "[CV 3/5] END C=1, gamma=auto, kernel=rbf, max_iter=1000;, score=0.500 total time=  23.6s\n",
      "[CV 1/5] END C=10, gamma=0.1, kernel=linear, max_iter=1000;, score=0.433 total time=   1.8s\n"
     ]
    },
    {
     "name": "stderr",
     "output_type": "stream",
     "text": [
      "/home/ebneto/miniconda3/envs/smp/lib/python3.10/site-packages/sklearn/svm/_base.py:299: ConvergenceWarning: Solver terminated early (max_iter=1000).  Consider pre-processing your data with StandardScaler or MinMaxScaler.\n",
      "  warnings.warn(\n"
     ]
    },
    {
     "name": "stdout",
     "output_type": "stream",
     "text": [
      "[CV 2/5] END C=1, gamma=auto, kernel=rbf, max_iter=1000;, score=0.500 total time=  24.4s\n",
      "[CV 5/5] END C=1, gamma=auto, kernel=rbf, max_iter=1000;, score=0.500 total time=  23.7s\n"
     ]
    },
    {
     "name": "stderr",
     "output_type": "stream",
     "text": [
      "/home/ebneto/miniconda3/envs/smp/lib/python3.10/site-packages/sklearn/svm/_base.py:299: ConvergenceWarning: Solver terminated early (max_iter=1000).  Consider pre-processing your data with StandardScaler or MinMaxScaler.\n",
      "  warnings.warn(\n",
      "/home/ebneto/miniconda3/envs/smp/lib/python3.10/site-packages/sklearn/svm/_base.py:299: ConvergenceWarning: Solver terminated early (max_iter=1000).  Consider pre-processing your data with StandardScaler or MinMaxScaler.\n",
      "  warnings.warn(\n"
     ]
    },
    {
     "name": "stdout",
     "output_type": "stream",
     "text": [
      "[CV 2/5] END C=10, gamma=0.1, kernel=linear, max_iter=1000;, score=0.629 total time=   2.2s\n",
      "[CV 3/5] END C=10, gamma=1, kernel=sigmoid, max_iter=1000;, score=0.500 total time=   7.4s\n",
      "[CV 3/5] END C=10, gamma=0.1, kernel=linear, max_iter=1000;, score=0.343 total time=   2.4s\n",
      "[CV 4/5] END C=10, gamma=1, kernel=sigmoid, max_iter=1000;, score=0.500 total time=   7.3s\n"
     ]
    },
    {
     "name": "stderr",
     "output_type": "stream",
     "text": [
      "/home/ebneto/miniconda3/envs/smp/lib/python3.10/site-packages/sklearn/svm/_base.py:299: ConvergenceWarning: Solver terminated early (max_iter=1000).  Consider pre-processing your data with StandardScaler or MinMaxScaler.\n",
      "  warnings.warn(\n",
      "/home/ebneto/miniconda3/envs/smp/lib/python3.10/site-packages/sklearn/svm/_base.py:299: ConvergenceWarning: Solver terminated early (max_iter=1000).  Consider pre-processing your data with StandardScaler or MinMaxScaler.\n",
      "  warnings.warn(\n"
     ]
    },
    {
     "name": "stdout",
     "output_type": "stream",
     "text": [
      "[CV 4/5] END C=10, gamma=0.1, kernel=linear, max_iter=1000;, score=0.709 total time=   2.1s\n"
     ]
    },
    {
     "name": "stderr",
     "output_type": "stream",
     "text": [
      "/home/ebneto/miniconda3/envs/smp/lib/python3.10/site-packages/sklearn/svm/_base.py:299: ConvergenceWarning: Solver terminated early (max_iter=1000).  Consider pre-processing your data with StandardScaler or MinMaxScaler.\n",
      "  warnings.warn(\n"
     ]
    },
    {
     "name": "stdout",
     "output_type": "stream",
     "text": [
      "[CV 1/5] END C=10, gamma=0.1, kernel=poly, max_iter=1000;, score=0.701 total time=   1.6s\n",
      "[CV 4/5] END C=1, gamma=auto, kernel=rbf, max_iter=1000;, score=0.500 total time=  25.7s\n"
     ]
    },
    {
     "name": "stderr",
     "output_type": "stream",
     "text": [
      "/home/ebneto/miniconda3/envs/smp/lib/python3.10/site-packages/sklearn/svm/_base.py:299: ConvergenceWarning: Solver terminated early (max_iter=1000).  Consider pre-processing your data with StandardScaler or MinMaxScaler.\n",
      "  warnings.warn(\n",
      "/home/ebneto/miniconda3/envs/smp/lib/python3.10/site-packages/sklearn/svm/_base.py:299: ConvergenceWarning: Solver terminated early (max_iter=1000).  Consider pre-processing your data with StandardScaler or MinMaxScaler.\n",
      "  warnings.warn(\n"
     ]
    },
    {
     "name": "stdout",
     "output_type": "stream",
     "text": [
      "[CV 5/5] END C=10, gamma=1, kernel=sigmoid, max_iter=1000;, score=0.500 total time=   7.8s\n",
      "[CV 3/5] END C=10, gamma=0.1, kernel=poly, max_iter=1000;, score=0.510 total time=   0.9s\n",
      "[CV 5/5] END C=10, gamma=0.1, kernel=linear, max_iter=1000;, score=0.708 total time=   2.5s\n"
     ]
    },
    {
     "name": "stderr",
     "output_type": "stream",
     "text": [
      "/home/ebneto/miniconda3/envs/smp/lib/python3.10/site-packages/sklearn/svm/_base.py:299: ConvergenceWarning: Solver terminated early (max_iter=1000).  Consider pre-processing your data with StandardScaler or MinMaxScaler.\n",
      "  warnings.warn(\n",
      "/home/ebneto/miniconda3/envs/smp/lib/python3.10/site-packages/sklearn/svm/_base.py:299: ConvergenceWarning: Solver terminated early (max_iter=1000).  Consider pre-processing your data with StandardScaler or MinMaxScaler.\n",
      "  warnings.warn(\n",
      "/home/ebneto/miniconda3/envs/smp/lib/python3.10/site-packages/sklearn/svm/_base.py:299: ConvergenceWarning: Solver terminated early (max_iter=1000).  Consider pre-processing your data with StandardScaler or MinMaxScaler.\n",
      "  warnings.warn(\n"
     ]
    },
    {
     "name": "stdout",
     "output_type": "stream",
     "text": [
      "[CV 2/5] END C=10, gamma=0.1, kernel=poly, max_iter=1000;, score=0.627 total time=   2.0s\n",
      "[CV 5/5] END C=10, gamma=0.1, kernel=poly, max_iter=1000;, score=0.618 total time=   0.7s\n"
     ]
    },
    {
     "name": "stderr",
     "output_type": "stream",
     "text": [
      "/home/ebneto/miniconda3/envs/smp/lib/python3.10/site-packages/sklearn/svm/_base.py:299: ConvergenceWarning: Solver terminated early (max_iter=1000).  Consider pre-processing your data with StandardScaler or MinMaxScaler.\n",
      "  warnings.warn(\n",
      "/home/ebneto/miniconda3/envs/smp/lib/python3.10/site-packages/sklearn/svm/_base.py:299: ConvergenceWarning: Solver terminated early (max_iter=1000).  Consider pre-processing your data with StandardScaler or MinMaxScaler.\n",
      "  warnings.warn(\n"
     ]
    },
    {
     "name": "stdout",
     "output_type": "stream",
     "text": [
      "[CV 4/5] END C=10, gamma=0.1, kernel=poly, max_iter=1000;, score=0.611 total time=   2.7s\n",
      "[CV 1/5] END C=10, gamma=1, kernel=rbf, max_iter=1000;, score=0.500 total time=  23.4s\n"
     ]
    },
    {
     "name": "stderr",
     "output_type": "stream",
     "text": [
      "/home/ebneto/miniconda3/envs/smp/lib/python3.10/site-packages/sklearn/svm/_base.py:299: ConvergenceWarning: Solver terminated early (max_iter=1000).  Consider pre-processing your data with StandardScaler or MinMaxScaler.\n",
      "  warnings.warn(\n"
     ]
    },
    {
     "name": "stdout",
     "output_type": "stream",
     "text": [
      "[CV 2/5] END C=10, gamma=0.01, kernel=linear, max_iter=1000;, score=0.629 total time=   1.8s\n",
      "[CV 5/5] END C=10, gamma=0.1, kernel=rbf, max_iter=1000;, score=0.500 total time=  11.9s\n"
     ]
    },
    {
     "name": "stderr",
     "output_type": "stream",
     "text": [
      "/home/ebneto/miniconda3/envs/smp/lib/python3.10/site-packages/sklearn/svm/_base.py:299: ConvergenceWarning: Solver terminated early (max_iter=1000).  Consider pre-processing your data with StandardScaler or MinMaxScaler.\n",
      "  warnings.warn(\n",
      "/home/ebneto/miniconda3/envs/smp/lib/python3.10/site-packages/sklearn/svm/_base.py:299: ConvergenceWarning: Solver terminated early (max_iter=1000).  Consider pre-processing your data with StandardScaler or MinMaxScaler.\n",
      "  warnings.warn(\n"
     ]
    },
    {
     "name": "stdout",
     "output_type": "stream",
     "text": [
      "[CV 4/5] END C=10, gamma=0.01, kernel=linear, max_iter=1000;, score=0.709 total time=   1.0s\n"
     ]
    },
    {
     "name": "stderr",
     "output_type": "stream",
     "text": [
      "/home/ebneto/miniconda3/envs/smp/lib/python3.10/site-packages/sklearn/svm/_base.py:299: ConvergenceWarning: Solver terminated early (max_iter=1000).  Consider pre-processing your data with StandardScaler or MinMaxScaler.\n",
      "  warnings.warn(\n"
     ]
    },
    {
     "name": "stdout",
     "output_type": "stream",
     "text": [
      "[CV 1/5] END C=10, gamma=0.01, kernel=poly, max_iter=1000;, score=0.701 total time=   1.1s\n"
     ]
    },
    {
     "name": "stderr",
     "output_type": "stream",
     "text": [
      "/home/ebneto/miniconda3/envs/smp/lib/python3.10/site-packages/sklearn/svm/_base.py:299: ConvergenceWarning: Solver terminated early (max_iter=1000).  Consider pre-processing your data with StandardScaler or MinMaxScaler.\n",
      "  warnings.warn(\n"
     ]
    },
    {
     "name": "stdout",
     "output_type": "stream",
     "text": [
      "[CV 2/5] END C=10, gamma=0.01, kernel=poly, max_iter=1000;, score=0.559 total time=   1.1s\n"
     ]
    },
    {
     "name": "stderr",
     "output_type": "stream",
     "text": [
      "/home/ebneto/miniconda3/envs/smp/lib/python3.10/site-packages/sklearn/svm/_base.py:299: ConvergenceWarning: Solver terminated early (max_iter=1000).  Consider pre-processing your data with StandardScaler or MinMaxScaler.\n",
      "  warnings.warn(\n",
      "/home/ebneto/miniconda3/envs/smp/lib/python3.10/site-packages/sklearn/svm/_base.py:299: ConvergenceWarning: Solver terminated early (max_iter=1000).  Consider pre-processing your data with StandardScaler or MinMaxScaler.\n",
      "  warnings.warn(\n"
     ]
    },
    {
     "name": "stdout",
     "output_type": "stream",
     "text": [
      "[CV 3/5] END C=10, gamma=0.01, kernel=linear, max_iter=1000;, score=0.343 total time=   3.8s\n",
      "[CV 1/5] END C=10, gamma=0.01, kernel=linear, max_iter=1000;, score=0.433 total time=   4.5s\n",
      "[CV 5/5] END C=10, gamma=0.1, kernel=sigmoid, max_iter=1000;, score=0.500 total time=   7.5s\n"
     ]
    },
    {
     "name": "stderr",
     "output_type": "stream",
     "text": [
      "/home/ebneto/miniconda3/envs/smp/lib/python3.10/site-packages/sklearn/svm/_base.py:299: ConvergenceWarning: Solver terminated early (max_iter=1000).  Consider pre-processing your data with StandardScaler or MinMaxScaler.\n",
      "  warnings.warn(\n"
     ]
    },
    {
     "name": "stdout",
     "output_type": "stream",
     "text": [
      "[CV 5/5] END C=10, gamma=0.01, kernel=poly, max_iter=1000;, score=0.493 total time=   0.8s\n"
     ]
    },
    {
     "name": "stderr",
     "output_type": "stream",
     "text": [
      "/home/ebneto/miniconda3/envs/smp/lib/python3.10/site-packages/sklearn/svm/_base.py:299: ConvergenceWarning: Solver terminated early (max_iter=1000).  Consider pre-processing your data with StandardScaler or MinMaxScaler.\n",
      "  warnings.warn(\n"
     ]
    },
    {
     "name": "stdout",
     "output_type": "stream",
     "text": [
      "[CV 4/5] END C=10, gamma=0.01, kernel=poly, max_iter=1000;, score=0.611 total time=   1.5s\n"
     ]
    },
    {
     "name": "stderr",
     "output_type": "stream",
     "text": [
      "/home/ebneto/miniconda3/envs/smp/lib/python3.10/site-packages/sklearn/svm/_base.py:299: ConvergenceWarning: Solver terminated early (max_iter=1000).  Consider pre-processing your data with StandardScaler or MinMaxScaler.\n",
      "  warnings.warn(\n"
     ]
    },
    {
     "name": "stdout",
     "output_type": "stream",
     "text": [
      "[CV 5/5] END C=10, gamma=0.01, kernel=linear, max_iter=1000;, score=0.708 total time=   4.4s\n"
     ]
    },
    {
     "name": "stderr",
     "output_type": "stream",
     "text": [
      "/home/ebneto/miniconda3/envs/smp/lib/python3.10/site-packages/sklearn/svm/_base.py:299: ConvergenceWarning: Solver terminated early (max_iter=1000).  Consider pre-processing your data with StandardScaler or MinMaxScaler.\n",
      "  warnings.warn(\n",
      "/home/ebneto/miniconda3/envs/smp/lib/python3.10/site-packages/sklearn/svm/_base.py:299: ConvergenceWarning: Solver terminated early (max_iter=1000).  Consider pre-processing your data with StandardScaler or MinMaxScaler.\n",
      "  warnings.warn(\n"
     ]
    },
    {
     "name": "stdout",
     "output_type": "stream",
     "text": [
      "[CV 3/5] END C=10, gamma=0.01, kernel=poly, max_iter=1000;, score=0.505 total time=   3.1s\n",
      "[CV 1/5] END C=10, gamma=0.1, kernel=sigmoid, max_iter=1000;, score=0.500 total time=  11.9s\n",
      "[CV 3/5] END C=10, gamma=1, kernel=rbf, max_iter=1000;, score=0.500 total time=  29.5s\n",
      "[CV 1/5] END C=10, gamma=0.01, kernel=rbf, max_iter=1000;, score=0.500 total time=  10.8s\n",
      "[CV 3/5] END C=10, gamma=0.1, kernel=sigmoid, max_iter=1000;, score=0.500 total time=  11.9s\n",
      "[CV 2/5] END C=10, gamma=0.1, kernel=sigmoid, max_iter=1000;, score=0.500 total time=  12.2s\n"
     ]
    },
    {
     "name": "stderr",
     "output_type": "stream",
     "text": [
      "/home/ebneto/miniconda3/envs/smp/lib/python3.10/site-packages/sklearn/svm/_base.py:299: ConvergenceWarning: Solver terminated early (max_iter=1000).  Consider pre-processing your data with StandardScaler or MinMaxScaler.\n",
      "  warnings.warn(\n",
      "/home/ebneto/miniconda3/envs/smp/lib/python3.10/site-packages/sklearn/svm/_base.py:299: ConvergenceWarning: Solver terminated early (max_iter=1000).  Consider pre-processing your data with StandardScaler or MinMaxScaler.\n",
      "  warnings.warn(\n"
     ]
    },
    {
     "name": "stdout",
     "output_type": "stream",
     "text": [
      "[CV 4/5] END C=10, gamma=0.1, kernel=sigmoid, max_iter=1000;, score=0.500 total time=  13.5s\n",
      "[CV 3/5] END C=10, gamma=0.01, kernel=sigmoid, max_iter=1000;, score=0.500 total time=   3.9s\n",
      "[CV 5/5] END C=10, gamma=1, kernel=rbf, max_iter=1000;, score=0.500 total time=  31.0s\n",
      "[CV 2/5] END C=10, gamma=0.01, kernel=sigmoid, max_iter=1000;, score=0.500 total time=   4.8s\n"
     ]
    },
    {
     "name": "stderr",
     "output_type": "stream",
     "text": [
      "/home/ebneto/miniconda3/envs/smp/lib/python3.10/site-packages/sklearn/svm/_base.py:299: ConvergenceWarning: Solver terminated early (max_iter=1000).  Consider pre-processing your data with StandardScaler or MinMaxScaler.\n",
      "  warnings.warn(\n"
     ]
    },
    {
     "name": "stdout",
     "output_type": "stream",
     "text": [
      "[CV 4/5] END C=10, gamma=1, kernel=rbf, max_iter=1000;, score=0.500 total time=  32.2s\n",
      "[CV 4/5] END C=10, gamma=0.01, kernel=sigmoid, max_iter=1000;, score=0.500 total time=   4.1s\n",
      "[CV 5/5] END C=10, gamma=0.01, kernel=sigmoid, max_iter=1000;, score=0.500 total time=   4.4s\n",
      "[CV 1/5] END C=10, gamma=0.001, kernel=linear, max_iter=1000;, score=0.433 total time=   1.7s\n"
     ]
    },
    {
     "name": "stderr",
     "output_type": "stream",
     "text": [
      "/home/ebneto/miniconda3/envs/smp/lib/python3.10/site-packages/sklearn/svm/_base.py:299: ConvergenceWarning: Solver terminated early (max_iter=1000).  Consider pre-processing your data with StandardScaler or MinMaxScaler.\n",
      "  warnings.warn(\n",
      "/home/ebneto/miniconda3/envs/smp/lib/python3.10/site-packages/sklearn/svm/_base.py:299: ConvergenceWarning: Solver terminated early (max_iter=1000).  Consider pre-processing your data with StandardScaler or MinMaxScaler.\n",
      "  warnings.warn(\n",
      "/home/ebneto/miniconda3/envs/smp/lib/python3.10/site-packages/sklearn/svm/_base.py:299: ConvergenceWarning: Solver terminated early (max_iter=1000).  Consider pre-processing your data with StandardScaler or MinMaxScaler.\n",
      "  warnings.warn(\n"
     ]
    },
    {
     "name": "stdout",
     "output_type": "stream",
     "text": [
      "[CV 2/5] END C=10, gamma=0.001, kernel=linear, max_iter=1000;, score=0.629 total time=   1.6s\n",
      "[CV 2/5] END C=10, gamma=1, kernel=rbf, max_iter=1000;, score=0.500 total time=  35.1s\n",
      "[CV 3/5] END C=10, gamma=0.001, kernel=linear, max_iter=1000;, score=0.343 total time=   1.8s\n"
     ]
    },
    {
     "name": "stderr",
     "output_type": "stream",
     "text": [
      "/home/ebneto/miniconda3/envs/smp/lib/python3.10/site-packages/sklearn/svm/_base.py:299: ConvergenceWarning: Solver terminated early (max_iter=1000).  Consider pre-processing your data with StandardScaler or MinMaxScaler.\n",
      "  warnings.warn(\n",
      "/home/ebneto/miniconda3/envs/smp/lib/python3.10/site-packages/sklearn/svm/_base.py:299: ConvergenceWarning: Solver terminated early (max_iter=1000).  Consider pre-processing your data with StandardScaler or MinMaxScaler.\n",
      "  warnings.warn(\n"
     ]
    },
    {
     "name": "stdout",
     "output_type": "stream",
     "text": [
      "[CV 4/5] END C=10, gamma=0.001, kernel=linear, max_iter=1000;, score=0.709 total time=   1.8s\n"
     ]
    },
    {
     "name": "stderr",
     "output_type": "stream",
     "text": [
      "/home/ebneto/miniconda3/envs/smp/lib/python3.10/site-packages/sklearn/svm/_base.py:299: ConvergenceWarning: Solver terminated early (max_iter=1000).  Consider pre-processing your data with StandardScaler or MinMaxScaler.\n",
      "  warnings.warn(\n"
     ]
    },
    {
     "name": "stdout",
     "output_type": "stream",
     "text": [
      "[CV 5/5] END C=10, gamma=0.001, kernel=linear, max_iter=1000;, score=0.708 total time=   1.5s\n",
      "[CV 1/5] END C=10, gamma=0.01, kernel=sigmoid, max_iter=1000;, score=0.500 total time=   8.9s\n"
     ]
    },
    {
     "name": "stderr",
     "output_type": "stream",
     "text": [
      "/home/ebneto/miniconda3/envs/smp/lib/python3.10/site-packages/sklearn/svm/_base.py:299: ConvergenceWarning: Solver terminated early (max_iter=1000).  Consider pre-processing your data with StandardScaler or MinMaxScaler.\n",
      "  warnings.warn(\n",
      "/home/ebneto/miniconda3/envs/smp/lib/python3.10/site-packages/sklearn/svm/_base.py:299: ConvergenceWarning: Solver terminated early (max_iter=1000).  Consider pre-processing your data with StandardScaler or MinMaxScaler.\n",
      "  warnings.warn(\n"
     ]
    },
    {
     "name": "stdout",
     "output_type": "stream",
     "text": [
      "[CV 2/5] END C=10, gamma=0.001, kernel=poly, max_iter=1000;, score=0.819 total time=   2.2s\n",
      "[CV 1/5] END C=10, gamma=0.001, kernel=poly, max_iter=1000;, score=0.603 total time=   2.5s\n"
     ]
    },
    {
     "name": "stderr",
     "output_type": "stream",
     "text": [
      "/home/ebneto/miniconda3/envs/smp/lib/python3.10/site-packages/sklearn/svm/_base.py:299: ConvergenceWarning: Solver terminated early (max_iter=1000).  Consider pre-processing your data with StandardScaler or MinMaxScaler.\n",
      "  warnings.warn(\n",
      "/home/ebneto/miniconda3/envs/smp/lib/python3.10/site-packages/sklearn/svm/_base.py:299: ConvergenceWarning: Solver terminated early (max_iter=1000).  Consider pre-processing your data with StandardScaler or MinMaxScaler.\n",
      "  warnings.warn(\n"
     ]
    },
    {
     "name": "stdout",
     "output_type": "stream",
     "text": [
      "[CV 5/5] END C=10, gamma=0.001, kernel=poly, max_iter=1000;, score=0.618 total time=   1.2s\n",
      "[CV 4/5] END C=10, gamma=0.001, kernel=poly, max_iter=1000;, score=0.444 total time=   1.7s\n"
     ]
    },
    {
     "name": "stderr",
     "output_type": "stream",
     "text": [
      "/home/ebneto/miniconda3/envs/smp/lib/python3.10/site-packages/sklearn/svm/_base.py:299: ConvergenceWarning: Solver terminated early (max_iter=1000).  Consider pre-processing your data with StandardScaler or MinMaxScaler.\n",
      "  warnings.warn(\n"
     ]
    },
    {
     "name": "stdout",
     "output_type": "stream",
     "text": [
      "[CV 3/5] END C=10, gamma=0.001, kernel=poly, max_iter=1000;, score=0.584 total time=   2.5s\n",
      "[CV 4/5] END C=10, gamma=0.1, kernel=rbf, max_iter=1000;, score=0.500 total time=  27.6s\n"
     ]
    },
    {
     "name": "stderr",
     "output_type": "stream",
     "text": [
      "/home/ebneto/miniconda3/envs/smp/lib/python3.10/site-packages/sklearn/svm/_base.py:299: ConvergenceWarning: Solver terminated early (max_iter=1000).  Consider pre-processing your data with StandardScaler or MinMaxScaler.\n",
      "  warnings.warn(\n",
      "/home/ebneto/miniconda3/envs/smp/lib/python3.10/site-packages/sklearn/svm/_base.py:299: ConvergenceWarning: Solver terminated early (max_iter=1000).  Consider pre-processing your data with StandardScaler or MinMaxScaler.\n",
      "  warnings.warn(\n"
     ]
    },
    {
     "name": "stdout",
     "output_type": "stream",
     "text": [
      "[CV 5/5] END C=10, gamma=0.001, kernel=sigmoid, max_iter=1000;, score=0.500 total time=   2.5s\n",
      "[CV 5/5] END C=10, gamma=0.01, kernel=rbf, max_iter=1000;, score=0.500 total time=  20.3s\n"
     ]
    },
    {
     "name": "stderr",
     "output_type": "stream",
     "text": [
      "/home/ebneto/miniconda3/envs/smp/lib/python3.10/site-packages/sklearn/svm/_base.py:299: ConvergenceWarning: Solver terminated early (max_iter=1000).  Consider pre-processing your data with StandardScaler or MinMaxScaler.\n",
      "  warnings.warn(\n",
      "/home/ebneto/miniconda3/envs/smp/lib/python3.10/site-packages/sklearn/svm/_base.py:299: ConvergenceWarning: Solver terminated early (max_iter=1000).  Consider pre-processing your data with StandardScaler or MinMaxScaler.\n",
      "  warnings.warn(\n"
     ]
    },
    {
     "name": "stdout",
     "output_type": "stream",
     "text": [
      "[CV 2/5] END C=10, gamma=0.0001, kernel=linear, max_iter=1000;, score=0.629 total time=   1.5s\n"
     ]
    },
    {
     "name": "stderr",
     "output_type": "stream",
     "text": [
      "/home/ebneto/miniconda3/envs/smp/lib/python3.10/site-packages/sklearn/svm/_base.py:299: ConvergenceWarning: Solver terminated early (max_iter=1000).  Consider pre-processing your data with StandardScaler or MinMaxScaler.\n",
      "  warnings.warn(\n"
     ]
    },
    {
     "name": "stdout",
     "output_type": "stream",
     "text": [
      "[CV 3/5] END C=10, gamma=0.0001, kernel=linear, max_iter=1000;, score=0.343 total time=   1.7s\n"
     ]
    },
    {
     "name": "stderr",
     "output_type": "stream",
     "text": [
      "/home/ebneto/miniconda3/envs/smp/lib/python3.10/site-packages/sklearn/svm/_base.py:299: ConvergenceWarning: Solver terminated early (max_iter=1000).  Consider pre-processing your data with StandardScaler or MinMaxScaler.\n",
      "  warnings.warn(\n",
      "/home/ebneto/miniconda3/envs/smp/lib/python3.10/site-packages/sklearn/svm/_base.py:299: ConvergenceWarning: Solver terminated early (max_iter=1000).  Consider pre-processing your data with StandardScaler or MinMaxScaler.\n",
      "  warnings.warn(\n"
     ]
    },
    {
     "name": "stdout",
     "output_type": "stream",
     "text": [
      "[CV 4/5] END C=10, gamma=0.001, kernel=rbf, max_iter=1000;, score=0.500 total time=  14.8s\n",
      "[CV 5/5] END C=10, gamma=0.0001, kernel=linear, max_iter=1000;, score=0.708 total time=   1.8s\n"
     ]
    },
    {
     "name": "stderr",
     "output_type": "stream",
     "text": [
      "/home/ebneto/miniconda3/envs/smp/lib/python3.10/site-packages/sklearn/svm/_base.py:299: ConvergenceWarning: Solver terminated early (max_iter=1000).  Consider pre-processing your data with StandardScaler or MinMaxScaler.\n",
      "  warnings.warn(\n",
      "/home/ebneto/miniconda3/envs/smp/lib/python3.10/site-packages/sklearn/svm/_base.py:299: ConvergenceWarning: Solver terminated early (max_iter=1000).  Consider pre-processing your data with StandardScaler or MinMaxScaler.\n",
      "  warnings.warn(\n",
      "/home/ebneto/miniconda3/envs/smp/lib/python3.10/site-packages/sklearn/svm/_base.py:299: ConvergenceWarning: Solver terminated early (max_iter=1000).  Consider pre-processing your data with StandardScaler or MinMaxScaler.\n",
      "  warnings.warn(\n"
     ]
    },
    {
     "name": "stdout",
     "output_type": "stream",
     "text": [
      "[CV 3/5] END C=10, gamma=0.001, kernel=sigmoid, max_iter=1000;, score=0.500 total time=   9.3s\n",
      "[CV 1/5] END C=10, gamma=0.0001, kernel=linear, max_iter=1000;, score=0.433 total time=   5.4s\n",
      "[CV 2/5] END C=10, gamma=0.0001, kernel=poly, max_iter=1000;, score=0.560 total time=   1.0s\n"
     ]
    },
    {
     "name": "stderr",
     "output_type": "stream",
     "text": [
      "/home/ebneto/miniconda3/envs/smp/lib/python3.10/site-packages/sklearn/svm/_base.py:299: ConvergenceWarning: Solver terminated early (max_iter=1000).  Consider pre-processing your data with StandardScaler or MinMaxScaler.\n",
      "  warnings.warn(\n",
      "/home/ebneto/miniconda3/envs/smp/lib/python3.10/site-packages/sklearn/svm/_base.py:299: ConvergenceWarning: Solver terminated early (max_iter=1000).  Consider pre-processing your data with StandardScaler or MinMaxScaler.\n",
      "  warnings.warn(\n"
     ]
    },
    {
     "name": "stdout",
     "output_type": "stream",
     "text": [
      "[CV 4/5] END C=10, gamma=0.0001, kernel=linear, max_iter=1000;, score=0.709 total time=   3.5s\n",
      "[CV 3/5] END C=10, gamma=0.01, kernel=rbf, max_iter=1000;, score=0.500 total time=  27.8s\n"
     ]
    },
    {
     "name": "stderr",
     "output_type": "stream",
     "text": [
      "/home/ebneto/miniconda3/envs/smp/lib/python3.10/site-packages/sklearn/svm/_base.py:299: ConvergenceWarning: Solver terminated early (max_iter=1000).  Consider pre-processing your data with StandardScaler or MinMaxScaler.\n",
      "  warnings.warn(\n"
     ]
    },
    {
     "name": "stdout",
     "output_type": "stream",
     "text": [
      "[CV 4/5] END C=10, gamma=0.0001, kernel=poly, max_iter=1000;, score=0.444 total time=   0.8s\n",
      "[CV 4/5] END C=10, gamma=0.001, kernel=sigmoid, max_iter=1000;, score=0.500 total time=  10.4s\n",
      "[CV 5/5] END C=10, gamma=0.0001, kernel=poly, max_iter=1000;, score=0.618 total time=   0.7s\n",
      "[CV 1/5] END C=10, gamma=0.1, kernel=rbf, max_iter=1000;, score=0.500 total time=  38.8s\n"
     ]
    },
    {
     "name": "stderr",
     "output_type": "stream",
     "text": [
      "/home/ebneto/miniconda3/envs/smp/lib/python3.10/site-packages/sklearn/svm/_base.py:299: ConvergenceWarning: Solver terminated early (max_iter=1000).  Consider pre-processing your data with StandardScaler or MinMaxScaler.\n",
      "  warnings.warn(\n",
      "/home/ebneto/miniconda3/envs/smp/lib/python3.10/site-packages/sklearn/svm/_base.py:299: ConvergenceWarning: Solver terminated early (max_iter=1000).  Consider pre-processing your data with StandardScaler or MinMaxScaler.\n",
      "  warnings.warn(\n"
     ]
    },
    {
     "name": "stdout",
     "output_type": "stream",
     "text": [
      "[CV 1/5] END C=10, gamma=0.0001, kernel=poly, max_iter=1000;, score=0.498 total time=   3.9s\n",
      "[CV 1/5] END C=10, gamma=0.001, kernel=sigmoid, max_iter=1000;, score=0.500 total time=  11.8s\n",
      "[CV 2/5] END C=10, gamma=0.001, kernel=sigmoid, max_iter=1000;, score=0.500 total time=  12.0s\n",
      "[CV 1/5] END C=10, gamma=0.001, kernel=rbf, max_iter=1000;, score=0.500 total time=  19.7s\n"
     ]
    },
    {
     "name": "stderr",
     "output_type": "stream",
     "text": [
      "/home/ebneto/miniconda3/envs/smp/lib/python3.10/site-packages/sklearn/svm/_base.py:299: ConvergenceWarning: Solver terminated early (max_iter=1000).  Consider pre-processing your data with StandardScaler or MinMaxScaler.\n",
      "  warnings.warn(\n"
     ]
    },
    {
     "name": "stdout",
     "output_type": "stream",
     "text": [
      "[CV 3/5] END C=10, gamma=0.0001, kernel=poly, max_iter=1000;, score=0.505 total time=   3.2s\n",
      "[CV 1/5] END C=10, gamma=0.0001, kernel=sigmoid, max_iter=1000;, score=0.500 total time=   2.5s\n"
     ]
    },
    {
     "name": "stderr",
     "output_type": "stream",
     "text": [
      "/home/ebneto/miniconda3/envs/smp/lib/python3.10/site-packages/sklearn/svm/_base.py:299: ConvergenceWarning: Solver terminated early (max_iter=1000).  Consider pre-processing your data with StandardScaler or MinMaxScaler.\n",
      "  warnings.warn(\n"
     ]
    },
    {
     "name": "stdout",
     "output_type": "stream",
     "text": [
      "[CV 2/5] END C=10, gamma=0.1, kernel=rbf, max_iter=1000;, score=0.500 total time=  40.9s\n",
      "[CV 3/5] END C=10, gamma=0.1, kernel=rbf, max_iter=1000;, score=0.500 total time=  41.1s\n",
      "[CV 5/5] END C=10, gamma=0.0001, kernel=rbf, max_iter=1000;, score=0.500 total time=  12.1s\n"
     ]
    },
    {
     "name": "stderr",
     "output_type": "stream",
     "text": [
      "/home/ebneto/miniconda3/envs/smp/lib/python3.10/site-packages/sklearn/svm/_base.py:299: ConvergenceWarning: Solver terminated early (max_iter=1000).  Consider pre-processing your data with StandardScaler or MinMaxScaler.\n",
      "  warnings.warn(\n"
     ]
    },
    {
     "name": "stdout",
     "output_type": "stream",
     "text": [
      "[CV 5/5] END C=10, gamma=0.0001, kernel=sigmoid, max_iter=1000;, score=0.500 total time=   3.4s\n"
     ]
    },
    {
     "name": "stderr",
     "output_type": "stream",
     "text": [
      "/home/ebneto/miniconda3/envs/smp/lib/python3.10/site-packages/sklearn/svm/_base.py:299: ConvergenceWarning: Solver terminated early (max_iter=1000).  Consider pre-processing your data with StandardScaler or MinMaxScaler.\n",
      "  warnings.warn(\n",
      "/home/ebneto/miniconda3/envs/smp/lib/python3.10/site-packages/sklearn/svm/_base.py:299: ConvergenceWarning: Solver terminated early (max_iter=1000).  Consider pre-processing your data with StandardScaler or MinMaxScaler.\n",
      "  warnings.warn(\n",
      "/home/ebneto/miniconda3/envs/smp/lib/python3.10/site-packages/sklearn/svm/_base.py:299: ConvergenceWarning: Solver terminated early (max_iter=1000).  Consider pre-processing your data with StandardScaler or MinMaxScaler.\n",
      "  warnings.warn(\n"
     ]
    },
    {
     "name": "stdout",
     "output_type": "stream",
     "text": [
      "[CV 1/5] END C=10, gamma=scale, kernel=linear, max_iter=1000;, score=0.433 total time=   2.2s\n",
      "[CV 2/5] END C=10, gamma=scale, kernel=linear, max_iter=1000;, score=0.629 total time=   1.8s\n"
     ]
    },
    {
     "name": "stderr",
     "output_type": "stream",
     "text": [
      "/home/ebneto/miniconda3/envs/smp/lib/python3.10/site-packages/sklearn/svm/_base.py:299: ConvergenceWarning: Solver terminated early (max_iter=1000).  Consider pre-processing your data with StandardScaler or MinMaxScaler.\n",
      "  warnings.warn(\n",
      "/home/ebneto/miniconda3/envs/smp/lib/python3.10/site-packages/sklearn/svm/_base.py:299: ConvergenceWarning: Solver terminated early (max_iter=1000).  Consider pre-processing your data with StandardScaler or MinMaxScaler.\n",
      "  warnings.warn(\n"
     ]
    },
    {
     "name": "stdout",
     "output_type": "stream",
     "text": [
      "[CV 4/5] END C=10, gamma=0.0001, kernel=sigmoid, max_iter=1000;, score=0.500 total time=   6.1s\n"
     ]
    },
    {
     "name": "stderr",
     "output_type": "stream",
     "text": [
      "/home/ebneto/miniconda3/envs/smp/lib/python3.10/site-packages/sklearn/svm/_base.py:299: ConvergenceWarning: Solver terminated early (max_iter=1000).  Consider pre-processing your data with StandardScaler or MinMaxScaler.\n",
      "  warnings.warn(\n",
      "/home/ebneto/miniconda3/envs/smp/lib/python3.10/site-packages/sklearn/svm/_base.py:299: ConvergenceWarning: Solver terminated early (max_iter=1000).  Consider pre-processing your data with StandardScaler or MinMaxScaler.\n",
      "  warnings.warn(\n"
     ]
    },
    {
     "name": "stdout",
     "output_type": "stream",
     "text": [
      "[CV 3/5] END C=10, gamma=scale, kernel=linear, max_iter=1000;, score=0.343 total time=   2.2s\n"
     ]
    },
    {
     "name": "stderr",
     "output_type": "stream",
     "text": [
      "/home/ebneto/miniconda3/envs/smp/lib/python3.10/site-packages/sklearn/svm/_base.py:299: ConvergenceWarning: Solver terminated early (max_iter=1000).  Consider pre-processing your data with StandardScaler or MinMaxScaler.\n",
      "  warnings.warn(\n",
      "/home/ebneto/miniconda3/envs/smp/lib/python3.10/site-packages/sklearn/svm/_base.py:299: ConvergenceWarning: Solver terminated early (max_iter=1000).  Consider pre-processing your data with StandardScaler or MinMaxScaler.\n",
      "  warnings.warn(\n"
     ]
    },
    {
     "name": "stdout",
     "output_type": "stream",
     "text": [
      "[CV 1/5] END C=10, gamma=scale, kernel=rbf, max_iter=1000;, score=0.774 total time=   6.1s\n",
      "[CV 4/5] END C=10, gamma=scale, kernel=linear, max_iter=1000;, score=0.709 total time=   1.9s\n",
      "[CV 3/5] END C=10, gamma=scale, kernel=rbf, max_iter=1000;, score=0.794 total time=   6.0s\n",
      "[CV 4/5] END C=10, gamma=scale, kernel=rbf, max_iter=1000;, score=0.881 total time=   6.0s\n",
      "[CV 2/5] END C=10, gamma=0.0001, kernel=sigmoid, max_iter=1000;, score=0.500 total time=   8.5s\n"
     ]
    },
    {
     "name": "stderr",
     "output_type": "stream",
     "text": [
      "/home/ebneto/miniconda3/envs/smp/lib/python3.10/site-packages/sklearn/svm/_base.py:299: ConvergenceWarning: Solver terminated early (max_iter=1000).  Consider pre-processing your data with StandardScaler or MinMaxScaler.\n",
      "  warnings.warn(\n"
     ]
    },
    {
     "name": "stdout",
     "output_type": "stream",
     "text": [
      "[CV 3/5] END C=10, gamma=0.0001, kernel=sigmoid, max_iter=1000;, score=0.500 total time=   8.5s\n",
      "[CV 5/5] END C=10, gamma=scale, kernel=linear, max_iter=1000;, score=0.708 total time=   3.0s\n"
     ]
    },
    {
     "name": "stderr",
     "output_type": "stream",
     "text": [
      "/home/ebneto/miniconda3/envs/smp/lib/python3.10/site-packages/sklearn/svm/_base.py:299: ConvergenceWarning: Solver terminated early (max_iter=1000).  Consider pre-processing your data with StandardScaler or MinMaxScaler.\n",
      "  warnings.warn(\n",
      "/home/ebneto/miniconda3/envs/smp/lib/python3.10/site-packages/sklearn/svm/_base.py:299: ConvergenceWarning: Solver terminated early (max_iter=1000).  Consider pre-processing your data with StandardScaler or MinMaxScaler.\n",
      "  warnings.warn(\n"
     ]
    },
    {
     "name": "stdout",
     "output_type": "stream",
     "text": [
      "[CV 2/5] END C=10, gamma=scale, kernel=poly, max_iter=1000;, score=0.498 total time=   2.5s\n",
      "[CV 5/5] END C=10, gamma=scale, kernel=rbf, max_iter=1000;, score=0.789 total time=   6.7s\n",
      "[CV 3/5] END C=10, gamma=0.001, kernel=rbf, max_iter=1000;, score=0.500 total time=  28.5s\n"
     ]
    },
    {
     "name": "stderr",
     "output_type": "stream",
     "text": [
      "/home/ebneto/miniconda3/envs/smp/lib/python3.10/site-packages/sklearn/svm/_base.py:299: ConvergenceWarning: Solver terminated early (max_iter=1000).  Consider pre-processing your data with StandardScaler or MinMaxScaler.\n",
      "  warnings.warn(\n",
      "/home/ebneto/miniconda3/envs/smp/lib/python3.10/site-packages/sklearn/svm/_base.py:299: ConvergenceWarning: Solver terminated early (max_iter=1000).  Consider pre-processing your data with StandardScaler or MinMaxScaler.\n",
      "  warnings.warn(\n"
     ]
    },
    {
     "name": "stdout",
     "output_type": "stream",
     "text": [
      "[CV 4/5] END C=10, gamma=scale, kernel=poly, max_iter=1000;, score=0.797 total time=   2.4s\n",
      "[CV 5/5] END C=10, gamma=scale, kernel=poly, max_iter=1000;, score=0.594 total time=   2.1s\n"
     ]
    },
    {
     "name": "stderr",
     "output_type": "stream",
     "text": [
      "/home/ebneto/miniconda3/envs/smp/lib/python3.10/site-packages/sklearn/svm/_base.py:299: ConvergenceWarning: Solver terminated early (max_iter=1000).  Consider pre-processing your data with StandardScaler or MinMaxScaler.\n",
      "  warnings.warn(\n"
     ]
    },
    {
     "name": "stdout",
     "output_type": "stream",
     "text": [
      "[CV 2/5] END C=10, gamma=scale, kernel=sigmoid, max_iter=1000;, score=0.535 total time=   2.4s\n",
      "[CV 1/5] END C=10, gamma=0.0001, kernel=rbf, max_iter=1000;, score=0.500 total time=  23.8s\n"
     ]
    },
    {
     "name": "stderr",
     "output_type": "stream",
     "text": [
      "/home/ebneto/miniconda3/envs/smp/lib/python3.10/site-packages/sklearn/svm/_base.py:299: ConvergenceWarning: Solver terminated early (max_iter=1000).  Consider pre-processing your data with StandardScaler or MinMaxScaler.\n",
      "  warnings.warn(\n"
     ]
    },
    {
     "name": "stdout",
     "output_type": "stream",
     "text": [
      "[CV 1/5] END C=10, gamma=auto, kernel=linear, max_iter=1000;, score=0.433 total time=   1.1s\n",
      "[CV 2/5] END C=10, gamma=scale, kernel=rbf, max_iter=1000;, score=0.790 total time=  12.2s\n"
     ]
    },
    {
     "name": "stderr",
     "output_type": "stream",
     "text": [
      "/home/ebneto/miniconda3/envs/smp/lib/python3.10/site-packages/sklearn/svm/_base.py:299: ConvergenceWarning: Solver terminated early (max_iter=1000).  Consider pre-processing your data with StandardScaler or MinMaxScaler.\n",
      "  warnings.warn(\n"
     ]
    },
    {
     "name": "stdout",
     "output_type": "stream",
     "text": [
      "[CV 3/5] END C=10, gamma=auto, kernel=linear, max_iter=1000;, score=0.343 total time=   0.7s\n",
      "[CV 4/5] END C=10, gamma=0.01, kernel=rbf, max_iter=1000;, score=0.500 total time=  43.2s\n"
     ]
    },
    {
     "name": "stderr",
     "output_type": "stream",
     "text": [
      "/home/ebneto/miniconda3/envs/smp/lib/python3.10/site-packages/sklearn/svm/_base.py:299: ConvergenceWarning: Solver terminated early (max_iter=1000).  Consider pre-processing your data with StandardScaler or MinMaxScaler.\n",
      "  warnings.warn(\n",
      "/home/ebneto/miniconda3/envs/smp/lib/python3.10/site-packages/sklearn/svm/_base.py:299: ConvergenceWarning: Solver terminated early (max_iter=1000).  Consider pre-processing your data with StandardScaler or MinMaxScaler.\n",
      "  warnings.warn(\n"
     ]
    },
    {
     "name": "stdout",
     "output_type": "stream",
     "text": [
      "[CV 2/5] END C=10, gamma=0.01, kernel=rbf, max_iter=1000;, score=0.500 total time=  44.3s\n",
      "[CV 5/5] END C=10, gamma=auto, kernel=linear, max_iter=1000;, score=0.708 total time=   0.6s\n",
      "[CV 4/5] END C=10, gamma=auto, kernel=linear, max_iter=1000;, score=0.709 total time=   1.2s\n"
     ]
    },
    {
     "name": "stderr",
     "output_type": "stream",
     "text": [
      "/home/ebneto/miniconda3/envs/smp/lib/python3.10/site-packages/sklearn/svm/_base.py:299: ConvergenceWarning: Solver terminated early (max_iter=1000).  Consider pre-processing your data with StandardScaler or MinMaxScaler.\n",
      "  warnings.warn(\n",
      "/home/ebneto/miniconda3/envs/smp/lib/python3.10/site-packages/sklearn/svm/_base.py:299: ConvergenceWarning: Solver terminated early (max_iter=1000).  Consider pre-processing your data with StandardScaler or MinMaxScaler.\n",
      "  warnings.warn(\n",
      "/home/ebneto/miniconda3/envs/smp/lib/python3.10/site-packages/sklearn/svm/_base.py:299: ConvergenceWarning: Solver terminated early (max_iter=1000).  Consider pre-processing your data with StandardScaler or MinMaxScaler.\n",
      "  warnings.warn(\n"
     ]
    },
    {
     "name": "stdout",
     "output_type": "stream",
     "text": [
      "[CV 3/5] END C=10, gamma=auto, kernel=poly, max_iter=1000;, score=0.510 total time=   0.5s\n",
      "[CV 1/5] END C=10, gamma=scale, kernel=poly, max_iter=1000;, score=0.755 total time=   9.2s\n",
      "[CV 2/5] END C=10, gamma=auto, kernel=poly, max_iter=1000;, score=0.819 total time=   1.1s"
     ]
    },
    {
     "name": "stderr",
     "output_type": "stream",
     "text": [
      "/home/ebneto/miniconda3/envs/smp/lib/python3.10/site-packages/sklearn/svm/_base.py:299: ConvergenceWarning: Solver terminated early (max_iter=1000).  Consider pre-processing your data with StandardScaler or MinMaxScaler.\n",
      "  warnings.warn(\n"
     ]
    },
    {
     "name": "stdout",
     "output_type": "stream",
     "text": [
      "\n"
     ]
    },
    {
     "name": "stderr",
     "output_type": "stream",
     "text": [
      "/home/ebneto/miniconda3/envs/smp/lib/python3.10/site-packages/sklearn/svm/_base.py:299: ConvergenceWarning: Solver terminated early (max_iter=1000).  Consider pre-processing your data with StandardScaler or MinMaxScaler.\n",
      "  warnings.warn(\n",
      "/home/ebneto/miniconda3/envs/smp/lib/python3.10/site-packages/sklearn/svm/_base.py:299: ConvergenceWarning: Solver terminated early (max_iter=1000).  Consider pre-processing your data with StandardScaler or MinMaxScaler.\n",
      "  warnings.warn(\n"
     ]
    },
    {
     "name": "stdout",
     "output_type": "stream",
     "text": [
      "[CV 2/5] END C=10, gamma=auto, kernel=linear, max_iter=1000;, score=0.629 total time=   3.6s\n",
      "[CV 3/5] END C=10, gamma=scale, kernel=poly, max_iter=1000;, score=0.506 total time=   8.9s\n"
     ]
    },
    {
     "name": "stderr",
     "output_type": "stream",
     "text": [
      "/home/ebneto/miniconda3/envs/smp/lib/python3.10/site-packages/sklearn/svm/_base.py:299: ConvergenceWarning: Solver terminated early (max_iter=1000).  Consider pre-processing your data with StandardScaler or MinMaxScaler.\n",
      "  warnings.warn(\n",
      "/home/ebneto/miniconda3/envs/smp/lib/python3.10/site-packages/sklearn/svm/_base.py:299: ConvergenceWarning: Solver terminated early (max_iter=1000).  Consider pre-processing your data with StandardScaler or MinMaxScaler.\n",
      "  warnings.warn(\n",
      "/home/ebneto/miniconda3/envs/smp/lib/python3.10/site-packages/sklearn/svm/_base.py:299: ConvergenceWarning: Solver terminated early (max_iter=1000).  Consider pre-processing your data with StandardScaler or MinMaxScaler.\n",
      "  warnings.warn(\n"
     ]
    },
    {
     "name": "stdout",
     "output_type": "stream",
     "text": [
      "[CV 4/5] END C=10, gamma=auto, kernel=poly, max_iter=1000;, score=0.444 total time=   0.7s\n",
      "[CV 1/5] END C=10, gamma=auto, kernel=poly, max_iter=1000;, score=0.701 total time=   2.7s\n",
      "[CV 1/5] END C=10, gamma=auto, kernel=sigmoid, max_iter=1000;, score=0.500 total time=   1.7s\n"
     ]
    },
    {
     "name": "stderr",
     "output_type": "stream",
     "text": [
      "/home/ebneto/miniconda3/envs/smp/lib/python3.10/site-packages/sklearn/svm/_base.py:299: ConvergenceWarning: Solver terminated early (max_iter=1000).  Consider pre-processing your data with StandardScaler or MinMaxScaler.\n",
      "  warnings.warn(\n",
      "/home/ebneto/miniconda3/envs/smp/lib/python3.10/site-packages/sklearn/svm/_base.py:299: ConvergenceWarning: Solver terminated early (max_iter=1000).  Consider pre-processing your data with StandardScaler or MinMaxScaler.\n",
      "  warnings.warn(\n"
     ]
    },
    {
     "name": "stdout",
     "output_type": "stream",
     "text": [
      "[CV 5/5] END C=10, gamma=auto, kernel=poly, max_iter=1000;, score=0.457 total time=   2.7s\n",
      "[CV 1/5] END C=10, gamma=scale, kernel=sigmoid, max_iter=1000;, score=0.536 total time=  10.1s\n",
      "[CV 3/5] END C=10, gamma=scale, kernel=sigmoid, max_iter=1000;, score=0.561 total time=  10.8s\n",
      "[CV 4/5] END C=10, gamma=scale, kernel=sigmoid, max_iter=1000;, score=0.527 total time=  10.5s\n",
      "[CV 5/5] END C=10, gamma=scale, kernel=sigmoid, max_iter=1000;, score=0.534 total time=  10.7s\n",
      "[CV 5/5] END C=10, gamma=auto, kernel=sigmoid, max_iter=1000;, score=0.500 total time=   3.0s\n",
      "[CV 5/5] END C=10, gamma=0.001, kernel=rbf, max_iter=1000;, score=0.500 total time=  39.1s\n"
     ]
    },
    {
     "name": "stderr",
     "output_type": "stream",
     "text": [
      "/home/ebneto/miniconda3/envs/smp/lib/python3.10/site-packages/sklearn/svm/_base.py:299: ConvergenceWarning: Solver terminated early (max_iter=1000).  Consider pre-processing your data with StandardScaler or MinMaxScaler.\n",
      "  warnings.warn(\n",
      "/home/ebneto/miniconda3/envs/smp/lib/python3.10/site-packages/sklearn/svm/_base.py:299: ConvergenceWarning: Solver terminated early (max_iter=1000).  Consider pre-processing your data with StandardScaler or MinMaxScaler.\n",
      "  warnings.warn(\n"
     ]
    },
    {
     "name": "stdout",
     "output_type": "stream",
     "text": [
      "[CV 2/5] END C=100, gamma=1, kernel=linear, max_iter=1000;, score=0.629 total time=   2.1s\n",
      "[CV 2/5] END C=10, gamma=0.001, kernel=rbf, max_iter=1000;, score=0.500 total time=  43.1s\n"
     ]
    },
    {
     "name": "stderr",
     "output_type": "stream",
     "text": [
      "/home/ebneto/miniconda3/envs/smp/lib/python3.10/site-packages/sklearn/svm/_base.py:299: ConvergenceWarning: Solver terminated early (max_iter=1000).  Consider pre-processing your data with StandardScaler or MinMaxScaler.\n",
      "  warnings.warn(\n"
     ]
    },
    {
     "name": "stdout",
     "output_type": "stream",
     "text": [
      "[CV 1/5] END C=100, gamma=1, kernel=linear, max_iter=1000;, score=0.433 total time=   3.3s\n",
      "[CV 4/5] END C=100, gamma=1, kernel=linear, max_iter=1000;, score=0.709 total time=   2.2s\n"
     ]
    },
    {
     "name": "stderr",
     "output_type": "stream",
     "text": [
      "/home/ebneto/miniconda3/envs/smp/lib/python3.10/site-packages/sklearn/svm/_base.py:299: ConvergenceWarning: Solver terminated early (max_iter=1000).  Consider pre-processing your data with StandardScaler or MinMaxScaler.\n",
      "  warnings.warn(\n"
     ]
    },
    {
     "name": "stdout",
     "output_type": "stream",
     "text": [
      "[CV 4/5] END C=10, gamma=auto, kernel=sigmoid, max_iter=1000;, score=0.500 total time=   7.1s\n"
     ]
    },
    {
     "name": "stderr",
     "output_type": "stream",
     "text": [
      "/home/ebneto/miniconda3/envs/smp/lib/python3.10/site-packages/sklearn/svm/_base.py:299: ConvergenceWarning: Solver terminated early (max_iter=1000).  Consider pre-processing your data with StandardScaler or MinMaxScaler.\n",
      "  warnings.warn(\n"
     ]
    },
    {
     "name": "stdout",
     "output_type": "stream",
     "text": [
      "[CV 3/5] END C=100, gamma=1, kernel=linear, max_iter=1000;, score=0.343 total time=   3.7s\n",
      "[CV 3/5] END C=10, gamma=auto, kernel=sigmoid, max_iter=1000;, score=0.500 total time=   8.5s\n"
     ]
    },
    {
     "name": "stderr",
     "output_type": "stream",
     "text": [
      "/home/ebneto/miniconda3/envs/smp/lib/python3.10/site-packages/sklearn/svm/_base.py:299: ConvergenceWarning: Solver terminated early (max_iter=1000).  Consider pre-processing your data with StandardScaler or MinMaxScaler.\n",
      "  warnings.warn(\n"
     ]
    },
    {
     "name": "stdout",
     "output_type": "stream",
     "text": [
      "[CV 5/5] END C=100, gamma=1, kernel=linear, max_iter=1000;, score=0.708 total time=   2.5s\n",
      "[CV 2/5] END C=10, gamma=auto, kernel=sigmoid, max_iter=1000;, score=0.500 total time=   9.3s\n"
     ]
    },
    {
     "name": "stderr",
     "output_type": "stream",
     "text": [
      "/home/ebneto/miniconda3/envs/smp/lib/python3.10/site-packages/sklearn/svm/_base.py:299: ConvergenceWarning: Solver terminated early (max_iter=1000).  Consider pre-processing your data with StandardScaler or MinMaxScaler.\n",
      "  warnings.warn(\n"
     ]
    },
    {
     "name": "stdout",
     "output_type": "stream",
     "text": [
      "[CV 1/5] END C=100, gamma=1, kernel=poly, max_iter=1000;, score=0.603 total time=   2.4s\n"
     ]
    },
    {
     "name": "stderr",
     "output_type": "stream",
     "text": [
      "/home/ebneto/miniconda3/envs/smp/lib/python3.10/site-packages/sklearn/svm/_base.py:299: ConvergenceWarning: Solver terminated early (max_iter=1000).  Consider pre-processing your data with StandardScaler or MinMaxScaler.\n",
      "  warnings.warn(\n"
     ]
    },
    {
     "name": "stdout",
     "output_type": "stream",
     "text": [
      "[CV 2/5] END C=100, gamma=1, kernel=poly, max_iter=1000;, score=0.491 total time=   2.2s\n"
     ]
    },
    {
     "name": "stderr",
     "output_type": "stream",
     "text": [
      "/home/ebneto/miniconda3/envs/smp/lib/python3.10/site-packages/sklearn/svm/_base.py:299: ConvergenceWarning: Solver terminated early (max_iter=1000).  Consider pre-processing your data with StandardScaler or MinMaxScaler.\n",
      "  warnings.warn(\n"
     ]
    },
    {
     "name": "stdout",
     "output_type": "stream",
     "text": [
      "[CV 3/5] END C=100, gamma=1, kernel=poly, max_iter=1000;, score=0.505 total time=   2.2s\n"
     ]
    },
    {
     "name": "stderr",
     "output_type": "stream",
     "text": [
      "/home/ebneto/miniconda3/envs/smp/lib/python3.10/site-packages/sklearn/svm/_base.py:299: ConvergenceWarning: Solver terminated early (max_iter=1000).  Consider pre-processing your data with StandardScaler or MinMaxScaler.\n",
      "  warnings.warn(\n",
      "/home/ebneto/miniconda3/envs/smp/lib/python3.10/site-packages/sklearn/svm/_base.py:299: ConvergenceWarning: Solver terminated early (max_iter=1000).  Consider pre-processing your data with StandardScaler or MinMaxScaler.\n",
      "  warnings.warn(\n"
     ]
    },
    {
     "name": "stdout",
     "output_type": "stream",
     "text": [
      "[CV 5/5] END C=100, gamma=1, kernel=poly, max_iter=1000;, score=0.602 total time=   1.5s\n",
      "[CV 4/5] END C=100, gamma=1, kernel=poly, max_iter=1000;, score=0.682 total time=   2.2s\n"
     ]
    },
    {
     "name": "stderr",
     "output_type": "stream",
     "text": [
      "/home/ebneto/miniconda3/envs/smp/lib/python3.10/site-packages/sklearn/svm/_base.py:299: ConvergenceWarning: Solver terminated early (max_iter=1000).  Consider pre-processing your data with StandardScaler or MinMaxScaler.\n",
      "  warnings.warn(\n"
     ]
    },
    {
     "name": "stdout",
     "output_type": "stream",
     "text": [
      "[CV 2/5] END C=10, gamma=0.0001, kernel=rbf, max_iter=1000;, score=0.500 total time=  39.2s\n"
     ]
    },
    {
     "name": "stderr",
     "output_type": "stream",
     "text": [
      "/home/ebneto/miniconda3/envs/smp/lib/python3.10/site-packages/sklearn/svm/_base.py:299: ConvergenceWarning: Solver terminated early (max_iter=1000).  Consider pre-processing your data with StandardScaler or MinMaxScaler.\n",
      "  warnings.warn(\n"
     ]
    },
    {
     "name": "stdout",
     "output_type": "stream",
     "text": [
      "[CV 3/5] END C=10, gamma=0.0001, kernel=rbf, max_iter=1000;, score=0.500 total time=  39.0s\n"
     ]
    },
    {
     "name": "stderr",
     "output_type": "stream",
     "text": [
      "/home/ebneto/miniconda3/envs/smp/lib/python3.10/site-packages/sklearn/svm/_base.py:299: ConvergenceWarning: Solver terminated early (max_iter=1000).  Consider pre-processing your data with StandardScaler or MinMaxScaler.\n",
      "  warnings.warn(\n",
      "/home/ebneto/miniconda3/envs/smp/lib/python3.10/site-packages/sklearn/svm/_base.py:299: ConvergenceWarning: Solver terminated early (max_iter=1000).  Consider pre-processing your data with StandardScaler or MinMaxScaler.\n",
      "  warnings.warn(\n"
     ]
    },
    {
     "name": "stdout",
     "output_type": "stream",
     "text": [
      "[CV 4/5] END C=10, gamma=0.0001, kernel=rbf, max_iter=1000;, score=0.500 total time=  40.0s\n"
     ]
    },
    {
     "name": "stderr",
     "output_type": "stream",
     "text": [
      "/home/ebneto/miniconda3/envs/smp/lib/python3.10/site-packages/sklearn/svm/_base.py:299: ConvergenceWarning: Solver terminated early (max_iter=1000).  Consider pre-processing your data with StandardScaler or MinMaxScaler.\n",
      "  warnings.warn(\n",
      "/home/ebneto/miniconda3/envs/smp/lib/python3.10/site-packages/sklearn/svm/_base.py:299: ConvergenceWarning: Solver terminated early (max_iter=1000).  Consider pre-processing your data with StandardScaler or MinMaxScaler.\n",
      "  warnings.warn(\n"
     ]
    },
    {
     "name": "stdout",
     "output_type": "stream",
     "text": [
      "[CV 1/5] END C=100, gamma=1, kernel=sigmoid, max_iter=1000;, score=0.500 total time=   6.2s\n",
      "[CV 4/5] END C=10, gamma=auto, kernel=rbf, max_iter=1000;, score=0.500 total time=  22.2s\n",
      "[CV 3/5] END C=100, gamma=1, kernel=sigmoid, max_iter=1000;, score=0.500 total time=   5.4s\n"
     ]
    },
    {
     "name": "stderr",
     "output_type": "stream",
     "text": [
      "/home/ebneto/miniconda3/envs/smp/lib/python3.10/site-packages/sklearn/svm/_base.py:299: ConvergenceWarning: Solver terminated early (max_iter=1000).  Consider pre-processing your data with StandardScaler or MinMaxScaler.\n",
      "  warnings.warn(\n"
     ]
    },
    {
     "name": "stdout",
     "output_type": "stream",
     "text": [
      "[CV 2/5] END C=100, gamma=1, kernel=sigmoid, max_iter=1000;, score=0.500 total time=   6.5s\n"
     ]
    },
    {
     "name": "stderr",
     "output_type": "stream",
     "text": [
      "/home/ebneto/miniconda3/envs/smp/lib/python3.10/site-packages/sklearn/svm/_base.py:299: ConvergenceWarning: Solver terminated early (max_iter=1000).  Consider pre-processing your data with StandardScaler or MinMaxScaler.\n",
      "  warnings.warn(\n"
     ]
    },
    {
     "name": "stdout",
     "output_type": "stream",
     "text": [
      "[CV 4/5] END C=100, gamma=1, kernel=sigmoid, max_iter=1000;, score=0.500 total time=   6.3s\n"
     ]
    },
    {
     "name": "stderr",
     "output_type": "stream",
     "text": [
      "/home/ebneto/miniconda3/envs/smp/lib/python3.10/site-packages/sklearn/svm/_base.py:299: ConvergenceWarning: Solver terminated early (max_iter=1000).  Consider pre-processing your data with StandardScaler or MinMaxScaler.\n",
      "  warnings.warn(\n",
      "/home/ebneto/miniconda3/envs/smp/lib/python3.10/site-packages/sklearn/svm/_base.py:299: ConvergenceWarning: Solver terminated early (max_iter=1000).  Consider pre-processing your data with StandardScaler or MinMaxScaler.\n",
      "  warnings.warn(\n"
     ]
    },
    {
     "name": "stdout",
     "output_type": "stream",
     "text": [
      "[CV 1/5] END C=100, gamma=0.1, kernel=linear, max_iter=1000;, score=0.433 total time=   2.1s\n",
      "[CV 5/5] END C=100, gamma=1, kernel=sigmoid, max_iter=1000;, score=0.500 total time=   6.7s\n",
      "[CV 4/5] END C=100, gamma=1, kernel=rbf, max_iter=1000;, score=0.500 total time=  16.4s\n"
     ]
    },
    {
     "name": "stderr",
     "output_type": "stream",
     "text": [
      "/home/ebneto/miniconda3/envs/smp/lib/python3.10/site-packages/sklearn/svm/_base.py:299: ConvergenceWarning: Solver terminated early (max_iter=1000).  Consider pre-processing your data with StandardScaler or MinMaxScaler.\n",
      "  warnings.warn(\n"
     ]
    },
    {
     "name": "stdout",
     "output_type": "stream",
     "text": [
      "[CV 2/5] END C=100, gamma=0.1, kernel=linear, max_iter=1000;, score=0.629 total time=   2.3s\n"
     ]
    },
    {
     "name": "stderr",
     "output_type": "stream",
     "text": [
      "/home/ebneto/miniconda3/envs/smp/lib/python3.10/site-packages/sklearn/svm/_base.py:299: ConvergenceWarning: Solver terminated early (max_iter=1000).  Consider pre-processing your data with StandardScaler or MinMaxScaler.\n",
      "  warnings.warn(\n"
     ]
    },
    {
     "name": "stdout",
     "output_type": "stream",
     "text": [
      "[CV 3/5] END C=100, gamma=0.1, kernel=linear, max_iter=1000;, score=0.343 total time=   2.7s\n"
     ]
    },
    {
     "name": "stderr",
     "output_type": "stream",
     "text": [
      "/home/ebneto/miniconda3/envs/smp/lib/python3.10/site-packages/sklearn/svm/_base.py:299: ConvergenceWarning: Solver terminated early (max_iter=1000).  Consider pre-processing your data with StandardScaler or MinMaxScaler.\n",
      "  warnings.warn(\n",
      "/home/ebneto/miniconda3/envs/smp/lib/python3.10/site-packages/sklearn/svm/_base.py:299: ConvergenceWarning: Solver terminated early (max_iter=1000).  Consider pre-processing your data with StandardScaler or MinMaxScaler.\n",
      "  warnings.warn(\n"
     ]
    },
    {
     "name": "stdout",
     "output_type": "stream",
     "text": [
      "[CV 5/5] END C=100, gamma=0.1, kernel=linear, max_iter=1000;, score=0.708 total time=   2.0s\n",
      "[CV 4/5] END C=100, gamma=0.1, kernel=linear, max_iter=1000;, score=0.709 total time=   2.6s\n"
     ]
    },
    {
     "name": "stderr",
     "output_type": "stream",
     "text": [
      "/home/ebneto/miniconda3/envs/smp/lib/python3.10/site-packages/sklearn/svm/_base.py:299: ConvergenceWarning: Solver terminated early (max_iter=1000).  Consider pre-processing your data with StandardScaler or MinMaxScaler.\n",
      "  warnings.warn(\n"
     ]
    },
    {
     "name": "stdout",
     "output_type": "stream",
     "text": [
      "[CV 1/5] END C=100, gamma=0.1, kernel=poly, max_iter=1000;, score=0.701 total time=   2.2s\n"
     ]
    },
    {
     "name": "stderr",
     "output_type": "stream",
     "text": [
      "/home/ebneto/miniconda3/envs/smp/lib/python3.10/site-packages/sklearn/svm/_base.py:299: ConvergenceWarning: Solver terminated early (max_iter=1000).  Consider pre-processing your data with StandardScaler or MinMaxScaler.\n",
      "  warnings.warn(\n"
     ]
    },
    {
     "name": "stdout",
     "output_type": "stream",
     "text": [
      "[CV 2/5] END C=100, gamma=0.1, kernel=poly, max_iter=1000;, score=0.627 total time=   2.0s\n",
      "[CV 2/5] END C=10, gamma=auto, kernel=rbf, max_iter=1000;, score=0.500 total time=  28.4s\n"
     ]
    },
    {
     "name": "stderr",
     "output_type": "stream",
     "text": [
      "/home/ebneto/miniconda3/envs/smp/lib/python3.10/site-packages/sklearn/svm/_base.py:299: ConvergenceWarning: Solver terminated early (max_iter=1000).  Consider pre-processing your data with StandardScaler or MinMaxScaler.\n",
      "  warnings.warn(\n"
     ]
    },
    {
     "name": "stdout",
     "output_type": "stream",
     "text": [
      "[CV 3/5] END C=100, gamma=0.1, kernel=poly, max_iter=1000;, score=0.510 total time=   2.0s\n"
     ]
    },
    {
     "name": "stderr",
     "output_type": "stream",
     "text": [
      "/home/ebneto/miniconda3/envs/smp/lib/python3.10/site-packages/sklearn/svm/_base.py:299: ConvergenceWarning: Solver terminated early (max_iter=1000).  Consider pre-processing your data with StandardScaler or MinMaxScaler.\n",
      "  warnings.warn(\n"
     ]
    },
    {
     "name": "stdout",
     "output_type": "stream",
     "text": [
      "[CV 4/5] END C=100, gamma=0.1, kernel=poly, max_iter=1000;, score=0.611 total time=   2.2s\n"
     ]
    },
    {
     "name": "stderr",
     "output_type": "stream",
     "text": [
      "/home/ebneto/miniconda3/envs/smp/lib/python3.10/site-packages/sklearn/svm/_base.py:299: ConvergenceWarning: Solver terminated early (max_iter=1000).  Consider pre-processing your data with StandardScaler or MinMaxScaler.\n",
      "  warnings.warn(\n"
     ]
    },
    {
     "name": "stdout",
     "output_type": "stream",
     "text": [
      "[CV 5/5] END C=100, gamma=0.1, kernel=poly, max_iter=1000;, score=0.618 total time=   2.2s\n",
      "[CV 1/5] END C=10, gamma=auto, kernel=rbf, max_iter=1000;, score=0.500 total time=  31.3s\n",
      "[CV 2/5] END C=100, gamma=1, kernel=rbf, max_iter=1000;, score=0.500 total time=  23.6s\n",
      "[CV 3/5] END C=10, gamma=auto, kernel=rbf, max_iter=1000;, score=0.500 total time=  31.3s\n",
      "[CV 1/5] END C=100, gamma=1, kernel=rbf, max_iter=1000;, score=0.500 total time=  24.6s\n",
      "[CV 5/5] END C=10, gamma=auto, kernel=rbf, max_iter=1000;, score=0.500 total time=  31.5s\n",
      "[CV 3/5] END C=100, gamma=1, kernel=rbf, max_iter=1000;, score=0.500 total time=  24.1s\n",
      "[CV 5/5] END C=100, gamma=1, kernel=rbf, max_iter=1000;, score=0.500 total time=  23.7s\n"
     ]
    },
    {
     "name": "stderr",
     "output_type": "stream",
     "text": [
      "/home/ebneto/miniconda3/envs/smp/lib/python3.10/site-packages/sklearn/svm/_base.py:299: ConvergenceWarning: Solver terminated early (max_iter=1000).  Consider pre-processing your data with StandardScaler or MinMaxScaler.\n",
      "  warnings.warn(\n",
      "/home/ebneto/miniconda3/envs/smp/lib/python3.10/site-packages/sklearn/svm/_base.py:299: ConvergenceWarning: Solver terminated early (max_iter=1000).  Consider pre-processing your data with StandardScaler or MinMaxScaler.\n",
      "  warnings.warn(\n"
     ]
    },
    {
     "name": "stdout",
     "output_type": "stream",
     "text": [
      "[CV 1/5] END C=100, gamma=0.01, kernel=linear, max_iter=1000;, score=0.433 total time=   1.1s\n",
      "[CV 5/5] END C=100, gamma=0.1, kernel=sigmoid, max_iter=1000;, score=0.500 total time=   4.1s\n"
     ]
    },
    {
     "name": "stderr",
     "output_type": "stream",
     "text": [
      "/home/ebneto/miniconda3/envs/smp/lib/python3.10/site-packages/sklearn/svm/_base.py:299: ConvergenceWarning: Solver terminated early (max_iter=1000).  Consider pre-processing your data with StandardScaler or MinMaxScaler.\n",
      "  warnings.warn(\n"
     ]
    },
    {
     "name": "stdout",
     "output_type": "stream",
     "text": [
      "[CV 2/5] END C=100, gamma=0.01, kernel=linear, max_iter=1000;, score=0.629 total time=   1.8s\n"
     ]
    },
    {
     "name": "stderr",
     "output_type": "stream",
     "text": [
      "/home/ebneto/miniconda3/envs/smp/lib/python3.10/site-packages/sklearn/svm/_base.py:299: ConvergenceWarning: Solver terminated early (max_iter=1000).  Consider pre-processing your data with StandardScaler or MinMaxScaler.\n",
      "  warnings.warn(\n"
     ]
    },
    {
     "name": "stdout",
     "output_type": "stream",
     "text": [
      "[CV 5/5] END C=100, gamma=0.01, kernel=linear, max_iter=1000;, score=0.708 total time=   1.0s\n"
     ]
    },
    {
     "name": "stderr",
     "output_type": "stream",
     "text": [
      "/home/ebneto/miniconda3/envs/smp/lib/python3.10/site-packages/sklearn/svm/_base.py:299: ConvergenceWarning: Solver terminated early (max_iter=1000).  Consider pre-processing your data with StandardScaler or MinMaxScaler.\n",
      "  warnings.warn(\n"
     ]
    },
    {
     "name": "stdout",
     "output_type": "stream",
     "text": [
      "[CV 1/5] END C=100, gamma=0.01, kernel=poly, max_iter=1000;, score=0.701 total time=   1.1s\n",
      "[CV 4/5] END C=100, gamma=0.1, kernel=sigmoid, max_iter=1000;, score=0.500 total time=   6.3s\n"
     ]
    },
    {
     "name": "stderr",
     "output_type": "stream",
     "text": [
      "/home/ebneto/miniconda3/envs/smp/lib/python3.10/site-packages/sklearn/svm/_base.py:299: ConvergenceWarning: Solver terminated early (max_iter=1000).  Consider pre-processing your data with StandardScaler or MinMaxScaler.\n",
      "  warnings.warn(\n"
     ]
    },
    {
     "name": "stdout",
     "output_type": "stream",
     "text": [
      "[CV 3/5] END C=100, gamma=0.01, kernel=poly, max_iter=1000;, score=0.505 total time=   0.9s\n"
     ]
    },
    {
     "name": "stderr",
     "output_type": "stream",
     "text": [
      "/home/ebneto/miniconda3/envs/smp/lib/python3.10/site-packages/sklearn/svm/_base.py:299: ConvergenceWarning: Solver terminated early (max_iter=1000).  Consider pre-processing your data with StandardScaler or MinMaxScaler.\n",
      "  warnings.warn(\n"
     ]
    },
    {
     "name": "stdout",
     "output_type": "stream",
     "text": [
      "[CV 1/5] END C=100, gamma=0.1, kernel=sigmoid, max_iter=1000;, score=0.500 total time=   8.1s\n",
      "[CV 4/5] END C=100, gamma=0.01, kernel=linear, max_iter=1000;, score=0.709 total time=   2.7s\n"
     ]
    },
    {
     "name": "stderr",
     "output_type": "stream",
     "text": [
      "/home/ebneto/miniconda3/envs/smp/lib/python3.10/site-packages/sklearn/svm/_base.py:299: ConvergenceWarning: Solver terminated early (max_iter=1000).  Consider pre-processing your data with StandardScaler or MinMaxScaler.\n",
      "  warnings.warn(\n",
      "/home/ebneto/miniconda3/envs/smp/lib/python3.10/site-packages/sklearn/svm/_base.py:299: ConvergenceWarning: Solver terminated early (max_iter=1000).  Consider pre-processing your data with StandardScaler or MinMaxScaler.\n",
      "  warnings.warn(\n"
     ]
    },
    {
     "name": "stdout",
     "output_type": "stream",
     "text": [
      "[CV 2/5] END C=100, gamma=0.01, kernel=poly, max_iter=1000;, score=0.559 total time=   1.8s\n"
     ]
    },
    {
     "name": "stderr",
     "output_type": "stream",
     "text": [
      "/home/ebneto/miniconda3/envs/smp/lib/python3.10/site-packages/sklearn/svm/_base.py:299: ConvergenceWarning: Solver terminated early (max_iter=1000).  Consider pre-processing your data with StandardScaler or MinMaxScaler.\n",
      "  warnings.warn(\n"
     ]
    },
    {
     "name": "stdout",
     "output_type": "stream",
     "text": [
      "[CV 2/5] END C=100, gamma=0.1, kernel=sigmoid, max_iter=1000;, score=0.500 total time=   8.4s\n",
      "[CV 3/5] END C=100, gamma=0.01, kernel=linear, max_iter=1000;, score=0.343 total time=   3.7s\n",
      "[CV 3/5] END C=100, gamma=0.1, kernel=sigmoid, max_iter=1000;, score=0.500 total time=   8.5s\n"
     ]
    },
    {
     "name": "stderr",
     "output_type": "stream",
     "text": [
      "/home/ebneto/miniconda3/envs/smp/lib/python3.10/site-packages/sklearn/svm/_base.py:299: ConvergenceWarning: Solver terminated early (max_iter=1000).  Consider pre-processing your data with StandardScaler or MinMaxScaler.\n",
      "  warnings.warn(\n"
     ]
    },
    {
     "name": "stdout",
     "output_type": "stream",
     "text": [
      "[CV 1/5] END C=100, gamma=0.1, kernel=rbf, max_iter=1000;, score=0.500 total time=  18.8s\n"
     ]
    },
    {
     "name": "stderr",
     "output_type": "stream",
     "text": [
      "/home/ebneto/miniconda3/envs/smp/lib/python3.10/site-packages/sklearn/svm/_base.py:299: ConvergenceWarning: Solver terminated early (max_iter=1000).  Consider pre-processing your data with StandardScaler or MinMaxScaler.\n",
      "  warnings.warn(\n"
     ]
    },
    {
     "name": "stdout",
     "output_type": "stream",
     "text": [
      "[CV 5/5] END C=100, gamma=0.01, kernel=poly, max_iter=1000;, score=0.493 total time=   2.1s\n"
     ]
    },
    {
     "name": "stderr",
     "output_type": "stream",
     "text": [
      "/home/ebneto/miniconda3/envs/smp/lib/python3.10/site-packages/sklearn/svm/_base.py:299: ConvergenceWarning: Solver terminated early (max_iter=1000).  Consider pre-processing your data with StandardScaler or MinMaxScaler.\n",
      "  warnings.warn(\n"
     ]
    },
    {
     "name": "stdout",
     "output_type": "stream",
     "text": [
      "[CV 4/5] END C=100, gamma=0.01, kernel=poly, max_iter=1000;, score=0.611 total time=   2.6s\n"
     ]
    },
    {
     "name": "stderr",
     "output_type": "stream",
     "text": [
      "/home/ebneto/miniconda3/envs/smp/lib/python3.10/site-packages/sklearn/svm/_base.py:299: ConvergenceWarning: Solver terminated early (max_iter=1000).  Consider pre-processing your data with StandardScaler or MinMaxScaler.\n",
      "  warnings.warn(\n",
      "/home/ebneto/miniconda3/envs/smp/lib/python3.10/site-packages/sklearn/svm/_base.py:299: ConvergenceWarning: Solver terminated early (max_iter=1000).  Consider pre-processing your data with StandardScaler or MinMaxScaler.\n",
      "  warnings.warn(\n",
      "/home/ebneto/miniconda3/envs/smp/lib/python3.10/site-packages/sklearn/svm/_base.py:299: ConvergenceWarning: Solver terminated early (max_iter=1000).  Consider pre-processing your data with StandardScaler or MinMaxScaler.\n",
      "  warnings.warn(\n"
     ]
    },
    {
     "name": "stdout",
     "output_type": "stream",
     "text": [
      "[CV 3/5] END C=100, gamma=0.01, kernel=sigmoid, max_iter=1000;, score=0.500 total time=   2.8s\n"
     ]
    },
    {
     "name": "stderr",
     "output_type": "stream",
     "text": [
      "/home/ebneto/miniconda3/envs/smp/lib/python3.10/site-packages/sklearn/svm/_base.py:299: ConvergenceWarning: Solver terminated early (max_iter=1000).  Consider pre-processing your data with StandardScaler or MinMaxScaler.\n",
      "  warnings.warn(\n"
     ]
    },
    {
     "name": "stdout",
     "output_type": "stream",
     "text": [
      "[CV 2/5] END C=100, gamma=0.001, kernel=linear, max_iter=1000;, score=0.629 total time=   1.5s\n",
      "[CV 5/5] END C=100, gamma=0.01, kernel=sigmoid, max_iter=1000;, score=0.500 total time=   4.4s\n"
     ]
    },
    {
     "name": "stderr",
     "output_type": "stream",
     "text": [
      "/home/ebneto/miniconda3/envs/smp/lib/python3.10/site-packages/sklearn/svm/_base.py:299: ConvergenceWarning: Solver terminated early (max_iter=1000).  Consider pre-processing your data with StandardScaler or MinMaxScaler.\n",
      "  warnings.warn(\n"
     ]
    },
    {
     "name": "stdout",
     "output_type": "stream",
     "text": [
      "[CV 4/5] END C=100, gamma=0.001, kernel=linear, max_iter=1000;, score=0.709 total time=   1.9s\n",
      "[CV 2/5] END C=100, gamma=0.1, kernel=rbf, max_iter=1000;, score=0.500 total time=  23.8s\n"
     ]
    },
    {
     "name": "stderr",
     "output_type": "stream",
     "text": [
      "/home/ebneto/miniconda3/envs/smp/lib/python3.10/site-packages/sklearn/svm/_base.py:299: ConvergenceWarning: Solver terminated early (max_iter=1000).  Consider pre-processing your data with StandardScaler or MinMaxScaler.\n",
      "  warnings.warn(\n"
     ]
    },
    {
     "name": "stdout",
     "output_type": "stream",
     "text": [
      "[CV 5/5] END C=100, gamma=0.001, kernel=linear, max_iter=1000;, score=0.708 total time=   1.4s\n"
     ]
    },
    {
     "name": "stderr",
     "output_type": "stream",
     "text": [
      "/home/ebneto/miniconda3/envs/smp/lib/python3.10/site-packages/sklearn/svm/_base.py:299: ConvergenceWarning: Solver terminated early (max_iter=1000).  Consider pre-processing your data with StandardScaler or MinMaxScaler.\n",
      "  warnings.warn(\n"
     ]
    },
    {
     "name": "stdout",
     "output_type": "stream",
     "text": [
      "[CV 1/5] END C=100, gamma=0.001, kernel=linear, max_iter=1000;, score=0.433 total time=   4.0s\n",
      "[CV 2/5] END C=100, gamma=0.01, kernel=rbf, max_iter=1000;, score=0.500 total time=  13.9s\n",
      "[CV 2/5] END C=100, gamma=0.001, kernel=poly, max_iter=1000;, score=0.819 total time=   1.3s\n",
      "[CV 1/5] END C=100, gamma=0.001, kernel=poly, max_iter=1000;, score=0.603 total time=   1.6s\n",
      "[CV 1/5] END C=100, gamma=0.01, kernel=sigmoid, max_iter=1000;, score=0.500 total time=   7.9s\n",
      "[CV 3/5] END C=100, gamma=0.001, kernel=linear, max_iter=1000;, score=0.343 total time=   3.5s\n"
     ]
    },
    {
     "name": "stderr",
     "output_type": "stream",
     "text": [
      "/home/ebneto/miniconda3/envs/smp/lib/python3.10/site-packages/sklearn/svm/_base.py:299: ConvergenceWarning: Solver terminated early (max_iter=1000).  Consider pre-processing your data with StandardScaler or MinMaxScaler.\n",
      "  warnings.warn(\n",
      "/home/ebneto/miniconda3/envs/smp/lib/python3.10/site-packages/sklearn/svm/_base.py:299: ConvergenceWarning: Solver terminated early (max_iter=1000).  Consider pre-processing your data with StandardScaler or MinMaxScaler.\n",
      "  warnings.warn(\n",
      "/home/ebneto/miniconda3/envs/smp/lib/python3.10/site-packages/sklearn/svm/_base.py:299: ConvergenceWarning: Solver terminated early (max_iter=1000).  Consider pre-processing your data with StandardScaler or MinMaxScaler.\n",
      "  warnings.warn(\n",
      "/home/ebneto/miniconda3/envs/smp/lib/python3.10/site-packages/sklearn/svm/_base.py:299: ConvergenceWarning: Solver terminated early (max_iter=1000).  Consider pre-processing your data with StandardScaler or MinMaxScaler.\n",
      "  warnings.warn(\n"
     ]
    },
    {
     "name": "stdout",
     "output_type": "stream",
     "text": [
      "[CV 4/5] END C=100, gamma=0.001, kernel=poly, max_iter=1000;, score=0.444 total time=   1.1s\n"
     ]
    },
    {
     "name": "stderr",
     "output_type": "stream",
     "text": [
      "/home/ebneto/miniconda3/envs/smp/lib/python3.10/site-packages/sklearn/svm/_base.py:299: ConvergenceWarning: Solver terminated early (max_iter=1000).  Consider pre-processing your data with StandardScaler or MinMaxScaler.\n",
      "  warnings.warn(\n",
      "/home/ebneto/miniconda3/envs/smp/lib/python3.10/site-packages/sklearn/svm/_base.py:299: ConvergenceWarning: Solver terminated early (max_iter=1000).  Consider pre-processing your data with StandardScaler or MinMaxScaler.\n",
      "  warnings.warn(\n"
     ]
    },
    {
     "name": "stdout",
     "output_type": "stream",
     "text": [
      "[CV 5/5] END C=100, gamma=0.001, kernel=poly, max_iter=1000;, score=0.618 total time=   0.9s\n",
      "[CV 3/5] END C=100, gamma=0.001, kernel=poly, max_iter=1000;, score=0.584 total time=   1.6s\n",
      "[CV 2/5] END C=100, gamma=0.01, kernel=sigmoid, max_iter=1000;, score=0.500 total time=   9.3s\n",
      "[CV 4/5] END C=100, gamma=0.01, kernel=sigmoid, max_iter=1000;, score=0.500 total time=   9.1s\n"
     ]
    },
    {
     "name": "stderr",
     "output_type": "stream",
     "text": [
      "/home/ebneto/miniconda3/envs/smp/lib/python3.10/site-packages/sklearn/svm/_base.py:299: ConvergenceWarning: Solver terminated early (max_iter=1000).  Consider pre-processing your data with StandardScaler or MinMaxScaler.\n",
      "  warnings.warn(\n"
     ]
    },
    {
     "name": "stdout",
     "output_type": "stream",
     "text": [
      "[CV 1/5] END C=100, gamma=0.001, kernel=sigmoid, max_iter=1000;, score=0.500 total time=   3.4s\n",
      "[CV 2/5] END C=100, gamma=0.001, kernel=sigmoid, max_iter=1000;, score=0.500 total time=   3.3s\n",
      "[CV 3/5] END C=100, gamma=0.001, kernel=sigmoid, max_iter=1000;, score=0.500 total time=   3.2s\n",
      "[CV 5/5] END C=100, gamma=0.1, kernel=rbf, max_iter=1000;, score=0.500 total time=  28.2s\n"
     ]
    },
    {
     "name": "stderr",
     "output_type": "stream",
     "text": [
      "/home/ebneto/miniconda3/envs/smp/lib/python3.10/site-packages/sklearn/svm/_base.py:299: ConvergenceWarning: Solver terminated early (max_iter=1000).  Consider pre-processing your data with StandardScaler or MinMaxScaler.\n",
      "  warnings.warn(\n"
     ]
    },
    {
     "name": "stdout",
     "output_type": "stream",
     "text": [
      "[CV 2/5] END C=100, gamma=0.0001, kernel=linear, max_iter=1000;, score=0.629 total time=   1.2s\n"
     ]
    },
    {
     "name": "stderr",
     "output_type": "stream",
     "text": [
      "/home/ebneto/miniconda3/envs/smp/lib/python3.10/site-packages/sklearn/svm/_base.py:299: ConvergenceWarning: Solver terminated early (max_iter=1000).  Consider pre-processing your data with StandardScaler or MinMaxScaler.\n",
      "  warnings.warn(\n",
      "/home/ebneto/miniconda3/envs/smp/lib/python3.10/site-packages/sklearn/svm/_base.py:299: ConvergenceWarning: Solver terminated early (max_iter=1000).  Consider pre-processing your data with StandardScaler or MinMaxScaler.\n",
      "  warnings.warn(\n",
      "/home/ebneto/miniconda3/envs/smp/lib/python3.10/site-packages/sklearn/svm/_base.py:299: ConvergenceWarning: Solver terminated early (max_iter=1000).  Consider pre-processing your data with StandardScaler or MinMaxScaler.\n",
      "  warnings.warn(\n",
      "/home/ebneto/miniconda3/envs/smp/lib/python3.10/site-packages/sklearn/svm/_base.py:299: ConvergenceWarning: Solver terminated early (max_iter=1000).  Consider pre-processing your data with StandardScaler or MinMaxScaler.\n",
      "  warnings.warn(\n"
     ]
    },
    {
     "name": "stdout",
     "output_type": "stream",
     "text": [
      "[CV 5/5] END C=100, gamma=0.0001, kernel=linear, max_iter=1000;, score=0.708 total time=   1.2s\n",
      "[CV 3/5] END C=100, gamma=0.0001, kernel=linear, max_iter=1000;, score=0.343 total time=   1.9s\n",
      "[CV 4/5] END C=100, gamma=0.0001, kernel=linear, max_iter=1000;, score=0.709 total time=   1.8s\n"
     ]
    },
    {
     "name": "stderr",
     "output_type": "stream",
     "text": [
      "/home/ebneto/miniconda3/envs/smp/lib/python3.10/site-packages/sklearn/svm/_base.py:299: ConvergenceWarning: Solver terminated early (max_iter=1000).  Consider pre-processing your data with StandardScaler or MinMaxScaler.\n",
      "  warnings.warn(\n",
      "/home/ebneto/miniconda3/envs/smp/lib/python3.10/site-packages/sklearn/svm/_base.py:299: ConvergenceWarning: Solver terminated early (max_iter=1000).  Consider pre-processing your data with StandardScaler or MinMaxScaler.\n",
      "  warnings.warn(\n"
     ]
    },
    {
     "name": "stdout",
     "output_type": "stream",
     "text": [
      "[CV 5/5] END C=100, gamma=0.001, kernel=sigmoid, max_iter=1000;, score=0.500 total time=   6.2s\n",
      "[CV 2/5] END C=100, gamma=0.0001, kernel=poly, max_iter=1000;, score=0.560 total time=   0.9s\n",
      "[CV 1/5] END C=100, gamma=0.0001, kernel=poly, max_iter=1000;, score=0.498 total time=   1.5s\n",
      "[CV 5/5] END C=100, gamma=0.001, kernel=rbf, max_iter=1000;, score=0.500 total time=  13.6s\n"
     ]
    },
    {
     "name": "stderr",
     "output_type": "stream",
     "text": [
      "/home/ebneto/miniconda3/envs/smp/lib/python3.10/site-packages/sklearn/svm/_base.py:299: ConvergenceWarning: Solver terminated early (max_iter=1000).  Consider pre-processing your data with StandardScaler or MinMaxScaler.\n",
      "  warnings.warn(\n",
      "/home/ebneto/miniconda3/envs/smp/lib/python3.10/site-packages/sklearn/svm/_base.py:299: ConvergenceWarning: Solver terminated early (max_iter=1000).  Consider pre-processing your data with StandardScaler or MinMaxScaler.\n",
      "  warnings.warn(\n"
     ]
    },
    {
     "name": "stdout",
     "output_type": "stream",
     "text": [
      "[CV 4/5] END C=100, gamma=0.0001, kernel=poly, max_iter=1000;, score=0.444 total time=   0.8s\n",
      "[CV 1/5] END C=100, gamma=0.0001, kernel=linear, max_iter=1000;, score=0.433 total time=   4.2s\n"
     ]
    },
    {
     "name": "stderr",
     "output_type": "stream",
     "text": [
      "/home/ebneto/miniconda3/envs/smp/lib/python3.10/site-packages/sklearn/svm/_base.py:299: ConvergenceWarning: Solver terminated early (max_iter=1000).  Consider pre-processing your data with StandardScaler or MinMaxScaler.\n",
      "  warnings.warn(\n"
     ]
    },
    {
     "name": "stdout",
     "output_type": "stream",
     "text": [
      "[CV 5/5] END C=100, gamma=0.0001, kernel=poly, max_iter=1000;, score=0.618 total time=   0.7s\n"
     ]
    },
    {
     "name": "stderr",
     "output_type": "stream",
     "text": [
      "/home/ebneto/miniconda3/envs/smp/lib/python3.10/site-packages/sklearn/svm/_base.py:299: ConvergenceWarning: Solver terminated early (max_iter=1000).  Consider pre-processing your data with StandardScaler or MinMaxScaler.\n",
      "  warnings.warn(\n",
      "/home/ebneto/miniconda3/envs/smp/lib/python3.10/site-packages/sklearn/svm/_base.py:299: ConvergenceWarning: Solver terminated early (max_iter=1000).  Consider pre-processing your data with StandardScaler or MinMaxScaler.\n",
      "  warnings.warn(\n"
     ]
    },
    {
     "name": "stdout",
     "output_type": "stream",
     "text": [
      "[CV 3/5] END C=100, gamma=0.0001, kernel=poly, max_iter=1000;, score=0.505 total time=   2.6s\n",
      "[CV 1/5] END C=100, gamma=0.0001, kernel=sigmoid, max_iter=1000;, score=0.500 total time=   2.1s\n"
     ]
    },
    {
     "name": "stderr",
     "output_type": "stream",
     "text": [
      "/home/ebneto/miniconda3/envs/smp/lib/python3.10/site-packages/sklearn/svm/_base.py:299: ConvergenceWarning: Solver terminated early (max_iter=1000).  Consider pre-processing your data with StandardScaler or MinMaxScaler.\n",
      "  warnings.warn(\n",
      "/home/ebneto/miniconda3/envs/smp/lib/python3.10/site-packages/sklearn/svm/_base.py:299: ConvergenceWarning: Solver terminated early (max_iter=1000).  Consider pre-processing your data with StandardScaler or MinMaxScaler.\n",
      "  warnings.warn(\n"
     ]
    },
    {
     "name": "stdout",
     "output_type": "stream",
     "text": [
      "[CV 4/5] END C=100, gamma=0.1, kernel=rbf, max_iter=1000;, score=0.500 total time=  36.0s\n",
      "[CV 4/5] END C=100, gamma=0.0001, kernel=sigmoid, max_iter=1000;, score=0.500 total time=   2.3s\n",
      "[CV 4/5] END C=100, gamma=0.001, kernel=sigmoid, max_iter=1000;, score=0.500 total time=  10.9s\n"
     ]
    },
    {
     "name": "stderr",
     "output_type": "stream",
     "text": [
      "/home/ebneto/miniconda3/envs/smp/lib/python3.10/site-packages/sklearn/svm/_base.py:299: ConvergenceWarning: Solver terminated early (max_iter=1000).  Consider pre-processing your data with StandardScaler or MinMaxScaler.\n",
      "  warnings.warn(\n"
     ]
    },
    {
     "name": "stdout",
     "output_type": "stream",
     "text": [
      "[CV 5/5] END C=100, gamma=0.0001, kernel=sigmoid, max_iter=1000;, score=0.500 total time=   2.1s\n",
      "[CV 3/5] END C=100, gamma=0.1, kernel=rbf, max_iter=1000;, score=0.500 total time=  37.2s\n",
      "[CV 4/5] END C=100, gamma=0.0001, kernel=rbf, max_iter=1000;, score=0.500 total time=   9.9s\n"
     ]
    },
    {
     "name": "stderr",
     "output_type": "stream",
     "text": [
      "/home/ebneto/miniconda3/envs/smp/lib/python3.10/site-packages/sklearn/svm/_base.py:299: ConvergenceWarning: Solver terminated early (max_iter=1000).  Consider pre-processing your data with StandardScaler or MinMaxScaler.\n",
      "  warnings.warn(\n",
      "/home/ebneto/miniconda3/envs/smp/lib/python3.10/site-packages/sklearn/svm/_base.py:299: ConvergenceWarning: Solver terminated early (max_iter=1000).  Consider pre-processing your data with StandardScaler or MinMaxScaler.\n",
      "  warnings.warn(\n",
      "/home/ebneto/miniconda3/envs/smp/lib/python3.10/site-packages/sklearn/svm/_base.py:299: ConvergenceWarning: Solver terminated early (max_iter=1000).  Consider pre-processing your data with StandardScaler or MinMaxScaler.\n",
      "  warnings.warn(\n"
     ]
    },
    {
     "name": "stdout",
     "output_type": "stream",
     "text": [
      "[CV 4/5] END C=100, gamma=scale, kernel=rbf, max_iter=1000;, score=0.882 total time=   2.3s\n",
      "[CV 1/5] END C=100, gamma=scale, kernel=linear, max_iter=1000;, score=0.433 total time=   1.0s\n",
      "[CV 5/5] END C=100, gamma=scale, kernel=rbf, max_iter=1000;, score=0.814 total time=   2.2s\n"
     ]
    },
    {
     "name": "stderr",
     "output_type": "stream",
     "text": [
      "/home/ebneto/miniconda3/envs/smp/lib/python3.10/site-packages/sklearn/svm/_base.py:299: ConvergenceWarning: Solver terminated early (max_iter=1000).  Consider pre-processing your data with StandardScaler or MinMaxScaler.\n",
      "  warnings.warn(\n"
     ]
    },
    {
     "name": "stdout",
     "output_type": "stream",
     "text": [
      "[CV 3/5] END C=100, gamma=scale, kernel=linear, max_iter=1000;, score=0.343 total time=   0.8s\n"
     ]
    },
    {
     "name": "stderr",
     "output_type": "stream",
     "text": [
      "/home/ebneto/miniconda3/envs/smp/lib/python3.10/site-packages/sklearn/svm/_base.py:299: ConvergenceWarning: Solver terminated early (max_iter=1000).  Consider pre-processing your data with StandardScaler or MinMaxScaler.\n",
      "  warnings.warn(\n",
      "/home/ebneto/miniconda3/envs/smp/lib/python3.10/site-packages/sklearn/svm/_base.py:299: ConvergenceWarning: Solver terminated early (max_iter=1000).  Consider pre-processing your data with StandardScaler or MinMaxScaler.\n",
      "  warnings.warn(\n"
     ]
    },
    {
     "name": "stdout",
     "output_type": "stream",
     "text": [
      "[CV 4/5] END C=100, gamma=scale, kernel=linear, max_iter=1000;, score=0.709 total time=   0.8s\n"
     ]
    },
    {
     "name": "stderr",
     "output_type": "stream",
     "text": [
      "/home/ebneto/miniconda3/envs/smp/lib/python3.10/site-packages/sklearn/svm/_base.py:299: ConvergenceWarning: Solver terminated early (max_iter=1000).  Consider pre-processing your data with StandardScaler or MinMaxScaler.\n",
      "  warnings.warn(\n",
      "/home/ebneto/miniconda3/envs/smp/lib/python3.10/site-packages/sklearn/svm/_base.py:299: ConvergenceWarning: Solver terminated early (max_iter=1000).  Consider pre-processing your data with StandardScaler or MinMaxScaler.\n",
      "  warnings.warn(\n"
     ]
    },
    {
     "name": "stdout",
     "output_type": "stream",
     "text": [
      "[CV 5/5] END C=100, gamma=scale, kernel=linear, max_iter=1000;, score=0.708 total time=   0.8s\n",
      "[CV 1/5] END C=100, gamma=scale, kernel=rbf, max_iter=1000;, score=0.840 total time=   6.2s\n"
     ]
    },
    {
     "name": "stderr",
     "output_type": "stream",
     "text": [
      "/home/ebneto/miniconda3/envs/smp/lib/python3.10/site-packages/sklearn/svm/_base.py:299: ConvergenceWarning: Solver terminated early (max_iter=1000).  Consider pre-processing your data with StandardScaler or MinMaxScaler.\n",
      "  warnings.warn(\n",
      "/home/ebneto/miniconda3/envs/smp/lib/python3.10/site-packages/sklearn/svm/_base.py:299: ConvergenceWarning: Solver terminated early (max_iter=1000).  Consider pre-processing your data with StandardScaler or MinMaxScaler.\n",
      "  warnings.warn(\n"
     ]
    },
    {
     "name": "stdout",
     "output_type": "stream",
     "text": [
      "[CV 3/5] END C=100, gamma=scale, kernel=poly, max_iter=1000;, score=0.507 total time=   1.4s\n",
      "[CV 2/5] END C=100, gamma=scale, kernel=linear, max_iter=1000;, score=0.629 total time=   3.8s\n"
     ]
    },
    {
     "name": "stderr",
     "output_type": "stream",
     "text": [
      "/home/ebneto/miniconda3/envs/smp/lib/python3.10/site-packages/sklearn/svm/_base.py:299: ConvergenceWarning: Solver terminated early (max_iter=1000).  Consider pre-processing your data with StandardScaler or MinMaxScaler.\n",
      "  warnings.warn(\n",
      "/home/ebneto/miniconda3/envs/smp/lib/python3.10/site-packages/sklearn/svm/_base.py:299: ConvergenceWarning: Solver terminated early (max_iter=1000).  Consider pre-processing your data with StandardScaler or MinMaxScaler.\n",
      "  warnings.warn(\n"
     ]
    },
    {
     "name": "stdout",
     "output_type": "stream",
     "text": [
      "[CV 4/5] END C=100, gamma=scale, kernel=poly, max_iter=1000;, score=0.532 total time=   1.6s\n",
      "[CV 5/5] END C=100, gamma=scale, kernel=poly, max_iter=1000;, score=0.475 total time=   1.6s\n"
     ]
    },
    {
     "name": "stderr",
     "output_type": "stream",
     "text": [
      "/home/ebneto/miniconda3/envs/smp/lib/python3.10/site-packages/sklearn/svm/_base.py:299: ConvergenceWarning: Solver terminated early (max_iter=1000).  Consider pre-processing your data with StandardScaler or MinMaxScaler.\n",
      "  warnings.warn(\n"
     ]
    },
    {
     "name": "stdout",
     "output_type": "stream",
     "text": [
      "[CV 3/5] END C=100, gamma=0.0001, kernel=sigmoid, max_iter=1000;, score=0.500 total time=   9.7s\n",
      "[CV 1/5] END C=100, gamma=scale, kernel=poly, max_iter=1000;, score=0.679 total time=   3.1s\n"
     ]
    },
    {
     "name": "stderr",
     "output_type": "stream",
     "text": [
      "/home/ebneto/miniconda3/envs/smp/lib/python3.10/site-packages/sklearn/svm/_base.py:299: ConvergenceWarning: Solver terminated early (max_iter=1000).  Consider pre-processing your data with StandardScaler or MinMaxScaler.\n",
      "  warnings.warn(\n"
     ]
    },
    {
     "name": "stdout",
     "output_type": "stream",
     "text": [
      "[CV 1/5] END C=100, gamma=scale, kernel=sigmoid, max_iter=1000;, score=0.534 total time=   2.1s\n",
      "[CV 2/5] END C=100, gamma=0.0001, kernel=sigmoid, max_iter=1000;, score=0.500 total time=  11.8s\n"
     ]
    },
    {
     "name": "stderr",
     "output_type": "stream",
     "text": [
      "/home/ebneto/miniconda3/envs/smp/lib/python3.10/site-packages/sklearn/svm/_base.py:299: ConvergenceWarning: Solver terminated early (max_iter=1000).  Consider pre-processing your data with StandardScaler or MinMaxScaler.\n",
      "  warnings.warn(\n"
     ]
    },
    {
     "name": "stdout",
     "output_type": "stream",
     "text": [
      "[CV 2/5] END C=100, gamma=scale, kernel=poly, max_iter=1000;, score=0.724 total time=   4.9s\n",
      "[CV 3/5] END C=100, gamma=scale, kernel=sigmoid, max_iter=1000;, score=0.559 total time=   2.1s\n"
     ]
    },
    {
     "name": "stderr",
     "output_type": "stream",
     "text": [
      "/home/ebneto/miniconda3/envs/smp/lib/python3.10/site-packages/sklearn/svm/_base.py:299: ConvergenceWarning: Solver terminated early (max_iter=1000).  Consider pre-processing your data with StandardScaler or MinMaxScaler.\n",
      "  warnings.warn(\n",
      "/home/ebneto/miniconda3/envs/smp/lib/python3.10/site-packages/sklearn/svm/_base.py:299: ConvergenceWarning: Solver terminated early (max_iter=1000).  Consider pre-processing your data with StandardScaler or MinMaxScaler.\n",
      "  warnings.warn(\n",
      "/home/ebneto/miniconda3/envs/smp/lib/python3.10/site-packages/sklearn/svm/_base.py:299: ConvergenceWarning: Solver terminated early (max_iter=1000).  Consider pre-processing your data with StandardScaler or MinMaxScaler.\n",
      "  warnings.warn(\n"
     ]
    },
    {
     "name": "stdout",
     "output_type": "stream",
     "text": [
      "[CV 5/5] END C=100, gamma=scale, kernel=sigmoid, max_iter=1000;, score=0.531 total time=   2.3s\n"
     ]
    },
    {
     "name": "stderr",
     "output_type": "stream",
     "text": [
      "/home/ebneto/miniconda3/envs/smp/lib/python3.10/site-packages/sklearn/svm/_base.py:299: ConvergenceWarning: Solver terminated early (max_iter=1000).  Consider pre-processing your data with StandardScaler or MinMaxScaler.\n",
      "  warnings.warn(\n"
     ]
    },
    {
     "name": "stdout",
     "output_type": "stream",
     "text": [
      "[CV 1/5] END C=100, gamma=auto, kernel=linear, max_iter=1000;, score=0.433 total time=   1.0s\n"
     ]
    },
    {
     "name": "stderr",
     "output_type": "stream",
     "text": [
      "/home/ebneto/miniconda3/envs/smp/lib/python3.10/site-packages/sklearn/svm/_base.py:299: ConvergenceWarning: Solver terminated early (max_iter=1000).  Consider pre-processing your data with StandardScaler or MinMaxScaler.\n",
      "  warnings.warn(\n",
      "/home/ebneto/miniconda3/envs/smp/lib/python3.10/site-packages/sklearn/svm/_base.py:299: ConvergenceWarning: Solver terminated early (max_iter=1000).  Consider pre-processing your data with StandardScaler or MinMaxScaler.\n",
      "  warnings.warn(\n"
     ]
    },
    {
     "name": "stdout",
     "output_type": "stream",
     "text": [
      "[CV 2/5] END C=100, gamma=auto, kernel=linear, max_iter=1000;, score=0.629 total time=   1.1s\n",
      "[CV 3/5] END C=100, gamma=auto, kernel=linear, max_iter=1000;, score=0.343 total time=   1.1s\n",
      "[CV 1/5] END C=100, gamma=0.01, kernel=rbf, max_iter=1000;, score=0.500 total time=  39.8s\n"
     ]
    },
    {
     "name": "stderr",
     "output_type": "stream",
     "text": [
      "/home/ebneto/miniconda3/envs/smp/lib/python3.10/site-packages/sklearn/svm/_base.py:299: ConvergenceWarning: Solver terminated early (max_iter=1000).  Consider pre-processing your data with StandardScaler or MinMaxScaler.\n",
      "  warnings.warn(\n"
     ]
    },
    {
     "name": "stdout",
     "output_type": "stream",
     "text": [
      "[CV 4/5] END C=100, gamma=auto, kernel=linear, max_iter=1000;, score=0.709 total time=   1.1s\n"
     ]
    },
    {
     "name": "stderr",
     "output_type": "stream",
     "text": [
      "/home/ebneto/miniconda3/envs/smp/lib/python3.10/site-packages/sklearn/svm/_base.py:299: ConvergenceWarning: Solver terminated early (max_iter=1000).  Consider pre-processing your data with StandardScaler or MinMaxScaler.\n",
      "  warnings.warn(\n",
      "/home/ebneto/miniconda3/envs/smp/lib/python3.10/site-packages/sklearn/svm/_base.py:299: ConvergenceWarning: Solver terminated early (max_iter=1000).  Consider pre-processing your data with StandardScaler or MinMaxScaler.\n",
      "  warnings.warn(\n"
     ]
    },
    {
     "name": "stdout",
     "output_type": "stream",
     "text": [
      "[CV 5/5] END C=100, gamma=auto, kernel=linear, max_iter=1000;, score=0.708 total time=   0.9s\n"
     ]
    },
    {
     "name": "stderr",
     "output_type": "stream",
     "text": [
      "/home/ebneto/miniconda3/envs/smp/lib/python3.10/site-packages/sklearn/svm/_base.py:299: ConvergenceWarning: Solver terminated early (max_iter=1000).  Consider pre-processing your data with StandardScaler or MinMaxScaler.\n",
      "  warnings.warn(\n"
     ]
    },
    {
     "name": "stdout",
     "output_type": "stream",
     "text": [
      "[CV 1/5] END C=100, gamma=auto, kernel=poly, max_iter=1000;, score=0.701 total time=   0.9s\n",
      "[CV 3/5] END C=100, gamma=scale, kernel=rbf, max_iter=1000;, score=0.860 total time=  14.6s\n"
     ]
    },
    {
     "name": "stderr",
     "output_type": "stream",
     "text": [
      "/home/ebneto/miniconda3/envs/smp/lib/python3.10/site-packages/sklearn/svm/_base.py:299: ConvergenceWarning: Solver terminated early (max_iter=1000).  Consider pre-processing your data with StandardScaler or MinMaxScaler.\n",
      "  warnings.warn(\n",
      "/home/ebneto/miniconda3/envs/smp/lib/python3.10/site-packages/sklearn/svm/_base.py:299: ConvergenceWarning: Solver terminated early (max_iter=1000).  Consider pre-processing your data with StandardScaler or MinMaxScaler.\n",
      "  warnings.warn(\n"
     ]
    },
    {
     "name": "stdout",
     "output_type": "stream",
     "text": [
      "[CV 2/5] END C=100, gamma=scale, kernel=rbf, max_iter=1000;, score=0.841 total time=  15.8s\n",
      "[CV 2/5] END C=100, gamma=auto, kernel=poly, max_iter=1000;, score=0.819 total time=   0.9s\n"
     ]
    },
    {
     "name": "stderr",
     "output_type": "stream",
     "text": [
      "/home/ebneto/miniconda3/envs/smp/lib/python3.10/site-packages/sklearn/svm/_base.py:299: ConvergenceWarning: Solver terminated early (max_iter=1000).  Consider pre-processing your data with StandardScaler or MinMaxScaler.\n",
      "  warnings.warn(\n",
      "/home/ebneto/miniconda3/envs/smp/lib/python3.10/site-packages/sklearn/svm/_base.py:299: ConvergenceWarning: Solver terminated early (max_iter=1000).  Consider pre-processing your data with StandardScaler or MinMaxScaler.\n",
      "  warnings.warn(\n"
     ]
    },
    {
     "name": "stdout",
     "output_type": "stream",
     "text": [
      "[CV 4/5] END C=100, gamma=auto, kernel=poly, max_iter=1000;, score=0.444 total time=   0.9s\n",
      "[CV 3/5] END C=100, gamma=auto, kernel=poly, max_iter=1000;, score=0.510 total time=   1.7s\n"
     ]
    },
    {
     "name": "stderr",
     "output_type": "stream",
     "text": [
      "/home/ebneto/miniconda3/envs/smp/lib/python3.10/site-packages/sklearn/svm/_base.py:299: ConvergenceWarning: Solver terminated early (max_iter=1000).  Consider pre-processing your data with StandardScaler or MinMaxScaler.\n",
      "  warnings.warn(\n",
      "/home/ebneto/miniconda3/envs/smp/lib/python3.10/site-packages/sklearn/svm/_base.py:299: ConvergenceWarning: Solver terminated early (max_iter=1000).  Consider pre-processing your data with StandardScaler or MinMaxScaler.\n",
      "  warnings.warn(\n"
     ]
    },
    {
     "name": "stdout",
     "output_type": "stream",
     "text": [
      "[CV 4/5] END C=100, gamma=scale, kernel=sigmoid, max_iter=1000;, score=0.525 total time=   9.4s\n",
      "[CV 2/5] END C=100, gamma=0.001, kernel=rbf, max_iter=1000;, score=0.500 total time=  36.0s\n"
     ]
    },
    {
     "name": "stderr",
     "output_type": "stream",
     "text": [
      "/home/ebneto/miniconda3/envs/smp/lib/python3.10/site-packages/sklearn/svm/_base.py:299: ConvergenceWarning: Solver terminated early (max_iter=1000).  Consider pre-processing your data with StandardScaler or MinMaxScaler.\n",
      "  warnings.warn(\n",
      "/home/ebneto/miniconda3/envs/smp/lib/python3.10/site-packages/sklearn/svm/_base.py:299: ConvergenceWarning: Solver terminated early (max_iter=1000).  Consider pre-processing your data with StandardScaler or MinMaxScaler.\n",
      "  warnings.warn(\n"
     ]
    },
    {
     "name": "stdout",
     "output_type": "stream",
     "text": [
      "[CV 5/5] END C=100, gamma=auto, kernel=poly, max_iter=1000;, score=0.457 total time=   2.4s\n",
      "[CV 1/5] END C=100, gamma=auto, kernel=sigmoid, max_iter=1000;, score=0.500 total time=   3.3s\n",
      "[CV 4/5] END C=100, gamma=0.01, kernel=rbf, max_iter=1000;, score=0.500 total time=  45.7s\n",
      "[CV 3/5] END C=100, gamma=0.01, kernel=rbf, max_iter=1000;, score=0.500 total time=  46.9s\n",
      "[CV 2/5] END C=100, gamma=auto, kernel=sigmoid, max_iter=1000;, score=0.500 total time=   3.8s\n",
      "[CV 2/5] END C=100, gamma=scale, kernel=sigmoid, max_iter=1000;, score=0.533 total time=  14.5s\n"
     ]
    },
    {
     "name": "stderr",
     "output_type": "stream",
     "text": [
      "/home/ebneto/miniconda3/envs/smp/lib/python3.10/site-packages/sklearn/svm/_base.py:299: ConvergenceWarning: Solver terminated early (max_iter=1000).  Consider pre-processing your data with StandardScaler or MinMaxScaler.\n",
      "  warnings.warn(\n",
      "/home/ebneto/miniconda3/envs/smp/lib/python3.10/site-packages/sklearn/svm/_base.py:299: ConvergenceWarning: Solver terminated early (max_iter=1000).  Consider pre-processing your data with StandardScaler or MinMaxScaler.\n",
      "  warnings.warn(\n"
     ]
    },
    {
     "name": "stdout",
     "output_type": "stream",
     "text": [
      "[CV 5/5] END C=100, gamma=0.01, kernel=rbf, max_iter=1000;, score=0.500 total time=  47.1s\n",
      "[CV 2/5] END C=100, gamma=auto, kernel=rbf, max_iter=1000;, score=0.500 total time=  13.2s\n",
      "[CV 5/5] END C=100, gamma=auto, kernel=sigmoid, max_iter=1000;, score=0.500 total time=   4.3s\n",
      "[CV 3/5] END C=100, gamma=auto, kernel=sigmoid, max_iter=1000;, score=0.500 total time=   5.5s\n"
     ]
    },
    {
     "name": "stderr",
     "output_type": "stream",
     "text": [
      "/home/ebneto/miniconda3/envs/smp/lib/python3.10/site-packages/sklearn/svm/_base.py:299: ConvergenceWarning: Solver terminated early (max_iter=1000).  Consider pre-processing your data with StandardScaler or MinMaxScaler.\n",
      "  warnings.warn(\n",
      "/home/ebneto/miniconda3/envs/smp/lib/python3.10/site-packages/sklearn/svm/_base.py:299: ConvergenceWarning: Solver terminated early (max_iter=1000).  Consider pre-processing your data with StandardScaler or MinMaxScaler.\n",
      "  warnings.warn(\n"
     ]
    },
    {
     "name": "stdout",
     "output_type": "stream",
     "text": [
      "[CV 2/5] END C=1000, gamma=1, kernel=linear, max_iter=1000;, score=0.629 total time=   1.7s\n",
      "[CV 1/5] END C=1000, gamma=1, kernel=linear, max_iter=1000;, score=0.433 total time=   2.2s\n",
      "[CV 4/5] END C=100, gamma=auto, kernel=rbf, max_iter=1000;, score=0.500 total time=  14.5s\n"
     ]
    },
    {
     "name": "stderr",
     "output_type": "stream",
     "text": [
      "/home/ebneto/miniconda3/envs/smp/lib/python3.10/site-packages/sklearn/svm/_base.py:299: ConvergenceWarning: Solver terminated early (max_iter=1000).  Consider pre-processing your data with StandardScaler or MinMaxScaler.\n",
      "  warnings.warn(\n",
      "/home/ebneto/miniconda3/envs/smp/lib/python3.10/site-packages/sklearn/svm/_base.py:299: ConvergenceWarning: Solver terminated early (max_iter=1000).  Consider pre-processing your data with StandardScaler or MinMaxScaler.\n",
      "  warnings.warn(\n"
     ]
    },
    {
     "name": "stdout",
     "output_type": "stream",
     "text": [
      "[CV 4/5] END C=1000, gamma=1, kernel=linear, max_iter=1000;, score=0.709 total time=   1.7s\n",
      "[CV 5/5] END C=1000, gamma=1, kernel=linear, max_iter=1000;, score=0.708 total time=   1.4s\n"
     ]
    },
    {
     "name": "stderr",
     "output_type": "stream",
     "text": [
      "/home/ebneto/miniconda3/envs/smp/lib/python3.10/site-packages/sklearn/svm/_base.py:299: ConvergenceWarning: Solver terminated early (max_iter=1000).  Consider pre-processing your data with StandardScaler or MinMaxScaler.\n",
      "  warnings.warn(\n"
     ]
    },
    {
     "name": "stdout",
     "output_type": "stream",
     "text": [
      "[CV 3/5] END C=1000, gamma=1, kernel=linear, max_iter=1000;, score=0.343 total time=   3.0s\n",
      "[CV 4/5] END C=100, gamma=auto, kernel=sigmoid, max_iter=1000;, score=0.500 total time=   8.0s\n",
      "[CV 1/5] END C=1000, gamma=1, kernel=poly, max_iter=1000;, score=0.603 total time=   1.7s\n"
     ]
    },
    {
     "name": "stderr",
     "output_type": "stream",
     "text": [
      "/home/ebneto/miniconda3/envs/smp/lib/python3.10/site-packages/sklearn/svm/_base.py:299: ConvergenceWarning: Solver terminated early (max_iter=1000).  Consider pre-processing your data with StandardScaler or MinMaxScaler.\n",
      "  warnings.warn(\n",
      "/home/ebneto/miniconda3/envs/smp/lib/python3.10/site-packages/sklearn/svm/_base.py:299: ConvergenceWarning: Solver terminated early (max_iter=1000).  Consider pre-processing your data with StandardScaler or MinMaxScaler.\n",
      "  warnings.warn(\n",
      "/home/ebneto/miniconda3/envs/smp/lib/python3.10/site-packages/sklearn/svm/_base.py:299: ConvergenceWarning: Solver terminated early (max_iter=1000).  Consider pre-processing your data with StandardScaler or MinMaxScaler.\n",
      "  warnings.warn(\n"
     ]
    },
    {
     "name": "stdout",
     "output_type": "stream",
     "text": [
      "[CV 5/5] END C=1000, gamma=1, kernel=poly, max_iter=1000;, score=0.602 total time=   1.1s\n",
      "[CV 4/5] END C=1000, gamma=1, kernel=poly, max_iter=1000;, score=0.682 total time=   1.5s\n",
      "[CV 4/5] END C=100, gamma=0.001, kernel=rbf, max_iter=1000;, score=0.500 total time=  46.6s\n"
     ]
    },
    {
     "name": "stderr",
     "output_type": "stream",
     "text": [
      "/home/ebneto/miniconda3/envs/smp/lib/python3.10/site-packages/sklearn/svm/_base.py:299: ConvergenceWarning: Solver terminated early (max_iter=1000).  Consider pre-processing your data with StandardScaler or MinMaxScaler.\n",
      "  warnings.warn(\n"
     ]
    },
    {
     "name": "stdout",
     "output_type": "stream",
     "text": [
      "[CV 2/5] END C=1000, gamma=1, kernel=poly, max_iter=1000;, score=0.491 total time=   3.3s\n",
      "[CV 1/5] END C=100, gamma=0.001, kernel=rbf, max_iter=1000;, score=0.500 total time=  48.6s\n",
      "[CV 3/5] END C=1000, gamma=1, kernel=poly, max_iter=1000;, score=0.505 total time=   3.5s\n"
     ]
    },
    {
     "name": "stderr",
     "output_type": "stream",
     "text": [
      "/home/ebneto/miniconda3/envs/smp/lib/python3.10/site-packages/sklearn/svm/_base.py:299: ConvergenceWarning: Solver terminated early (max_iter=1000).  Consider pre-processing your data with StandardScaler or MinMaxScaler.\n",
      "  warnings.warn(\n",
      "/home/ebneto/miniconda3/envs/smp/lib/python3.10/site-packages/sklearn/svm/_base.py:299: ConvergenceWarning: Solver terminated early (max_iter=1000).  Consider pre-processing your data with StandardScaler or MinMaxScaler.\n",
      "  warnings.warn(\n",
      "/home/ebneto/miniconda3/envs/smp/lib/python3.10/site-packages/sklearn/svm/_base.py:299: ConvergenceWarning: Solver terminated early (max_iter=1000).  Consider pre-processing your data with StandardScaler or MinMaxScaler.\n",
      "  warnings.warn(\n",
      "/home/ebneto/miniconda3/envs/smp/lib/python3.10/site-packages/sklearn/svm/_base.py:299: ConvergenceWarning: Solver terminated early (max_iter=1000).  Consider pre-processing your data with StandardScaler or MinMaxScaler.\n",
      "  warnings.warn(\n"
     ]
    },
    {
     "name": "stdout",
     "output_type": "stream",
     "text": [
      "[CV 3/5] END C=1000, gamma=1, kernel=sigmoid, max_iter=1000;, score=0.500 total time=   4.9s\n",
      "[CV 3/5] END C=100, gamma=0.001, kernel=rbf, max_iter=1000;, score=0.500 total time=  51.3s\n",
      "[CV 1/5] END C=1000, gamma=1, kernel=sigmoid, max_iter=1000;, score=0.500 total time=   6.4s\n",
      "[CV 5/5] END C=1000, gamma=1, kernel=sigmoid, max_iter=1000;, score=0.500 total time=   4.5s\n",
      "[CV 1/5] END C=100, gamma=0.0001, kernel=rbf, max_iter=1000;, score=0.500 total time=  43.5s\n"
     ]
    },
    {
     "name": "stderr",
     "output_type": "stream",
     "text": [
      "/home/ebneto/miniconda3/envs/smp/lib/python3.10/site-packages/sklearn/svm/_base.py:299: ConvergenceWarning: Solver terminated early (max_iter=1000).  Consider pre-processing your data with StandardScaler or MinMaxScaler.\n",
      "  warnings.warn(\n"
     ]
    },
    {
     "name": "stdout",
     "output_type": "stream",
     "text": [
      "[CV 1/5] END C=1000, gamma=0.1, kernel=linear, max_iter=1000;, score=0.433 total time=   2.1s\n"
     ]
    },
    {
     "name": "stderr",
     "output_type": "stream",
     "text": [
      "/home/ebneto/miniconda3/envs/smp/lib/python3.10/site-packages/sklearn/svm/_base.py:299: ConvergenceWarning: Solver terminated early (max_iter=1000).  Consider pre-processing your data with StandardScaler or MinMaxScaler.\n",
      "  warnings.warn(\n"
     ]
    },
    {
     "name": "stdout",
     "output_type": "stream",
     "text": [
      "[CV 2/5] END C=1000, gamma=0.1, kernel=linear, max_iter=1000;, score=0.629 total time=   1.7s\n",
      "[CV 2/5] END C=1000, gamma=1, kernel=sigmoid, max_iter=1000;, score=0.500 total time=   7.6s\n",
      "[CV 5/5] END C=100, gamma=0.0001, kernel=rbf, max_iter=1000;, score=0.500 total time=  43.7s\n"
     ]
    },
    {
     "name": "stderr",
     "output_type": "stream",
     "text": [
      "/home/ebneto/miniconda3/envs/smp/lib/python3.10/site-packages/sklearn/svm/_base.py:299: ConvergenceWarning: Solver terminated early (max_iter=1000).  Consider pre-processing your data with StandardScaler or MinMaxScaler.\n",
      "  warnings.warn(\n",
      "/home/ebneto/miniconda3/envs/smp/lib/python3.10/site-packages/sklearn/svm/_base.py:299: ConvergenceWarning: Solver terminated early (max_iter=1000).  Consider pre-processing your data with StandardScaler or MinMaxScaler.\n",
      "  warnings.warn(\n",
      "/home/ebneto/miniconda3/envs/smp/lib/python3.10/site-packages/sklearn/svm/_base.py:299: ConvergenceWarning: Solver terminated early (max_iter=1000).  Consider pre-processing your data with StandardScaler or MinMaxScaler.\n",
      "  warnings.warn(\n"
     ]
    },
    {
     "name": "stdout",
     "output_type": "stream",
     "text": [
      "[CV 3/5] END C=1000, gamma=0.1, kernel=linear, max_iter=1000;, score=0.343 total time=   2.3s\n"
     ]
    },
    {
     "name": "stderr",
     "output_type": "stream",
     "text": [
      "/home/ebneto/miniconda3/envs/smp/lib/python3.10/site-packages/sklearn/svm/_base.py:299: ConvergenceWarning: Solver terminated early (max_iter=1000).  Consider pre-processing your data with StandardScaler or MinMaxScaler.\n",
      "  warnings.warn(\n",
      "/home/ebneto/miniconda3/envs/smp/lib/python3.10/site-packages/sklearn/svm/_base.py:299: ConvergenceWarning: Solver terminated early (max_iter=1000).  Consider pre-processing your data with StandardScaler or MinMaxScaler.\n",
      "  warnings.warn(\n"
     ]
    },
    {
     "name": "stdout",
     "output_type": "stream",
     "text": [
      "[CV 4/5] END C=1000, gamma=0.1, kernel=linear, max_iter=1000;, score=0.709 total time=   2.2s\n"
     ]
    },
    {
     "name": "stderr",
     "output_type": "stream",
     "text": [
      "/home/ebneto/miniconda3/envs/smp/lib/python3.10/site-packages/sklearn/svm/_base.py:299: ConvergenceWarning: Solver terminated early (max_iter=1000).  Consider pre-processing your data with StandardScaler or MinMaxScaler.\n",
      "  warnings.warn(\n"
     ]
    },
    {
     "name": "stdout",
     "output_type": "stream",
     "text": [
      "[CV 5/5] END C=1000, gamma=0.1, kernel=linear, max_iter=1000;, score=0.708 total time=   2.0s\n",
      "[CV 4/5] END C=1000, gamma=1, kernel=sigmoid, max_iter=1000;, score=0.500 total time=   8.9s\n",
      "[CV 2/5] END C=1000, gamma=0.1, kernel=poly, max_iter=1000;, score=0.627 total time=   1.7s\n",
      "[CV 1/5] END C=1000, gamma=0.1, kernel=poly, max_iter=1000;, score=0.701 total time=   2.2s\n",
      "[CV 3/5] END C=100, gamma=0.0001, kernel=rbf, max_iter=1000;, score=0.500 total time=  47.2s\n",
      "[CV 3/5] END C=1000, gamma=0.1, kernel=poly, max_iter=1000;, score=0.510 total time=   1.5s\n",
      "[CV 2/5] END C=100, gamma=0.0001, kernel=rbf, max_iter=1000;, score=0.500 total time=  47.9s\n"
     ]
    },
    {
     "name": "stderr",
     "output_type": "stream",
     "text": [
      "/home/ebneto/miniconda3/envs/smp/lib/python3.10/site-packages/sklearn/svm/_base.py:299: ConvergenceWarning: Solver terminated early (max_iter=1000).  Consider pre-processing your data with StandardScaler or MinMaxScaler.\n",
      "  warnings.warn(\n",
      "/home/ebneto/miniconda3/envs/smp/lib/python3.10/site-packages/sklearn/svm/_base.py:299: ConvergenceWarning: Solver terminated early (max_iter=1000).  Consider pre-processing your data with StandardScaler or MinMaxScaler.\n",
      "  warnings.warn(\n",
      "/home/ebneto/miniconda3/envs/smp/lib/python3.10/site-packages/sklearn/svm/_base.py:299: ConvergenceWarning: Solver terminated early (max_iter=1000).  Consider pre-processing your data with StandardScaler or MinMaxScaler.\n",
      "  warnings.warn(\n",
      "/home/ebneto/miniconda3/envs/smp/lib/python3.10/site-packages/sklearn/svm/_base.py:299: ConvergenceWarning: Solver terminated early (max_iter=1000).  Consider pre-processing your data with StandardScaler or MinMaxScaler.\n",
      "  warnings.warn(\n",
      "/home/ebneto/miniconda3/envs/smp/lib/python3.10/site-packages/sklearn/svm/_base.py:299: ConvergenceWarning: Solver terminated early (max_iter=1000).  Consider pre-processing your data with StandardScaler or MinMaxScaler.\n",
      "  warnings.warn(\n"
     ]
    },
    {
     "name": "stdout",
     "output_type": "stream",
     "text": [
      "[CV 4/5] END C=1000, gamma=0.1, kernel=poly, max_iter=1000;, score=0.611 total time=   1.8s\n"
     ]
    },
    {
     "name": "stderr",
     "output_type": "stream",
     "text": [
      "/home/ebneto/miniconda3/envs/smp/lib/python3.10/site-packages/sklearn/svm/_base.py:299: ConvergenceWarning: Solver terminated early (max_iter=1000).  Consider pre-processing your data with StandardScaler or MinMaxScaler.\n",
      "  warnings.warn(\n"
     ]
    },
    {
     "name": "stdout",
     "output_type": "stream",
     "text": [
      "[CV 5/5] END C=1000, gamma=0.1, kernel=poly, max_iter=1000;, score=0.618 total time=   1.9s\n",
      "[CV 3/5] END C=1000, gamma=1, kernel=rbf, max_iter=1000;, score=0.500 total time=  20.7s\n",
      "[CV 5/5] END C=1000, gamma=1, kernel=rbf, max_iter=1000;, score=0.500 total time=  20.3s\n"
     ]
    },
    {
     "name": "stderr",
     "output_type": "stream",
     "text": [
      "/home/ebneto/miniconda3/envs/smp/lib/python3.10/site-packages/sklearn/svm/_base.py:299: ConvergenceWarning: Solver terminated early (max_iter=1000).  Consider pre-processing your data with StandardScaler or MinMaxScaler.\n",
      "  warnings.warn(\n"
     ]
    },
    {
     "name": "stdout",
     "output_type": "stream",
     "text": [
      "[CV 4/5] END C=1000, gamma=1, kernel=rbf, max_iter=1000;, score=0.500 total time=  21.3s\n"
     ]
    },
    {
     "name": "stderr",
     "output_type": "stream",
     "text": [
      "/home/ebneto/miniconda3/envs/smp/lib/python3.10/site-packages/sklearn/svm/_base.py:299: ConvergenceWarning: Solver terminated early (max_iter=1000).  Consider pre-processing your data with StandardScaler or MinMaxScaler.\n",
      "  warnings.warn(\n"
     ]
    },
    {
     "name": "stdout",
     "output_type": "stream",
     "text": [
      "[CV 1/5] END C=1000, gamma=0.1, kernel=sigmoid, max_iter=1000;, score=0.500 total time=   5.3s\n",
      "[CV 2/5] END C=1000, gamma=0.1, kernel=sigmoid, max_iter=1000;, score=0.500 total time=   5.4s\n",
      "[CV 3/5] END C=1000, gamma=0.1, kernel=sigmoid, max_iter=1000;, score=0.500 total time=   5.8s\n"
     ]
    },
    {
     "name": "stderr",
     "output_type": "stream",
     "text": [
      "/home/ebneto/miniconda3/envs/smp/lib/python3.10/site-packages/sklearn/svm/_base.py:299: ConvergenceWarning: Solver terminated early (max_iter=1000).  Consider pre-processing your data with StandardScaler or MinMaxScaler.\n",
      "  warnings.warn(\n"
     ]
    },
    {
     "name": "stdout",
     "output_type": "stream",
     "text": [
      "[CV 1/5] END C=1000, gamma=0.01, kernel=linear, max_iter=1000;, score=0.433 total time=   2.0s\n"
     ]
    },
    {
     "name": "stderr",
     "output_type": "stream",
     "text": [
      "/home/ebneto/miniconda3/envs/smp/lib/python3.10/site-packages/sklearn/svm/_base.py:299: ConvergenceWarning: Solver terminated early (max_iter=1000).  Consider pre-processing your data with StandardScaler or MinMaxScaler.\n",
      "  warnings.warn(\n"
     ]
    },
    {
     "name": "stdout",
     "output_type": "stream",
     "text": [
      "[CV 3/5] END C=1000, gamma=0.01, kernel=linear, max_iter=1000;, score=0.343 total time=   2.1s\n"
     ]
    },
    {
     "name": "stderr",
     "output_type": "stream",
     "text": [
      "/home/ebneto/miniconda3/envs/smp/lib/python3.10/site-packages/sklearn/svm/_base.py:299: ConvergenceWarning: Solver terminated early (max_iter=1000).  Consider pre-processing your data with StandardScaler or MinMaxScaler.\n",
      "  warnings.warn(\n"
     ]
    },
    {
     "name": "stdout",
     "output_type": "stream",
     "text": [
      "[CV 4/5] END C=1000, gamma=0.01, kernel=linear, max_iter=1000;, score=0.709 total time=   1.9s\n",
      "[CV 2/5] END C=1000, gamma=1, kernel=rbf, max_iter=1000;, score=0.500 total time=  27.0s\n",
      "[CV 5/5] END C=1000, gamma=0.1, kernel=sigmoid, max_iter=1000;, score=0.500 total time=   7.1s\n"
     ]
    },
    {
     "name": "stderr",
     "output_type": "stream",
     "text": [
      "/home/ebneto/miniconda3/envs/smp/lib/python3.10/site-packages/sklearn/svm/_base.py:299: ConvergenceWarning: Solver terminated early (max_iter=1000).  Consider pre-processing your data with StandardScaler or MinMaxScaler.\n",
      "  warnings.warn(\n",
      "/home/ebneto/miniconda3/envs/smp/lib/python3.10/site-packages/sklearn/svm/_base.py:299: ConvergenceWarning: Solver terminated early (max_iter=1000).  Consider pre-processing your data with StandardScaler or MinMaxScaler.\n",
      "  warnings.warn(\n",
      "/home/ebneto/miniconda3/envs/smp/lib/python3.10/site-packages/sklearn/svm/_base.py:299: ConvergenceWarning: Solver terminated early (max_iter=1000).  Consider pre-processing your data with StandardScaler or MinMaxScaler.\n",
      "  warnings.warn(\n"
     ]
    },
    {
     "name": "stdout",
     "output_type": "stream",
     "text": [
      "[CV 2/5] END C=1000, gamma=0.01, kernel=poly, max_iter=1000;, score=0.559 total time=   1.3s\n",
      "[CV 5/5] END C=1000, gamma=0.01, kernel=linear, max_iter=1000;, score=0.708 total time=   2.6s\n",
      "[CV 2/5] END C=1000, gamma=0.01, kernel=linear, max_iter=1000;, score=0.629 total time=   4.3s\n",
      "[CV 4/5] END C=1000, gamma=0.1, kernel=sigmoid, max_iter=1000;, score=0.500 total time=   9.1s\n"
     ]
    },
    {
     "name": "stderr",
     "output_type": "stream",
     "text": [
      "/home/ebneto/miniconda3/envs/smp/lib/python3.10/site-packages/sklearn/svm/_base.py:299: ConvergenceWarning: Solver terminated early (max_iter=1000).  Consider pre-processing your data with StandardScaler or MinMaxScaler.\n",
      "  warnings.warn(\n"
     ]
    },
    {
     "name": "stdout",
     "output_type": "stream",
     "text": [
      "[CV 3/5] END C=1000, gamma=0.01, kernel=poly, max_iter=1000;, score=0.505 total time=   1.4s\n"
     ]
    },
    {
     "name": "stderr",
     "output_type": "stream",
     "text": [
      "/home/ebneto/miniconda3/envs/smp/lib/python3.10/site-packages/sklearn/svm/_base.py:299: ConvergenceWarning: Solver terminated early (max_iter=1000).  Consider pre-processing your data with StandardScaler or MinMaxScaler.\n",
      "  warnings.warn(\n"
     ]
    },
    {
     "name": "stdout",
     "output_type": "stream",
     "text": [
      "[CV 4/5] END C=1000, gamma=0.01, kernel=poly, max_iter=1000;, score=0.611 total time=   1.3s\n",
      "[CV 1/5] END C=100, gamma=auto, kernel=rbf, max_iter=1000;, score=0.500 total time=  40.8s\n",
      "[CV 3/5] END C=100, gamma=auto, kernel=rbf, max_iter=1000;, score=0.500 total time=  40.0s\n"
     ]
    },
    {
     "name": "stderr",
     "output_type": "stream",
     "text": [
      "/home/ebneto/miniconda3/envs/smp/lib/python3.10/site-packages/sklearn/svm/_base.py:299: ConvergenceWarning: Solver terminated early (max_iter=1000).  Consider pre-processing your data with StandardScaler or MinMaxScaler.\n",
      "  warnings.warn(\n",
      "/home/ebneto/miniconda3/envs/smp/lib/python3.10/site-packages/sklearn/svm/_base.py:299: ConvergenceWarning: Solver terminated early (max_iter=1000).  Consider pre-processing your data with StandardScaler or MinMaxScaler.\n",
      "  warnings.warn(\n"
     ]
    },
    {
     "name": "stdout",
     "output_type": "stream",
     "text": [
      "[CV 1/5] END C=1000, gamma=0.01, kernel=poly, max_iter=1000;, score=0.701 total time=   3.2s\n"
     ]
    },
    {
     "name": "stderr",
     "output_type": "stream",
     "text": [
      "/home/ebneto/miniconda3/envs/smp/lib/python3.10/site-packages/sklearn/svm/_base.py:299: ConvergenceWarning: Solver terminated early (max_iter=1000).  Consider pre-processing your data with StandardScaler or MinMaxScaler.\n",
      "  warnings.warn(\n"
     ]
    },
    {
     "name": "stdout",
     "output_type": "stream",
     "text": [
      "[CV 5/5] END C=1000, gamma=0.01, kernel=poly, max_iter=1000;, score=0.493 total time=   2.1s\n"
     ]
    },
    {
     "name": "stderr",
     "output_type": "stream",
     "text": [
      "/home/ebneto/miniconda3/envs/smp/lib/python3.10/site-packages/sklearn/svm/_base.py:299: ConvergenceWarning: Solver terminated early (max_iter=1000).  Consider pre-processing your data with StandardScaler or MinMaxScaler.\n",
      "  warnings.warn(\n",
      "/home/ebneto/miniconda3/envs/smp/lib/python3.10/site-packages/sklearn/svm/_base.py:299: ConvergenceWarning: Solver terminated early (max_iter=1000).  Consider pre-processing your data with StandardScaler or MinMaxScaler.\n",
      "  warnings.warn(\n"
     ]
    },
    {
     "name": "stdout",
     "output_type": "stream",
     "text": [
      "[CV 3/5] END C=1000, gamma=0.1, kernel=rbf, max_iter=1000;, score=0.500 total time=  21.6s\n"
     ]
    },
    {
     "name": "stderr",
     "output_type": "stream",
     "text": [
      "/home/ebneto/miniconda3/envs/smp/lib/python3.10/site-packages/sklearn/svm/_base.py:299: ConvergenceWarning: Solver terminated early (max_iter=1000).  Consider pre-processing your data with StandardScaler or MinMaxScaler.\n",
      "  warnings.warn(\n"
     ]
    },
    {
     "name": "stdout",
     "output_type": "stream",
     "text": [
      "[CV 5/5] END C=100, gamma=auto, kernel=rbf, max_iter=1000;, score=0.500 total time=  42.0s\n"
     ]
    },
    {
     "name": "stderr",
     "output_type": "stream",
     "text": [
      "/home/ebneto/miniconda3/envs/smp/lib/python3.10/site-packages/sklearn/svm/_base.py:299: ConvergenceWarning: Solver terminated early (max_iter=1000).  Consider pre-processing your data with StandardScaler or MinMaxScaler.\n",
      "  warnings.warn(\n"
     ]
    },
    {
     "name": "stdout",
     "output_type": "stream",
     "text": [
      "[CV 1/5] END C=1000, gamma=0.01, kernel=sigmoid, max_iter=1000;, score=0.500 total time=   4.2s\n",
      "[CV 2/5] END C=1000, gamma=0.01, kernel=sigmoid, max_iter=1000;, score=0.500 total time=   4.2s\n"
     ]
    },
    {
     "name": "stderr",
     "output_type": "stream",
     "text": [
      "/home/ebneto/miniconda3/envs/smp/lib/python3.10/site-packages/sklearn/svm/_base.py:299: ConvergenceWarning: Solver terminated early (max_iter=1000).  Consider pre-processing your data with StandardScaler or MinMaxScaler.\n",
      "  warnings.warn(\n"
     ]
    },
    {
     "name": "stdout",
     "output_type": "stream",
     "text": [
      "[CV 4/5] END C=1000, gamma=0.01, kernel=sigmoid, max_iter=1000;, score=0.500 total time=   4.3s\n"
     ]
    },
    {
     "name": "stderr",
     "output_type": "stream",
     "text": [
      "/home/ebneto/miniconda3/envs/smp/lib/python3.10/site-packages/sklearn/svm/_base.py:299: ConvergenceWarning: Solver terminated early (max_iter=1000).  Consider pre-processing your data with StandardScaler or MinMaxScaler.\n",
      "  warnings.warn(\n"
     ]
    },
    {
     "name": "stdout",
     "output_type": "stream",
     "text": [
      "[CV 1/5] END C=1000, gamma=0.001, kernel=linear, max_iter=1000;, score=0.433 total time=   1.7s\n"
     ]
    },
    {
     "name": "stderr",
     "output_type": "stream",
     "text": [
      "/home/ebneto/miniconda3/envs/smp/lib/python3.10/site-packages/sklearn/svm/_base.py:299: ConvergenceWarning: Solver terminated early (max_iter=1000).  Consider pre-processing your data with StandardScaler or MinMaxScaler.\n",
      "  warnings.warn(\n"
     ]
    },
    {
     "name": "stdout",
     "output_type": "stream",
     "text": [
      "[CV 2/5] END C=1000, gamma=0.001, kernel=linear, max_iter=1000;, score=0.629 total time=   1.5s\n"
     ]
    },
    {
     "name": "stderr",
     "output_type": "stream",
     "text": [
      "/home/ebneto/miniconda3/envs/smp/lib/python3.10/site-packages/sklearn/svm/_base.py:299: ConvergenceWarning: Solver terminated early (max_iter=1000).  Consider pre-processing your data with StandardScaler or MinMaxScaler.\n",
      "  warnings.warn(\n"
     ]
    },
    {
     "name": "stdout",
     "output_type": "stream",
     "text": [
      "[CV 3/5] END C=1000, gamma=0.001, kernel=linear, max_iter=1000;, score=0.343 total time=   1.8s\n"
     ]
    },
    {
     "name": "stderr",
     "output_type": "stream",
     "text": [
      "/home/ebneto/miniconda3/envs/smp/lib/python3.10/site-packages/sklearn/svm/_base.py:299: ConvergenceWarning: Solver terminated early (max_iter=1000).  Consider pre-processing your data with StandardScaler or MinMaxScaler.\n",
      "  warnings.warn(\n"
     ]
    },
    {
     "name": "stdout",
     "output_type": "stream",
     "text": [
      "[CV 4/5] END C=1000, gamma=0.001, kernel=linear, max_iter=1000;, score=0.709 total time=   1.8s\n"
     ]
    },
    {
     "name": "stderr",
     "output_type": "stream",
     "text": [
      "/home/ebneto/miniconda3/envs/smp/lib/python3.10/site-packages/sklearn/svm/_base.py:299: ConvergenceWarning: Solver terminated early (max_iter=1000).  Consider pre-processing your data with StandardScaler or MinMaxScaler.\n",
      "  warnings.warn(\n"
     ]
    },
    {
     "name": "stdout",
     "output_type": "stream",
     "text": [
      "[CV 1/5] END C=1000, gamma=1, kernel=rbf, max_iter=1000;, score=0.500 total time=  37.8s\n",
      "[CV 5/5] END C=1000, gamma=0.001, kernel=linear, max_iter=1000;, score=0.708 total time=   1.6s\n"
     ]
    },
    {
     "name": "stderr",
     "output_type": "stream",
     "text": [
      "/home/ebneto/miniconda3/envs/smp/lib/python3.10/site-packages/sklearn/svm/_base.py:299: ConvergenceWarning: Solver terminated early (max_iter=1000).  Consider pre-processing your data with StandardScaler or MinMaxScaler.\n",
      "  warnings.warn(\n",
      "/home/ebneto/miniconda3/envs/smp/lib/python3.10/site-packages/sklearn/svm/_base.py:299: ConvergenceWarning: Solver terminated early (max_iter=1000).  Consider pre-processing your data with StandardScaler or MinMaxScaler.\n",
      "  warnings.warn(\n"
     ]
    },
    {
     "name": "stdout",
     "output_type": "stream",
     "text": [
      "[CV 1/5] END C=1000, gamma=0.001, kernel=poly, max_iter=1000;, score=0.603 total time=   1.8s\n",
      "[CV 2/5] END C=1000, gamma=0.001, kernel=poly, max_iter=1000;, score=0.819 total time=   1.4s\n",
      "[CV 3/5] END C=1000, gamma=0.01, kernel=sigmoid, max_iter=1000;, score=0.500 total time=   8.4s\n"
     ]
    },
    {
     "name": "stderr",
     "output_type": "stream",
     "text": [
      "/home/ebneto/miniconda3/envs/smp/lib/python3.10/site-packages/sklearn/svm/_base.py:299: ConvergenceWarning: Solver terminated early (max_iter=1000).  Consider pre-processing your data with StandardScaler or MinMaxScaler.\n",
      "  warnings.warn(\n"
     ]
    },
    {
     "name": "stdout",
     "output_type": "stream",
     "text": [
      "[CV 4/5] END C=1000, gamma=0.001, kernel=poly, max_iter=1000;, score=0.444 total time=   1.1s\n"
     ]
    },
    {
     "name": "stderr",
     "output_type": "stream",
     "text": [
      "/home/ebneto/miniconda3/envs/smp/lib/python3.10/site-packages/sklearn/svm/_base.py:299: ConvergenceWarning: Solver terminated early (max_iter=1000).  Consider pre-processing your data with StandardScaler or MinMaxScaler.\n",
      "  warnings.warn(\n",
      "/home/ebneto/miniconda3/envs/smp/lib/python3.10/site-packages/sklearn/svm/_base.py:299: ConvergenceWarning: Solver terminated early (max_iter=1000).  Consider pre-processing your data with StandardScaler or MinMaxScaler.\n",
      "  warnings.warn(\n"
     ]
    },
    {
     "name": "stdout",
     "output_type": "stream",
     "text": [
      "[CV 3/5] END C=1000, gamma=0.001, kernel=poly, max_iter=1000;, score=0.584 total time=   1.9s\n",
      "[CV 5/5] END C=1000, gamma=0.01, kernel=sigmoid, max_iter=1000;, score=0.500 total time=   8.5s\n"
     ]
    },
    {
     "name": "stderr",
     "output_type": "stream",
     "text": [
      "/home/ebneto/miniconda3/envs/smp/lib/python3.10/site-packages/sklearn/svm/_base.py:299: ConvergenceWarning: Solver terminated early (max_iter=1000).  Consider pre-processing your data with StandardScaler or MinMaxScaler.\n",
      "  warnings.warn(\n"
     ]
    },
    {
     "name": "stdout",
     "output_type": "stream",
     "text": [
      "[CV 4/5] END C=1000, gamma=0.01, kernel=rbf, max_iter=1000;, score=0.500 total time=  18.8s\n"
     ]
    },
    {
     "name": "stderr",
     "output_type": "stream",
     "text": [
      "/home/ebneto/miniconda3/envs/smp/lib/python3.10/site-packages/sklearn/svm/_base.py:299: ConvergenceWarning: Solver terminated early (max_iter=1000).  Consider pre-processing your data with StandardScaler or MinMaxScaler.\n",
      "  warnings.warn(\n"
     ]
    },
    {
     "name": "stdout",
     "output_type": "stream",
     "text": [
      "[CV 5/5] END C=1000, gamma=0.001, kernel=poly, max_iter=1000;, score=0.618 total time=   2.9s\n"
     ]
    },
    {
     "name": "stderr",
     "output_type": "stream",
     "text": [
      "/home/ebneto/miniconda3/envs/smp/lib/python3.10/site-packages/sklearn/svm/_base.py:299: ConvergenceWarning: Solver terminated early (max_iter=1000).  Consider pre-processing your data with StandardScaler or MinMaxScaler.\n",
      "  warnings.warn(\n"
     ]
    },
    {
     "name": "stdout",
     "output_type": "stream",
     "text": [
      "[CV 3/5] END C=1000, gamma=0.001, kernel=sigmoid, max_iter=1000;, score=0.500 total time=   3.7s\n"
     ]
    },
    {
     "name": "stderr",
     "output_type": "stream",
     "text": [
      "/home/ebneto/miniconda3/envs/smp/lib/python3.10/site-packages/sklearn/svm/_base.py:299: ConvergenceWarning: Solver terminated early (max_iter=1000).  Consider pre-processing your data with StandardScaler or MinMaxScaler.\n",
      "  warnings.warn(\n",
      "/home/ebneto/miniconda3/envs/smp/lib/python3.10/site-packages/sklearn/svm/_base.py:299: ConvergenceWarning: Solver terminated early (max_iter=1000).  Consider pre-processing your data with StandardScaler or MinMaxScaler.\n",
      "  warnings.warn(\n"
     ]
    },
    {
     "name": "stdout",
     "output_type": "stream",
     "text": [
      "[CV 4/5] END C=1000, gamma=0.001, kernel=sigmoid, max_iter=1000;, score=0.500 total time=   4.1s\n",
      "[CV 3/5] END C=1000, gamma=0.01, kernel=rbf, max_iter=1000;, score=0.500 total time=  22.7s\n"
     ]
    },
    {
     "name": "stderr",
     "output_type": "stream",
     "text": [
      "/home/ebneto/miniconda3/envs/smp/lib/python3.10/site-packages/sklearn/svm/_base.py:299: ConvergenceWarning: Solver terminated early (max_iter=1000).  Consider pre-processing your data with StandardScaler or MinMaxScaler.\n",
      "  warnings.warn(\n"
     ]
    },
    {
     "name": "stdout",
     "output_type": "stream",
     "text": [
      "[CV 1/5] END C=1000, gamma=0.0001, kernel=linear, max_iter=1000;, score=0.433 total time=   1.6s\n",
      "[CV 1/5] END C=1000, gamma=0.1, kernel=rbf, max_iter=1000;, score=0.500 total time=  37.6s\n",
      "[CV 2/5] END C=1000, gamma=0.0001, kernel=linear, max_iter=1000;, score=0.629 total time=   2.2s\n"
     ]
    },
    {
     "name": "stderr",
     "output_type": "stream",
     "text": [
      "/home/ebneto/miniconda3/envs/smp/lib/python3.10/site-packages/sklearn/svm/_base.py:299: ConvergenceWarning: Solver terminated early (max_iter=1000).  Consider pre-processing your data with StandardScaler or MinMaxScaler.\n",
      "  warnings.warn(\n",
      "/home/ebneto/miniconda3/envs/smp/lib/python3.10/site-packages/sklearn/svm/_base.py:299: ConvergenceWarning: Solver terminated early (max_iter=1000).  Consider pre-processing your data with StandardScaler or MinMaxScaler.\n",
      "  warnings.warn(\n"
     ]
    },
    {
     "name": "stdout",
     "output_type": "stream",
     "text": [
      "[CV 3/5] END C=1000, gamma=0.0001, kernel=linear, max_iter=1000;, score=0.343 total time=   2.3s\n",
      "[CV 2/5] END C=1000, gamma=0.1, kernel=rbf, max_iter=1000;, score=0.500 total time=  37.9s\n"
     ]
    },
    {
     "name": "stderr",
     "output_type": "stream",
     "text": [
      "/home/ebneto/miniconda3/envs/smp/lib/python3.10/site-packages/sklearn/svm/_base.py:299: ConvergenceWarning: Solver terminated early (max_iter=1000).  Consider pre-processing your data with StandardScaler or MinMaxScaler.\n",
      "  warnings.warn(\n"
     ]
    },
    {
     "name": "stdout",
     "output_type": "stream",
     "text": [
      "[CV 1/5] END C=1000, gamma=0.001, kernel=sigmoid, max_iter=1000;, score=0.500 total time=   9.4s\n",
      "[CV 4/5] END C=1000, gamma=0.0001, kernel=linear, max_iter=1000;, score=0.709 total time=   2.0s\n"
     ]
    },
    {
     "name": "stderr",
     "output_type": "stream",
     "text": [
      "/home/ebneto/miniconda3/envs/smp/lib/python3.10/site-packages/sklearn/svm/_base.py:299: ConvergenceWarning: Solver terminated early (max_iter=1000).  Consider pre-processing your data with StandardScaler or MinMaxScaler.\n",
      "  warnings.warn(\n"
     ]
    },
    {
     "name": "stdout",
     "output_type": "stream",
     "text": [
      "[CV 5/5] END C=1000, gamma=0.0001, kernel=linear, max_iter=1000;, score=0.708 total time=   2.0s\n",
      "[CV 4/5] END C=1000, gamma=0.1, kernel=rbf, max_iter=1000;, score=0.500 total time=  38.2s\n",
      "[CV 2/5] END C=1000, gamma=0.001, kernel=sigmoid, max_iter=1000;, score=0.500 total time=  10.0s\n",
      "[CV 5/5] END C=1000, gamma=0.1, kernel=rbf, max_iter=1000;, score=0.500 total time=  38.3s\n"
     ]
    },
    {
     "name": "stderr",
     "output_type": "stream",
     "text": [
      "/home/ebneto/miniconda3/envs/smp/lib/python3.10/site-packages/sklearn/svm/_base.py:299: ConvergenceWarning: Solver terminated early (max_iter=1000).  Consider pre-processing your data with StandardScaler or MinMaxScaler.\n",
      "  warnings.warn(\n",
      "/home/ebneto/miniconda3/envs/smp/lib/python3.10/site-packages/sklearn/svm/_base.py:299: ConvergenceWarning: Solver terminated early (max_iter=1000).  Consider pre-processing your data with StandardScaler or MinMaxScaler.\n",
      "  warnings.warn(\n"
     ]
    },
    {
     "name": "stdout",
     "output_type": "stream",
     "text": [
      "[CV 2/5] END C=1000, gamma=0.0001, kernel=poly, max_iter=1000;, score=0.560 total time=   1.6s\n",
      "[CV 5/5] END C=1000, gamma=0.001, kernel=sigmoid, max_iter=1000;, score=0.500 total time=   8.8s\n",
      "[CV 1/5] END C=1000, gamma=0.0001, kernel=poly, max_iter=1000;, score=0.498 total time=   2.8s\n"
     ]
    },
    {
     "name": "stderr",
     "output_type": "stream",
     "text": [
      "/home/ebneto/miniconda3/envs/smp/lib/python3.10/site-packages/sklearn/svm/_base.py:299: ConvergenceWarning: Solver terminated early (max_iter=1000).  Consider pre-processing your data with StandardScaler or MinMaxScaler.\n",
      "  warnings.warn(\n"
     ]
    },
    {
     "name": "stdout",
     "output_type": "stream",
     "text": [
      "[CV 3/5] END C=1000, gamma=0.0001, kernel=poly, max_iter=1000;, score=0.505 total time=   1.5s\n"
     ]
    },
    {
     "name": "stderr",
     "output_type": "stream",
     "text": [
      "/home/ebneto/miniconda3/envs/smp/lib/python3.10/site-packages/sklearn/svm/_base.py:299: ConvergenceWarning: Solver terminated early (max_iter=1000).  Consider pre-processing your data with StandardScaler or MinMaxScaler.\n",
      "  warnings.warn(\n"
     ]
    },
    {
     "name": "stdout",
     "output_type": "stream",
     "text": [
      "[CV 5/5] END C=1000, gamma=0.0001, kernel=poly, max_iter=1000;, score=0.618 total time=   1.2s\n",
      "[CV 4/5] END C=1000, gamma=0.001, kernel=rbf, max_iter=1000;, score=0.500 total time=  19.1s\n"
     ]
    },
    {
     "name": "stderr",
     "output_type": "stream",
     "text": [
      "/home/ebneto/miniconda3/envs/smp/lib/python3.10/site-packages/sklearn/svm/_base.py:299: ConvergenceWarning: Solver terminated early (max_iter=1000).  Consider pre-processing your data with StandardScaler or MinMaxScaler.\n",
      "  warnings.warn(\n"
     ]
    },
    {
     "name": "stdout",
     "output_type": "stream",
     "text": [
      "[CV 4/5] END C=1000, gamma=0.0001, kernel=poly, max_iter=1000;, score=0.444 total time=   2.4s\n"
     ]
    },
    {
     "name": "stderr",
     "output_type": "stream",
     "text": [
      "/home/ebneto/miniconda3/envs/smp/lib/python3.10/site-packages/sklearn/svm/_base.py:299: ConvergenceWarning: Solver terminated early (max_iter=1000).  Consider pre-processing your data with StandardScaler or MinMaxScaler.\n",
      "  warnings.warn(\n",
      "/home/ebneto/miniconda3/envs/smp/lib/python3.10/site-packages/sklearn/svm/_base.py:299: ConvergenceWarning: Solver terminated early (max_iter=1000).  Consider pre-processing your data with StandardScaler or MinMaxScaler.\n",
      "  warnings.warn(\n"
     ]
    },
    {
     "name": "stdout",
     "output_type": "stream",
     "text": [
      "[CV 3/5] END C=1000, gamma=0.0001, kernel=sigmoid, max_iter=1000;, score=0.500 total time=   2.8s\n"
     ]
    },
    {
     "name": "stderr",
     "output_type": "stream",
     "text": [
      "/home/ebneto/miniconda3/envs/smp/lib/python3.10/site-packages/sklearn/svm/_base.py:299: ConvergenceWarning: Solver terminated early (max_iter=1000).  Consider pre-processing your data with StandardScaler or MinMaxScaler.\n",
      "  warnings.warn(\n"
     ]
    },
    {
     "name": "stdout",
     "output_type": "stream",
     "text": [
      "[CV 5/5] END C=1000, gamma=0.01, kernel=rbf, max_iter=1000;, score=0.500 total time=  32.0s\n"
     ]
    },
    {
     "name": "stderr",
     "output_type": "stream",
     "text": [
      "/home/ebneto/miniconda3/envs/smp/lib/python3.10/site-packages/sklearn/svm/_base.py:299: ConvergenceWarning: Solver terminated early (max_iter=1000).  Consider pre-processing your data with StandardScaler or MinMaxScaler.\n",
      "  warnings.warn(\n"
     ]
    },
    {
     "name": "stdout",
     "output_type": "stream",
     "text": [
      "[CV 5/5] END C=1000, gamma=0.001, kernel=rbf, max_iter=1000;, score=0.500 total time=  22.5s\n",
      "[CV 2/5] END C=1000, gamma=0.0001, kernel=sigmoid, max_iter=1000;, score=0.500 total time=   4.8s\n"
     ]
    },
    {
     "name": "stderr",
     "output_type": "stream",
     "text": [
      "/home/ebneto/miniconda3/envs/smp/lib/python3.10/site-packages/sklearn/svm/_base.py:299: ConvergenceWarning: Solver terminated early (max_iter=1000).  Consider pre-processing your data with StandardScaler or MinMaxScaler.\n",
      "  warnings.warn(\n"
     ]
    },
    {
     "name": "stdout",
     "output_type": "stream",
     "text": [
      "[CV 1/5] END C=1000, gamma=scale, kernel=linear, max_iter=1000;, score=0.433 total time=   1.8s\n",
      "[CV 1/5] END C=1000, gamma=0.01, kernel=rbf, max_iter=1000;, score=0.500 total time=  37.3s\n",
      "[CV 1/5] END C=1000, gamma=0.0001, kernel=sigmoid, max_iter=1000;, score=0.500 total time=   7.8s\n"
     ]
    },
    {
     "name": "stderr",
     "output_type": "stream",
     "text": [
      "/home/ebneto/miniconda3/envs/smp/lib/python3.10/site-packages/sklearn/svm/_base.py:299: ConvergenceWarning: Solver terminated early (max_iter=1000).  Consider pre-processing your data with StandardScaler or MinMaxScaler.\n",
      "  warnings.warn(\n"
     ]
    },
    {
     "name": "stdout",
     "output_type": "stream",
     "text": [
      "[CV 4/5] END C=1000, gamma=0.0001, kernel=sigmoid, max_iter=1000;, score=0.500 total time=   6.8s\n"
     ]
    },
    {
     "name": "stderr",
     "output_type": "stream",
     "text": [
      "/home/ebneto/miniconda3/envs/smp/lib/python3.10/site-packages/sklearn/svm/_base.py:299: ConvergenceWarning: Solver terminated early (max_iter=1000).  Consider pre-processing your data with StandardScaler or MinMaxScaler.\n",
      "  warnings.warn(\n",
      "/home/ebneto/miniconda3/envs/smp/lib/python3.10/site-packages/sklearn/svm/_base.py:299: ConvergenceWarning: Solver terminated early (max_iter=1000).  Consider pre-processing your data with StandardScaler or MinMaxScaler.\n",
      "  warnings.warn(\n",
      "/home/ebneto/miniconda3/envs/smp/lib/python3.10/site-packages/sklearn/svm/_base.py:299: ConvergenceWarning: Solver terminated early (max_iter=1000).  Consider pre-processing your data with StandardScaler or MinMaxScaler.\n",
      "  warnings.warn(\n"
     ]
    },
    {
     "name": "stdout",
     "output_type": "stream",
     "text": [
      "[CV 3/5] END C=1000, gamma=scale, kernel=linear, max_iter=1000;, score=0.343 total time=   2.1s\n"
     ]
    },
    {
     "name": "stderr",
     "output_type": "stream",
     "text": [
      "/home/ebneto/miniconda3/envs/smp/lib/python3.10/site-packages/sklearn/svm/_base.py:299: ConvergenceWarning: Solver terminated early (max_iter=1000).  Consider pre-processing your data with StandardScaler or MinMaxScaler.\n",
      "  warnings.warn(\n",
      "/home/ebneto/miniconda3/envs/smp/lib/python3.10/site-packages/sklearn/svm/_base.py:299: ConvergenceWarning: Solver terminated early (max_iter=1000).  Consider pre-processing your data with StandardScaler or MinMaxScaler.\n",
      "  warnings.warn(\n"
     ]
    },
    {
     "name": "stdout",
     "output_type": "stream",
     "text": [
      "[CV 4/5] END C=1000, gamma=scale, kernel=linear, max_iter=1000;, score=0.709 total time=   2.0s\n",
      "[CV 2/5] END C=1000, gamma=scale, kernel=linear, max_iter=1000;, score=0.629 total time=   3.0s\n"
     ]
    },
    {
     "name": "stderr",
     "output_type": "stream",
     "text": [
      "/home/ebneto/miniconda3/envs/smp/lib/python3.10/site-packages/sklearn/svm/_base.py:299: ConvergenceWarning: Solver terminated early (max_iter=1000).  Consider pre-processing your data with StandardScaler or MinMaxScaler.\n",
      "  warnings.warn(\n"
     ]
    },
    {
     "name": "stdout",
     "output_type": "stream",
     "text": [
      "[CV 1/5] END C=1000, gamma=scale, kernel=rbf, max_iter=1000;, score=0.854 total time=   7.7s\n"
     ]
    },
    {
     "name": "stderr",
     "output_type": "stream",
     "text": [
      "/home/ebneto/miniconda3/envs/smp/lib/python3.10/site-packages/sklearn/svm/_base.py:299: ConvergenceWarning: Solver terminated early (max_iter=1000).  Consider pre-processing your data with StandardScaler or MinMaxScaler.\n",
      "  warnings.warn(\n"
     ]
    },
    {
     "name": "stdout",
     "output_type": "stream",
     "text": [
      "[CV 5/5] END C=1000, gamma=scale, kernel=linear, max_iter=1000;, score=0.708 total time=   2.5s\n",
      "[CV 2/5] END C=1000, gamma=0.01, kernel=rbf, max_iter=1000;, score=0.500 total time=  39.3s\n",
      "[CV 5/5] END C=1000, gamma=0.0001, kernel=sigmoid, max_iter=1000;, score=0.500 total time=   8.5s\n",
      "[CV 3/5] END C=1000, gamma=scale, kernel=rbf, max_iter=1000;, score=0.836 total time=   7.9s\n",
      "[CV 4/5] END C=1000, gamma=scale, kernel=rbf, max_iter=1000;, score=0.575 total time=   7.3s\n",
      "[CV 4/5] END C=1000, gamma=0.0001, kernel=rbf, max_iter=1000;, score=0.500 total time=  18.4s\n"
     ]
    },
    {
     "name": "stderr",
     "output_type": "stream",
     "text": [
      "/home/ebneto/miniconda3/envs/smp/lib/python3.10/site-packages/sklearn/svm/_base.py:299: ConvergenceWarning: Solver terminated early (max_iter=1000).  Consider pre-processing your data with StandardScaler or MinMaxScaler.\n",
      "  warnings.warn(\n"
     ]
    },
    {
     "name": "stdout",
     "output_type": "stream",
     "text": [
      "[CV 1/5] END C=1000, gamma=scale, kernel=poly, max_iter=1000;, score=0.535 total time=   2.7s\n",
      "[CV 5/5] END C=1000, gamma=scale, kernel=rbf, max_iter=1000;, score=0.541 total time=   7.3s\n"
     ]
    },
    {
     "name": "stderr",
     "output_type": "stream",
     "text": [
      "/home/ebneto/miniconda3/envs/smp/lib/python3.10/site-packages/sklearn/svm/_base.py:299: ConvergenceWarning: Solver terminated early (max_iter=1000).  Consider pre-processing your data with StandardScaler or MinMaxScaler.\n",
      "  warnings.warn(\n",
      "/home/ebneto/miniconda3/envs/smp/lib/python3.10/site-packages/sklearn/svm/_base.py:299: ConvergenceWarning: Solver terminated early (max_iter=1000).  Consider pre-processing your data with StandardScaler or MinMaxScaler.\n",
      "  warnings.warn(\n",
      "/home/ebneto/miniconda3/envs/smp/lib/python3.10/site-packages/sklearn/svm/_base.py:299: ConvergenceWarning: Solver terminated early (max_iter=1000).  Consider pre-processing your data with StandardScaler or MinMaxScaler.\n",
      "  warnings.warn(\n"
     ]
    },
    {
     "name": "stdout",
     "output_type": "stream",
     "text": [
      "[CV 3/5] END C=1000, gamma=scale, kernel=poly, max_iter=1000;, score=0.505 total time=   2.3s\n",
      "[CV 3/5] END C=1000, gamma=0.001, kernel=rbf, max_iter=1000;, score=0.500 total time=  29.6s\n"
     ]
    },
    {
     "name": "stderr",
     "output_type": "stream",
     "text": [
      "/home/ebneto/miniconda3/envs/smp/lib/python3.10/site-packages/sklearn/svm/_base.py:299: ConvergenceWarning: Solver terminated early (max_iter=1000).  Consider pre-processing your data with StandardScaler or MinMaxScaler.\n",
      "  warnings.warn(\n"
     ]
    },
    {
     "name": "stdout",
     "output_type": "stream",
     "text": [
      "[CV 2/5] END C=1000, gamma=scale, kernel=rbf, max_iter=1000;, score=0.737 total time=   9.4s\n"
     ]
    },
    {
     "name": "stderr",
     "output_type": "stream",
     "text": [
      "/home/ebneto/miniconda3/envs/smp/lib/python3.10/site-packages/sklearn/svm/_base.py:299: ConvergenceWarning: Solver terminated early (max_iter=1000).  Consider pre-processing your data with StandardScaler or MinMaxScaler.\n",
      "  warnings.warn(\n",
      "/home/ebneto/miniconda3/envs/smp/lib/python3.10/site-packages/sklearn/svm/_base.py:299: ConvergenceWarning: Solver terminated early (max_iter=1000).  Consider pre-processing your data with StandardScaler or MinMaxScaler.\n",
      "  warnings.warn(\n"
     ]
    },
    {
     "name": "stdout",
     "output_type": "stream",
     "text": [
      "[CV 2/5] END C=1000, gamma=scale, kernel=poly, max_iter=1000;, score=0.649 total time=   4.4s\n"
     ]
    },
    {
     "name": "stderr",
     "output_type": "stream",
     "text": [
      "/home/ebneto/miniconda3/envs/smp/lib/python3.10/site-packages/sklearn/svm/_base.py:299: ConvergenceWarning: Solver terminated early (max_iter=1000).  Consider pre-processing your data with StandardScaler or MinMaxScaler.\n",
      "  warnings.warn(\n"
     ]
    },
    {
     "name": "stdout",
     "output_type": "stream",
     "text": [
      "[CV 5/5] END C=1000, gamma=scale, kernel=poly, max_iter=1000;, score=0.477 total time=   3.9s\n"
     ]
    },
    {
     "name": "stderr",
     "output_type": "stream",
     "text": [
      "/home/ebneto/miniconda3/envs/smp/lib/python3.10/site-packages/sklearn/svm/_base.py:299: ConvergenceWarning: Solver terminated early (max_iter=1000).  Consider pre-processing your data with StandardScaler or MinMaxScaler.\n",
      "  warnings.warn(\n"
     ]
    },
    {
     "name": "stdout",
     "output_type": "stream",
     "text": [
      "[CV 4/5] END C=1000, gamma=scale, kernel=poly, max_iter=1000;, score=0.500 total time=   4.5s\n",
      "[CV 2/5] END C=1000, gamma=scale, kernel=sigmoid, max_iter=1000;, score=0.532 total time=   3.6s\n"
     ]
    },
    {
     "name": "stderr",
     "output_type": "stream",
     "text": [
      "/home/ebneto/miniconda3/envs/smp/lib/python3.10/site-packages/sklearn/svm/_base.py:299: ConvergenceWarning: Solver terminated early (max_iter=1000).  Consider pre-processing your data with StandardScaler or MinMaxScaler.\n",
      "  warnings.warn(\n"
     ]
    },
    {
     "name": "stdout",
     "output_type": "stream",
     "text": [
      "[CV 4/5] END C=1000, gamma=scale, kernel=sigmoid, max_iter=1000;, score=0.525 total time=   5.0s\n",
      "[CV 1/5] END C=1000, gamma=auto, kernel=linear, max_iter=1000;, score=0.433 total time=   2.2s\n"
     ]
    },
    {
     "name": "stderr",
     "output_type": "stream",
     "text": [
      "/home/ebneto/miniconda3/envs/smp/lib/python3.10/site-packages/sklearn/svm/_base.py:299: ConvergenceWarning: Solver terminated early (max_iter=1000).  Consider pre-processing your data with StandardScaler or MinMaxScaler.\n",
      "  warnings.warn(\n"
     ]
    },
    {
     "name": "stdout",
     "output_type": "stream",
     "text": [
      "[CV 1/5] END C=1000, gamma=scale, kernel=sigmoid, max_iter=1000;, score=0.534 total time=   6.3s\n"
     ]
    },
    {
     "name": "stderr",
     "output_type": "stream",
     "text": [
      "/home/ebneto/miniconda3/envs/smp/lib/python3.10/site-packages/sklearn/svm/_base.py:299: ConvergenceWarning: Solver terminated early (max_iter=1000).  Consider pre-processing your data with StandardScaler or MinMaxScaler.\n",
      "  warnings.warn(\n"
     ]
    },
    {
     "name": "stdout",
     "output_type": "stream",
     "text": [
      "[CV 2/5] END C=1000, gamma=auto, kernel=linear, max_iter=1000;, score=0.629 total time=   2.1s\n",
      "[CV 1/5] END C=1000, gamma=0.001, kernel=rbf, max_iter=1000;, score=0.500 total time=  36.0s\n",
      "[CV 3/5] END C=1000, gamma=scale, kernel=sigmoid, max_iter=1000;, score=0.559 total time=   6.0s\n",
      "[CV 5/5] END C=1000, gamma=scale, kernel=sigmoid, max_iter=1000;, score=0.531 total time=   5.5s\n",
      "[CV 2/5] END C=1000, gamma=0.001, kernel=rbf, max_iter=1000;, score=0.500 total time=  35.6s\n",
      "[CV 3/5] END C=1000, gamma=auto, kernel=linear, max_iter=1000;, score=0.343 total time=   2.2s\n"
     ]
    },
    {
     "name": "stderr",
     "output_type": "stream",
     "text": [
      "/home/ebneto/miniconda3/envs/smp/lib/python3.10/site-packages/sklearn/svm/_base.py:299: ConvergenceWarning: Solver terminated early (max_iter=1000).  Consider pre-processing your data with StandardScaler or MinMaxScaler.\n",
      "  warnings.warn(\n",
      "/home/ebneto/miniconda3/envs/smp/lib/python3.10/site-packages/sklearn/svm/_base.py:299: ConvergenceWarning: Solver terminated early (max_iter=1000).  Consider pre-processing your data with StandardScaler or MinMaxScaler.\n",
      "  warnings.warn(\n"
     ]
    },
    {
     "name": "stdout",
     "output_type": "stream",
     "text": [
      "[CV 4/5] END C=1000, gamma=auto, kernel=linear, max_iter=1000;, score=0.709 total time=   2.3s\n"
     ]
    },
    {
     "name": "stderr",
     "output_type": "stream",
     "text": [
      "/home/ebneto/miniconda3/envs/smp/lib/python3.10/site-packages/sklearn/svm/_base.py:299: ConvergenceWarning: Solver terminated early (max_iter=1000).  Consider pre-processing your data with StandardScaler or MinMaxScaler.\n",
      "  warnings.warn(\n"
     ]
    },
    {
     "name": "stdout",
     "output_type": "stream",
     "text": [
      "[CV 5/5] END C=1000, gamma=auto, kernel=linear, max_iter=1000;, score=0.708 total time=   1.9s\n"
     ]
    },
    {
     "name": "stderr",
     "output_type": "stream",
     "text": [
      "/home/ebneto/miniconda3/envs/smp/lib/python3.10/site-packages/sklearn/svm/_base.py:299: ConvergenceWarning: Solver terminated early (max_iter=1000).  Consider pre-processing your data with StandardScaler or MinMaxScaler.\n",
      "  warnings.warn(\n",
      "/home/ebneto/miniconda3/envs/smp/lib/python3.10/site-packages/sklearn/svm/_base.py:299: ConvergenceWarning: Solver terminated early (max_iter=1000).  Consider pre-processing your data with StandardScaler or MinMaxScaler.\n",
      "  warnings.warn(\n",
      "/home/ebneto/miniconda3/envs/smp/lib/python3.10/site-packages/sklearn/svm/_base.py:299: ConvergenceWarning: Solver terminated early (max_iter=1000).  Consider pre-processing your data with StandardScaler or MinMaxScaler.\n",
      "  warnings.warn(\n"
     ]
    },
    {
     "name": "stdout",
     "output_type": "stream",
     "text": [
      "[CV 2/5] END C=1000, gamma=auto, kernel=poly, max_iter=1000;, score=0.819 total time=   1.5s\n",
      "[CV 1/5] END C=1000, gamma=auto, kernel=poly, max_iter=1000;, score=0.701 total time=   2.0s\n",
      "[CV 3/5] END C=1000, gamma=auto, kernel=poly, max_iter=1000;, score=0.510 total time=   1.4s\n"
     ]
    },
    {
     "name": "stderr",
     "output_type": "stream",
     "text": [
      "/home/ebneto/miniconda3/envs/smp/lib/python3.10/site-packages/sklearn/svm/_base.py:299: ConvergenceWarning: Solver terminated early (max_iter=1000).  Consider pre-processing your data with StandardScaler or MinMaxScaler.\n",
      "  warnings.warn(\n"
     ]
    },
    {
     "name": "stdout",
     "output_type": "stream",
     "text": [
      "[CV 4/5] END C=1000, gamma=auto, kernel=poly, max_iter=1000;, score=0.444 total time=   1.6s\n"
     ]
    },
    {
     "name": "stderr",
     "output_type": "stream",
     "text": [
      "/home/ebneto/miniconda3/envs/smp/lib/python3.10/site-packages/sklearn/svm/_base.py:299: ConvergenceWarning: Solver terminated early (max_iter=1000).  Consider pre-processing your data with StandardScaler or MinMaxScaler.\n",
      "  warnings.warn(\n"
     ]
    },
    {
     "name": "stdout",
     "output_type": "stream",
     "text": [
      "[CV 5/5] END C=1000, gamma=auto, kernel=poly, max_iter=1000;, score=0.457 total time=   1.5s\n",
      "[CV 3/5] END C=1000, gamma=0.0001, kernel=rbf, max_iter=1000;, score=0.500 total time=  28.5s\n",
      "[CV 5/5] END C=1000, gamma=0.0001, kernel=rbf, max_iter=1000;, score=0.500 total time=  28.2s\n",
      "[CV 2/5] END C=1000, gamma=0.0001, kernel=rbf, max_iter=1000;, score=0.500 total time=  31.7s\n"
     ]
    },
    {
     "name": "stderr",
     "output_type": "stream",
     "text": [
      "/home/ebneto/miniconda3/envs/smp/lib/python3.10/site-packages/sklearn/svm/_base.py:299: ConvergenceWarning: Solver terminated early (max_iter=1000).  Consider pre-processing your data with StandardScaler or MinMaxScaler.\n",
      "  warnings.warn(\n"
     ]
    },
    {
     "name": "stdout",
     "output_type": "stream",
     "text": [
      "[CV 4/5] END C=1000, gamma=auto, kernel=sigmoid, max_iter=1000;, score=0.500 total time=   3.3s\n"
     ]
    },
    {
     "name": "stderr",
     "output_type": "stream",
     "text": [
      "/home/ebneto/miniconda3/envs/smp/lib/python3.10/site-packages/sklearn/svm/_base.py:299: ConvergenceWarning: Solver terminated early (max_iter=1000).  Consider pre-processing your data with StandardScaler or MinMaxScaler.\n",
      "  warnings.warn(\n"
     ]
    },
    {
     "name": "stdout",
     "output_type": "stream",
     "text": [
      "[CV 1/5] END C=1000, gamma=auto, kernel=sigmoid, max_iter=1000;, score=0.500 total time=   4.6s\n",
      "[CV 5/5] END C=1000, gamma=auto, kernel=sigmoid, max_iter=1000;, score=0.500 total time=   3.2s\n"
     ]
    },
    {
     "name": "stderr",
     "output_type": "stream",
     "text": [
      "/home/ebneto/miniconda3/envs/smp/lib/python3.10/site-packages/sklearn/svm/_base.py:299: ConvergenceWarning: Solver terminated early (max_iter=1000).  Consider pre-processing your data with StandardScaler or MinMaxScaler.\n",
      "  warnings.warn(\n"
     ]
    },
    {
     "name": "stdout",
     "output_type": "stream",
     "text": [
      "[CV 2/5] END C=1000, gamma=auto, kernel=sigmoid, max_iter=1000;, score=0.500 total time=   4.6s\n",
      "[CV 1/5] END C=1000, gamma=0.0001, kernel=rbf, max_iter=1000;, score=0.500 total time=  32.7s\n",
      "[CV 3/5] END C=1000, gamma=auto, kernel=sigmoid, max_iter=1000;, score=0.500 total time=   4.2s\n"
     ]
    },
    {
     "name": "stderr",
     "output_type": "stream",
     "text": [
      "/home/ebneto/miniconda3/envs/smp/lib/python3.10/site-packages/sklearn/svm/_base.py:299: ConvergenceWarning: Solver terminated early (max_iter=1000).  Consider pre-processing your data with StandardScaler or MinMaxScaler.\n",
      "  warnings.warn(\n",
      "/home/ebneto/miniconda3/envs/smp/lib/python3.10/site-packages/sklearn/svm/_base.py:299: ConvergenceWarning: Solver terminated early (max_iter=1000).  Consider pre-processing your data with StandardScaler or MinMaxScaler.\n",
      "  warnings.warn(\n"
     ]
    },
    {
     "name": "stdout",
     "output_type": "stream",
     "text": [
      "[CV 5/5] END C=1000, gamma=auto, kernel=rbf, max_iter=1000;, score=0.500 total time=  12.6s\n",
      "[CV 3/5] END C=1000, gamma=auto, kernel=rbf, max_iter=1000;, score=0.500 total time=  13.8s\n",
      "[CV 1/5] END C=1000, gamma=auto, kernel=rbf, max_iter=1000;, score=0.500 total time=  14.6s\n",
      "[CV 2/5] END C=1000, gamma=auto, kernel=rbf, max_iter=1000;, score=0.500 total time=  14.4s\n",
      "[CV 4/5] END C=1000, gamma=auto, kernel=rbf, max_iter=1000;, score=0.500 total time=  13.8s\n"
     ]
    },
    {
     "name": "stderr",
     "output_type": "stream",
     "text": [
      "/home/ebneto/miniconda3/envs/smp/lib/python3.10/site-packages/sklearn/svm/_base.py:299: ConvergenceWarning: Solver terminated early (max_iter=1000).  Consider pre-processing your data with StandardScaler or MinMaxScaler.\n",
      "  warnings.warn(\n"
     ]
    },
    {
     "data": {
      "text/html": [
       "<style>#sk-container-id-1 {color: black;background-color: white;}#sk-container-id-1 pre{padding: 0;}#sk-container-id-1 div.sk-toggleable {background-color: white;}#sk-container-id-1 label.sk-toggleable__label {cursor: pointer;display: block;width: 100%;margin-bottom: 0;padding: 0.3em;box-sizing: border-box;text-align: center;}#sk-container-id-1 label.sk-toggleable__label-arrow:before {content: \"▸\";float: left;margin-right: 0.25em;color: #696969;}#sk-container-id-1 label.sk-toggleable__label-arrow:hover:before {color: black;}#sk-container-id-1 div.sk-estimator:hover label.sk-toggleable__label-arrow:before {color: black;}#sk-container-id-1 div.sk-toggleable__content {max-height: 0;max-width: 0;overflow: hidden;text-align: left;background-color: #f0f8ff;}#sk-container-id-1 div.sk-toggleable__content pre {margin: 0.2em;color: black;border-radius: 0.25em;background-color: #f0f8ff;}#sk-container-id-1 input.sk-toggleable__control:checked~div.sk-toggleable__content {max-height: 200px;max-width: 100%;overflow: auto;}#sk-container-id-1 input.sk-toggleable__control:checked~label.sk-toggleable__label-arrow:before {content: \"▾\";}#sk-container-id-1 div.sk-estimator input.sk-toggleable__control:checked~label.sk-toggleable__label {background-color: #d4ebff;}#sk-container-id-1 div.sk-label input.sk-toggleable__control:checked~label.sk-toggleable__label {background-color: #d4ebff;}#sk-container-id-1 input.sk-hidden--visually {border: 0;clip: rect(1px 1px 1px 1px);clip: rect(1px, 1px, 1px, 1px);height: 1px;margin: -1px;overflow: hidden;padding: 0;position: absolute;width: 1px;}#sk-container-id-1 div.sk-estimator {font-family: monospace;background-color: #f0f8ff;border: 1px dotted black;border-radius: 0.25em;box-sizing: border-box;margin-bottom: 0.5em;}#sk-container-id-1 div.sk-estimator:hover {background-color: #d4ebff;}#sk-container-id-1 div.sk-parallel-item::after {content: \"\";width: 100%;border-bottom: 1px solid gray;flex-grow: 1;}#sk-container-id-1 div.sk-label:hover label.sk-toggleable__label {background-color: #d4ebff;}#sk-container-id-1 div.sk-serial::before {content: \"\";position: absolute;border-left: 1px solid gray;box-sizing: border-box;top: 0;bottom: 0;left: 50%;z-index: 0;}#sk-container-id-1 div.sk-serial {display: flex;flex-direction: column;align-items: center;background-color: white;padding-right: 0.2em;padding-left: 0.2em;position: relative;}#sk-container-id-1 div.sk-item {position: relative;z-index: 1;}#sk-container-id-1 div.sk-parallel {display: flex;align-items: stretch;justify-content: center;background-color: white;position: relative;}#sk-container-id-1 div.sk-item::before, #sk-container-id-1 div.sk-parallel-item::before {content: \"\";position: absolute;border-left: 1px solid gray;box-sizing: border-box;top: 0;bottom: 0;left: 50%;z-index: -1;}#sk-container-id-1 div.sk-parallel-item {display: flex;flex-direction: column;z-index: 1;position: relative;background-color: white;}#sk-container-id-1 div.sk-parallel-item:first-child::after {align-self: flex-end;width: 50%;}#sk-container-id-1 div.sk-parallel-item:last-child::after {align-self: flex-start;width: 50%;}#sk-container-id-1 div.sk-parallel-item:only-child::after {width: 0;}#sk-container-id-1 div.sk-dashed-wrapped {border: 1px dashed gray;margin: 0 0.4em 0.5em 0.4em;box-sizing: border-box;padding-bottom: 0.4em;background-color: white;}#sk-container-id-1 div.sk-label label {font-family: monospace;font-weight: bold;display: inline-block;line-height: 1.2em;}#sk-container-id-1 div.sk-label-container {text-align: center;}#sk-container-id-1 div.sk-container {/* jupyter's `normalize.less` sets `[hidden] { display: none; }` but bootstrap.min.css set `[hidden] { display: none !important; }` so we also need the `!important` here to be able to override the default hidden behavior on the sphinx rendered scikit-learn.org. See: https://github.com/scikit-learn/scikit-learn/issues/21755 */display: inline-block !important;position: relative;}#sk-container-id-1 div.sk-text-repr-fallback {display: none;}</style><div id=\"sk-container-id-1\" class=\"sk-top-container\"><div class=\"sk-text-repr-fallback\"><pre>GridSearchCV(estimator=SVC(), n_jobs=-1,\n",
       "             param_grid={&#x27;C&#x27;: [0.1, 1, 10, 100, 1000],\n",
       "                         &#x27;gamma&#x27;: [1, 0.1, 0.01, 0.001, 0.0001, &#x27;scale&#x27;,\n",
       "                                   &#x27;auto&#x27;],\n",
       "                         &#x27;kernel&#x27;: [&#x27;rbf&#x27;, &#x27;linear&#x27;, &#x27;poly&#x27;, &#x27;sigmoid&#x27;],\n",
       "                         &#x27;max_iter&#x27;: [1000]},\n",
       "             scoring=&#x27;balanced_accuracy&#x27;, verbose=3)</pre><b>In a Jupyter environment, please rerun this cell to show the HTML representation or trust the notebook. <br />On GitHub, the HTML representation is unable to render, please try loading this page with nbviewer.org.</b></div><div class=\"sk-container\" hidden><div class=\"sk-item sk-dashed-wrapped\"><div class=\"sk-label-container\"><div class=\"sk-label sk-toggleable\"><input class=\"sk-toggleable__control sk-hidden--visually\" id=\"sk-estimator-id-1\" type=\"checkbox\" ><label for=\"sk-estimator-id-1\" class=\"sk-toggleable__label sk-toggleable__label-arrow\">GridSearchCV</label><div class=\"sk-toggleable__content\"><pre>GridSearchCV(estimator=SVC(), n_jobs=-1,\n",
       "             param_grid={&#x27;C&#x27;: [0.1, 1, 10, 100, 1000],\n",
       "                         &#x27;gamma&#x27;: [1, 0.1, 0.01, 0.001, 0.0001, &#x27;scale&#x27;,\n",
       "                                   &#x27;auto&#x27;],\n",
       "                         &#x27;kernel&#x27;: [&#x27;rbf&#x27;, &#x27;linear&#x27;, &#x27;poly&#x27;, &#x27;sigmoid&#x27;],\n",
       "                         &#x27;max_iter&#x27;: [1000]},\n",
       "             scoring=&#x27;balanced_accuracy&#x27;, verbose=3)</pre></div></div></div><div class=\"sk-parallel\"><div class=\"sk-parallel-item\"><div class=\"sk-item\"><div class=\"sk-label-container\"><div class=\"sk-label sk-toggleable\"><input class=\"sk-toggleable__control sk-hidden--visually\" id=\"sk-estimator-id-2\" type=\"checkbox\" ><label for=\"sk-estimator-id-2\" class=\"sk-toggleable__label sk-toggleable__label-arrow\">estimator: SVC</label><div class=\"sk-toggleable__content\"><pre>SVC()</pre></div></div></div><div class=\"sk-serial\"><div class=\"sk-item\"><div class=\"sk-estimator sk-toggleable\"><input class=\"sk-toggleable__control sk-hidden--visually\" id=\"sk-estimator-id-3\" type=\"checkbox\" ><label for=\"sk-estimator-id-3\" class=\"sk-toggleable__label sk-toggleable__label-arrow\">SVC</label><div class=\"sk-toggleable__content\"><pre>SVC()</pre></div></div></div></div></div></div></div></div></div></div>"
      ],
      "text/plain": [
       "GridSearchCV(estimator=SVC(), n_jobs=-1,\n",
       "             param_grid={'C': [0.1, 1, 10, 100, 1000],\n",
       "                         'gamma': [1, 0.1, 0.01, 0.001, 0.0001, 'scale',\n",
       "                                   'auto'],\n",
       "                         'kernel': ['rbf', 'linear', 'poly', 'sigmoid'],\n",
       "                         'max_iter': [1000]},\n",
       "             scoring='balanced_accuracy', verbose=3)"
      ]
     },
     "execution_count": 7,
     "metadata": {},
     "output_type": "execute_result"
    }
   ],
   "source": [
    "grid = GridSearchCV(SVC(), param_grid, refit = True, verbose = 3, n_jobs=-1, scoring='balanced_accuracy')\n",
    "X_train_reshaped = [segment.reshape(-1) for segment in X_train]\n",
    "grid.fit(X_train_reshaped, y_train)"
   ]
  },
  {
   "attachments": {},
   "cell_type": "markdown",
   "metadata": {},
   "source": [
    "### Results"
   ]
  },
  {
   "cell_type": "code",
   "execution_count": 8,
   "metadata": {},
   "outputs": [
    {
     "name": "stdout",
     "output_type": "stream",
     "text": [
      "{'C': 100, 'gamma': 'scale', 'kernel': 'rbf', 'max_iter': 1000}\n",
      "SVC(C=100, max_iter=1000)\n"
     ]
    }
   ],
   "source": [
    "# print best parameter after tuning\n",
    "print(grid.best_params_)\n",
    "  \n",
    "# print how our model looks after hyper-parameter tuning\n",
    "print(grid.best_estimator_)"
   ]
  },
  {
   "cell_type": "code",
   "execution_count": 11,
   "metadata": {},
   "outputs": [
    {
     "name": "stdout",
     "output_type": "stream",
     "text": [
      "              precision    recall  f1-score   support\n",
      "\n",
      "           0       0.99      1.00      0.99      3444\n",
      "           1       0.85      0.74      0.79       126\n",
      "\n",
      "    accuracy                           0.99      3570\n",
      "   macro avg       0.92      0.87      0.89      3570\n",
      "weighted avg       0.99      0.99      0.99      3570\n",
      "\n"
     ]
    }
   ],
   "source": [
    "X_test_sel = [segment.reshape(-1) for segment in X_test]\n",
    "grid_predictions = grid.predict(X_test_sel)\n",
    "\n",
    "# print classification report\n",
    "print(classification_report(y_test, grid_predictions))\n"
   ]
  },
  {
   "cell_type": "code",
   "execution_count": 13,
   "metadata": {},
   "outputs": [
    {
     "name": "stdout",
     "output_type": "stream",
     "text": [
      "Balanced acc: 0.867\n"
     ]
    }
   ],
   "source": [
    "print(f'Balanced acc: {balanced_accuracy_score(y_test, grid_predictions) :.3f}')"
   ]
  }
 ],
 "metadata": {
  "kernelspec": {
   "display_name": "smp",
   "language": "python",
   "name": "python3"
  },
  "language_info": {
   "codemirror_mode": {
    "name": "ipython",
    "version": 3
   },
   "file_extension": ".py",
   "mimetype": "text/x-python",
   "name": "python",
   "nbconvert_exporter": "python",
   "pygments_lexer": "ipython3",
   "version": "3.10.10"
  },
  "orig_nbformat": 4
 },
 "nbformat": 4,
 "nbformat_minor": 2
}
