{
 "cells": [
  {
   "cell_type": "code",
   "execution_count": null,
   "metadata": {},
   "outputs": [],
   "source": [
    "from glob import glob\n",
    "from PIL import Image\n",
    "import os\n",
    "import numpy as np\n",
    "import re\n",
    "from skimage.segmentation import slic, mark_boundaries"
   ]
  },
  {
   "cell_type": "code",
   "execution_count": null,
   "metadata": {},
   "outputs": [],
   "source": [
    "scenes = {}\n",
    "for filename in glob(\"scenes_sentinel_pca/*.npy\"):\n",
    "    pca_region = np.load(filename)\n",
    "    region = re.search(r\"x(\\d+)\", filename).group(0)\n",
    "    scenes[region] = pca_region\n",
    "    print(f'Loaded slic for region {region} with shape {pca_region.shape}')"
   ]
  },
  {
   "cell_type": "code",
   "execution_count": null,
   "metadata": {},
   "outputs": [],
   "source": [
    "n_segments = {\n",
    "    \"x01\": 21000,\n",
    "    \"x02\": 27000,\n",
    "    \"x03\": 21000,\n",
    "    \"x04\": 15000,\n",
    "    \"x06\": 18000,\n",
    "    \"x07\": 33000,\n",
    "    \"x08\": 18000,\n",
    "    \"x09\": 21000,\n",
    "    \"x10\": 24000\n",
    "}"
   ]
  },
  {
   "cell_type": "code",
   "execution_count": null,
   "metadata": {},
   "outputs": [],
   "source": [
    "slics = {}\n",
    "for region, pca_region in scenes.items():\n",
    "    n_segments[region] *= 3\n",
    "    print(f'Running SLIC for region {region} with {n_segments[region]} segments...')\n",
    "    slic_region = slic(pca_region, n_segments=n_segments[region])\n",
    "    slics[region] = slic_region"
   ]
  },
  {
   "cell_type": "code",
   "execution_count": null,
   "metadata": {},
   "outputs": [],
   "source": [
    "os.makedirs('slics_sentinel', exist_ok=True)\n",
    "for region, slic_region in slics.items():\n",
    "    print(f'Saving SLIC for region {region}...')\n",
    "    print(f'Total of {len(np.unique(slic_region))} segments')\n",
    "    np.save(f'slics_manysegs/slic_{region}', slic_region)"
   ]
  },
  {
   "cell_type": "code",
   "execution_count": null,
   "metadata": {},
   "outputs": [],
   "source": [
    "os.makedirs('slics_sentinel/images', exist_ok=True)\n",
    "for region, slic_region in slics.items():\n",
    "    print(f'Saving SLIC images for region {region}...')\n",
    "    img = np.uint8(mark_boundaries(scenes[region], slic_region) * 255)\n",
    "    # Get average segment size\n",
    "    segment_sizes = np.bincount(slic_region.flatten())\n",
    "    # segment_sizes = segment_sizes[segment_sizes > 0]\n",
    "    print(f'Average segment size: {np.mean(segment_sizes)}')\n",
    "    print(f'Median segment size: {np.median(segment_sizes)}')\n",
    "    print(f'Number of segments with size > 630: {np.sum(segment_sizes > 630)} ({np.sum(segment_sizes > 630) / len(segment_sizes) * 100:.2f}%)')\n",
    "    # Blackout segments with size < 630\n",
    "    for segment in np.unique(slic_region):\n",
    "        if segment_sizes[segment] < 630:\n",
    "            img[slic_region == segment] = (1, 1, 1)\n",
    "\n",
    "    img = Image.fromarray(img)\n",
    "    img.save(f'slics_manysegs/images/slic_{region}.png')\n",
    "    print(f'{30 * \"-\"}')"
   ]
  }
 ],
 "metadata": {
  "kernelspec": {
   "display_name": "torch",
   "language": "python",
   "name": "python3"
  },
  "language_info": {
   "codemirror_mode": {
    "name": "ipython",
    "version": 3
   },
   "file_extension": ".py",
   "mimetype": "text/x-python",
   "name": "python",
   "nbconvert_exporter": "python",
   "pygments_lexer": "ipython3",
   "version": "3.11.5"
  },
  "orig_nbformat": 4
 },
 "nbformat": 4,
 "nbformat_minor": 2
}
