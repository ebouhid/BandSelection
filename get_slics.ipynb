{
 "cells": [
  {
   "cell_type": "code",
   "execution_count": 1,
   "metadata": {},
   "outputs": [],
   "source": [
    "from glob import glob\n",
    "from skimage.segmentation import slic\n",
    "from PIL import Image\n",
    "import numpy as np"
   ]
  },
  {
   "cell_type": "code",
   "execution_count": 2,
   "metadata": {},
   "outputs": [],
   "source": [
    "slics = []\n",
    "N_SEGMENTS = 4000\n",
    "MAX_ITER = 10"
   ]
  },
  {
   "cell_type": "code",
   "execution_count": 4,
   "metadata": {},
   "outputs": [
    {
     "name": "stdout",
     "output_type": "stream",
     "text": [
      "Generating slic for image #1\n",
      "Generating slic for image #2\n",
      "Generating slic for image #3\n",
      "Generating slic for image #4\n",
      "Generating slic for image #5\n",
      "Generating slic for image #6\n",
      "Generating slic for image #7\n",
      "Generating slic for image #8\n",
      "Generating slic for image #9\n",
      "Generating slic for image #10\n"
     ]
    }
   ],
   "source": [
    "img_paths = sorted(glob('scenes_467/*'))\n",
    "truth_paths = sorted(glob('truth_masks/*'))\n",
    "for idx, path in enumerate(img_paths):\n",
    "    img = Image.open(path)\n",
    "    img = np.array(img)\n",
    "    truth = np.load(truth_paths[idx])\n",
    "    \n",
    "    mask = np.where(((truth != 0) & (truth != 255)), 1, 0) * 255\n",
    "\n",
    "    print(f'Generating slic for image #{idx + 1}')\n",
    "    slic_results = slic(img, n_segments=N_SEGMENTS, max_num_iter=MAX_ITER, mask=mask.squeeze(), convert2lab=True)\n",
    "\n",
    "    slics.append(slic_results)"
   ]
  },
  {
   "cell_type": "code",
   "execution_count": 5,
   "metadata": {},
   "outputs": [
    {
     "name": "stdout",
     "output_type": "stream",
     "text": [
      "saved: slics/slic_x01-467.npy\n",
      "saved: slics/slic_x02-467.npy\n",
      "saved: slics/slic_x03-467.npy\n",
      "saved: slics/slic_x04-467.npy\n",
      "saved: slics/slic_x05-467.npy\n",
      "saved: slics/slic_x06-467.npy\n",
      "saved: slics/slic_x07-467.npy\n",
      "saved: slics/slic_x08-467.npy\n",
      "saved: slics/slic_x09-467.npy\n",
      "saved: slics/slic_x10-467.npy\n"
     ]
    }
   ],
   "source": [
    "for idx, slic in enumerate(slics):\n",
    "    np.save(f'slics/slic_x{idx + 1 :02d}-467.npy', slic)\n",
    "    print(f'saved: slics/slic_x{idx + 1 :02d}-467.npy')"
   ]
  }
 ],
 "metadata": {
  "kernelspec": {
   "display_name": "torch",
   "language": "python",
   "name": "python3"
  },
  "language_info": {
   "codemirror_mode": {
    "name": "ipython",
    "version": 3
   },
   "file_extension": ".py",
   "mimetype": "text/x-python",
   "name": "python",
   "nbconvert_exporter": "python",
   "pygments_lexer": "ipython3",
   "version": "3.8.16"
  },
  "orig_nbformat": 4
 },
 "nbformat": 4,
 "nbformat_minor": 2
}
