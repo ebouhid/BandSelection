{
 "cells": [
  {
   "cell_type": "code",
   "execution_count": 8,
   "metadata": {},
   "outputs": [],
   "source": [
    "from glob import glob\n",
    "from skimage.segmentation import slic\n",
    "from PIL import Image\n",
    "import numpy as np\n",
    "import re"
   ]
  },
  {
   "cell_type": "code",
   "execution_count": 9,
   "metadata": {},
   "outputs": [],
   "source": [
    "slics = {}\n",
    "MAX_ITER = 10\n",
    "COMPOSITION = '467'"
   ]
  },
  {
   "cell_type": "code",
   "execution_count": 10,
   "metadata": {},
   "outputs": [],
   "source": [
    "def get_region(filepath):\n",
    "    # Define a regular expression pattern to match \"xnn\" where nn is a 2-digit number\n",
    "    pattern = r'(x\\d{2})'\n",
    "    \n",
    "    # Use re.search to find the first match in the filepath\n",
    "    match = re.search(pattern, filepath)\n",
    "    \n",
    "    if match:\n",
    "        # Extract the matched \"xnn\" part from the regex match\n",
    "        xnn_part = match.group(1)\n",
    "        return xnn_part\n",
    "    else:\n",
    "        # Return None if no match is found\n",
    "        return None"
   ]
  },
  {
   "cell_type": "code",
   "execution_count": 11,
   "metadata": {},
   "outputs": [],
   "source": [
    "num_segments_dict = {\"x01\": 7000,\n",
    "                     \"x02\": 9000,\n",
    "                     \"x03\": 7000,\n",
    "                     \"x04\": 5000,\n",
    "                     \"x06\": 5000,\n",
    "                     \"x07\": 11000,\n",
    "                     \"x08\": 6000,\n",
    "                     \"x09\": 7000,\n",
    "                     \"x10\": 8000\n",
    "                     }"
   ]
  },
  {
   "cell_type": "code",
   "execution_count": 12,
   "metadata": {},
   "outputs": [
    {
     "name": "stdout",
     "output_type": "stream",
     "text": [
      "Generating slic for region x01...\n",
      "Generating slic for region x02...\n",
      "Generating slic for region x03...\n",
      "Generating slic for region x04...\n",
      "Generating slic for region x06...\n",
      "Generating slic for region x07...\n",
      "Generating slic for region x08...\n",
      "Generating slic for region x09...\n",
      "Generating slic for region x10...\n"
     ]
    }
   ],
   "source": [
    "img_paths = sorted(glob(f'scenes_{COMPOSITION}/*'))\n",
    "truth_paths = sorted(glob('truth_masks/*'))\n",
    "\n",
    "for idx, path in enumerate(img_paths):\n",
    "    img = Image.open(path)\n",
    "    img = np.array(img)\n",
    "    truth = np.load(truth_paths[idx])\n",
    "\n",
    "    region = get_region(path)\n",
    "    N_SEGMENTS = num_segments_dict[region]\n",
    "    \n",
    "    mask = np.where(((truth != 0) & (truth != 255)), 1, 0) * 255\n",
    "\n",
    "    print(f'Generating slic for region {region}...')\n",
    "    slic_results = slic(img, n_segments=N_SEGMENTS, max_num_iter=MAX_ITER, mask=mask.squeeze(), convert2lab=True)\n",
    "\n",
    "    slics[region] = slic_results"
   ]
  },
  {
   "cell_type": "code",
   "execution_count": 13,
   "metadata": {},
   "outputs": [
    {
     "name": "stdout",
     "output_type": "stream",
     "text": [
      "saved: slics/slic_x01-467.npy\n",
      "saved: slics/slic_x02-467.npy\n",
      "saved: slics/slic_x03-467.npy\n",
      "saved: slics/slic_x04-467.npy\n",
      "saved: slics/slic_x06-467.npy\n",
      "saved: slics/slic_x07-467.npy\n",
      "saved: slics/slic_x08-467.npy\n",
      "saved: slics/slic_x09-467.npy\n",
      "saved: slics/slic_x10-467.npy\n"
     ]
    }
   ],
   "source": [
    "# iterate through dict and save each region's slic\n",
    "for region, slic in slics.items():\n",
    "    savepath = f'slics/slic_{region}-{COMPOSITION}.npy'\n",
    "    np.save(savepath, slic)\n",
    "    print(f'saved: {savepath}')"
   ]
  }
 ],
 "metadata": {
  "kernelspec": {
   "display_name": "torch",
   "language": "python",
   "name": "python3"
  },
  "language_info": {
   "codemirror_mode": {
    "name": "ipython",
    "version": 3
   },
   "file_extension": ".py",
   "mimetype": "text/x-python",
   "name": "python",
   "nbconvert_exporter": "python",
   "pygments_lexer": "ipython3",
   "version": "3.10.10"
  },
  "orig_nbformat": 4
 },
 "nbformat": 4,
 "nbformat_minor": 2
}
