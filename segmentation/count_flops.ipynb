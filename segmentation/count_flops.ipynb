{
 "cells": [
  {
   "cell_type": "markdown",
   "metadata": {},
   "source": [
    "## Counting Floating Point Operations in each model"
   ]
  },
  {
   "cell_type": "code",
   "execution_count": 18,
   "metadata": {},
   "outputs": [],
   "source": [
    "import torch\n",
    "import torch.nn as nn\n",
    "\n",
    "def calculate_flops(model, input_size=(3, 256, 256)):\n",
    "    flops = 0\n",
    "    input = torch.randn(1, *input_size).to(next(model.parameters()).device)\n",
    "\n",
    "    for layer in model.modules():\n",
    "        if isinstance(layer, nn.Conv2d) or isinstance(layer, nn.ConvTranspose2d):\n",
    "            out_h = (input_size[1] - layer.kernel_size[0]) // layer.stride[0] + 1\n",
    "            out_w = (input_size[2] - layer.kernel_size[1]) // layer.stride[1] + 1\n",
    "            flops += 2 * layer.in_channels * layer.out_channels * layer.kernel_size[0] * layer.kernel_size[1] * out_h * out_w / layer.stride[0]\n",
    "            input_size = (layer.out_channels, out_h, out_w)\n",
    "        elif isinstance(layer, nn.Linear):\n",
    "            flops += 2 * layer.in_features * layer.out_features\n",
    "        elif isinstance(layer, nn.ReLU):\n",
    "            continue  # ReLU doesn't involve FLOPs\n",
    "        else:\n",
    "            # print(f\"Warning: layer {layer} not counted\")\n",
    "            pass\n",
    "\n",
    "    return flops\n"
   ]
  },
  {
   "cell_type": "code",
   "execution_count": 19,
   "metadata": {},
   "outputs": [
    {
     "name": "stdout",
     "output_type": "stream",
     "text": [
      "DeepLabV3Plus with 1 input ch., GFLOPs: 47.356\n",
      "DeepLabV3Plus with 2 input ch., GFLOPs: 47.405\n",
      "DeepLabV3Plus with 3 input ch., GFLOPs: 47.454\n",
      "DeepLabV3Plus with 4 input ch., GFLOPs: 47.503\n",
      "DeepLabV3Plus with 5 input ch., GFLOPs: 47.552\n",
      "DeepLabV3Plus with 6 input ch., GFLOPs: 47.601\n",
      "DeepLabV3Plus with 7 input ch., GFLOPs: 47.650\n",
      "DeepLabV3Plus with 8 input ch., GFLOPs: 47.699\n",
      "==============================\n",
      "UnetPlusPlus with 1 input ch., GFLOPs: 17.597\n",
      "UnetPlusPlus with 2 input ch., GFLOPs: 17.646\n",
      "UnetPlusPlus with 3 input ch., GFLOPs: 17.695\n",
      "UnetPlusPlus with 4 input ch., GFLOPs: 17.744\n",
      "UnetPlusPlus with 5 input ch., GFLOPs: 17.793\n",
      "UnetPlusPlus with 6 input ch., GFLOPs: 17.842\n",
      "UnetPlusPlus with 7 input ch., GFLOPs: 17.891\n",
      "UnetPlusPlus with 8 input ch., GFLOPs: 17.940\n"
     ]
    }
   ],
   "source": [
    "import segmentation_models_pytorch as smp\n",
    "for i in range(1, 9):\n",
    "    model = smp.DeepLabV3Plus(\n",
    "            in_channels=i,\n",
    "            classes=1,\n",
    "            activation='sigmoid',\n",
    "            encoder_name='resnet34',\n",
    "            encoder_weights=None,\n",
    "        )\n",
    "    print(f'{model.__class__.__name__} with {i} input ch., GFLOPs: {calculate_flops(model)/1e9 :.3f}')\n",
    "\n",
    "print(30*'=')\n",
    "\n",
    "for i in range(1, 9):\n",
    "    model = smp.UnetPlusPlus(\n",
    "            in_channels=i,\n",
    "            classes=1,\n",
    "            activation='sigmoid',\n",
    "            encoder_name='resnet34',\n",
    "            encoder_weights=None,\n",
    "        )\n",
    "    print(f'{model.__class__.__name__} with {i} input ch., GFLOPs: {calculate_flops(model)/1e9 :.3f}')"
   ]
  },
  {
   "cell_type": "code",
   "execution_count": null,
   "metadata": {},
   "outputs": [],
   "source": []
  }
 ],
 "metadata": {
  "kernelspec": {
   "display_name": "smp",
   "language": "python",
   "name": "python3"
  },
  "language_info": {
   "codemirror_mode": {
    "name": "ipython",
    "version": 3
   },
   "file_extension": ".py",
   "mimetype": "text/x-python",
   "name": "python",
   "nbconvert_exporter": "python",
   "pygments_lexer": "ipython3",
   "version": "3.10.10"
  }
 },
 "nbformat": 4,
 "nbformat_minor": 2
}
