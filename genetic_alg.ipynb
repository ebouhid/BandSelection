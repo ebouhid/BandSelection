{
 "cells": [
  {
   "cell_type": "code",
   "execution_count": 15,
   "metadata": {},
   "outputs": [
    {
     "name": "stdout",
     "output_type": "stream",
     "text": [
      "Generation 1\n",
      "Generation 2\n",
      "Generation 3\n",
      "Generation 4\n",
      "Generation 5\n",
      "Generation 6\n",
      "Generation 7\n",
      "Generation 8\n",
      "Generation 9\n",
      "Generation 10\n",
      "Generation 11\n",
      "Generation 12\n",
      "Generation 13\n",
      "Generation 14\n",
      "Generation 15\n",
      "Generation 16\n",
      "Generation 17\n",
      "Generation 18\n",
      "Generation 19\n",
      "Generation 20\n",
      "  Individual   Fitness  Test acc\n",
      "0    [1 5 6]  0.948052  0.883871\n",
      "2    [4 5 6]  0.948052  0.883871\n",
      "3    [4 5 6]  0.948052  0.883871\n",
      "4    [3 5 6]  0.948052  0.883871\n",
      "1    [2 5 6]  0.948052  0.877419\n"
     ]
    }
   ],
   "source": [
    "!python genetic_alg.py"
   ]
  }
 ],
 "metadata": {
  "kernelspec": {
   "display_name": "smp",
   "language": "python",
   "name": "python3"
  },
  "language_info": {
   "codemirror_mode": {
    "name": "ipython",
    "version": 3
   },
   "file_extension": ".py",
   "mimetype": "text/x-python",
   "name": "python",
   "nbconvert_exporter": "python",
   "pygments_lexer": "ipython3",
   "version": "3.10.10"
  },
  "orig_nbformat": 4
 },
 "nbformat": 4,
 "nbformat_minor": 2
}
