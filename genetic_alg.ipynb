{
 "cells": [
  {
   "cell_type": "code",
   "execution_count": 2,
   "metadata": {},
   "outputs": [
    {
     "name": "stdout",
     "output_type": "stream",
     "text": [
      "Generation 01\n",
      "Generation 02\n",
      "Generation 03\n",
      "Generation 04\n",
      "Generation 05\n",
      "Generation 06\n",
      "Generation 07\n",
      "Generation 08\n",
      "Generation 09\n",
      "Generation 10\n",
      "Generation 11\n",
      "Generation 12\n",
      "Generation 13\n",
      "Generation 14\n",
      "Generation 15\n",
      "Generation 16\n",
      "Generation 17\n",
      "Generation 18\n",
      "Generation 19\n",
      "Generation 20\n",
      "Generation 21\n",
      "Generation 22\n",
      "Generation 23\n",
      "Generation 24\n",
      "Generation 25\n",
      "Generation 26\n",
      "Generation 27\n",
      "Generation 28\n",
      "Generation 29\n",
      "Generation 30\n",
      "Generation 31\n",
      "Generation 32\n",
      "Generation 33\n",
      "Generation 34\n",
      "Generation 35\n",
      "Generation 36\n",
      "Generation 37\n",
      "Generation 38\n",
      "Generation 39\n",
      "Generation 40\n",
      "              Individual  Val accuracy  Test accuracy\n",
      "8  [0, 1, 0, 1, 1, 1, 0]      0.870130       0.845161\n",
      "6  [0, 1, 0, 1, 1, 1, 0]      0.870130       0.845161\n",
      "2  [0, 1, 0, 1, 1, 1, 0]      0.870130       0.845161\n",
      "5  [0, 1, 0, 1, 1, 1, 0]      0.870130       0.845161\n",
      "9  [1, 0, 0, 1, 1, 1, 0]      0.870130       0.838710\n",
      "7  [1, 0, 0, 1, 1, 1, 0]      0.870130       0.838710\n",
      "0  [0, 1, 0, 0, 1, 1, 0]      0.876623       0.838710\n",
      "4  [1, 0, 0, 1, 1, 1, 0]      0.870130       0.838710\n",
      "3  [1, 0, 0, 1, 1, 1, 0]      0.870130       0.838710\n",
      "1  [0, 0, 0, 1, 1, 1, 0]      0.876623       0.832258\n"
     ]
    }
   ],
   "source": [
    "!python genetic_alg.py"
   ]
  }
 ],
 "metadata": {
  "kernelspec": {
   "display_name": "smp",
   "language": "python",
   "name": "python3"
  },
  "language_info": {
   "codemirror_mode": {
    "name": "ipython",
    "version": 3
   },
   "file_extension": ".py",
   "mimetype": "text/x-python",
   "name": "python",
   "nbconvert_exporter": "python",
   "pygments_lexer": "ipython3",
   "version": "3.8.16"
  },
  "orig_nbformat": 4
 },
 "nbformat": 4,
 "nbformat_minor": 2
}
