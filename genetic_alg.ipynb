{
 "cells": [
  {
   "cell_type": "code",
   "execution_count": 5,
   "metadata": {},
   "outputs": [
    {
     "name": "stdout",
     "output_type": "stream",
     "text": [
      "Generation 1\n",
      "Generation 2\n",
      "Generation 3\n",
      "Generation 4\n",
      "Generation 5\n",
      "Generation 6\n",
      "Generation 7\n",
      "Generation 8\n",
      "Generation 9\n",
      "Generation 10\n",
      "        Individual   Fitness  Test acc\n",
      "0  [0 1 2 3 4 5 6]  0.922078  0.858065\n",
      "1  [0 1 2 3 4 5 6]  0.922078  0.858065\n",
      "2  [0 1 2 3 4 5 6]  0.922078  0.858065\n",
      "3  [0 1 2 3 4 5 6]  0.922078  0.858065\n",
      "4  [0 1 2 3 4 5 6]  0.922078  0.858065\n"
     ]
    }
   ],
   "source": [
    "!python genetic_alg.py"
   ]
  }
 ],
 "metadata": {
  "kernelspec": {
   "display_name": "smp",
   "language": "python",
   "name": "python3"
  },
  "language_info": {
   "codemirror_mode": {
    "name": "ipython",
    "version": 3
   },
   "file_extension": ".py",
   "mimetype": "text/x-python",
   "name": "python",
   "nbconvert_exporter": "python",
   "pygments_lexer": "ipython3",
   "version": "3.8.16"
  },
  "orig_nbformat": 4
 },
 "nbformat": 4,
 "nbformat_minor": 2
}
