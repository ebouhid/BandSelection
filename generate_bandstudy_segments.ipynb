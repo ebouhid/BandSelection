{
 "cells": [
  {
   "attachments": {},
   "cell_type": "markdown",
   "metadata": {},
   "source": [
    "## Selecting band comparison segments"
   ]
  },
  {
   "cell_type": "code",
   "execution_count": 1,
   "metadata": {},
   "outputs": [],
   "source": [
    "import numpy as np\n",
    "from PIL import Image\n",
    "from glob import glob\n",
    "from skimage.measure import regionprops\n",
    "import matplotlib.pyplot as plt\n",
    "import seaborn as sns\n",
    "import pandas as pd\n",
    "import mahotas"
   ]
  },
  {
   "cell_type": "code",
   "execution_count": 2,
   "metadata": {},
   "outputs": [],
   "source": [
    "img_paths = sorted(glob('scenes_467/*'))\n",
    "truth_paths = sorted(glob('truth_masks/*'))\n",
    "slic_paths = sorted(glob('slics/*467.npy'))\n",
    "assert len(img_paths) == len(truth_paths) == len(slic_paths)"
   ]
  },
  {
   "cell_type": "code",
   "execution_count": 3,
   "metadata": {},
   "outputs": [],
   "source": [
    "# 0 - Fundo\n",
    "# 1 - Desmatamento recente\n",
    "# 2 - Floresta\n",
    "# 3 - Ñ analisado\n",
    "\n",
    "def is_mixed(segment):\n",
    "    # flattening segment\n",
    "    segment = segment.flatten()\n",
    "\n",
    "\n",
    "    NFP = np.count_nonzero(segment == 2)\n",
    "    NP = np.count_nonzero(segment) # desconsiderando o fundo (np.zeros)\n",
    "    NNP = NP - NFP\n",
    "\n",
    "    if NFP != 0 and NNP != 0:\n",
    "        return True\n",
    "    \n",
    "\n",
    "    return False\n",
    "    \n",
    "def get_hor(segment):\n",
    "    # flattening segment\n",
    "    segment = segment.flatten()\n",
    "\n",
    "\n",
    "    NFP = np.count_nonzero(segment == 2)\n",
    "    NP = np.count_nonzero(segment) # desconsiderando o fundo\n",
    "    NNP = NP - NFP\n",
    "\n",
    "    HoR = max([NFP, NNP]) / NP\n",
    "\n",
    "    return HoR\n",
    "\n",
    "def get_major_class(segment):\n",
    "    if np.argmax(np.bincount(segment.flatten())) == 2:\n",
    "        return \"forest\"\n",
    "    elif np.argmax(np.bincount(segment.flatten())) == 1:\n",
    "        return \"non forest\"\n",
    "    elif np.argmax(np.bincount(segment.flatten())) == 3:\n",
    "        return \"not analyzed\"\n",
    "    else:\n",
    "        return np.argmax(np.bincount(segment.flatten()))"
   ]
  },
  {
   "cell_type": "code",
   "execution_count": 4,
   "metadata": {},
   "outputs": [],
   "source": [
    "segments_image_df = []\n",
    "segments_truth_df = []"
   ]
  },
  {
   "cell_type": "code",
   "execution_count": 5,
   "metadata": {},
   "outputs": [
    {
     "name": "stdout",
     "output_type": "stream",
     "text": [
      "x01: total_segs = 3920 | good_segs = 2699 | bad_segs = 1221 | bad_segs because of HoR = 199 | bad_segs because of size = 280 | perfect_segs = 2893\n",
      "x02: total_segs = 3794 | good_segs = 1512 | bad_segs = 2282 | bad_segs because of HoR = 270 | bad_segs because of size = 809 | perfect_segs = 2153\n",
      "x03: total_segs = 3809 | good_segs = 1926 | bad_segs = 1883 | bad_segs because of HoR = 315 | bad_segs because of size = 727 | perfect_segs = 1890\n",
      "x04: total_segs = 3825 | good_segs = 716 | bad_segs = 3109 | bad_segs because of HoR = 422 | bad_segs because of size = 1145 | perfect_segs = 1601\n",
      "x05: total_segs = 3637 | good_segs = 902 | bad_segs = 2735 | bad_segs because of HoR = 763 | bad_segs because of size = 2160 | perfect_segs = 1114\n",
      "x06: total_segs = 3935 | good_segs = 1236 | bad_segs = 2699 | bad_segs because of HoR = 450 | bad_segs because of size = 581 | perfect_segs = 1911\n",
      "x07: total_segs = 3918 | good_segs = 2337 | bad_segs = 1581 | bad_segs because of HoR = 484 | bad_segs because of size = 446 | perfect_segs = 1925\n",
      "x08: total_segs = 3862 | good_segs = 2009 | bad_segs = 1853 | bad_segs because of HoR = 599 | bad_segs because of size = 949 | perfect_segs = 1311\n",
      "x09: total_segs = 3880 | good_segs = 2558 | bad_segs = 1322 | bad_segs because of HoR = 425 | bad_segs because of size = 702 | perfect_segs = 1740\n",
      "x10: total_segs = 3730 | good_segs = 1390 | bad_segs = 2340 | bad_segs because of HoR = 580 | bad_segs because of size = 1423 | perfect_segs = 1153\n"
     ]
    }
   ],
   "source": [
    "global_segment_array = []\n",
    "global_perfect_segments = []\n",
    "for idx in range(len(img_paths)):\n",
    "    total_segs = 0\n",
    "    good_segs = 0\n",
    "    bad_by_hor = 0\n",
    "    bad_by_size = 0\n",
    "    n_perfect_segs = 0\n",
    "    image = np.asarray(Image.open(img_paths[idx]))\n",
    "    truth = np.load(truth_paths[idx])\n",
    "    slic = np.load(slic_paths[idx])\n",
    "\n",
    "    props = regionprops(slic)\n",
    "    segments_truth = []\n",
    "    segments_image = []\n",
    "    bad_segment_ids = []\n",
    "    perfect_segs_truth = []\n",
    "\n",
    "    assert slic.shape[:2] == truth.shape[:2]\n",
    "    for i, prop in enumerate(props):\n",
    "        total_segs += 1\n",
    "        minr, minc, maxr, maxc = prop.bbox\n",
    "        segment_truth = np.zeros((maxr - minr, maxc - minc))\n",
    "        segment_image = np.zeros((maxr - minr, maxc - minc, image.shape[-1]))\n",
    "        coords = np.array(prop.coords)\n",
    "        for pixel in coords:\n",
    "            segment_truth[pixel[0] - minr, pixel[1] - minc] = truth[pixel[0], pixel[1]]\n",
    "            segment_image[pixel[0] - minr, pixel[1] - minc] = image[pixel[0], pixel[1]]\n",
    "        hor = get_hor(segment_truth)\n",
    "        classification = get_major_class(np.uint8(segment_truth))\n",
    "        if (segment_truth.shape[0] * segment_truth.shape[1] > 70) and (hor > 0.7) and (classification in [\"forest\", \"non forest\"]):\n",
    "            segments_truth.append(np.uint8(segment_truth))\n",
    "            segments_image.append(np.uint8(segment_image))\n",
    "            segments_image_df.append({\"Segment_label\": prop.label, \"HoR\": hor, \"Class\": classification, \"Region\": f'x{idx + 1 :02d}'})\n",
    "            segments_truth_df.append({\"Segment_label\": prop.label, \"HoR\": hor, \"Class\": classification, \"Region\": f'x{idx + 1 :02d}'})\n",
    "            good_segs += 1\n",
    "        if (hor<= 0.7):\n",
    "            bad_by_hor += 1\n",
    "            bad_segment_ids.append(prop.label)\n",
    "        if (segment_truth.shape[0] * segment_truth.shape[1] <= 70 or classification == 0):\n",
    "            bad_by_size += 1\n",
    "            bad_segment_ids.append(prop.label)\n",
    "        if (hor== 1):\n",
    "            perfect_segs_truth.append(segment_truth)\n",
    "            n_perfect_segs += 1\n",
    "    global_segment_array.append(segments_truth)\n",
    "    global_perfect_segments.append(perfect_segs_truth)\n",
    "\n",
    "    print(f'x{idx + 1 :02d}: total_segs = {total_segs} | good_segs = {good_segs} | bad_segs = {total_segs - good_segs} | bad_segs because of HoR = {bad_by_hor} | bad_segs because of size = {bad_by_size} | perfect_segs = {n_perfect_segs}')\n",
    "\n",
    "    "
   ]
  },
  {
   "cell_type": "code",
   "execution_count": 6,
   "metadata": {},
   "outputs": [],
   "source": [
    "segments_image_df = pd.DataFrame.from_records(segments_image_df)\n",
    "segments_truth_df = pd.DataFrame.from_records(segments_truth_df)"
   ]
  },
  {
   "cell_type": "code",
   "execution_count": 7,
   "metadata": {},
   "outputs": [
    {
     "data": {
      "text/html": [
       "<div>\n",
       "<style scoped>\n",
       "    .dataframe tbody tr th:only-of-type {\n",
       "        vertical-align: middle;\n",
       "    }\n",
       "\n",
       "    .dataframe tbody tr th {\n",
       "        vertical-align: top;\n",
       "    }\n",
       "\n",
       "    .dataframe thead th {\n",
       "        text-align: right;\n",
       "    }\n",
       "</style>\n",
       "<table border=\"1\" class=\"dataframe\">\n",
       "  <thead>\n",
       "    <tr style=\"text-align: right;\">\n",
       "      <th></th>\n",
       "      <th>Segment_label</th>\n",
       "      <th>HoR</th>\n",
       "      <th>Class</th>\n",
       "      <th>Region</th>\n",
       "    </tr>\n",
       "  </thead>\n",
       "  <tbody>\n",
       "    <tr>\n",
       "      <th>0</th>\n",
       "      <td>1</td>\n",
       "      <td>1.000000</td>\n",
       "      <td>forest</td>\n",
       "      <td>x01</td>\n",
       "    </tr>\n",
       "    <tr>\n",
       "      <th>1</th>\n",
       "      <td>7</td>\n",
       "      <td>0.983193</td>\n",
       "      <td>forest</td>\n",
       "      <td>x01</td>\n",
       "    </tr>\n",
       "    <tr>\n",
       "      <th>2</th>\n",
       "      <td>9</td>\n",
       "      <td>1.000000</td>\n",
       "      <td>forest</td>\n",
       "      <td>x01</td>\n",
       "    </tr>\n",
       "    <tr>\n",
       "      <th>3</th>\n",
       "      <td>10</td>\n",
       "      <td>1.000000</td>\n",
       "      <td>forest</td>\n",
       "      <td>x01</td>\n",
       "    </tr>\n",
       "    <tr>\n",
       "      <th>4</th>\n",
       "      <td>11</td>\n",
       "      <td>1.000000</td>\n",
       "      <td>forest</td>\n",
       "      <td>x01</td>\n",
       "    </tr>\n",
       "  </tbody>\n",
       "</table>\n",
       "</div>"
      ],
      "text/plain": [
       "   Segment_label       HoR   Class Region\n",
       "0              1  1.000000  forest    x01\n",
       "1              7  0.983193  forest    x01\n",
       "2              9  1.000000  forest    x01\n",
       "3             10  1.000000  forest    x01\n",
       "4             11  1.000000  forest    x01"
      ]
     },
     "execution_count": 7,
     "metadata": {},
     "output_type": "execute_result"
    }
   ],
   "source": [
    "segments_image_df.head()"
   ]
  },
  {
   "cell_type": "code",
   "execution_count": 8,
   "metadata": {},
   "outputs": [
    {
     "name": "stdout",
     "output_type": "stream",
     "text": [
      "across x01: forest = 2527 | non forest = 172\n",
      "across x02: forest = 1350 | non forest = 162\n",
      "across x03: forest = 1886 | non forest = 40\n",
      "across x04: forest = 703 | non forest = 13\n",
      "across x05: forest = 842 | non forest = 60\n",
      "across x06: forest = 1202 | non forest = 34\n",
      "across x07: forest = 2319 | non forest = 18\n",
      "across x08: forest = 1933 | non forest = 76\n",
      "across x09: forest = 2529 | non forest = 29\n",
      "across x10: forest = 1327 | non forest = 63\n"
     ]
    }
   ],
   "source": [
    "for idx, segment_list in enumerate(global_segment_array):\n",
    "    forest_count = 0\n",
    "    non_forest_count = 0\n",
    "    for segment in segment_list:\n",
    "        if (np.argmax(np.bincount(segment.flatten())) == 2):\n",
    "            forest_count += 1\n",
    "        elif (np.argmax(np.bincount(segment.flatten())) == 1):\n",
    "            non_forest_count += 1\n",
    "    \n",
    "    print(f'across x{idx + 1 :02d}: forest = {forest_count} | non forest = {non_forest_count}')\n",
    "\n"
   ]
  },
  {
   "cell_type": "code",
   "execution_count": 9,
   "metadata": {},
   "outputs": [],
   "source": [
    "# segments_image_df.to_csv('segments_467.csv', index=False)"
   ]
  },
  {
   "cell_type": "code",
   "execution_count": 10,
   "metadata": {},
   "outputs": [],
   "source": [
    "# for i in range(1, 11):\n",
    "#     fig = plt.figure(figsize=(5, 5))\n",
    "#     data = segments_truth_df[segments_truth_df['Region'] == f'x{i:02d}']\n",
    "#     data = data.reset_index(drop=True)\n",
    "\n",
    "#     ax = sns.boxplot(data, x='Class', y='HoR')\n",
    "#     ax.set_title(f'Boxplot | x{i :02d}')\n"
   ]
  },
  {
   "cell_type": "code",
   "execution_count": 11,
   "metadata": {},
   "outputs": [
    {
     "data": {
      "text/plain": [
       "Text(0.5, 1.0, 'Boxplot | all regions')"
      ]
     },
     "execution_count": 11,
     "metadata": {},
     "output_type": "execute_result"
    },
    {
     "data": {
      "image/png": "[encoded data removed]",
      "text/plain": [
       "<Figure size 500x500 with 1 Axes>"
      ]
     },
     "metadata": {},
     "output_type": "display_data"
    }
   ],
   "source": [
    "fig = plt.figure(figsize=(5, 5))\n",
    "data = segments_truth_df\n",
    "data = data.reset_index(drop=True)\n",
    "ax = sns.boxplot(data, x='Class', y='HoR')\n",
    "ax.set_title(f'Boxplot | all regions')\n"
   ]
  },
  {
   "cell_type": "code",
   "execution_count": 12,
   "metadata": {},
   "outputs": [
    {
     "name": "stdout",
     "output_type": "stream",
     "text": [
      "(2699, 4)\n",
      "(1512, 4)\n",
      "(1926, 4)\n",
      "(716, 4)\n",
      "(902, 4)\n",
      "(1236, 4)\n",
      "(2337, 4)\n",
      "(2009, 4)\n",
      "(2558, 4)\n",
      "(1390, 4)\n"
     ]
    }
   ],
   "source": [
    "info = []\n",
    "for i in range(1, 11):\n",
    "    region_segments = segments_image_df[segments_image_df['Region'] == f'x{i :02d}']\n",
    "    counts = region_segments['Class'].value_counts()\n",
    "    # export_num = min([counts['forest'], counts['non forest'], 100])\n",
    "    \n",
    "    # selecting segments\n",
    "    selected_segments = region_segments.sort_values(by='HoR', ascending=False)\n",
    "    # selected_segments = selected_segments.groupby('Class')\n",
    "\n",
    "    # exporting segments\n",
    "    print(selected_segments.shape)\n",
    "    # getting labels\n",
    "    # forest_labels = (selected_segments[selected_segments['Class'] == 'forest'])['Segment_label'].values\n",
    "    # non_forest_labels = selected_segments[selected_segments['Class'] == 'non forest']['Segment_label'].values"
   ]
  },
  {
   "cell_type": "markdown",
   "metadata": {},
   "source": [
    "## Calculating Haralick features for every band and saving segment files"
   ]
  },
  {
   "cell_type": "code",
   "execution_count": 13,
   "metadata": {},
   "outputs": [],
   "source": [
    "info = []\n",
    "for i in range(1, 11):\n",
    "    region_segments = segments_image_df[segments_image_df['Region'] == f'x{i :02d}']\n",
    "    counts = region_segments['Class'].value_counts()\n",
    "    # export_num = min([counts['forest'], counts['non forest'], 100])\n",
    "    \n",
    "    # selecting segments\n",
    "    selected_segments = region_segments.sort_values(by='HoR', ascending=False)\n",
    "    # selected_segments = selected_segments.groupby('Class')\n",
    "\n",
    "    # exporting segments\n",
    "\n",
    "    # getting labels\n",
    "    forest_labels = (selected_segments[selected_segments['Class'] == 'forest'])['Segment_label'].values\n",
    "    non_forest_labels = selected_segments[selected_segments['Class'] == 'non forest']['Segment_label'].values\n",
    "\n",
    "    # loading scenes\n",
    "    image = np.load(f'scenes_allbands/allbands_x{i :02d}.npy')\n",
    "    slic = np.load(f'slics/slic_x{i :02d}-467.npy') #b4b6b7 composition\n",
    "    props = regionprops(slic)\n",
    "\n",
    "    \n",
    "    # saving segments\n",
    "    saved_forest = 0\n",
    "    saved_nonforest = 0\n",
    "    for prop in props:\n",
    "        if prop.label in forest_labels:\n",
    "            minr, minc, maxr, maxc = prop.bbox\n",
    "            image_segment = np.zeros((maxr - minr, maxc - minc, image.shape[-1]))\n",
    "            coords = np.array(prop.coords)\n",
    "            for pixel in coords:\n",
    "                image_segment[pixel[0] - minr, pixel[1] - minc] = image[pixel[0], pixel[1]]\n",
    "            \n",
    "            img = np.uint8(image_segment)\n",
    "            har_bands = []\n",
    "\n",
    "            for band in range(img.shape[-1]):\n",
    "                har_forest = mahotas.features.haralick(img[:, :, band])\n",
    "                har_bands.append(har_forest)\n",
    "        \n",
    "            img = np.stack(har_bands)\n",
    "\n",
    "            np.save(f'data/dataset_v4-467/forest/forest_x{i :02d}_{prop.label}.npy', img)\n",
    "            saved_forest += 1\n",
    "\n",
    "        if prop.label in non_forest_labels:\n",
    "            minr, minc, maxr, maxc = prop.bbox\n",
    "            image_segment = np.zeros((maxr - minr, maxc - minc, image.shape[-1]))\n",
    "            coords = np.array(prop.coords)\n",
    "            for pixel in coords:\n",
    "                image_segment[pixel[0] - minr, pixel[1] - minc] = image[pixel[0], pixel[1]]\n",
    "            \n",
    "            img = np.uint8(image_segment)\n",
    "            har_bands = []\n",
    "            \n",
    "            for band in range(img.shape[-1]):\n",
    "                har_forest = mahotas.features.haralick(img[:, :, band])\n",
    "                har_bands.append(har_forest)\n",
    "        \n",
    "            img = np.stack(har_bands)\n",
    "\n",
    "            np.save(f'data/dataset_v4-467/non_forest/nonforest_x{i :02d}_{prop.label}.png', img)\n",
    "            saved_nonforest += 1\n",
    "    info.append(dict(region=f'x{i :02d}', forest=saved_forest, nonforest=saved_nonforest, total=(saved_forest + saved_nonforest)))\n",
    "        \n",
    "    # assert (saved_forest == export_num) and (saved_nonforest == export_num)"
   ]
  },
  {
   "cell_type": "code",
   "execution_count": 14,
   "metadata": {},
   "outputs": [
    {
     "data": {
      "text/html": [
       "<div>\n",
       "<style scoped>\n",
       "    .dataframe tbody tr th:only-of-type {\n",
       "        vertical-align: middle;\n",
       "    }\n",
       "\n",
       "    .dataframe tbody tr th {\n",
       "        vertical-align: top;\n",
       "    }\n",
       "\n",
       "    .dataframe thead th {\n",
       "        text-align: right;\n",
       "    }\n",
       "</style>\n",
       "<table border=\"1\" class=\"dataframe\">\n",
       "  <thead>\n",
       "    <tr style=\"text-align: right;\">\n",
       "      <th></th>\n",
       "      <th>region</th>\n",
       "      <th>forest</th>\n",
       "      <th>nonforest</th>\n",
       "      <th>total</th>\n",
       "    </tr>\n",
       "  </thead>\n",
       "  <tbody>\n",
       "    <tr>\n",
       "      <th>0</th>\n",
       "      <td>x01</td>\n",
       "      <td>2527</td>\n",
       "      <td>172</td>\n",
       "      <td>2699</td>\n",
       "    </tr>\n",
       "    <tr>\n",
       "      <th>1</th>\n",
       "      <td>x02</td>\n",
       "      <td>1350</td>\n",
       "      <td>162</td>\n",
       "      <td>1512</td>\n",
       "    </tr>\n",
       "    <tr>\n",
       "      <th>2</th>\n",
       "      <td>x03</td>\n",
       "      <td>1886</td>\n",
       "      <td>40</td>\n",
       "      <td>1926</td>\n",
       "    </tr>\n",
       "    <tr>\n",
       "      <th>3</th>\n",
       "      <td>x04</td>\n",
       "      <td>703</td>\n",
       "      <td>13</td>\n",
       "      <td>716</td>\n",
       "    </tr>\n",
       "    <tr>\n",
       "      <th>4</th>\n",
       "      <td>x05</td>\n",
       "      <td>842</td>\n",
       "      <td>60</td>\n",
       "      <td>902</td>\n",
       "    </tr>\n",
       "    <tr>\n",
       "      <th>5</th>\n",
       "      <td>x06</td>\n",
       "      <td>1202</td>\n",
       "      <td>34</td>\n",
       "      <td>1236</td>\n",
       "    </tr>\n",
       "    <tr>\n",
       "      <th>6</th>\n",
       "      <td>x07</td>\n",
       "      <td>2319</td>\n",
       "      <td>18</td>\n",
       "      <td>2337</td>\n",
       "    </tr>\n",
       "    <tr>\n",
       "      <th>7</th>\n",
       "      <td>x08</td>\n",
       "      <td>1933</td>\n",
       "      <td>76</td>\n",
       "      <td>2009</td>\n",
       "    </tr>\n",
       "    <tr>\n",
       "      <th>8</th>\n",
       "      <td>x09</td>\n",
       "      <td>2529</td>\n",
       "      <td>29</td>\n",
       "      <td>2558</td>\n",
       "    </tr>\n",
       "    <tr>\n",
       "      <th>9</th>\n",
       "      <td>x10</td>\n",
       "      <td>1327</td>\n",
       "      <td>63</td>\n",
       "      <td>1390</td>\n",
       "    </tr>\n",
       "  </tbody>\n",
       "</table>\n",
       "</div>"
      ],
      "text/plain": [
       "  region  forest  nonforest  total\n",
       "0    x01    2527        172   2699\n",
       "1    x02    1350        162   1512\n",
       "2    x03    1886         40   1926\n",
       "3    x04     703         13    716\n",
       "4    x05     842         60    902\n",
       "5    x06    1202         34   1236\n",
       "6    x07    2319         18   2337\n",
       "7    x08    1933         76   2009\n",
       "8    x09    2529         29   2558\n",
       "9    x10    1327         63   1390"
      ]
     },
     "execution_count": 14,
     "metadata": {},
     "output_type": "execute_result"
    }
   ],
   "source": [
    "log = pd.DataFrame.from_records(info)\n",
    "log"
   ]
  },
  {
   "cell_type": "code",
   "execution_count": 15,
   "metadata": {},
   "outputs": [
    {
     "data": {
      "text/plain": [
       "region       x01x02x03x04x05x06x07x08x09x10\n",
       "forest                                16618\n",
       "nonforest                               667\n",
       "total                                 17285\n",
       "dtype: object"
      ]
     },
     "execution_count": 15,
     "metadata": {},
     "output_type": "execute_result"
    }
   ],
   "source": [
    "log.sum()"
   ]
  }
 ],
 "metadata": {
  "kernelspec": {
   "display_name": "geo",
   "language": "python",
   "name": "python3"
  },
  "language_info": {
   "codemirror_mode": {
    "name": "ipython",
    "version": 3
   },
   "file_extension": ".py",
   "mimetype": "text/x-python",
   "name": "python",
   "nbconvert_exporter": "python",
   "pygments_lexer": "ipython3",
   "version": "3.8.16"
  }
 },
 "nbformat": 4,
 "nbformat_minor": 2
}
