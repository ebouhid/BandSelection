{
 "cells": [
  {
   "cell_type": "markdown",
   "metadata": {},
   "source": [
    "## Selecting band comparison segments\n"
   ]
  },
  {
   "cell_type": "code",
   "execution_count": 1,
   "metadata": {},
   "outputs": [],
   "source": [
    "import numpy as np\n",
    "from PIL import Image\n",
    "from glob import glob\n",
    "from skimage.measure import regionprops\n",
    "import matplotlib.pyplot as plt\n",
    "import seaborn as sns\n",
    "import pandas as pd\n",
    "import mahotas\n",
    "import os\n",
    "from tqdm import tqdm"
   ]
  },
  {
   "cell_type": "code",
   "execution_count": 8,
   "metadata": {},
   "outputs": [],
   "source": [
    "truth_paths = sorted(glob('truth_masks_sentinel/*'))\n",
    "slic_paths = sorted(glob('slics_manysegs/*.npy'))\n",
    "assert len(truth_paths) == len(slic_paths)"
   ]
  },
  {
   "cell_type": "code",
   "execution_count": 9,
   "metadata": {},
   "outputs": [],
   "source": [
    "# 0 - Fundo\n",
    "# 1 - Desmatamento recente\n",
    "# 2 - Floresta\n",
    "# 3 - Ñ analisado\n",
    "\n",
    "def is_mixed(segment):\n",
    "    # flattening segment\n",
    "    segment = segment.flatten()\n",
    "\n",
    "    NFP = np.count_nonzero(segment == 2)\n",
    "    NP = np.count_nonzero(segment) # desconsiderando o fundo (np.zeros)\n",
    "    NNP = NP - NFP\n",
    "\n",
    "    if NFP != 0 and NNP != 0:\n",
    "        return True\n",
    "    \n",
    "\n",
    "    return False\n",
    "    \n",
    "def get_hor(segment):\n",
    "    # flattening segment\n",
    "    segment = segment.flatten()\n",
    "\n",
    "    NFP = np.where(segment == 0, 1, 0).sum()\n",
    "    NP = segment.size\n",
    "    NNP = NP - NFP\n",
    "\n",
    "    HoR = max([NFP, NNP]) / NP\n",
    "\n",
    "    return HoR\n",
    "\n",
    "def get_major_class(segment):\n",
    "    if np.argmax(np.bincount(segment.flatten())) == 0:\n",
    "        return \"forest\"\n",
    "    elif np.argmax(np.bincount(segment.flatten())) == 1:\n",
    "        return \"non forest\"\n",
    "    else:\n",
    "        return np.argmax(np.bincount(segment.flatten()))\n",
    "    \n",
    "def get_region(path):\n",
    "    return f\"{path.split('/')[-1].split('.')[0].split('_')[-1].split('-')[0]}\""
   ]
  },
  {
   "cell_type": "code",
   "execution_count": 10,
   "metadata": {},
   "outputs": [
    {
     "name": "stdout",
     "output_type": "stream",
     "text": [
      "x01: total_segs = 44703 | good_segs = 5446 | bad_segs = 39257 | bad_segs because of HoR = 1541 | bad_segs because of size = 38941 | perfect_segs = 39460\n",
      "x02: total_segs = 66428 | good_segs = 2055 | bad_segs = 64373 | bad_segs because of HoR = 3079 | bad_segs because of size = 64089 | perfect_segs = 55490\n",
      "x03: total_segs = 44459 | good_segs = 4319 | bad_segs = 40140 | bad_segs because of HoR = 2982 | bad_segs because of size = 39581 | perfect_segs = 33690\n",
      "x04: total_segs = 37593 | good_segs =  645 | bad_segs = 36948 | bad_segs because of HoR = 3302 | bad_segs because of size = 36812 | perfect_segs = 26369\n",
      "x06: total_segs = 47211 | good_segs = 1295 | bad_segs = 45916 | bad_segs because of HoR = 3390 | bad_segs because of size = 45760 | perfect_segs = 35699\n",
      "x07: total_segs = 91737 | good_segs = 1085 | bad_segs = 90652 | bad_segs because of HoR = 5868 | bad_segs because of size = 90478 | perfect_segs = 72137\n",
      "x08: total_segs = 42635 | good_segs = 1241 | bad_segs = 41394 | bad_segs because of HoR = 4833 | bad_segs because of size = 41106 | perfect_segs = 26517\n",
      "x09: total_segs = 43116 | good_segs = 5102 | bad_segs = 38014 | bad_segs because of HoR = 3940 | bad_segs because of size = 37463 | perfect_segs = 29537\n",
      "x10: total_segs = 67342 | good_segs =  694 | bad_segs = 66648 | bad_segs because of HoR = 5392 | bad_segs because of size = 66495 | perfect_segs = 50232\n"
     ]
    }
   ],
   "source": [
    "segments_truth_df = []\n",
    "global_segment_array = []\n",
    "global_perfect_segments = []\n",
    "for idx in range(len(slic_paths)):\n",
    "    total_segs = 0\n",
    "    good_segs = 0\n",
    "    bad_by_hor = 0\n",
    "    bad_by_size = 0\n",
    "    n_perfect_segs = 0\n",
    "    truth = np.load(truth_paths[idx])\n",
    "    truth = np.where(truth != 2, 1, 0)\n",
    "    slic = np.load(slic_paths[idx])\n",
    "    region = get_region(slic_paths[idx])\n",
    "\n",
    "    props = regionprops(slic)\n",
    "    segments_truth = []\n",
    "    bad_segment_ids = []\n",
    "    perfect_segs_truth = []\n",
    "\n",
    "    assert slic.shape[:2] == truth.shape[:2]\n",
    "    for i, prop in enumerate(props):\n",
    "        total_segs += 1\n",
    "        minr, minc, maxr, maxc = prop.bbox\n",
    "        coords = np.array(prop.coords)\n",
    "        segment_truth = truth[minr:maxr, minc:maxc]\n",
    "        hor = get_hor(segment_truth)\n",
    "        classification = get_major_class(np.uint8(segment_truth))\n",
    "        if (segment_truth.shape[0] * segment_truth.shape[1] > 630) and (hor > 0.7) and (classification in [\"forest\", \"non forest\"]):\n",
    "            segments_truth.append(np.uint8(segment_truth))\n",
    "            segments_truth_df.append({\"Segment_label\": prop.label, \"HoR\": hor, \"Class\": classification, \"Region\": region})\n",
    "            good_segs += 1\n",
    "        if (hor<= 0.7):\n",
    "            bad_by_hor += 1\n",
    "            bad_segment_ids.append(prop.label)\n",
    "        if (segment_truth.shape[0] * segment_truth.shape[1] <= 630):\n",
    "            bad_by_size += 1\n",
    "            bad_segment_ids.append(prop.label)\n",
    "        if (hor== 1):\n",
    "            perfect_segs_truth.append(segment_truth)\n",
    "            n_perfect_segs += 1\n",
    "    global_segment_array.append(segments_truth)\n",
    "    global_perfect_segments.append(perfect_segs_truth)\n",
    "\n",
    "    print(f'{region}: total_segs = {total_segs :4d} | good_segs = {good_segs :4d} | bad_segs = {(total_segs - good_segs) :4d} | bad_segs because of HoR = {bad_by_hor :4d} | bad_segs because of size = {bad_by_size :4d} | perfect_segs = {n_perfect_segs :4d}')\n",
    "\n",
    "    "
   ]
  },
  {
   "cell_type": "code",
   "execution_count": 11,
   "metadata": {},
   "outputs": [],
   "source": [
    "segments_truth_df = pd.DataFrame.from_records(segments_truth_df)"
   ]
  },
  {
   "cell_type": "code",
   "execution_count": 13,
   "metadata": {},
   "outputs": [
    {
     "data": {
      "text/html": [
       "<div>\n",
       "<style scoped>\n",
       "    .dataframe tbody tr th:only-of-type {\n",
       "        vertical-align: middle;\n",
       "    }\n",
       "\n",
       "    .dataframe tbody tr th {\n",
       "        vertical-align: top;\n",
       "    }\n",
       "\n",
       "    .dataframe thead th {\n",
       "        text-align: right;\n",
       "    }\n",
       "</style>\n",
       "<table border=\"1\" class=\"dataframe\">\n",
       "  <thead>\n",
       "    <tr style=\"text-align: right;\">\n",
       "      <th></th>\n",
       "      <th>Segment_label</th>\n",
       "      <th>HoR</th>\n",
       "      <th>Class</th>\n",
       "      <th>Region</th>\n",
       "    </tr>\n",
       "  </thead>\n",
       "  <tbody>\n",
       "    <tr>\n",
       "      <th>0</th>\n",
       "      <td>1</td>\n",
       "      <td>0.94461</td>\n",
       "      <td>forest</td>\n",
       "      <td>x01</td>\n",
       "    </tr>\n",
       "    <tr>\n",
       "      <th>1</th>\n",
       "      <td>4</td>\n",
       "      <td>1.00000</td>\n",
       "      <td>forest</td>\n",
       "      <td>x01</td>\n",
       "    </tr>\n",
       "    <tr>\n",
       "      <th>2</th>\n",
       "      <td>22</td>\n",
       "      <td>1.00000</td>\n",
       "      <td>forest</td>\n",
       "      <td>x01</td>\n",
       "    </tr>\n",
       "    <tr>\n",
       "      <th>3</th>\n",
       "      <td>35</td>\n",
       "      <td>1.00000</td>\n",
       "      <td>forest</td>\n",
       "      <td>x01</td>\n",
       "    </tr>\n",
       "    <tr>\n",
       "      <th>4</th>\n",
       "      <td>44</td>\n",
       "      <td>1.00000</td>\n",
       "      <td>forest</td>\n",
       "      <td>x01</td>\n",
       "    </tr>\n",
       "  </tbody>\n",
       "</table>\n",
       "</div>"
      ],
      "text/plain": [
       "   Segment_label      HoR   Class Region\n",
       "0              1  0.94461  forest    x01\n",
       "1              4  1.00000  forest    x01\n",
       "2             22  1.00000  forest    x01\n",
       "3             35  1.00000  forest    x01\n",
       "4             44  1.00000  forest    x01"
      ]
     },
     "execution_count": 13,
     "metadata": {},
     "output_type": "execute_result"
    }
   ],
   "source": [
    "segments_truth_df.head()"
   ]
  },
  {
   "cell_type": "code",
   "execution_count": 14,
   "metadata": {},
   "outputs": [
    {
     "name": "stdout",
     "output_type": "stream",
     "text": [
      "x01: forest = 4321 | non forest = 1125\n",
      "x02: forest = 941 | non forest = 1114\n",
      "x03: forest = 2568 | non forest = 1751\n",
      "x04: forest = 104 | non forest = 541\n",
      "x06: forest = 339 | non forest = 956\n",
      "x07: forest = 548 | non forest = 537\n",
      "x08: forest = 797 | non forest = 444\n",
      "x09: forest = 4570 | non forest = 532\n",
      "x10: forest = 216 | non forest = 478\n"
     ]
    }
   ],
   "source": [
    "regions = segments_truth_df['Region'].unique()\n",
    "for region in regions:\n",
    "    forest_count = segments_truth_df[(segments_truth_df['Region'] == region) & (segments_truth_df['Class'] == 'forest')].shape[0]\n",
    "    non_forest_count = segments_truth_df[(segments_truth_df['Region'] == region) & (segments_truth_df['Class'] == 'non forest')].shape[0]\n",
    "    print(f'{region}: forest = {forest_count} | non forest = {non_forest_count}')"
   ]
  },
  {
   "cell_type": "code",
   "execution_count": 8,
   "metadata": {},
   "outputs": [],
   "source": [
    "# segments_image_df.to_csv('segments_pca.csv', index=False)"
   ]
  },
  {
   "cell_type": "code",
   "execution_count": 9,
   "metadata": {},
   "outputs": [
    {
     "data": {
      "text/plain": [
       "Text(0.5, 1.0, 'Boxplot | all regions')"
      ]
     },
     "execution_count": 9,
     "metadata": {},
     "output_type": "execute_result"
    },
    {
     "data": {
      "image/png": "[encoded data removed]",
      "text/plain": [
       "<Figure size 500x500 with 1 Axes>"
      ]
     },
     "metadata": {},
     "output_type": "display_data"
    }
   ],
   "source": [
    "fig = plt.figure(figsize=(5, 5))\n",
    "data = segments_truth_df\n",
    "data = data.reset_index(drop=True)\n",
    "ax = sns.boxplot(data, x='Class', y='HoR')\n",
    "ax.set_title(f'Boxplot | all regions')\n"
   ]
  },
  {
   "cell_type": "markdown",
   "metadata": {},
   "source": [
    "## Calculating Haralick features for every band and saving segment files\n"
   ]
  },
  {
   "cell_type": "code",
   "execution_count": 13,
   "metadata": {},
   "outputs": [],
   "source": [
    "info = []\n",
    "regions = segments_truth_df['Region'].unique()\n",
    "val_region = ['x08']\n",
    "test_regions = ['x03', 'x04']\n",
    "\n",
    "# clearing destination folders\n",
    "os.system(f'rm -r data/classification_dataset/train/forest/*')\n",
    "os.system(f'rm -r data/classification_dataset/train/non_forest/*')\n",
    "os.system(f'rm -r data/classification_dataset/val/forest/*')\n",
    "os.system(f'rm -r data/classification_dataset/val/non_forest/*')\n",
    "os.system(f'rm -r data/classification_dataset/test/forest/*')\n",
    "os.system(f'rm -r data/classification_dataset/test/non_forest/*')\n",
    "\n",
    "for region in regions:\n",
    "    region_segments = segments_truth_df[segments_truth_df['Region'] == region]\n",
    "    counts = region_segments['Class'].value_counts()\n",
    "    \n",
    "    # selecting segments\n",
    "    selected_segments = region_segments.sort_values(by='HoR', ascending=False)\n",
    "\n",
    "    ## exporting segments\n",
    "\n",
    "    # getting labels\n",
    "    forest_labels = (selected_segments[selected_segments['Class'] == 'forest'])['Segment_label'].values\n",
    "    non_forest_labels = selected_segments[selected_segments['Class'] == 'non forest']['Segment_label'].values\n",
    "\n",
    "    # loading scenes\n",
    "    image = np.load(f'scenes_multiIndex/{region}.npy')\n",
    "    slic = np.load(f'slics/slic_{region}-pca.npy')\n",
    "    props = regionprops(slic)\n",
    "\n",
    "    \n",
    "    ## saving segments\n",
    "\n",
    "    saved_forest = 0\n",
    "    saved_nonforest = 0\n",
    "    for prop in tqdm(props, desc=f'{region}'):\n",
    "        minr, minc, maxr, maxc = prop.bbox\n",
    "        image_segment = np.zeros((maxr - minr, maxc - minc, image.shape[-1]))\n",
    "        coords = np.array(prop.coords)\n",
    "        for pixel in coords:\n",
    "            image_segment[pixel[0] - minr, pixel[1] - minc] = image[pixel[0], pixel[1]]\n",
    "        \n",
    "        img = np.uint8(image_segment)\n",
    "        har_bands = []\n",
    "\n",
    "        for band in range(img.shape[-1]):\n",
    "            har_forest = mahotas.features.haralick(img[:, :, band])\n",
    "            har_bands.append(har_forest)\n",
    "    \n",
    "        img = np.stack(har_bands)\n",
    "\n",
    "        if prop.label in forest_labels:\n",
    "        #     if region in test_regions:\n",
    "        #         np.save(f'data/classification_dataset/test/forest/forest_{region}_{prop.label}.npy', img)\n",
    "        #     elif region in val_region:\n",
    "        #         np.save(f'data/classification_dataset/val/forest/forest_{region}_{prop.label}.npy', img)\n",
    "        #     else:\n",
    "        #         np.save(f'data/classification_dataset/train/forest/forest_{region}_{prop.label}.npy', img)\n",
    "            saved_forest += 1\n",
    "        elif prop.label in non_forest_labels:\n",
    "        #     if region in test_regions:\n",
    "        #         np.save(f'data/classification_dataset/test/non_forest/nonforest_{region}_{prop.label}.npy', img)\n",
    "        #     elif region in val_region:\n",
    "        #         np.save(f'data/classification_dataset/val/non_forest/nonforest_{region}_{prop.label}.npy', img)\n",
    "        #     else:\n",
    "        #         np.save(f'data/classification_dataset/train/non_forest/nonforest_{region}_{prop.label}.npy', img)\n",
    "            saved_nonforest += 1\n",
    "\n",
    "       \n",
    "    info.append(dict(region=region, forest=saved_forest, nonforest=saved_nonforest, total=(saved_forest + saved_nonforest)))"
   ]
  },
  {
   "cell_type": "code",
   "execution_count": null,
   "metadata": {},
   "outputs": [
    {
     "data": {
      "text/html": [
       "<div>\n",
       "<style scoped>\n",
       "    .dataframe tbody tr th:only-of-type {\n",
       "        vertical-align: middle;\n",
       "    }\n",
       "\n",
       "    .dataframe tbody tr th {\n",
       "        vertical-align: top;\n",
       "    }\n",
       "\n",
       "    .dataframe thead th {\n",
       "        text-align: right;\n",
       "    }\n",
       "</style>\n",
       "<table border=\"1\" class=\"dataframe\">\n",
       "  <thead>\n",
       "    <tr style=\"text-align: right;\">\n",
       "      <th></th>\n",
       "      <th>region</th>\n",
       "      <th>forest</th>\n",
       "      <th>nonforest</th>\n",
       "      <th>total</th>\n",
       "    </tr>\n",
       "  </thead>\n",
       "  <tbody>\n",
       "    <tr>\n",
       "      <th>0</th>\n",
       "      <td>x01</td>\n",
       "      <td>2919</td>\n",
       "      <td>224</td>\n",
       "      <td>3143</td>\n",
       "    </tr>\n",
       "    <tr>\n",
       "      <th>1</th>\n",
       "      <td>x02</td>\n",
       "      <td>2784</td>\n",
       "      <td>359</td>\n",
       "      <td>3143</td>\n",
       "    </tr>\n",
       "    <tr>\n",
       "      <th>2</th>\n",
       "      <td>x03</td>\n",
       "      <td>2282</td>\n",
       "      <td>55</td>\n",
       "      <td>2337</td>\n",
       "    </tr>\n",
       "    <tr>\n",
       "      <th>3</th>\n",
       "      <td>x04</td>\n",
       "      <td>623</td>\n",
       "      <td>15</td>\n",
       "      <td>638</td>\n",
       "    </tr>\n",
       "    <tr>\n",
       "      <th>4</th>\n",
       "      <td>x06</td>\n",
       "      <td>1415</td>\n",
       "      <td>27</td>\n",
       "      <td>1442</td>\n",
       "    </tr>\n",
       "    <tr>\n",
       "      <th>5</th>\n",
       "      <td>x07</td>\n",
       "      <td>6040</td>\n",
       "      <td>42</td>\n",
       "      <td>6082</td>\n",
       "    </tr>\n",
       "    <tr>\n",
       "      <th>6</th>\n",
       "      <td>x08</td>\n",
       "      <td>1608</td>\n",
       "      <td>73</td>\n",
       "      <td>1681</td>\n",
       "    </tr>\n",
       "    <tr>\n",
       "      <th>7</th>\n",
       "      <td>x09</td>\n",
       "      <td>2971</td>\n",
       "      <td>48</td>\n",
       "      <td>3019</td>\n",
       "    </tr>\n",
       "    <tr>\n",
       "      <th>8</th>\n",
       "      <td>x10</td>\n",
       "      <td>1945</td>\n",
       "      <td>108</td>\n",
       "      <td>2053</td>\n",
       "    </tr>\n",
       "  </tbody>\n",
       "</table>\n",
       "</div>"
      ],
      "text/plain": [
       "  region  forest  nonforest  total\n",
       "0    x01    2919        224   3143\n",
       "1    x02    2784        359   3143\n",
       "2    x03    2282         55   2337\n",
       "3    x04     623         15    638\n",
       "4    x06    1415         27   1442\n",
       "5    x07    6040         42   6082\n",
       "6    x08    1608         73   1681\n",
       "7    x09    2971         48   3019\n",
       "8    x10    1945        108   2053"
      ]
     },
     "execution_count": 12,
     "metadata": {},
     "output_type": "execute_result"
    }
   ],
   "source": [
    "log = pd.DataFrame.from_records(info)\n",
    "log"
   ]
  },
  {
   "cell_type": "code",
   "execution_count": null,
   "metadata": {},
   "outputs": [
    {
     "data": {
      "text/plain": [
       "region       x01x02x03x04x06x07x08x09x10\n",
       "forest                             22587\n",
       "nonforest                            951\n",
       "total                              23538\n",
       "dtype: object"
      ]
     },
     "execution_count": 13,
     "metadata": {},
     "output_type": "execute_result"
    }
   ],
   "source": [
    "log.sum()"
   ]
  }
 ],
 "metadata": {
  "kernelspec": {
   "display_name": "geo",
   "language": "python",
   "name": "python3"
  },
  "language_info": {
   "codemirror_mode": {
    "name": "ipython",
    "version": 3
   },
   "file_extension": ".py",
   "mimetype": "text/x-python",
   "name": "python",
   "nbconvert_exporter": "python",
   "pygments_lexer": "ipython3",
   "version": "3.9.18"
  }
 },
 "nbformat": 4,
 "nbformat_minor": 2
}
