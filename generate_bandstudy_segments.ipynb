{
 "cells": [
  {
   "attachments": {},
   "cell_type": "markdown",
   "metadata": {},
   "source": [
    "## Selecting band comparison segments"
   ]
  },
  {
   "cell_type": "code",
   "execution_count": 1,
   "metadata": {},
   "outputs": [],
   "source": [
    "import numpy as np\n",
    "from PIL import Image\n",
    "from glob import glob\n",
    "from skimage.measure import regionprops\n",
    "import matplotlib.pyplot as plt\n",
    "import seaborn as sns\n",
    "import pandas as pd\n",
    "import mahotas\n",
    "import os"
   ]
  },
  {
   "cell_type": "code",
   "execution_count": 2,
   "metadata": {},
   "outputs": [],
   "source": [
    "img_paths = sorted(glob('scenes_pca/*'))\n",
    "truth_paths = sorted(glob('truth_masks/*'))\n",
    "slic_paths = sorted(glob('slics/*pca.npy'))\n",
    "assert len(img_paths) == len(truth_paths) == len(slic_paths)"
   ]
  },
  {
   "cell_type": "code",
   "execution_count": 3,
   "metadata": {},
   "outputs": [],
   "source": [
    "# 0 - Fundo\n",
    "# 1 - Desmatamento recente\n",
    "# 2 - Floresta\n",
    "# 3 - Ñ analisado\n",
    "\n",
    "def is_mixed(segment):\n",
    "    # flattening segment\n",
    "    segment = segment.flatten()\n",
    "\n",
    "\n",
    "    NFP = np.count_nonzero(segment == 2)\n",
    "    NP = np.count_nonzero(segment) # desconsiderando o fundo (np.zeros)\n",
    "    NNP = NP - NFP\n",
    "\n",
    "    if NFP != 0 and NNP != 0:\n",
    "        return True\n",
    "    \n",
    "\n",
    "    return False\n",
    "    \n",
    "def get_hor(segment):\n",
    "    # flattening segment\n",
    "    segment = segment.flatten()\n",
    "\n",
    "\n",
    "    NFP = np.count_nonzero(segment == 2)\n",
    "    NP = np.count_nonzero(segment) # desconsiderando o fundo\n",
    "    NNP = NP - NFP\n",
    "\n",
    "    HoR = max([NFP, NNP]) / NP\n",
    "\n",
    "    return HoR\n",
    "\n",
    "def get_major_class(segment):\n",
    "    if np.argmax(np.bincount(segment.flatten())) == 2:\n",
    "        return \"forest\"\n",
    "    elif np.argmax(np.bincount(segment.flatten())) == 1:\n",
    "        return \"non forest\"\n",
    "    elif np.argmax(np.bincount(segment.flatten())) == 3:\n",
    "        return \"not analyzed\"\n",
    "    else:\n",
    "        return np.argmax(np.bincount(segment.flatten()))\n",
    "    \n",
    "def get_region(path):\n",
    "    return f\"{path.split('/')[-1].split('.')[0].split('_')[-1]}\""
   ]
  },
  {
   "cell_type": "code",
   "execution_count": 4,
   "metadata": {},
   "outputs": [
    {
     "name": "stdout",
     "output_type": "stream",
     "text": [
      "x01: total_segs = 3551 | good_segs = 1692 | bad_segs = 1859 | bad_segs because of HoR =  181 | bad_segs because of size = 1276 | perfect_segs = 2551\n",
      "x02: total_segs = 3577 | good_segs = 1249 | bad_segs = 2328 | bad_segs because of HoR =  282 | bad_segs because of size = 1273 | perfect_segs = 1991\n",
      "x03: total_segs = 3482 | good_segs = 1192 | bad_segs = 2290 | bad_segs because of HoR =  356 | bad_segs because of size = 1536 | perfect_segs = 1668\n",
      "x04: total_segs = 3613 | good_segs =  484 | bad_segs = 3129 | bad_segs because of HoR =  448 | bad_segs because of size = 1662 | perfect_segs = 1483\n",
      "x06: total_segs = 3665 | good_segs = 1121 | bad_segs = 2544 | bad_segs because of HoR =  438 | bad_segs because of size = 1147 | perfect_segs = 1707\n",
      "x07: total_segs = 3706 | good_segs = 2025 | bad_segs = 1681 | bad_segs because of HoR =  509 | bad_segs because of size = 1133 | perfect_segs = 1818\n",
      "x08: total_segs = 3241 | good_segs =  964 | bad_segs = 2277 | bad_segs because of HoR =  602 | bad_segs because of size = 1857 | perfect_segs =  998\n",
      "x09: total_segs = 3383 | good_segs = 1601 | bad_segs = 1782 | bad_segs because of HoR =  386 | bad_segs because of size = 1490 | perfect_segs = 1446\n",
      "x10: total_segs = 3162 | good_segs =  855 | bad_segs = 2307 | bad_segs because of HoR =  549 | bad_segs because of size = 1667 | perfect_segs =  871\n"
     ]
    }
   ],
   "source": [
    "segments_image_df = []\n",
    "segments_truth_df = []\n",
    "global_segment_array = []\n",
    "global_perfect_segments = []\n",
    "for idx in range(len(img_paths)):\n",
    "    total_segs = 0\n",
    "    good_segs = 0\n",
    "    bad_by_hor = 0\n",
    "    bad_by_size = 0\n",
    "    n_perfect_segs = 0\n",
    "    image = np.asarray(Image.open(img_paths[idx]))\n",
    "    truth = np.load(truth_paths[idx])\n",
    "    slic = np.load(slic_paths[idx])\n",
    "    region = get_region(img_paths[idx])\n",
    "\n",
    "    props = regionprops(slic)\n",
    "    segments_truth = []\n",
    "    segments_image = []\n",
    "    bad_segment_ids = []\n",
    "    perfect_segs_truth = []\n",
    "\n",
    "    assert slic.shape[:2] == truth.shape[:2]\n",
    "    for i, prop in enumerate(props):\n",
    "        total_segs += 1\n",
    "        minr, minc, maxr, maxc = prop.bbox\n",
    "        segment_truth = np.zeros((maxr - minr, maxc - minc))\n",
    "        segment_image = np.zeros((maxr - minr, maxc - minc, image.shape[-1]))\n",
    "        coords = np.array(prop.coords)\n",
    "        for pixel in coords:\n",
    "            segment_truth[pixel[0] - minr, pixel[1] - minc] = truth[pixel[0], pixel[1]]\n",
    "            segment_image[pixel[0] - minr, pixel[1] - minc] = image[pixel[0], pixel[1]]\n",
    "        hor = get_hor(segment_truth)\n",
    "        classification = get_major_class(np.uint8(segment_truth))\n",
    "        if (segment_truth.shape[0] * segment_truth.shape[1] > 70) and (hor > 0.7) and (classification in [\"forest\", \"non forest\"]):\n",
    "            segments_truth.append(np.uint8(segment_truth))\n",
    "            segments_image.append(np.uint8(segment_image))\n",
    "            segments_image_df.append({\"Segment_label\": prop.label, \"HoR\": hor, \"Class\": classification, \"Region\": region})\n",
    "            segments_truth_df.append({\"Segment_label\": prop.label, \"HoR\": hor, \"Class\": classification, \"Region\": region})\n",
    "            good_segs += 1\n",
    "        if (hor<= 0.7):\n",
    "            bad_by_hor += 1\n",
    "            bad_segment_ids.append(prop.label)\n",
    "        if (segment_truth.shape[0] * segment_truth.shape[1] <= 70 or classification == 0):\n",
    "            bad_by_size += 1\n",
    "            bad_segment_ids.append(prop.label)\n",
    "        if (hor== 1):\n",
    "            perfect_segs_truth.append(segment_truth)\n",
    "            n_perfect_segs += 1\n",
    "    global_segment_array.append(segments_truth)\n",
    "    global_perfect_segments.append(perfect_segs_truth)\n",
    "\n",
    "    print(f'{region}: total_segs = {total_segs :4d} | good_segs = {good_segs :4d} | bad_segs = {(total_segs - good_segs) :4d} | bad_segs because of HoR = {bad_by_hor :4d} | bad_segs because of size = {bad_by_size :4d} | perfect_segs = {n_perfect_segs :4d}')\n",
    "\n",
    "    "
   ]
  },
  {
   "cell_type": "code",
   "execution_count": 5,
   "metadata": {},
   "outputs": [],
   "source": [
    "segments_image_df = pd.DataFrame.from_records(segments_image_df)\n",
    "segments_truth_df = pd.DataFrame.from_records(segments_truth_df)"
   ]
  },
  {
   "cell_type": "code",
   "execution_count": 6,
   "metadata": {},
   "outputs": [
    {
     "data": {
      "text/html": [
       "<div>\n",
       "<style scoped>\n",
       "    .dataframe tbody tr th:only-of-type {\n",
       "        vertical-align: middle;\n",
       "    }\n",
       "\n",
       "    .dataframe tbody tr th {\n",
       "        vertical-align: top;\n",
       "    }\n",
       "\n",
       "    .dataframe thead th {\n",
       "        text-align: right;\n",
       "    }\n",
       "</style>\n",
       "<table border=\"1\" class=\"dataframe\">\n",
       "  <thead>\n",
       "    <tr style=\"text-align: right;\">\n",
       "      <th></th>\n",
       "      <th>Segment_label</th>\n",
       "      <th>HoR</th>\n",
       "      <th>Class</th>\n",
       "      <th>Region</th>\n",
       "    </tr>\n",
       "  </thead>\n",
       "  <tbody>\n",
       "    <tr>\n",
       "      <th>0</th>\n",
       "      <td>1</td>\n",
       "      <td>1.0</td>\n",
       "      <td>forest</td>\n",
       "      <td>x01</td>\n",
       "    </tr>\n",
       "    <tr>\n",
       "      <th>1</th>\n",
       "      <td>2</td>\n",
       "      <td>1.0</td>\n",
       "      <td>forest</td>\n",
       "      <td>x01</td>\n",
       "    </tr>\n",
       "    <tr>\n",
       "      <th>2</th>\n",
       "      <td>4</td>\n",
       "      <td>1.0</td>\n",
       "      <td>forest</td>\n",
       "      <td>x01</td>\n",
       "    </tr>\n",
       "    <tr>\n",
       "      <th>3</th>\n",
       "      <td>5</td>\n",
       "      <td>1.0</td>\n",
       "      <td>forest</td>\n",
       "      <td>x01</td>\n",
       "    </tr>\n",
       "    <tr>\n",
       "      <th>4</th>\n",
       "      <td>6</td>\n",
       "      <td>1.0</td>\n",
       "      <td>forest</td>\n",
       "      <td>x01</td>\n",
       "    </tr>\n",
       "  </tbody>\n",
       "</table>\n",
       "</div>"
      ],
      "text/plain": [
       "   Segment_label  HoR   Class Region\n",
       "0              1  1.0  forest    x01\n",
       "1              2  1.0  forest    x01\n",
       "2              4  1.0  forest    x01\n",
       "3              5  1.0  forest    x01\n",
       "4              6  1.0  forest    x01"
      ]
     },
     "execution_count": 6,
     "metadata": {},
     "output_type": "execute_result"
    }
   ],
   "source": [
    "segments_image_df.head()"
   ]
  },
  {
   "cell_type": "code",
   "execution_count": 7,
   "metadata": {},
   "outputs": [
    {
     "name": "stdout",
     "output_type": "stream",
     "text": [
      "x01: forest = 1585 | non forest = 107\n",
      "x02: forest = 1115 | non forest = 134\n",
      "x03: forest = 1167 | non forest = 25\n",
      "x04: forest = 475 | non forest = 9\n",
      "x06: forest = 1104 | non forest = 17\n",
      "x07: forest = 2016 | non forest = 9\n",
      "x08: forest = 928 | non forest = 36\n",
      "x09: forest = 1582 | non forest = 19\n",
      "x10: forest = 820 | non forest = 35\n"
     ]
    }
   ],
   "source": [
    "regions = segments_image_df['Region'].unique()\n",
    "for region in regions:\n",
    "    forest_count = segments_image_df[(segments_image_df['Region'] == region) & (segments_image_df['Class'] == 'forest')].shape[0]\n",
    "    non_forest_count = segments_image_df[(segments_image_df['Region'] == region) & (segments_image_df['Class'] == 'non forest')].shape[0]\n",
    "    print(f'{region}: forest = {forest_count} | non forest = {non_forest_count}')"
   ]
  },
  {
   "cell_type": "code",
   "execution_count": 8,
   "metadata": {},
   "outputs": [],
   "source": [
    "# segments_image_df.to_csv('segments_pca.csv', index=False)"
   ]
  },
  {
   "cell_type": "code",
   "execution_count": 9,
   "metadata": {},
   "outputs": [
    {
     "data": {
      "text/plain": [
       "Text(0.5, 1.0, 'Boxplot | all regions')"
      ]
     },
     "execution_count": 9,
     "metadata": {},
     "output_type": "execute_result"
    },
    {
     "data": {
      "image/png": "[encoded data removed]",
      "text/plain": [
       "<Figure size 500x500 with 1 Axes>"
      ]
     },
     "metadata": {},
     "output_type": "display_data"
    }
   ],
   "source": [
    "fig = plt.figure(figsize=(5, 5))\n",
    "data = segments_truth_df\n",
    "data = data.reset_index(drop=True)\n",
    "ax = sns.boxplot(data, x='Class', y='HoR')\n",
    "ax.set_title(f'Boxplot | all regions')\n"
   ]
  },
  {
   "cell_type": "markdown",
   "metadata": {},
   "source": [
    "## Calculating Haralick features for every band and saving segment files"
   ]
  },
  {
   "cell_type": "code",
   "execution_count": 13,
   "metadata": {},
   "outputs": [],
   "source": [
    "info = []\n",
    "regions = segments_image_df['Region'].unique()\n",
    "for region in regions:\n",
    "    region_segments = segments_image_df[segments_image_df['Region'] == region]\n",
    "    counts = region_segments['Class'].value_counts()\n",
    "    \n",
    "    # selecting segments\n",
    "    selected_segments = region_segments.sort_values(by='HoR', ascending=False)\n",
    "\n",
    "    ## exporting segments\n",
    "\n",
    "    # getting labels\n",
    "    forest_labels = (selected_segments[selected_segments['Class'] == 'forest'])['Segment_label'].values\n",
    "    non_forest_labels = selected_segments[selected_segments['Class'] == 'non forest']['Segment_label'].values\n",
    "\n",
    "    # loading scenes\n",
    "    image = np.load(f'scenes_allbands/allbands_{region}.npy')\n",
    "    slic = np.load(f'slics/slic_{region}-pca.npy')\n",
    "    props = regionprops(slic)\n",
    "\n",
    "    \n",
    "    ## saving segments\n",
    "    # clearing destination folder\n",
    "    os.system(f'rm -r data/forest/*')\n",
    "    os.system(f'rm -r data/non_forest/*')\n",
    "\n",
    "    saved_forest = 0\n",
    "    saved_nonforest = 0\n",
    "    for prop in props:\n",
    "        if prop.label in forest_labels:\n",
    "            minr, minc, maxr, maxc = prop.bbox\n",
    "            image_segment = np.zeros((maxr - minr, maxc - minc, image.shape[-1]))\n",
    "            coords = np.array(prop.coords)\n",
    "            for pixel in coords:\n",
    "                image_segment[pixel[0] - minr, pixel[1] - minc] = image[pixel[0], pixel[1]]\n",
    "            \n",
    "            img = np.uint8(image_segment)\n",
    "            har_bands = []\n",
    "\n",
    "            for band in range(img.shape[-1]):\n",
    "                har_forest = mahotas.features.haralick(img[:, :, band])\n",
    "                har_bands.append(har_forest)\n",
    "        \n",
    "            img = np.stack(har_bands)\n",
    "\n",
    "            np.save(f'data/forest/forest_{region}_{prop.label}.npy', img)\n",
    "            saved_forest += 1\n",
    "\n",
    "        if prop.label in non_forest_labels:\n",
    "            minr, minc, maxr, maxc = prop.bbox\n",
    "            image_segment = np.zeros((maxr - minr, maxc - minc, image.shape[-1]))\n",
    "            coords = np.array(prop.coords)\n",
    "            for pixel in coords:\n",
    "                image_segment[pixel[0] - minr, pixel[1] - minc] = image[pixel[0], pixel[1]]\n",
    "            \n",
    "            img = np.uint8(image_segment)\n",
    "            har_bands = []\n",
    "            \n",
    "            for band in range(img.shape[-1]):\n",
    "                har_forest = mahotas.features.haralick(img[:, :, band])\n",
    "                har_bands.append(har_forest)\n",
    "        \n",
    "            img = np.stack(har_bands)\n",
    "\n",
    "            np.save(f'data/non_forest/nonforest_{region}_{prop.label}.png', img)\n",
    "            saved_nonforest += 1\n",
    "    info.append(dict(region=region, forest=saved_forest, nonforest=saved_nonforest, total=(saved_forest + saved_nonforest)))"
   ]
  },
  {
   "cell_type": "code",
   "execution_count": 14,
   "metadata": {},
   "outputs": [
    {
     "data": {
      "text/html": [
       "<div>\n",
       "<style scoped>\n",
       "    .dataframe tbody tr th:only-of-type {\n",
       "        vertical-align: middle;\n",
       "    }\n",
       "\n",
       "    .dataframe tbody tr th {\n",
       "        vertical-align: top;\n",
       "    }\n",
       "\n",
       "    .dataframe thead th {\n",
       "        text-align: right;\n",
       "    }\n",
       "</style>\n",
       "<table border=\"1\" class=\"dataframe\">\n",
       "  <thead>\n",
       "    <tr style=\"text-align: right;\">\n",
       "      <th></th>\n",
       "      <th>region</th>\n",
       "      <th>forest</th>\n",
       "      <th>nonforest</th>\n",
       "      <th>total</th>\n",
       "    </tr>\n",
       "  </thead>\n",
       "  <tbody>\n",
       "    <tr>\n",
       "      <th>0</th>\n",
       "      <td>x01</td>\n",
       "      <td>1585</td>\n",
       "      <td>107</td>\n",
       "      <td>1692</td>\n",
       "    </tr>\n",
       "    <tr>\n",
       "      <th>1</th>\n",
       "      <td>x02</td>\n",
       "      <td>1115</td>\n",
       "      <td>134</td>\n",
       "      <td>1249</td>\n",
       "    </tr>\n",
       "    <tr>\n",
       "      <th>2</th>\n",
       "      <td>x03</td>\n",
       "      <td>1167</td>\n",
       "      <td>25</td>\n",
       "      <td>1192</td>\n",
       "    </tr>\n",
       "    <tr>\n",
       "      <th>3</th>\n",
       "      <td>x04</td>\n",
       "      <td>475</td>\n",
       "      <td>9</td>\n",
       "      <td>484</td>\n",
       "    </tr>\n",
       "    <tr>\n",
       "      <th>4</th>\n",
       "      <td>x06</td>\n",
       "      <td>1104</td>\n",
       "      <td>17</td>\n",
       "      <td>1121</td>\n",
       "    </tr>\n",
       "    <tr>\n",
       "      <th>5</th>\n",
       "      <td>x07</td>\n",
       "      <td>2016</td>\n",
       "      <td>9</td>\n",
       "      <td>2025</td>\n",
       "    </tr>\n",
       "    <tr>\n",
       "      <th>6</th>\n",
       "      <td>x08</td>\n",
       "      <td>928</td>\n",
       "      <td>36</td>\n",
       "      <td>964</td>\n",
       "    </tr>\n",
       "    <tr>\n",
       "      <th>7</th>\n",
       "      <td>x09</td>\n",
       "      <td>1582</td>\n",
       "      <td>19</td>\n",
       "      <td>1601</td>\n",
       "    </tr>\n",
       "    <tr>\n",
       "      <th>8</th>\n",
       "      <td>x10</td>\n",
       "      <td>820</td>\n",
       "      <td>35</td>\n",
       "      <td>855</td>\n",
       "    </tr>\n",
       "  </tbody>\n",
       "</table>\n",
       "</div>"
      ],
      "text/plain": [
       "  region  forest  nonforest  total\n",
       "0    x01    1585        107   1692\n",
       "1    x02    1115        134   1249\n",
       "2    x03    1167         25   1192\n",
       "3    x04     475          9    484\n",
       "4    x06    1104         17   1121\n",
       "5    x07    2016          9   2025\n",
       "6    x08     928         36    964\n",
       "7    x09    1582         19   1601\n",
       "8    x10     820         35    855"
      ]
     },
     "execution_count": 14,
     "metadata": {},
     "output_type": "execute_result"
    }
   ],
   "source": [
    "log = pd.DataFrame.from_records(info)\n",
    "log"
   ]
  },
  {
   "cell_type": "code",
   "execution_count": 15,
   "metadata": {},
   "outputs": [
    {
     "data": {
      "text/plain": [
       "region       x01x02x03x04x06x07x08x09x10\n",
       "forest                             10792\n",
       "nonforest                            391\n",
       "total                              11183\n",
       "dtype: object"
      ]
     },
     "execution_count": 15,
     "metadata": {},
     "output_type": "execute_result"
    }
   ],
   "source": [
    "log.sum()"
   ]
  }
 ],
 "metadata": {
  "kernelspec": {
   "display_name": "geo",
   "language": "python",
   "name": "python3"
  },
  "language_info": {
   "codemirror_mode": {
    "name": "ipython",
    "version": 3
   },
   "file_extension": ".py",
   "mimetype": "text/x-python",
   "name": "python",
   "nbconvert_exporter": "python",
   "pygments_lexer": "ipython3",
   "version": "3.8.16"
  }
 },
 "nbformat": 4,
 "nbformat_minor": 2
}
